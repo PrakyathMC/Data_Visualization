{
 "cells": [
  {
   "cell_type": "code",
   "execution_count": 1,
   "metadata": {},
   "outputs": [],
   "source": [
    "import pandas as pd\n",
    "import numpy as np\n",
    "%matplotlib inline"
   ]
  },
  {
   "cell_type": "code",
   "execution_count": 2,
   "metadata": {},
   "outputs": [
    {
     "name": "stdout",
     "output_type": "stream",
     "text": [
      "5.10.0\n"
     ]
    }
   ],
   "source": [
    "from plotly import __version__\n",
    "from plotly.offline import download_plotlyjs, init_notebook_mode, plot, iplot\n",
    "\n",
    "print(__version__) # requires version >= 1.9.0"
   ]
  },
  {
   "cell_type": "code",
   "execution_count": 4,
   "metadata": {},
   "outputs": [],
   "source": [
    "import cufflinks as cf"
   ]
  },
  {
   "cell_type": "code",
   "execution_count": 5,
   "metadata": {},
   "outputs": [
    {
     "data": {
      "text/html": [
       "        <script type=\"text/javascript\">\n",
       "        window.PlotlyConfig = {MathJaxConfig: 'local'};\n",
       "        if (window.MathJax && window.MathJax.Hub && window.MathJax.Hub.Config) {window.MathJax.Hub.Config({SVG: {font: \"STIX-Web\"}});}\n",
       "        if (typeof require !== 'undefined') {\n",
       "        require.undef(\"plotly\");\n",
       "        requirejs.config({\n",
       "            paths: {\n",
       "                'plotly': ['https://cdn.plot.ly/plotly-2.14.0.min']\n",
       "            }\n",
       "        });\n",
       "        require(['plotly'], function(Plotly) {\n",
       "            window._Plotly = Plotly;\n",
       "        });\n",
       "        }\n",
       "        </script>\n",
       "        "
      ]
     },
     "metadata": {},
     "output_type": "display_data"
    }
   ],
   "source": [
    "# For Notebooks\n",
    "init_notebook_mode(connected=True)"
   ]
  },
  {
   "cell_type": "code",
   "execution_count": 6,
   "metadata": {},
   "outputs": [
    {
     "data": {
      "text/html": [
       "        <script type=\"text/javascript\">\n",
       "        window.PlotlyConfig = {MathJaxConfig: 'local'};\n",
       "        if (window.MathJax && window.MathJax.Hub && window.MathJax.Hub.Config) {window.MathJax.Hub.Config({SVG: {font: \"STIX-Web\"}});}\n",
       "        if (typeof require !== 'undefined') {\n",
       "        require.undef(\"plotly\");\n",
       "        requirejs.config({\n",
       "            paths: {\n",
       "                'plotly': ['https://cdn.plot.ly/plotly-2.14.0.min']\n",
       "            }\n",
       "        });\n",
       "        require(['plotly'], function(Plotly) {\n",
       "            window._Plotly = Plotly;\n",
       "        });\n",
       "        }\n",
       "        </script>\n",
       "        "
      ]
     },
     "metadata": {},
     "output_type": "display_data"
    }
   ],
   "source": [
    "# For offline use\n",
    "cf.go_offline()"
   ]
  },
  {
   "cell_type": "markdown",
   "metadata": {},
   "source": [
    "### Fake Data"
   ]
  },
  {
   "cell_type": "code",
   "execution_count": 7,
   "metadata": {},
   "outputs": [],
   "source": [
    "df = pd.DataFrame(np.random.randn(100,4),columns='A B C D'.split())"
   ]
  },
  {
   "cell_type": "code",
   "execution_count": 8,
   "metadata": {},
   "outputs": [
    {
     "data": {
      "text/html": [
       "<div>\n",
       "<style scoped>\n",
       "    .dataframe tbody tr th:only-of-type {\n",
       "        vertical-align: middle;\n",
       "    }\n",
       "\n",
       "    .dataframe tbody tr th {\n",
       "        vertical-align: top;\n",
       "    }\n",
       "\n",
       "    .dataframe thead th {\n",
       "        text-align: right;\n",
       "    }\n",
       "</style>\n",
       "<table border=\"1\" class=\"dataframe\">\n",
       "  <thead>\n",
       "    <tr style=\"text-align: right;\">\n",
       "      <th></th>\n",
       "      <th>A</th>\n",
       "      <th>B</th>\n",
       "      <th>C</th>\n",
       "      <th>D</th>\n",
       "    </tr>\n",
       "  </thead>\n",
       "  <tbody>\n",
       "    <tr>\n",
       "      <th>0</th>\n",
       "      <td>0.736568</td>\n",
       "      <td>-1.179601</td>\n",
       "      <td>0.211180</td>\n",
       "      <td>0.028709</td>\n",
       "    </tr>\n",
       "    <tr>\n",
       "      <th>1</th>\n",
       "      <td>-0.785872</td>\n",
       "      <td>-1.377556</td>\n",
       "      <td>1.251302</td>\n",
       "      <td>-0.874921</td>\n",
       "    </tr>\n",
       "    <tr>\n",
       "      <th>2</th>\n",
       "      <td>-0.761201</td>\n",
       "      <td>0.137929</td>\n",
       "      <td>-2.420263</td>\n",
       "      <td>0.675079</td>\n",
       "    </tr>\n",
       "    <tr>\n",
       "      <th>3</th>\n",
       "      <td>-0.338290</td>\n",
       "      <td>0.483715</td>\n",
       "      <td>-0.018107</td>\n",
       "      <td>-1.026280</td>\n",
       "    </tr>\n",
       "    <tr>\n",
       "      <th>4</th>\n",
       "      <td>2.119963</td>\n",
       "      <td>1.330402</td>\n",
       "      <td>1.436913</td>\n",
       "      <td>0.323440</td>\n",
       "    </tr>\n",
       "  </tbody>\n",
       "</table>\n",
       "</div>"
      ],
      "text/plain": [
       "          A         B         C         D\n",
       "0  0.736568 -1.179601  0.211180  0.028709\n",
       "1 -0.785872 -1.377556  1.251302 -0.874921\n",
       "2 -0.761201  0.137929 -2.420263  0.675079\n",
       "3 -0.338290  0.483715 -0.018107 -1.026280\n",
       "4  2.119963  1.330402  1.436913  0.323440"
      ]
     },
     "execution_count": 8,
     "metadata": {},
     "output_type": "execute_result"
    }
   ],
   "source": [
    "df.head()"
   ]
  },
  {
   "cell_type": "code",
   "execution_count": 9,
   "metadata": {},
   "outputs": [],
   "source": [
    "df2 = pd.DataFrame({'Category':['A','B','C'],'Values':[32,43,50]})"
   ]
  },
  {
   "cell_type": "code",
   "execution_count": 10,
   "metadata": {},
   "outputs": [
    {
     "data": {
      "text/html": [
       "<div>\n",
       "<style scoped>\n",
       "    .dataframe tbody tr th:only-of-type {\n",
       "        vertical-align: middle;\n",
       "    }\n",
       "\n",
       "    .dataframe tbody tr th {\n",
       "        vertical-align: top;\n",
       "    }\n",
       "\n",
       "    .dataframe thead th {\n",
       "        text-align: right;\n",
       "    }\n",
       "</style>\n",
       "<table border=\"1\" class=\"dataframe\">\n",
       "  <thead>\n",
       "    <tr style=\"text-align: right;\">\n",
       "      <th></th>\n",
       "      <th>Category</th>\n",
       "      <th>Values</th>\n",
       "    </tr>\n",
       "  </thead>\n",
       "  <tbody>\n",
       "    <tr>\n",
       "      <th>0</th>\n",
       "      <td>A</td>\n",
       "      <td>32</td>\n",
       "    </tr>\n",
       "    <tr>\n",
       "      <th>1</th>\n",
       "      <td>B</td>\n",
       "      <td>43</td>\n",
       "    </tr>\n",
       "    <tr>\n",
       "      <th>2</th>\n",
       "      <td>C</td>\n",
       "      <td>50</td>\n",
       "    </tr>\n",
       "  </tbody>\n",
       "</table>\n",
       "</div>"
      ],
      "text/plain": [
       "  Category  Values\n",
       "0        A      32\n",
       "1        B      43\n",
       "2        C      50"
      ]
     },
     "execution_count": 10,
     "metadata": {},
     "output_type": "execute_result"
    }
   ],
   "source": [
    "df2.head()"
   ]
  },
  {
   "cell_type": "markdown",
   "metadata": {},
   "source": [
    "## Using Cufflinks and iplot()\n",
    "\n",
    "* scatter\n",
    "* bar\n",
    "* box\n",
    "* spread\n",
    "* ratio\n",
    "* heatmap\n",
    "* surface\n",
    "* histogram\n",
    "* bubble"
   ]
  },
  {
   "cell_type": "markdown",
   "metadata": {},
   "source": [
    "## Scatter"
   ]
  },
  {
   "cell_type": "code",
   "execution_count": 11,
   "metadata": {},
   "outputs": [
    {
     "data": {
      "application/vnd.plotly.v1+json": {
       "config": {
        "linkText": "Export to plot.ly",
        "plotlyServerURL": "https://plot.ly",
        "showLink": true
       },
       "data": [
        {
         "line": {
          "color": "rgba(255, 153, 51, 1.0)",
          "dash": "solid",
          "shape": "linear",
          "width": 1.3
         },
         "marker": {
          "size": 10,
          "symbol": "circle"
         },
         "mode": "markers",
         "name": "B",
         "text": "",
         "type": "scatter",
         "x": [
          0.7365676730741115,
          -0.7858723473162033,
          -0.7612014338282168,
          -0.33828969119184393,
          2.119963389888639,
          -0.21033529370795123,
          0.6767739565306867,
          0.5069782758452451,
          0.774016534624883,
          0.645969599888223,
          1.320915012722791,
          0.44625820307936953,
          1.3497982780888076,
          -0.054312851369403614,
          0.4086759252360387,
          0.7670248516378464,
          -0.34164747625266406,
          -1.7258492298186636,
          -0.606458487839304,
          -0.38509253069137594,
          1.4779673151544093,
          -1.5316814798425253,
          0.9217068353068714,
          -0.3871133629664417,
          -1.288295495500347,
          0.34657449460134787,
          -1.5122310913921442,
          -2.382550658507943,
          -0.38864645623694927,
          0.28966630577443714,
          0.3194368360872796,
          -0.298154648157231,
          0.04412351469237872,
          0.5820788298374068,
          0.6404347136769989,
          -0.5406726034486085,
          2.5069957332916686,
          0.601324464091323,
          -2.5973464357475677,
          -1.0898746058693036,
          -0.3674931138183991,
          -0.6956665949403,
          0.6067824786484017,
          -0.014631944251588846,
          1.5496933437294362,
          0.49670459037018383,
          0.008656386426374951,
          -1.1879079254428846,
          0.1133646617244053,
          -1.209457437051342,
          0.53738323876218,
          -0.6799498612216169,
          -0.2485611813921982,
          1.259647945013635,
          0.26831411554353923,
          1.0703105180570807,
          0.6120298241543476,
          -0.7922552770571334,
          2.7198069168792665,
          0.30130325020606896,
          -0.5917405760881879,
          0.5680047551310305,
          0.18989307616818785,
          0.11827140230978321,
          -0.7112741838759915,
          -0.29454452098868006,
          1.4192744302811733,
          0.20178726147006076,
          0.16737330097876532,
          -0.9455492012524679,
          -1.5807529424508262,
          -0.3217548006777736,
          -0.16441643952635626,
          0.7605565832475502,
          1.0550615529269523,
          -0.26281305127051263,
          0.023700138695366336,
          0.0623905688170181,
          -1.6334667527317086,
          0.05877352101880432,
          0.8779585966847681,
          -0.22021733716874808,
          -0.5087245522034368,
          -0.4513545021497254,
          0.26610125050362843,
          0.14691010739790702,
          -0.10712846369094996,
          -0.5380999650652848,
          1.1751937445166347,
          0.7347422409605809,
          0.46494295601226526,
          -0.41693050383705343,
          0.0890698769086676,
          1.2171732953811045,
          -0.07683110145682837,
          1.1787552497082416,
          1.0022080658556163,
          2.708142526407743,
          1.0322122478237143,
          -1.2757074009052138
         ],
         "y": [
          -1.17960096095747,
          -1.3775555599416172,
          0.13792944280704006,
          0.48371504791298947,
          1.330402450096832,
          0.6008571556967333,
          -0.48801970995218547,
          0.8961245543966675,
          0.2961431824584401,
          -1.4649552300510922,
          -0.7080659462597593,
          -1.2955118557528216,
          -0.38026898461962383,
          -0.4533352454607744,
          -0.3539169985811786,
          -1.2025477368662538,
          0.00892006917367232,
          0.16966744435944756,
          0.8223657469907609,
          1.1951243289151658,
          0.30365969879879123,
          -0.3028597261401649,
          -0.019062927160904068,
          -1.1187078160968458,
          0.9936865559435638,
          1.149927312754949,
          -0.6117767973140005,
          -0.44387643888953543,
          -0.03439784317436975,
          0.015399420236178523,
          1.1123127177074992,
          0.2649658061453154,
          0.6806251765292582,
          0.14785949702601267,
          -2.4605460959827004,
          -0.16205752753046915,
          -1.2254109809660831,
          -0.12225449695743638,
          0.5635173461831468,
          -0.2599285316945004,
          -0.27611765191417736,
          -1.4690531379716825,
          -1.954153503410868,
          -0.5866390468375826,
          0.1018189830619359,
          -0.07048593057982283,
          -1.212665780136159,
          -0.3451925694516716,
          0.9702962511148727,
          0.3423474752420889,
          1.9493684121162587,
          1.4406008187314832,
          -0.9759644286967494,
          -2.2506220014240275,
          -0.1950416048205692,
          0.3899551845378141,
          0.9796444130032764,
          -1.1593956186919911,
          0.9883877171167217,
          0.18632777987730414,
          -0.32652211390169983,
          0.5235349712369627,
          -0.14554797924655524,
          -0.6632566049388412,
          1.450516587911176,
          -1.8242348077687922,
          -0.7986611676784975,
          1.2865759967254213,
          0.03311206362784604,
          0.826111885566775,
          -1.8404480684092652,
          -0.17647317946813473,
          0.7076473944942543,
          0.6433397834820548,
          -0.05019150477402584,
          0.6938641710145623,
          -1.0856055786365582,
          -1.4164083407235537,
          -1.3642812235548454,
          1.846182244755937,
          -0.21921761442914586,
          -0.08980549285517242,
          -0.1207473523157025,
          -0.41706054413176086,
          0.6611570044122105,
          1.3289032537940533,
          -0.07510227699547183,
          -0.06500699130762963,
          0.47215000010575603,
          1.6071041868429516,
          2.0246550229557956,
          0.08805236871800126,
          0.9792317235927371,
          1.2488287261048898,
          -0.9105759352090856,
          -1.4063251858608385,
          1.3450088447347763,
          0.22540725929083774,
          -1.3483110021192624,
          0.47968437914212037
         ]
        }
       ],
       "layout": {
        "legend": {
         "bgcolor": "#F5F6F9",
         "font": {
          "color": "#4D5663"
         }
        },
        "paper_bgcolor": "#F5F6F9",
        "plot_bgcolor": "#F5F6F9",
        "template": {
         "data": {
          "bar": [
           {
            "error_x": {
             "color": "#2a3f5f"
            },
            "error_y": {
             "color": "#2a3f5f"
            },
            "marker": {
             "line": {
              "color": "#E5ECF6",
              "width": 0.5
             },
             "pattern": {
              "fillmode": "overlay",
              "size": 10,
              "solidity": 0.2
             }
            },
            "type": "bar"
           }
          ],
          "barpolar": [
           {
            "marker": {
             "line": {
              "color": "#E5ECF6",
              "width": 0.5
             },
             "pattern": {
              "fillmode": "overlay",
              "size": 10,
              "solidity": 0.2
             }
            },
            "type": "barpolar"
           }
          ],
          "carpet": [
           {
            "aaxis": {
             "endlinecolor": "#2a3f5f",
             "gridcolor": "white",
             "linecolor": "white",
             "minorgridcolor": "white",
             "startlinecolor": "#2a3f5f"
            },
            "baxis": {
             "endlinecolor": "#2a3f5f",
             "gridcolor": "white",
             "linecolor": "white",
             "minorgridcolor": "white",
             "startlinecolor": "#2a3f5f"
            },
            "type": "carpet"
           }
          ],
          "choropleth": [
           {
            "colorbar": {
             "outlinewidth": 0,
             "ticks": ""
            },
            "type": "choropleth"
           }
          ],
          "contour": [
           {
            "colorbar": {
             "outlinewidth": 0,
             "ticks": ""
            },
            "colorscale": [
             [
              0,
              "#0d0887"
             ],
             [
              0.1111111111111111,
              "#46039f"
             ],
             [
              0.2222222222222222,
              "#7201a8"
             ],
             [
              0.3333333333333333,
              "#9c179e"
             ],
             [
              0.4444444444444444,
              "#bd3786"
             ],
             [
              0.5555555555555556,
              "#d8576b"
             ],
             [
              0.6666666666666666,
              "#ed7953"
             ],
             [
              0.7777777777777778,
              "#fb9f3a"
             ],
             [
              0.8888888888888888,
              "#fdca26"
             ],
             [
              1,
              "#f0f921"
             ]
            ],
            "type": "contour"
           }
          ],
          "contourcarpet": [
           {
            "colorbar": {
             "outlinewidth": 0,
             "ticks": ""
            },
            "type": "contourcarpet"
           }
          ],
          "heatmap": [
           {
            "colorbar": {
             "outlinewidth": 0,
             "ticks": ""
            },
            "colorscale": [
             [
              0,
              "#0d0887"
             ],
             [
              0.1111111111111111,
              "#46039f"
             ],
             [
              0.2222222222222222,
              "#7201a8"
             ],
             [
              0.3333333333333333,
              "#9c179e"
             ],
             [
              0.4444444444444444,
              "#bd3786"
             ],
             [
              0.5555555555555556,
              "#d8576b"
             ],
             [
              0.6666666666666666,
              "#ed7953"
             ],
             [
              0.7777777777777778,
              "#fb9f3a"
             ],
             [
              0.8888888888888888,
              "#fdca26"
             ],
             [
              1,
              "#f0f921"
             ]
            ],
            "type": "heatmap"
           }
          ],
          "heatmapgl": [
           {
            "colorbar": {
             "outlinewidth": 0,
             "ticks": ""
            },
            "colorscale": [
             [
              0,
              "#0d0887"
             ],
             [
              0.1111111111111111,
              "#46039f"
             ],
             [
              0.2222222222222222,
              "#7201a8"
             ],
             [
              0.3333333333333333,
              "#9c179e"
             ],
             [
              0.4444444444444444,
              "#bd3786"
             ],
             [
              0.5555555555555556,
              "#d8576b"
             ],
             [
              0.6666666666666666,
              "#ed7953"
             ],
             [
              0.7777777777777778,
              "#fb9f3a"
             ],
             [
              0.8888888888888888,
              "#fdca26"
             ],
             [
              1,
              "#f0f921"
             ]
            ],
            "type": "heatmapgl"
           }
          ],
          "histogram": [
           {
            "marker": {
             "pattern": {
              "fillmode": "overlay",
              "size": 10,
              "solidity": 0.2
             }
            },
            "type": "histogram"
           }
          ],
          "histogram2d": [
           {
            "colorbar": {
             "outlinewidth": 0,
             "ticks": ""
            },
            "colorscale": [
             [
              0,
              "#0d0887"
             ],
             [
              0.1111111111111111,
              "#46039f"
             ],
             [
              0.2222222222222222,
              "#7201a8"
             ],
             [
              0.3333333333333333,
              "#9c179e"
             ],
             [
              0.4444444444444444,
              "#bd3786"
             ],
             [
              0.5555555555555556,
              "#d8576b"
             ],
             [
              0.6666666666666666,
              "#ed7953"
             ],
             [
              0.7777777777777778,
              "#fb9f3a"
             ],
             [
              0.8888888888888888,
              "#fdca26"
             ],
             [
              1,
              "#f0f921"
             ]
            ],
            "type": "histogram2d"
           }
          ],
          "histogram2dcontour": [
           {
            "colorbar": {
             "outlinewidth": 0,
             "ticks": ""
            },
            "colorscale": [
             [
              0,
              "#0d0887"
             ],
             [
              0.1111111111111111,
              "#46039f"
             ],
             [
              0.2222222222222222,
              "#7201a8"
             ],
             [
              0.3333333333333333,
              "#9c179e"
             ],
             [
              0.4444444444444444,
              "#bd3786"
             ],
             [
              0.5555555555555556,
              "#d8576b"
             ],
             [
              0.6666666666666666,
              "#ed7953"
             ],
             [
              0.7777777777777778,
              "#fb9f3a"
             ],
             [
              0.8888888888888888,
              "#fdca26"
             ],
             [
              1,
              "#f0f921"
             ]
            ],
            "type": "histogram2dcontour"
           }
          ],
          "mesh3d": [
           {
            "colorbar": {
             "outlinewidth": 0,
             "ticks": ""
            },
            "type": "mesh3d"
           }
          ],
          "parcoords": [
           {
            "line": {
             "colorbar": {
              "outlinewidth": 0,
              "ticks": ""
             }
            },
            "type": "parcoords"
           }
          ],
          "pie": [
           {
            "automargin": true,
            "type": "pie"
           }
          ],
          "scatter": [
           {
            "fillpattern": {
             "fillmode": "overlay",
             "size": 10,
             "solidity": 0.2
            },
            "type": "scatter"
           }
          ],
          "scatter3d": [
           {
            "line": {
             "colorbar": {
              "outlinewidth": 0,
              "ticks": ""
             }
            },
            "marker": {
             "colorbar": {
              "outlinewidth": 0,
              "ticks": ""
             }
            },
            "type": "scatter3d"
           }
          ],
          "scattercarpet": [
           {
            "marker": {
             "colorbar": {
              "outlinewidth": 0,
              "ticks": ""
             }
            },
            "type": "scattercarpet"
           }
          ],
          "scattergeo": [
           {
            "marker": {
             "colorbar": {
              "outlinewidth": 0,
              "ticks": ""
             }
            },
            "type": "scattergeo"
           }
          ],
          "scattergl": [
           {
            "marker": {
             "colorbar": {
              "outlinewidth": 0,
              "ticks": ""
             }
            },
            "type": "scattergl"
           }
          ],
          "scattermapbox": [
           {
            "marker": {
             "colorbar": {
              "outlinewidth": 0,
              "ticks": ""
             }
            },
            "type": "scattermapbox"
           }
          ],
          "scatterpolar": [
           {
            "marker": {
             "colorbar": {
              "outlinewidth": 0,
              "ticks": ""
             }
            },
            "type": "scatterpolar"
           }
          ],
          "scatterpolargl": [
           {
            "marker": {
             "colorbar": {
              "outlinewidth": 0,
              "ticks": ""
             }
            },
            "type": "scatterpolargl"
           }
          ],
          "scatterternary": [
           {
            "marker": {
             "colorbar": {
              "outlinewidth": 0,
              "ticks": ""
             }
            },
            "type": "scatterternary"
           }
          ],
          "surface": [
           {
            "colorbar": {
             "outlinewidth": 0,
             "ticks": ""
            },
            "colorscale": [
             [
              0,
              "#0d0887"
             ],
             [
              0.1111111111111111,
              "#46039f"
             ],
             [
              0.2222222222222222,
              "#7201a8"
             ],
             [
              0.3333333333333333,
              "#9c179e"
             ],
             [
              0.4444444444444444,
              "#bd3786"
             ],
             [
              0.5555555555555556,
              "#d8576b"
             ],
             [
              0.6666666666666666,
              "#ed7953"
             ],
             [
              0.7777777777777778,
              "#fb9f3a"
             ],
             [
              0.8888888888888888,
              "#fdca26"
             ],
             [
              1,
              "#f0f921"
             ]
            ],
            "type": "surface"
           }
          ],
          "table": [
           {
            "cells": {
             "fill": {
              "color": "#EBF0F8"
             },
             "line": {
              "color": "white"
             }
            },
            "header": {
             "fill": {
              "color": "#C8D4E3"
             },
             "line": {
              "color": "white"
             }
            },
            "type": "table"
           }
          ]
         },
         "layout": {
          "annotationdefaults": {
           "arrowcolor": "#2a3f5f",
           "arrowhead": 0,
           "arrowwidth": 1
          },
          "autotypenumbers": "strict",
          "coloraxis": {
           "colorbar": {
            "outlinewidth": 0,
            "ticks": ""
           }
          },
          "colorscale": {
           "diverging": [
            [
             0,
             "#8e0152"
            ],
            [
             0.1,
             "#c51b7d"
            ],
            [
             0.2,
             "#de77ae"
            ],
            [
             0.3,
             "#f1b6da"
            ],
            [
             0.4,
             "#fde0ef"
            ],
            [
             0.5,
             "#f7f7f7"
            ],
            [
             0.6,
             "#e6f5d0"
            ],
            [
             0.7,
             "#b8e186"
            ],
            [
             0.8,
             "#7fbc41"
            ],
            [
             0.9,
             "#4d9221"
            ],
            [
             1,
             "#276419"
            ]
           ],
           "sequential": [
            [
             0,
             "#0d0887"
            ],
            [
             0.1111111111111111,
             "#46039f"
            ],
            [
             0.2222222222222222,
             "#7201a8"
            ],
            [
             0.3333333333333333,
             "#9c179e"
            ],
            [
             0.4444444444444444,
             "#bd3786"
            ],
            [
             0.5555555555555556,
             "#d8576b"
            ],
            [
             0.6666666666666666,
             "#ed7953"
            ],
            [
             0.7777777777777778,
             "#fb9f3a"
            ],
            [
             0.8888888888888888,
             "#fdca26"
            ],
            [
             1,
             "#f0f921"
            ]
           ],
           "sequentialminus": [
            [
             0,
             "#0d0887"
            ],
            [
             0.1111111111111111,
             "#46039f"
            ],
            [
             0.2222222222222222,
             "#7201a8"
            ],
            [
             0.3333333333333333,
             "#9c179e"
            ],
            [
             0.4444444444444444,
             "#bd3786"
            ],
            [
             0.5555555555555556,
             "#d8576b"
            ],
            [
             0.6666666666666666,
             "#ed7953"
            ],
            [
             0.7777777777777778,
             "#fb9f3a"
            ],
            [
             0.8888888888888888,
             "#fdca26"
            ],
            [
             1,
             "#f0f921"
            ]
           ]
          },
          "colorway": [
           "#636efa",
           "#EF553B",
           "#00cc96",
           "#ab63fa",
           "#FFA15A",
           "#19d3f3",
           "#FF6692",
           "#B6E880",
           "#FF97FF",
           "#FECB52"
          ],
          "font": {
           "color": "#2a3f5f"
          },
          "geo": {
           "bgcolor": "white",
           "lakecolor": "white",
           "landcolor": "#E5ECF6",
           "showlakes": true,
           "showland": true,
           "subunitcolor": "white"
          },
          "hoverlabel": {
           "align": "left"
          },
          "hovermode": "closest",
          "mapbox": {
           "style": "light"
          },
          "paper_bgcolor": "white",
          "plot_bgcolor": "#E5ECF6",
          "polar": {
           "angularaxis": {
            "gridcolor": "white",
            "linecolor": "white",
            "ticks": ""
           },
           "bgcolor": "#E5ECF6",
           "radialaxis": {
            "gridcolor": "white",
            "linecolor": "white",
            "ticks": ""
           }
          },
          "scene": {
           "xaxis": {
            "backgroundcolor": "#E5ECF6",
            "gridcolor": "white",
            "gridwidth": 2,
            "linecolor": "white",
            "showbackground": true,
            "ticks": "",
            "zerolinecolor": "white"
           },
           "yaxis": {
            "backgroundcolor": "#E5ECF6",
            "gridcolor": "white",
            "gridwidth": 2,
            "linecolor": "white",
            "showbackground": true,
            "ticks": "",
            "zerolinecolor": "white"
           },
           "zaxis": {
            "backgroundcolor": "#E5ECF6",
            "gridcolor": "white",
            "gridwidth": 2,
            "linecolor": "white",
            "showbackground": true,
            "ticks": "",
            "zerolinecolor": "white"
           }
          },
          "shapedefaults": {
           "line": {
            "color": "#2a3f5f"
           }
          },
          "ternary": {
           "aaxis": {
            "gridcolor": "white",
            "linecolor": "white",
            "ticks": ""
           },
           "baxis": {
            "gridcolor": "white",
            "linecolor": "white",
            "ticks": ""
           },
           "bgcolor": "#E5ECF6",
           "caxis": {
            "gridcolor": "white",
            "linecolor": "white",
            "ticks": ""
           }
          },
          "title": {
           "x": 0.05
          },
          "xaxis": {
           "automargin": true,
           "gridcolor": "white",
           "linecolor": "white",
           "ticks": "",
           "title": {
            "standoff": 15
           },
           "zerolinecolor": "white",
           "zerolinewidth": 2
          },
          "yaxis": {
           "automargin": true,
           "gridcolor": "white",
           "linecolor": "white",
           "ticks": "",
           "title": {
            "standoff": 15
           },
           "zerolinecolor": "white",
           "zerolinewidth": 2
          }
         }
        },
        "title": {
         "font": {
          "color": "#4D5663"
         }
        },
        "xaxis": {
         "gridcolor": "#E1E5ED",
         "showgrid": true,
         "tickfont": {
          "color": "#4D5663"
         },
         "title": {
          "font": {
           "color": "#4D5663"
          },
          "text": ""
         },
         "zerolinecolor": "#E1E5ED"
        },
        "yaxis": {
         "gridcolor": "#E1E5ED",
         "showgrid": true,
         "tickfont": {
          "color": "#4D5663"
         },
         "title": {
          "font": {
           "color": "#4D5663"
          },
          "text": ""
         },
         "zerolinecolor": "#E1E5ED"
        }
       }
      },
      "text/html": [
       "<div>                            <div id=\"d216e245-53aa-41f0-b987-a79d15e64911\" class=\"plotly-graph-div\" style=\"height:525px; width:100%;\"></div>            <script type=\"text/javascript\">                require([\"plotly\"], function(Plotly) {                    window.PLOTLYENV=window.PLOTLYENV || {};\n",
       "                    window.PLOTLYENV.BASE_URL='https://plot.ly';                                    if (document.getElementById(\"d216e245-53aa-41f0-b987-a79d15e64911\")) {                    Plotly.newPlot(                        \"d216e245-53aa-41f0-b987-a79d15e64911\",                        [{\"line\":{\"color\":\"rgba(255, 153, 51, 1.0)\",\"dash\":\"solid\",\"shape\":\"linear\",\"width\":1.3},\"marker\":{\"size\":10,\"symbol\":\"circle\"},\"mode\":\"markers\",\"name\":\"B\",\"text\":\"\",\"x\":[0.7365676730741115,-0.7858723473162033,-0.7612014338282168,-0.33828969119184393,2.119963389888639,-0.21033529370795123,0.6767739565306867,0.5069782758452451,0.774016534624883,0.645969599888223,1.320915012722791,0.44625820307936953,1.3497982780888076,-0.054312851369403614,0.4086759252360387,0.7670248516378464,-0.34164747625266406,-1.7258492298186636,-0.606458487839304,-0.38509253069137594,1.4779673151544093,-1.5316814798425253,0.9217068353068714,-0.3871133629664417,-1.288295495500347,0.34657449460134787,-1.5122310913921442,-2.382550658507943,-0.38864645623694927,0.28966630577443714,0.3194368360872796,-0.298154648157231,0.04412351469237872,0.5820788298374068,0.6404347136769989,-0.5406726034486085,2.5069957332916686,0.601324464091323,-2.5973464357475677,-1.0898746058693036,-0.3674931138183991,-0.6956665949403,0.6067824786484017,-0.014631944251588846,1.5496933437294362,0.49670459037018383,0.008656386426374951,-1.1879079254428846,0.1133646617244053,-1.209457437051342,0.53738323876218,-0.6799498612216169,-0.2485611813921982,1.259647945013635,0.26831411554353923,1.0703105180570807,0.6120298241543476,-0.7922552770571334,2.7198069168792665,0.30130325020606896,-0.5917405760881879,0.5680047551310305,0.18989307616818785,0.11827140230978321,-0.7112741838759915,-0.29454452098868006,1.4192744302811733,0.20178726147006076,0.16737330097876532,-0.9455492012524679,-1.5807529424508262,-0.3217548006777736,-0.16441643952635626,0.7605565832475502,1.0550615529269523,-0.26281305127051263,0.023700138695366336,0.0623905688170181,-1.6334667527317086,0.05877352101880432,0.8779585966847681,-0.22021733716874808,-0.5087245522034368,-0.4513545021497254,0.26610125050362843,0.14691010739790702,-0.10712846369094996,-0.5380999650652848,1.1751937445166347,0.7347422409605809,0.46494295601226526,-0.41693050383705343,0.0890698769086676,1.2171732953811045,-0.07683110145682837,1.1787552497082416,1.0022080658556163,2.708142526407743,1.0322122478237143,-1.2757074009052138],\"y\":[-1.17960096095747,-1.3775555599416172,0.13792944280704006,0.48371504791298947,1.330402450096832,0.6008571556967333,-0.48801970995218547,0.8961245543966675,0.2961431824584401,-1.4649552300510922,-0.7080659462597593,-1.2955118557528216,-0.38026898461962383,-0.4533352454607744,-0.3539169985811786,-1.2025477368662538,0.00892006917367232,0.16966744435944756,0.8223657469907609,1.1951243289151658,0.30365969879879123,-0.3028597261401649,-0.019062927160904068,-1.1187078160968458,0.9936865559435638,1.149927312754949,-0.6117767973140005,-0.44387643888953543,-0.03439784317436975,0.015399420236178523,1.1123127177074992,0.2649658061453154,0.6806251765292582,0.14785949702601267,-2.4605460959827004,-0.16205752753046915,-1.2254109809660831,-0.12225449695743638,0.5635173461831468,-0.2599285316945004,-0.27611765191417736,-1.4690531379716825,-1.954153503410868,-0.5866390468375826,0.1018189830619359,-0.07048593057982283,-1.212665780136159,-0.3451925694516716,0.9702962511148727,0.3423474752420889,1.9493684121162587,1.4406008187314832,-0.9759644286967494,-2.2506220014240275,-0.1950416048205692,0.3899551845378141,0.9796444130032764,-1.1593956186919911,0.9883877171167217,0.18632777987730414,-0.32652211390169983,0.5235349712369627,-0.14554797924655524,-0.6632566049388412,1.450516587911176,-1.8242348077687922,-0.7986611676784975,1.2865759967254213,0.03311206362784604,0.826111885566775,-1.8404480684092652,-0.17647317946813473,0.7076473944942543,0.6433397834820548,-0.05019150477402584,0.6938641710145623,-1.0856055786365582,-1.4164083407235537,-1.3642812235548454,1.846182244755937,-0.21921761442914586,-0.08980549285517242,-0.1207473523157025,-0.41706054413176086,0.6611570044122105,1.3289032537940533,-0.07510227699547183,-0.06500699130762963,0.47215000010575603,1.6071041868429516,2.0246550229557956,0.08805236871800126,0.9792317235927371,1.2488287261048898,-0.9105759352090856,-1.4063251858608385,1.3450088447347763,0.22540725929083774,-1.3483110021192624,0.47968437914212037],\"type\":\"scatter\"}],                        {\"legend\":{\"bgcolor\":\"#F5F6F9\",\"font\":{\"color\":\"#4D5663\"}},\"paper_bgcolor\":\"#F5F6F9\",\"plot_bgcolor\":\"#F5F6F9\",\"template\":{\"data\":{\"barpolar\":[{\"marker\":{\"line\":{\"color\":\"#E5ECF6\",\"width\":0.5},\"pattern\":{\"fillmode\":\"overlay\",\"size\":10,\"solidity\":0.2}},\"type\":\"barpolar\"}],\"bar\":[{\"error_x\":{\"color\":\"#2a3f5f\"},\"error_y\":{\"color\":\"#2a3f5f\"},\"marker\":{\"line\":{\"color\":\"#E5ECF6\",\"width\":0.5},\"pattern\":{\"fillmode\":\"overlay\",\"size\":10,\"solidity\":0.2}},\"type\":\"bar\"}],\"carpet\":[{\"aaxis\":{\"endlinecolor\":\"#2a3f5f\",\"gridcolor\":\"white\",\"linecolor\":\"white\",\"minorgridcolor\":\"white\",\"startlinecolor\":\"#2a3f5f\"},\"baxis\":{\"endlinecolor\":\"#2a3f5f\",\"gridcolor\":\"white\",\"linecolor\":\"white\",\"minorgridcolor\":\"white\",\"startlinecolor\":\"#2a3f5f\"},\"type\":\"carpet\"}],\"choropleth\":[{\"colorbar\":{\"outlinewidth\":0,\"ticks\":\"\"},\"type\":\"choropleth\"}],\"contourcarpet\":[{\"colorbar\":{\"outlinewidth\":0,\"ticks\":\"\"},\"type\":\"contourcarpet\"}],\"contour\":[{\"colorbar\":{\"outlinewidth\":0,\"ticks\":\"\"},\"colorscale\":[[0.0,\"#0d0887\"],[0.1111111111111111,\"#46039f\"],[0.2222222222222222,\"#7201a8\"],[0.3333333333333333,\"#9c179e\"],[0.4444444444444444,\"#bd3786\"],[0.5555555555555556,\"#d8576b\"],[0.6666666666666666,\"#ed7953\"],[0.7777777777777778,\"#fb9f3a\"],[0.8888888888888888,\"#fdca26\"],[1.0,\"#f0f921\"]],\"type\":\"contour\"}],\"heatmapgl\":[{\"colorbar\":{\"outlinewidth\":0,\"ticks\":\"\"},\"colorscale\":[[0.0,\"#0d0887\"],[0.1111111111111111,\"#46039f\"],[0.2222222222222222,\"#7201a8\"],[0.3333333333333333,\"#9c179e\"],[0.4444444444444444,\"#bd3786\"],[0.5555555555555556,\"#d8576b\"],[0.6666666666666666,\"#ed7953\"],[0.7777777777777778,\"#fb9f3a\"],[0.8888888888888888,\"#fdca26\"],[1.0,\"#f0f921\"]],\"type\":\"heatmapgl\"}],\"heatmap\":[{\"colorbar\":{\"outlinewidth\":0,\"ticks\":\"\"},\"colorscale\":[[0.0,\"#0d0887\"],[0.1111111111111111,\"#46039f\"],[0.2222222222222222,\"#7201a8\"],[0.3333333333333333,\"#9c179e\"],[0.4444444444444444,\"#bd3786\"],[0.5555555555555556,\"#d8576b\"],[0.6666666666666666,\"#ed7953\"],[0.7777777777777778,\"#fb9f3a\"],[0.8888888888888888,\"#fdca26\"],[1.0,\"#f0f921\"]],\"type\":\"heatmap\"}],\"histogram2dcontour\":[{\"colorbar\":{\"outlinewidth\":0,\"ticks\":\"\"},\"colorscale\":[[0.0,\"#0d0887\"],[0.1111111111111111,\"#46039f\"],[0.2222222222222222,\"#7201a8\"],[0.3333333333333333,\"#9c179e\"],[0.4444444444444444,\"#bd3786\"],[0.5555555555555556,\"#d8576b\"],[0.6666666666666666,\"#ed7953\"],[0.7777777777777778,\"#fb9f3a\"],[0.8888888888888888,\"#fdca26\"],[1.0,\"#f0f921\"]],\"type\":\"histogram2dcontour\"}],\"histogram2d\":[{\"colorbar\":{\"outlinewidth\":0,\"ticks\":\"\"},\"colorscale\":[[0.0,\"#0d0887\"],[0.1111111111111111,\"#46039f\"],[0.2222222222222222,\"#7201a8\"],[0.3333333333333333,\"#9c179e\"],[0.4444444444444444,\"#bd3786\"],[0.5555555555555556,\"#d8576b\"],[0.6666666666666666,\"#ed7953\"],[0.7777777777777778,\"#fb9f3a\"],[0.8888888888888888,\"#fdca26\"],[1.0,\"#f0f921\"]],\"type\":\"histogram2d\"}],\"histogram\":[{\"marker\":{\"pattern\":{\"fillmode\":\"overlay\",\"size\":10,\"solidity\":0.2}},\"type\":\"histogram\"}],\"mesh3d\":[{\"colorbar\":{\"outlinewidth\":0,\"ticks\":\"\"},\"type\":\"mesh3d\"}],\"parcoords\":[{\"line\":{\"colorbar\":{\"outlinewidth\":0,\"ticks\":\"\"}},\"type\":\"parcoords\"}],\"pie\":[{\"automargin\":true,\"type\":\"pie\"}],\"scatter3d\":[{\"line\":{\"colorbar\":{\"outlinewidth\":0,\"ticks\":\"\"}},\"marker\":{\"colorbar\":{\"outlinewidth\":0,\"ticks\":\"\"}},\"type\":\"scatter3d\"}],\"scattercarpet\":[{\"marker\":{\"colorbar\":{\"outlinewidth\":0,\"ticks\":\"\"}},\"type\":\"scattercarpet\"}],\"scattergeo\":[{\"marker\":{\"colorbar\":{\"outlinewidth\":0,\"ticks\":\"\"}},\"type\":\"scattergeo\"}],\"scattergl\":[{\"marker\":{\"colorbar\":{\"outlinewidth\":0,\"ticks\":\"\"}},\"type\":\"scattergl\"}],\"scattermapbox\":[{\"marker\":{\"colorbar\":{\"outlinewidth\":0,\"ticks\":\"\"}},\"type\":\"scattermapbox\"}],\"scatterpolargl\":[{\"marker\":{\"colorbar\":{\"outlinewidth\":0,\"ticks\":\"\"}},\"type\":\"scatterpolargl\"}],\"scatterpolar\":[{\"marker\":{\"colorbar\":{\"outlinewidth\":0,\"ticks\":\"\"}},\"type\":\"scatterpolar\"}],\"scatter\":[{\"fillpattern\":{\"fillmode\":\"overlay\",\"size\":10,\"solidity\":0.2},\"type\":\"scatter\"}],\"scatterternary\":[{\"marker\":{\"colorbar\":{\"outlinewidth\":0,\"ticks\":\"\"}},\"type\":\"scatterternary\"}],\"surface\":[{\"colorbar\":{\"outlinewidth\":0,\"ticks\":\"\"},\"colorscale\":[[0.0,\"#0d0887\"],[0.1111111111111111,\"#46039f\"],[0.2222222222222222,\"#7201a8\"],[0.3333333333333333,\"#9c179e\"],[0.4444444444444444,\"#bd3786\"],[0.5555555555555556,\"#d8576b\"],[0.6666666666666666,\"#ed7953\"],[0.7777777777777778,\"#fb9f3a\"],[0.8888888888888888,\"#fdca26\"],[1.0,\"#f0f921\"]],\"type\":\"surface\"}],\"table\":[{\"cells\":{\"fill\":{\"color\":\"#EBF0F8\"},\"line\":{\"color\":\"white\"}},\"header\":{\"fill\":{\"color\":\"#C8D4E3\"},\"line\":{\"color\":\"white\"}},\"type\":\"table\"}]},\"layout\":{\"annotationdefaults\":{\"arrowcolor\":\"#2a3f5f\",\"arrowhead\":0,\"arrowwidth\":1},\"autotypenumbers\":\"strict\",\"coloraxis\":{\"colorbar\":{\"outlinewidth\":0,\"ticks\":\"\"}},\"colorscale\":{\"diverging\":[[0,\"#8e0152\"],[0.1,\"#c51b7d\"],[0.2,\"#de77ae\"],[0.3,\"#f1b6da\"],[0.4,\"#fde0ef\"],[0.5,\"#f7f7f7\"],[0.6,\"#e6f5d0\"],[0.7,\"#b8e186\"],[0.8,\"#7fbc41\"],[0.9,\"#4d9221\"],[1,\"#276419\"]],\"sequential\":[[0.0,\"#0d0887\"],[0.1111111111111111,\"#46039f\"],[0.2222222222222222,\"#7201a8\"],[0.3333333333333333,\"#9c179e\"],[0.4444444444444444,\"#bd3786\"],[0.5555555555555556,\"#d8576b\"],[0.6666666666666666,\"#ed7953\"],[0.7777777777777778,\"#fb9f3a\"],[0.8888888888888888,\"#fdca26\"],[1.0,\"#f0f921\"]],\"sequentialminus\":[[0.0,\"#0d0887\"],[0.1111111111111111,\"#46039f\"],[0.2222222222222222,\"#7201a8\"],[0.3333333333333333,\"#9c179e\"],[0.4444444444444444,\"#bd3786\"],[0.5555555555555556,\"#d8576b\"],[0.6666666666666666,\"#ed7953\"],[0.7777777777777778,\"#fb9f3a\"],[0.8888888888888888,\"#fdca26\"],[1.0,\"#f0f921\"]]},\"colorway\":[\"#636efa\",\"#EF553B\",\"#00cc96\",\"#ab63fa\",\"#FFA15A\",\"#19d3f3\",\"#FF6692\",\"#B6E880\",\"#FF97FF\",\"#FECB52\"],\"font\":{\"color\":\"#2a3f5f\"},\"geo\":{\"bgcolor\":\"white\",\"lakecolor\":\"white\",\"landcolor\":\"#E5ECF6\",\"showlakes\":true,\"showland\":true,\"subunitcolor\":\"white\"},\"hoverlabel\":{\"align\":\"left\"},\"hovermode\":\"closest\",\"mapbox\":{\"style\":\"light\"},\"paper_bgcolor\":\"white\",\"plot_bgcolor\":\"#E5ECF6\",\"polar\":{\"angularaxis\":{\"gridcolor\":\"white\",\"linecolor\":\"white\",\"ticks\":\"\"},\"bgcolor\":\"#E5ECF6\",\"radialaxis\":{\"gridcolor\":\"white\",\"linecolor\":\"white\",\"ticks\":\"\"}},\"scene\":{\"xaxis\":{\"backgroundcolor\":\"#E5ECF6\",\"gridcolor\":\"white\",\"gridwidth\":2,\"linecolor\":\"white\",\"showbackground\":true,\"ticks\":\"\",\"zerolinecolor\":\"white\"},\"yaxis\":{\"backgroundcolor\":\"#E5ECF6\",\"gridcolor\":\"white\",\"gridwidth\":2,\"linecolor\":\"white\",\"showbackground\":true,\"ticks\":\"\",\"zerolinecolor\":\"white\"},\"zaxis\":{\"backgroundcolor\":\"#E5ECF6\",\"gridcolor\":\"white\",\"gridwidth\":2,\"linecolor\":\"white\",\"showbackground\":true,\"ticks\":\"\",\"zerolinecolor\":\"white\"}},\"shapedefaults\":{\"line\":{\"color\":\"#2a3f5f\"}},\"ternary\":{\"aaxis\":{\"gridcolor\":\"white\",\"linecolor\":\"white\",\"ticks\":\"\"},\"baxis\":{\"gridcolor\":\"white\",\"linecolor\":\"white\",\"ticks\":\"\"},\"bgcolor\":\"#E5ECF6\",\"caxis\":{\"gridcolor\":\"white\",\"linecolor\":\"white\",\"ticks\":\"\"}},\"title\":{\"x\":0.05},\"xaxis\":{\"automargin\":true,\"gridcolor\":\"white\",\"linecolor\":\"white\",\"ticks\":\"\",\"title\":{\"standoff\":15},\"zerolinecolor\":\"white\",\"zerolinewidth\":2},\"yaxis\":{\"automargin\":true,\"gridcolor\":\"white\",\"linecolor\":\"white\",\"ticks\":\"\",\"title\":{\"standoff\":15},\"zerolinecolor\":\"white\",\"zerolinewidth\":2}}},\"title\":{\"font\":{\"color\":\"#4D5663\"}},\"xaxis\":{\"gridcolor\":\"#E1E5ED\",\"showgrid\":true,\"tickfont\":{\"color\":\"#4D5663\"},\"title\":{\"font\":{\"color\":\"#4D5663\"},\"text\":\"\"},\"zerolinecolor\":\"#E1E5ED\"},\"yaxis\":{\"gridcolor\":\"#E1E5ED\",\"showgrid\":true,\"tickfont\":{\"color\":\"#4D5663\"},\"title\":{\"font\":{\"color\":\"#4D5663\"},\"text\":\"\"},\"zerolinecolor\":\"#E1E5ED\"}},                        {\"showLink\": true, \"linkText\": \"Export to plot.ly\", \"plotlyServerURL\": \"https://plot.ly\", \"responsive\": true}                    ).then(function(){\n",
       "                            \n",
       "var gd = document.getElementById('d216e245-53aa-41f0-b987-a79d15e64911');\n",
       "var x = new MutationObserver(function (mutations, observer) {{\n",
       "        var display = window.getComputedStyle(gd).display;\n",
       "        if (!display || display === 'none') {{\n",
       "            console.log([gd, 'removed!']);\n",
       "            Plotly.purge(gd);\n",
       "            observer.disconnect();\n",
       "        }}\n",
       "}});\n",
       "\n",
       "// Listen for the removal of the full notebook cells\n",
       "var notebookContainer = gd.closest('#notebook-container');\n",
       "if (notebookContainer) {{\n",
       "    x.observe(notebookContainer, {childList: true});\n",
       "}}\n",
       "\n",
       "// Listen for the clearing of the current output cell\n",
       "var outputEl = gd.closest('.output');\n",
       "if (outputEl) {{\n",
       "    x.observe(outputEl, {childList: true});\n",
       "}}\n",
       "\n",
       "                        })                };                });            </script>        </div>"
      ]
     },
     "metadata": {},
     "output_type": "display_data"
    }
   ],
   "source": [
    "df.iplot(kind='scatter',x='A',y='B',mode='markers',size=10)"
   ]
  },
  {
   "cell_type": "markdown",
   "metadata": {},
   "source": [
    "## Bar Plots"
   ]
  },
  {
   "cell_type": "code",
   "execution_count": 12,
   "metadata": {},
   "outputs": [
    {
     "data": {
      "application/vnd.plotly.v1+json": {
       "config": {
        "linkText": "Export to plot.ly",
        "plotlyServerURL": "https://plot.ly",
        "showLink": true
       },
       "data": [
        {
         "marker": {
          "color": "rgba(255, 153, 51, 0.6)",
          "line": {
           "color": "rgba(255, 153, 51, 1.0)",
           "width": 1
          }
         },
         "name": "Values",
         "orientation": "v",
         "text": "",
         "type": "bar",
         "x": [
          "A",
          "B",
          "C"
         ],
         "y": [
          32,
          43,
          50
         ]
        }
       ],
       "layout": {
        "legend": {
         "bgcolor": "#F5F6F9",
         "font": {
          "color": "#4D5663"
         }
        },
        "paper_bgcolor": "#F5F6F9",
        "plot_bgcolor": "#F5F6F9",
        "template": {
         "data": {
          "bar": [
           {
            "error_x": {
             "color": "#2a3f5f"
            },
            "error_y": {
             "color": "#2a3f5f"
            },
            "marker": {
             "line": {
              "color": "#E5ECF6",
              "width": 0.5
             },
             "pattern": {
              "fillmode": "overlay",
              "size": 10,
              "solidity": 0.2
             }
            },
            "type": "bar"
           }
          ],
          "barpolar": [
           {
            "marker": {
             "line": {
              "color": "#E5ECF6",
              "width": 0.5
             },
             "pattern": {
              "fillmode": "overlay",
              "size": 10,
              "solidity": 0.2
             }
            },
            "type": "barpolar"
           }
          ],
          "carpet": [
           {
            "aaxis": {
             "endlinecolor": "#2a3f5f",
             "gridcolor": "white",
             "linecolor": "white",
             "minorgridcolor": "white",
             "startlinecolor": "#2a3f5f"
            },
            "baxis": {
             "endlinecolor": "#2a3f5f",
             "gridcolor": "white",
             "linecolor": "white",
             "minorgridcolor": "white",
             "startlinecolor": "#2a3f5f"
            },
            "type": "carpet"
           }
          ],
          "choropleth": [
           {
            "colorbar": {
             "outlinewidth": 0,
             "ticks": ""
            },
            "type": "choropleth"
           }
          ],
          "contour": [
           {
            "colorbar": {
             "outlinewidth": 0,
             "ticks": ""
            },
            "colorscale": [
             [
              0,
              "#0d0887"
             ],
             [
              0.1111111111111111,
              "#46039f"
             ],
             [
              0.2222222222222222,
              "#7201a8"
             ],
             [
              0.3333333333333333,
              "#9c179e"
             ],
             [
              0.4444444444444444,
              "#bd3786"
             ],
             [
              0.5555555555555556,
              "#d8576b"
             ],
             [
              0.6666666666666666,
              "#ed7953"
             ],
             [
              0.7777777777777778,
              "#fb9f3a"
             ],
             [
              0.8888888888888888,
              "#fdca26"
             ],
             [
              1,
              "#f0f921"
             ]
            ],
            "type": "contour"
           }
          ],
          "contourcarpet": [
           {
            "colorbar": {
             "outlinewidth": 0,
             "ticks": ""
            },
            "type": "contourcarpet"
           }
          ],
          "heatmap": [
           {
            "colorbar": {
             "outlinewidth": 0,
             "ticks": ""
            },
            "colorscale": [
             [
              0,
              "#0d0887"
             ],
             [
              0.1111111111111111,
              "#46039f"
             ],
             [
              0.2222222222222222,
              "#7201a8"
             ],
             [
              0.3333333333333333,
              "#9c179e"
             ],
             [
              0.4444444444444444,
              "#bd3786"
             ],
             [
              0.5555555555555556,
              "#d8576b"
             ],
             [
              0.6666666666666666,
              "#ed7953"
             ],
             [
              0.7777777777777778,
              "#fb9f3a"
             ],
             [
              0.8888888888888888,
              "#fdca26"
             ],
             [
              1,
              "#f0f921"
             ]
            ],
            "type": "heatmap"
           }
          ],
          "heatmapgl": [
           {
            "colorbar": {
             "outlinewidth": 0,
             "ticks": ""
            },
            "colorscale": [
             [
              0,
              "#0d0887"
             ],
             [
              0.1111111111111111,
              "#46039f"
             ],
             [
              0.2222222222222222,
              "#7201a8"
             ],
             [
              0.3333333333333333,
              "#9c179e"
             ],
             [
              0.4444444444444444,
              "#bd3786"
             ],
             [
              0.5555555555555556,
              "#d8576b"
             ],
             [
              0.6666666666666666,
              "#ed7953"
             ],
             [
              0.7777777777777778,
              "#fb9f3a"
             ],
             [
              0.8888888888888888,
              "#fdca26"
             ],
             [
              1,
              "#f0f921"
             ]
            ],
            "type": "heatmapgl"
           }
          ],
          "histogram": [
           {
            "marker": {
             "pattern": {
              "fillmode": "overlay",
              "size": 10,
              "solidity": 0.2
             }
            },
            "type": "histogram"
           }
          ],
          "histogram2d": [
           {
            "colorbar": {
             "outlinewidth": 0,
             "ticks": ""
            },
            "colorscale": [
             [
              0,
              "#0d0887"
             ],
             [
              0.1111111111111111,
              "#46039f"
             ],
             [
              0.2222222222222222,
              "#7201a8"
             ],
             [
              0.3333333333333333,
              "#9c179e"
             ],
             [
              0.4444444444444444,
              "#bd3786"
             ],
             [
              0.5555555555555556,
              "#d8576b"
             ],
             [
              0.6666666666666666,
              "#ed7953"
             ],
             [
              0.7777777777777778,
              "#fb9f3a"
             ],
             [
              0.8888888888888888,
              "#fdca26"
             ],
             [
              1,
              "#f0f921"
             ]
            ],
            "type": "histogram2d"
           }
          ],
          "histogram2dcontour": [
           {
            "colorbar": {
             "outlinewidth": 0,
             "ticks": ""
            },
            "colorscale": [
             [
              0,
              "#0d0887"
             ],
             [
              0.1111111111111111,
              "#46039f"
             ],
             [
              0.2222222222222222,
              "#7201a8"
             ],
             [
              0.3333333333333333,
              "#9c179e"
             ],
             [
              0.4444444444444444,
              "#bd3786"
             ],
             [
              0.5555555555555556,
              "#d8576b"
             ],
             [
              0.6666666666666666,
              "#ed7953"
             ],
             [
              0.7777777777777778,
              "#fb9f3a"
             ],
             [
              0.8888888888888888,
              "#fdca26"
             ],
             [
              1,
              "#f0f921"
             ]
            ],
            "type": "histogram2dcontour"
           }
          ],
          "mesh3d": [
           {
            "colorbar": {
             "outlinewidth": 0,
             "ticks": ""
            },
            "type": "mesh3d"
           }
          ],
          "parcoords": [
           {
            "line": {
             "colorbar": {
              "outlinewidth": 0,
              "ticks": ""
             }
            },
            "type": "parcoords"
           }
          ],
          "pie": [
           {
            "automargin": true,
            "type": "pie"
           }
          ],
          "scatter": [
           {
            "fillpattern": {
             "fillmode": "overlay",
             "size": 10,
             "solidity": 0.2
            },
            "type": "scatter"
           }
          ],
          "scatter3d": [
           {
            "line": {
             "colorbar": {
              "outlinewidth": 0,
              "ticks": ""
             }
            },
            "marker": {
             "colorbar": {
              "outlinewidth": 0,
              "ticks": ""
             }
            },
            "type": "scatter3d"
           }
          ],
          "scattercarpet": [
           {
            "marker": {
             "colorbar": {
              "outlinewidth": 0,
              "ticks": ""
             }
            },
            "type": "scattercarpet"
           }
          ],
          "scattergeo": [
           {
            "marker": {
             "colorbar": {
              "outlinewidth": 0,
              "ticks": ""
             }
            },
            "type": "scattergeo"
           }
          ],
          "scattergl": [
           {
            "marker": {
             "colorbar": {
              "outlinewidth": 0,
              "ticks": ""
             }
            },
            "type": "scattergl"
           }
          ],
          "scattermapbox": [
           {
            "marker": {
             "colorbar": {
              "outlinewidth": 0,
              "ticks": ""
             }
            },
            "type": "scattermapbox"
           }
          ],
          "scatterpolar": [
           {
            "marker": {
             "colorbar": {
              "outlinewidth": 0,
              "ticks": ""
             }
            },
            "type": "scatterpolar"
           }
          ],
          "scatterpolargl": [
           {
            "marker": {
             "colorbar": {
              "outlinewidth": 0,
              "ticks": ""
             }
            },
            "type": "scatterpolargl"
           }
          ],
          "scatterternary": [
           {
            "marker": {
             "colorbar": {
              "outlinewidth": 0,
              "ticks": ""
             }
            },
            "type": "scatterternary"
           }
          ],
          "surface": [
           {
            "colorbar": {
             "outlinewidth": 0,
             "ticks": ""
            },
            "colorscale": [
             [
              0,
              "#0d0887"
             ],
             [
              0.1111111111111111,
              "#46039f"
             ],
             [
              0.2222222222222222,
              "#7201a8"
             ],
             [
              0.3333333333333333,
              "#9c179e"
             ],
             [
              0.4444444444444444,
              "#bd3786"
             ],
             [
              0.5555555555555556,
              "#d8576b"
             ],
             [
              0.6666666666666666,
              "#ed7953"
             ],
             [
              0.7777777777777778,
              "#fb9f3a"
             ],
             [
              0.8888888888888888,
              "#fdca26"
             ],
             [
              1,
              "#f0f921"
             ]
            ],
            "type": "surface"
           }
          ],
          "table": [
           {
            "cells": {
             "fill": {
              "color": "#EBF0F8"
             },
             "line": {
              "color": "white"
             }
            },
            "header": {
             "fill": {
              "color": "#C8D4E3"
             },
             "line": {
              "color": "white"
             }
            },
            "type": "table"
           }
          ]
         },
         "layout": {
          "annotationdefaults": {
           "arrowcolor": "#2a3f5f",
           "arrowhead": 0,
           "arrowwidth": 1
          },
          "autotypenumbers": "strict",
          "coloraxis": {
           "colorbar": {
            "outlinewidth": 0,
            "ticks": ""
           }
          },
          "colorscale": {
           "diverging": [
            [
             0,
             "#8e0152"
            ],
            [
             0.1,
             "#c51b7d"
            ],
            [
             0.2,
             "#de77ae"
            ],
            [
             0.3,
             "#f1b6da"
            ],
            [
             0.4,
             "#fde0ef"
            ],
            [
             0.5,
             "#f7f7f7"
            ],
            [
             0.6,
             "#e6f5d0"
            ],
            [
             0.7,
             "#b8e186"
            ],
            [
             0.8,
             "#7fbc41"
            ],
            [
             0.9,
             "#4d9221"
            ],
            [
             1,
             "#276419"
            ]
           ],
           "sequential": [
            [
             0,
             "#0d0887"
            ],
            [
             0.1111111111111111,
             "#46039f"
            ],
            [
             0.2222222222222222,
             "#7201a8"
            ],
            [
             0.3333333333333333,
             "#9c179e"
            ],
            [
             0.4444444444444444,
             "#bd3786"
            ],
            [
             0.5555555555555556,
             "#d8576b"
            ],
            [
             0.6666666666666666,
             "#ed7953"
            ],
            [
             0.7777777777777778,
             "#fb9f3a"
            ],
            [
             0.8888888888888888,
             "#fdca26"
            ],
            [
             1,
             "#f0f921"
            ]
           ],
           "sequentialminus": [
            [
             0,
             "#0d0887"
            ],
            [
             0.1111111111111111,
             "#46039f"
            ],
            [
             0.2222222222222222,
             "#7201a8"
            ],
            [
             0.3333333333333333,
             "#9c179e"
            ],
            [
             0.4444444444444444,
             "#bd3786"
            ],
            [
             0.5555555555555556,
             "#d8576b"
            ],
            [
             0.6666666666666666,
             "#ed7953"
            ],
            [
             0.7777777777777778,
             "#fb9f3a"
            ],
            [
             0.8888888888888888,
             "#fdca26"
            ],
            [
             1,
             "#f0f921"
            ]
           ]
          },
          "colorway": [
           "#636efa",
           "#EF553B",
           "#00cc96",
           "#ab63fa",
           "#FFA15A",
           "#19d3f3",
           "#FF6692",
           "#B6E880",
           "#FF97FF",
           "#FECB52"
          ],
          "font": {
           "color": "#2a3f5f"
          },
          "geo": {
           "bgcolor": "white",
           "lakecolor": "white",
           "landcolor": "#E5ECF6",
           "showlakes": true,
           "showland": true,
           "subunitcolor": "white"
          },
          "hoverlabel": {
           "align": "left"
          },
          "hovermode": "closest",
          "mapbox": {
           "style": "light"
          },
          "paper_bgcolor": "white",
          "plot_bgcolor": "#E5ECF6",
          "polar": {
           "angularaxis": {
            "gridcolor": "white",
            "linecolor": "white",
            "ticks": ""
           },
           "bgcolor": "#E5ECF6",
           "radialaxis": {
            "gridcolor": "white",
            "linecolor": "white",
            "ticks": ""
           }
          },
          "scene": {
           "xaxis": {
            "backgroundcolor": "#E5ECF6",
            "gridcolor": "white",
            "gridwidth": 2,
            "linecolor": "white",
            "showbackground": true,
            "ticks": "",
            "zerolinecolor": "white"
           },
           "yaxis": {
            "backgroundcolor": "#E5ECF6",
            "gridcolor": "white",
            "gridwidth": 2,
            "linecolor": "white",
            "showbackground": true,
            "ticks": "",
            "zerolinecolor": "white"
           },
           "zaxis": {
            "backgroundcolor": "#E5ECF6",
            "gridcolor": "white",
            "gridwidth": 2,
            "linecolor": "white",
            "showbackground": true,
            "ticks": "",
            "zerolinecolor": "white"
           }
          },
          "shapedefaults": {
           "line": {
            "color": "#2a3f5f"
           }
          },
          "ternary": {
           "aaxis": {
            "gridcolor": "white",
            "linecolor": "white",
            "ticks": ""
           },
           "baxis": {
            "gridcolor": "white",
            "linecolor": "white",
            "ticks": ""
           },
           "bgcolor": "#E5ECF6",
           "caxis": {
            "gridcolor": "white",
            "linecolor": "white",
            "ticks": ""
           }
          },
          "title": {
           "x": 0.05
          },
          "xaxis": {
           "automargin": true,
           "gridcolor": "white",
           "linecolor": "white",
           "ticks": "",
           "title": {
            "standoff": 15
           },
           "zerolinecolor": "white",
           "zerolinewidth": 2
          },
          "yaxis": {
           "automargin": true,
           "gridcolor": "white",
           "linecolor": "white",
           "ticks": "",
           "title": {
            "standoff": 15
           },
           "zerolinecolor": "white",
           "zerolinewidth": 2
          }
         }
        },
        "title": {
         "font": {
          "color": "#4D5663"
         }
        },
        "xaxis": {
         "gridcolor": "#E1E5ED",
         "showgrid": true,
         "tickfont": {
          "color": "#4D5663"
         },
         "title": {
          "font": {
           "color": "#4D5663"
          },
          "text": ""
         },
         "zerolinecolor": "#E1E5ED"
        },
        "yaxis": {
         "gridcolor": "#E1E5ED",
         "showgrid": true,
         "tickfont": {
          "color": "#4D5663"
         },
         "title": {
          "font": {
           "color": "#4D5663"
          },
          "text": ""
         },
         "zerolinecolor": "#E1E5ED"
        }
       }
      },
      "text/html": [
       "<div>                            <div id=\"00aed418-1ec9-497d-8f33-606190438430\" class=\"plotly-graph-div\" style=\"height:525px; width:100%;\"></div>            <script type=\"text/javascript\">                require([\"plotly\"], function(Plotly) {                    window.PLOTLYENV=window.PLOTLYENV || {};\n",
       "                    window.PLOTLYENV.BASE_URL='https://plot.ly';                                    if (document.getElementById(\"00aed418-1ec9-497d-8f33-606190438430\")) {                    Plotly.newPlot(                        \"00aed418-1ec9-497d-8f33-606190438430\",                        [{\"marker\":{\"color\":\"rgba(255, 153, 51, 0.6)\",\"line\":{\"color\":\"rgba(255, 153, 51, 1.0)\",\"width\":1}},\"name\":\"Values\",\"orientation\":\"v\",\"text\":\"\",\"x\":[\"A\",\"B\",\"C\"],\"y\":[32,43,50],\"type\":\"bar\"}],                        {\"legend\":{\"bgcolor\":\"#F5F6F9\",\"font\":{\"color\":\"#4D5663\"}},\"paper_bgcolor\":\"#F5F6F9\",\"plot_bgcolor\":\"#F5F6F9\",\"template\":{\"data\":{\"barpolar\":[{\"marker\":{\"line\":{\"color\":\"#E5ECF6\",\"width\":0.5},\"pattern\":{\"fillmode\":\"overlay\",\"size\":10,\"solidity\":0.2}},\"type\":\"barpolar\"}],\"bar\":[{\"error_x\":{\"color\":\"#2a3f5f\"},\"error_y\":{\"color\":\"#2a3f5f\"},\"marker\":{\"line\":{\"color\":\"#E5ECF6\",\"width\":0.5},\"pattern\":{\"fillmode\":\"overlay\",\"size\":10,\"solidity\":0.2}},\"type\":\"bar\"}],\"carpet\":[{\"aaxis\":{\"endlinecolor\":\"#2a3f5f\",\"gridcolor\":\"white\",\"linecolor\":\"white\",\"minorgridcolor\":\"white\",\"startlinecolor\":\"#2a3f5f\"},\"baxis\":{\"endlinecolor\":\"#2a3f5f\",\"gridcolor\":\"white\",\"linecolor\":\"white\",\"minorgridcolor\":\"white\",\"startlinecolor\":\"#2a3f5f\"},\"type\":\"carpet\"}],\"choropleth\":[{\"colorbar\":{\"outlinewidth\":0,\"ticks\":\"\"},\"type\":\"choropleth\"}],\"contourcarpet\":[{\"colorbar\":{\"outlinewidth\":0,\"ticks\":\"\"},\"type\":\"contourcarpet\"}],\"contour\":[{\"colorbar\":{\"outlinewidth\":0,\"ticks\":\"\"},\"colorscale\":[[0.0,\"#0d0887\"],[0.1111111111111111,\"#46039f\"],[0.2222222222222222,\"#7201a8\"],[0.3333333333333333,\"#9c179e\"],[0.4444444444444444,\"#bd3786\"],[0.5555555555555556,\"#d8576b\"],[0.6666666666666666,\"#ed7953\"],[0.7777777777777778,\"#fb9f3a\"],[0.8888888888888888,\"#fdca26\"],[1.0,\"#f0f921\"]],\"type\":\"contour\"}],\"heatmapgl\":[{\"colorbar\":{\"outlinewidth\":0,\"ticks\":\"\"},\"colorscale\":[[0.0,\"#0d0887\"],[0.1111111111111111,\"#46039f\"],[0.2222222222222222,\"#7201a8\"],[0.3333333333333333,\"#9c179e\"],[0.4444444444444444,\"#bd3786\"],[0.5555555555555556,\"#d8576b\"],[0.6666666666666666,\"#ed7953\"],[0.7777777777777778,\"#fb9f3a\"],[0.8888888888888888,\"#fdca26\"],[1.0,\"#f0f921\"]],\"type\":\"heatmapgl\"}],\"heatmap\":[{\"colorbar\":{\"outlinewidth\":0,\"ticks\":\"\"},\"colorscale\":[[0.0,\"#0d0887\"],[0.1111111111111111,\"#46039f\"],[0.2222222222222222,\"#7201a8\"],[0.3333333333333333,\"#9c179e\"],[0.4444444444444444,\"#bd3786\"],[0.5555555555555556,\"#d8576b\"],[0.6666666666666666,\"#ed7953\"],[0.7777777777777778,\"#fb9f3a\"],[0.8888888888888888,\"#fdca26\"],[1.0,\"#f0f921\"]],\"type\":\"heatmap\"}],\"histogram2dcontour\":[{\"colorbar\":{\"outlinewidth\":0,\"ticks\":\"\"},\"colorscale\":[[0.0,\"#0d0887\"],[0.1111111111111111,\"#46039f\"],[0.2222222222222222,\"#7201a8\"],[0.3333333333333333,\"#9c179e\"],[0.4444444444444444,\"#bd3786\"],[0.5555555555555556,\"#d8576b\"],[0.6666666666666666,\"#ed7953\"],[0.7777777777777778,\"#fb9f3a\"],[0.8888888888888888,\"#fdca26\"],[1.0,\"#f0f921\"]],\"type\":\"histogram2dcontour\"}],\"histogram2d\":[{\"colorbar\":{\"outlinewidth\":0,\"ticks\":\"\"},\"colorscale\":[[0.0,\"#0d0887\"],[0.1111111111111111,\"#46039f\"],[0.2222222222222222,\"#7201a8\"],[0.3333333333333333,\"#9c179e\"],[0.4444444444444444,\"#bd3786\"],[0.5555555555555556,\"#d8576b\"],[0.6666666666666666,\"#ed7953\"],[0.7777777777777778,\"#fb9f3a\"],[0.8888888888888888,\"#fdca26\"],[1.0,\"#f0f921\"]],\"type\":\"histogram2d\"}],\"histogram\":[{\"marker\":{\"pattern\":{\"fillmode\":\"overlay\",\"size\":10,\"solidity\":0.2}},\"type\":\"histogram\"}],\"mesh3d\":[{\"colorbar\":{\"outlinewidth\":0,\"ticks\":\"\"},\"type\":\"mesh3d\"}],\"parcoords\":[{\"line\":{\"colorbar\":{\"outlinewidth\":0,\"ticks\":\"\"}},\"type\":\"parcoords\"}],\"pie\":[{\"automargin\":true,\"type\":\"pie\"}],\"scatter3d\":[{\"line\":{\"colorbar\":{\"outlinewidth\":0,\"ticks\":\"\"}},\"marker\":{\"colorbar\":{\"outlinewidth\":0,\"ticks\":\"\"}},\"type\":\"scatter3d\"}],\"scattercarpet\":[{\"marker\":{\"colorbar\":{\"outlinewidth\":0,\"ticks\":\"\"}},\"type\":\"scattercarpet\"}],\"scattergeo\":[{\"marker\":{\"colorbar\":{\"outlinewidth\":0,\"ticks\":\"\"}},\"type\":\"scattergeo\"}],\"scattergl\":[{\"marker\":{\"colorbar\":{\"outlinewidth\":0,\"ticks\":\"\"}},\"type\":\"scattergl\"}],\"scattermapbox\":[{\"marker\":{\"colorbar\":{\"outlinewidth\":0,\"ticks\":\"\"}},\"type\":\"scattermapbox\"}],\"scatterpolargl\":[{\"marker\":{\"colorbar\":{\"outlinewidth\":0,\"ticks\":\"\"}},\"type\":\"scatterpolargl\"}],\"scatterpolar\":[{\"marker\":{\"colorbar\":{\"outlinewidth\":0,\"ticks\":\"\"}},\"type\":\"scatterpolar\"}],\"scatter\":[{\"fillpattern\":{\"fillmode\":\"overlay\",\"size\":10,\"solidity\":0.2},\"type\":\"scatter\"}],\"scatterternary\":[{\"marker\":{\"colorbar\":{\"outlinewidth\":0,\"ticks\":\"\"}},\"type\":\"scatterternary\"}],\"surface\":[{\"colorbar\":{\"outlinewidth\":0,\"ticks\":\"\"},\"colorscale\":[[0.0,\"#0d0887\"],[0.1111111111111111,\"#46039f\"],[0.2222222222222222,\"#7201a8\"],[0.3333333333333333,\"#9c179e\"],[0.4444444444444444,\"#bd3786\"],[0.5555555555555556,\"#d8576b\"],[0.6666666666666666,\"#ed7953\"],[0.7777777777777778,\"#fb9f3a\"],[0.8888888888888888,\"#fdca26\"],[1.0,\"#f0f921\"]],\"type\":\"surface\"}],\"table\":[{\"cells\":{\"fill\":{\"color\":\"#EBF0F8\"},\"line\":{\"color\":\"white\"}},\"header\":{\"fill\":{\"color\":\"#C8D4E3\"},\"line\":{\"color\":\"white\"}},\"type\":\"table\"}]},\"layout\":{\"annotationdefaults\":{\"arrowcolor\":\"#2a3f5f\",\"arrowhead\":0,\"arrowwidth\":1},\"autotypenumbers\":\"strict\",\"coloraxis\":{\"colorbar\":{\"outlinewidth\":0,\"ticks\":\"\"}},\"colorscale\":{\"diverging\":[[0,\"#8e0152\"],[0.1,\"#c51b7d\"],[0.2,\"#de77ae\"],[0.3,\"#f1b6da\"],[0.4,\"#fde0ef\"],[0.5,\"#f7f7f7\"],[0.6,\"#e6f5d0\"],[0.7,\"#b8e186\"],[0.8,\"#7fbc41\"],[0.9,\"#4d9221\"],[1,\"#276419\"]],\"sequential\":[[0.0,\"#0d0887\"],[0.1111111111111111,\"#46039f\"],[0.2222222222222222,\"#7201a8\"],[0.3333333333333333,\"#9c179e\"],[0.4444444444444444,\"#bd3786\"],[0.5555555555555556,\"#d8576b\"],[0.6666666666666666,\"#ed7953\"],[0.7777777777777778,\"#fb9f3a\"],[0.8888888888888888,\"#fdca26\"],[1.0,\"#f0f921\"]],\"sequentialminus\":[[0.0,\"#0d0887\"],[0.1111111111111111,\"#46039f\"],[0.2222222222222222,\"#7201a8\"],[0.3333333333333333,\"#9c179e\"],[0.4444444444444444,\"#bd3786\"],[0.5555555555555556,\"#d8576b\"],[0.6666666666666666,\"#ed7953\"],[0.7777777777777778,\"#fb9f3a\"],[0.8888888888888888,\"#fdca26\"],[1.0,\"#f0f921\"]]},\"colorway\":[\"#636efa\",\"#EF553B\",\"#00cc96\",\"#ab63fa\",\"#FFA15A\",\"#19d3f3\",\"#FF6692\",\"#B6E880\",\"#FF97FF\",\"#FECB52\"],\"font\":{\"color\":\"#2a3f5f\"},\"geo\":{\"bgcolor\":\"white\",\"lakecolor\":\"white\",\"landcolor\":\"#E5ECF6\",\"showlakes\":true,\"showland\":true,\"subunitcolor\":\"white\"},\"hoverlabel\":{\"align\":\"left\"},\"hovermode\":\"closest\",\"mapbox\":{\"style\":\"light\"},\"paper_bgcolor\":\"white\",\"plot_bgcolor\":\"#E5ECF6\",\"polar\":{\"angularaxis\":{\"gridcolor\":\"white\",\"linecolor\":\"white\",\"ticks\":\"\"},\"bgcolor\":\"#E5ECF6\",\"radialaxis\":{\"gridcolor\":\"white\",\"linecolor\":\"white\",\"ticks\":\"\"}},\"scene\":{\"xaxis\":{\"backgroundcolor\":\"#E5ECF6\",\"gridcolor\":\"white\",\"gridwidth\":2,\"linecolor\":\"white\",\"showbackground\":true,\"ticks\":\"\",\"zerolinecolor\":\"white\"},\"yaxis\":{\"backgroundcolor\":\"#E5ECF6\",\"gridcolor\":\"white\",\"gridwidth\":2,\"linecolor\":\"white\",\"showbackground\":true,\"ticks\":\"\",\"zerolinecolor\":\"white\"},\"zaxis\":{\"backgroundcolor\":\"#E5ECF6\",\"gridcolor\":\"white\",\"gridwidth\":2,\"linecolor\":\"white\",\"showbackground\":true,\"ticks\":\"\",\"zerolinecolor\":\"white\"}},\"shapedefaults\":{\"line\":{\"color\":\"#2a3f5f\"}},\"ternary\":{\"aaxis\":{\"gridcolor\":\"white\",\"linecolor\":\"white\",\"ticks\":\"\"},\"baxis\":{\"gridcolor\":\"white\",\"linecolor\":\"white\",\"ticks\":\"\"},\"bgcolor\":\"#E5ECF6\",\"caxis\":{\"gridcolor\":\"white\",\"linecolor\":\"white\",\"ticks\":\"\"}},\"title\":{\"x\":0.05},\"xaxis\":{\"automargin\":true,\"gridcolor\":\"white\",\"linecolor\":\"white\",\"ticks\":\"\",\"title\":{\"standoff\":15},\"zerolinecolor\":\"white\",\"zerolinewidth\":2},\"yaxis\":{\"automargin\":true,\"gridcolor\":\"white\",\"linecolor\":\"white\",\"ticks\":\"\",\"title\":{\"standoff\":15},\"zerolinecolor\":\"white\",\"zerolinewidth\":2}}},\"title\":{\"font\":{\"color\":\"#4D5663\"}},\"xaxis\":{\"gridcolor\":\"#E1E5ED\",\"showgrid\":true,\"tickfont\":{\"color\":\"#4D5663\"},\"title\":{\"font\":{\"color\":\"#4D5663\"},\"text\":\"\"},\"zerolinecolor\":\"#E1E5ED\"},\"yaxis\":{\"gridcolor\":\"#E1E5ED\",\"showgrid\":true,\"tickfont\":{\"color\":\"#4D5663\"},\"title\":{\"font\":{\"color\":\"#4D5663\"},\"text\":\"\"},\"zerolinecolor\":\"#E1E5ED\"}},                        {\"showLink\": true, \"linkText\": \"Export to plot.ly\", \"plotlyServerURL\": \"https://plot.ly\", \"responsive\": true}                    ).then(function(){\n",
       "                            \n",
       "var gd = document.getElementById('00aed418-1ec9-497d-8f33-606190438430');\n",
       "var x = new MutationObserver(function (mutations, observer) {{\n",
       "        var display = window.getComputedStyle(gd).display;\n",
       "        if (!display || display === 'none') {{\n",
       "            console.log([gd, 'removed!']);\n",
       "            Plotly.purge(gd);\n",
       "            observer.disconnect();\n",
       "        }}\n",
       "}});\n",
       "\n",
       "// Listen for the removal of the full notebook cells\n",
       "var notebookContainer = gd.closest('#notebook-container');\n",
       "if (notebookContainer) {{\n",
       "    x.observe(notebookContainer, {childList: true});\n",
       "}}\n",
       "\n",
       "// Listen for the clearing of the current output cell\n",
       "var outputEl = gd.closest('.output');\n",
       "if (outputEl) {{\n",
       "    x.observe(outputEl, {childList: true});\n",
       "}}\n",
       "\n",
       "                        })                };                });            </script>        </div>"
      ]
     },
     "metadata": {},
     "output_type": "display_data"
    }
   ],
   "source": [
    "df2.iplot(kind='bar',x='Category',y='Values')"
   ]
  },
  {
   "cell_type": "code",
   "execution_count": 13,
   "metadata": {},
   "outputs": [
    {
     "data": {
      "application/vnd.plotly.v1+json": {
       "config": {
        "linkText": "Export to plot.ly",
        "plotlyServerURL": "https://plot.ly",
        "showLink": true
       },
       "data": [
        {
         "marker": {
          "color": "rgba(255, 153, 51, 0.6)",
          "line": {
           "color": "rgba(255, 153, 51, 1.0)",
           "width": 1
          }
         },
         "name": "None",
         "orientation": "v",
         "text": "",
         "type": "bar",
         "x": [
          "A",
          "B",
          "C",
          "D"
         ],
         "y": [
          100,
          100,
          100,
          100
         ]
        }
       ],
       "layout": {
        "legend": {
         "bgcolor": "#F5F6F9",
         "font": {
          "color": "#4D5663"
         }
        },
        "paper_bgcolor": "#F5F6F9",
        "plot_bgcolor": "#F5F6F9",
        "template": {
         "data": {
          "bar": [
           {
            "error_x": {
             "color": "#2a3f5f"
            },
            "error_y": {
             "color": "#2a3f5f"
            },
            "marker": {
             "line": {
              "color": "#E5ECF6",
              "width": 0.5
             },
             "pattern": {
              "fillmode": "overlay",
              "size": 10,
              "solidity": 0.2
             }
            },
            "type": "bar"
           }
          ],
          "barpolar": [
           {
            "marker": {
             "line": {
              "color": "#E5ECF6",
              "width": 0.5
             },
             "pattern": {
              "fillmode": "overlay",
              "size": 10,
              "solidity": 0.2
             }
            },
            "type": "barpolar"
           }
          ],
          "carpet": [
           {
            "aaxis": {
             "endlinecolor": "#2a3f5f",
             "gridcolor": "white",
             "linecolor": "white",
             "minorgridcolor": "white",
             "startlinecolor": "#2a3f5f"
            },
            "baxis": {
             "endlinecolor": "#2a3f5f",
             "gridcolor": "white",
             "linecolor": "white",
             "minorgridcolor": "white",
             "startlinecolor": "#2a3f5f"
            },
            "type": "carpet"
           }
          ],
          "choropleth": [
           {
            "colorbar": {
             "outlinewidth": 0,
             "ticks": ""
            },
            "type": "choropleth"
           }
          ],
          "contour": [
           {
            "colorbar": {
             "outlinewidth": 0,
             "ticks": ""
            },
            "colorscale": [
             [
              0,
              "#0d0887"
             ],
             [
              0.1111111111111111,
              "#46039f"
             ],
             [
              0.2222222222222222,
              "#7201a8"
             ],
             [
              0.3333333333333333,
              "#9c179e"
             ],
             [
              0.4444444444444444,
              "#bd3786"
             ],
             [
              0.5555555555555556,
              "#d8576b"
             ],
             [
              0.6666666666666666,
              "#ed7953"
             ],
             [
              0.7777777777777778,
              "#fb9f3a"
             ],
             [
              0.8888888888888888,
              "#fdca26"
             ],
             [
              1,
              "#f0f921"
             ]
            ],
            "type": "contour"
           }
          ],
          "contourcarpet": [
           {
            "colorbar": {
             "outlinewidth": 0,
             "ticks": ""
            },
            "type": "contourcarpet"
           }
          ],
          "heatmap": [
           {
            "colorbar": {
             "outlinewidth": 0,
             "ticks": ""
            },
            "colorscale": [
             [
              0,
              "#0d0887"
             ],
             [
              0.1111111111111111,
              "#46039f"
             ],
             [
              0.2222222222222222,
              "#7201a8"
             ],
             [
              0.3333333333333333,
              "#9c179e"
             ],
             [
              0.4444444444444444,
              "#bd3786"
             ],
             [
              0.5555555555555556,
              "#d8576b"
             ],
             [
              0.6666666666666666,
              "#ed7953"
             ],
             [
              0.7777777777777778,
              "#fb9f3a"
             ],
             [
              0.8888888888888888,
              "#fdca26"
             ],
             [
              1,
              "#f0f921"
             ]
            ],
            "type": "heatmap"
           }
          ],
          "heatmapgl": [
           {
            "colorbar": {
             "outlinewidth": 0,
             "ticks": ""
            },
            "colorscale": [
             [
              0,
              "#0d0887"
             ],
             [
              0.1111111111111111,
              "#46039f"
             ],
             [
              0.2222222222222222,
              "#7201a8"
             ],
             [
              0.3333333333333333,
              "#9c179e"
             ],
             [
              0.4444444444444444,
              "#bd3786"
             ],
             [
              0.5555555555555556,
              "#d8576b"
             ],
             [
              0.6666666666666666,
              "#ed7953"
             ],
             [
              0.7777777777777778,
              "#fb9f3a"
             ],
             [
              0.8888888888888888,
              "#fdca26"
             ],
             [
              1,
              "#f0f921"
             ]
            ],
            "type": "heatmapgl"
           }
          ],
          "histogram": [
           {
            "marker": {
             "pattern": {
              "fillmode": "overlay",
              "size": 10,
              "solidity": 0.2
             }
            },
            "type": "histogram"
           }
          ],
          "histogram2d": [
           {
            "colorbar": {
             "outlinewidth": 0,
             "ticks": ""
            },
            "colorscale": [
             [
              0,
              "#0d0887"
             ],
             [
              0.1111111111111111,
              "#46039f"
             ],
             [
              0.2222222222222222,
              "#7201a8"
             ],
             [
              0.3333333333333333,
              "#9c179e"
             ],
             [
              0.4444444444444444,
              "#bd3786"
             ],
             [
              0.5555555555555556,
              "#d8576b"
             ],
             [
              0.6666666666666666,
              "#ed7953"
             ],
             [
              0.7777777777777778,
              "#fb9f3a"
             ],
             [
              0.8888888888888888,
              "#fdca26"
             ],
             [
              1,
              "#f0f921"
             ]
            ],
            "type": "histogram2d"
           }
          ],
          "histogram2dcontour": [
           {
            "colorbar": {
             "outlinewidth": 0,
             "ticks": ""
            },
            "colorscale": [
             [
              0,
              "#0d0887"
             ],
             [
              0.1111111111111111,
              "#46039f"
             ],
             [
              0.2222222222222222,
              "#7201a8"
             ],
             [
              0.3333333333333333,
              "#9c179e"
             ],
             [
              0.4444444444444444,
              "#bd3786"
             ],
             [
              0.5555555555555556,
              "#d8576b"
             ],
             [
              0.6666666666666666,
              "#ed7953"
             ],
             [
              0.7777777777777778,
              "#fb9f3a"
             ],
             [
              0.8888888888888888,
              "#fdca26"
             ],
             [
              1,
              "#f0f921"
             ]
            ],
            "type": "histogram2dcontour"
           }
          ],
          "mesh3d": [
           {
            "colorbar": {
             "outlinewidth": 0,
             "ticks": ""
            },
            "type": "mesh3d"
           }
          ],
          "parcoords": [
           {
            "line": {
             "colorbar": {
              "outlinewidth": 0,
              "ticks": ""
             }
            },
            "type": "parcoords"
           }
          ],
          "pie": [
           {
            "automargin": true,
            "type": "pie"
           }
          ],
          "scatter": [
           {
            "fillpattern": {
             "fillmode": "overlay",
             "size": 10,
             "solidity": 0.2
            },
            "type": "scatter"
           }
          ],
          "scatter3d": [
           {
            "line": {
             "colorbar": {
              "outlinewidth": 0,
              "ticks": ""
             }
            },
            "marker": {
             "colorbar": {
              "outlinewidth": 0,
              "ticks": ""
             }
            },
            "type": "scatter3d"
           }
          ],
          "scattercarpet": [
           {
            "marker": {
             "colorbar": {
              "outlinewidth": 0,
              "ticks": ""
             }
            },
            "type": "scattercarpet"
           }
          ],
          "scattergeo": [
           {
            "marker": {
             "colorbar": {
              "outlinewidth": 0,
              "ticks": ""
             }
            },
            "type": "scattergeo"
           }
          ],
          "scattergl": [
           {
            "marker": {
             "colorbar": {
              "outlinewidth": 0,
              "ticks": ""
             }
            },
            "type": "scattergl"
           }
          ],
          "scattermapbox": [
           {
            "marker": {
             "colorbar": {
              "outlinewidth": 0,
              "ticks": ""
             }
            },
            "type": "scattermapbox"
           }
          ],
          "scatterpolar": [
           {
            "marker": {
             "colorbar": {
              "outlinewidth": 0,
              "ticks": ""
             }
            },
            "type": "scatterpolar"
           }
          ],
          "scatterpolargl": [
           {
            "marker": {
             "colorbar": {
              "outlinewidth": 0,
              "ticks": ""
             }
            },
            "type": "scatterpolargl"
           }
          ],
          "scatterternary": [
           {
            "marker": {
             "colorbar": {
              "outlinewidth": 0,
              "ticks": ""
             }
            },
            "type": "scatterternary"
           }
          ],
          "surface": [
           {
            "colorbar": {
             "outlinewidth": 0,
             "ticks": ""
            },
            "colorscale": [
             [
              0,
              "#0d0887"
             ],
             [
              0.1111111111111111,
              "#46039f"
             ],
             [
              0.2222222222222222,
              "#7201a8"
             ],
             [
              0.3333333333333333,
              "#9c179e"
             ],
             [
              0.4444444444444444,
              "#bd3786"
             ],
             [
              0.5555555555555556,
              "#d8576b"
             ],
             [
              0.6666666666666666,
              "#ed7953"
             ],
             [
              0.7777777777777778,
              "#fb9f3a"
             ],
             [
              0.8888888888888888,
              "#fdca26"
             ],
             [
              1,
              "#f0f921"
             ]
            ],
            "type": "surface"
           }
          ],
          "table": [
           {
            "cells": {
             "fill": {
              "color": "#EBF0F8"
             },
             "line": {
              "color": "white"
             }
            },
            "header": {
             "fill": {
              "color": "#C8D4E3"
             },
             "line": {
              "color": "white"
             }
            },
            "type": "table"
           }
          ]
         },
         "layout": {
          "annotationdefaults": {
           "arrowcolor": "#2a3f5f",
           "arrowhead": 0,
           "arrowwidth": 1
          },
          "autotypenumbers": "strict",
          "coloraxis": {
           "colorbar": {
            "outlinewidth": 0,
            "ticks": ""
           }
          },
          "colorscale": {
           "diverging": [
            [
             0,
             "#8e0152"
            ],
            [
             0.1,
             "#c51b7d"
            ],
            [
             0.2,
             "#de77ae"
            ],
            [
             0.3,
             "#f1b6da"
            ],
            [
             0.4,
             "#fde0ef"
            ],
            [
             0.5,
             "#f7f7f7"
            ],
            [
             0.6,
             "#e6f5d0"
            ],
            [
             0.7,
             "#b8e186"
            ],
            [
             0.8,
             "#7fbc41"
            ],
            [
             0.9,
             "#4d9221"
            ],
            [
             1,
             "#276419"
            ]
           ],
           "sequential": [
            [
             0,
             "#0d0887"
            ],
            [
             0.1111111111111111,
             "#46039f"
            ],
            [
             0.2222222222222222,
             "#7201a8"
            ],
            [
             0.3333333333333333,
             "#9c179e"
            ],
            [
             0.4444444444444444,
             "#bd3786"
            ],
            [
             0.5555555555555556,
             "#d8576b"
            ],
            [
             0.6666666666666666,
             "#ed7953"
            ],
            [
             0.7777777777777778,
             "#fb9f3a"
            ],
            [
             0.8888888888888888,
             "#fdca26"
            ],
            [
             1,
             "#f0f921"
            ]
           ],
           "sequentialminus": [
            [
             0,
             "#0d0887"
            ],
            [
             0.1111111111111111,
             "#46039f"
            ],
            [
             0.2222222222222222,
             "#7201a8"
            ],
            [
             0.3333333333333333,
             "#9c179e"
            ],
            [
             0.4444444444444444,
             "#bd3786"
            ],
            [
             0.5555555555555556,
             "#d8576b"
            ],
            [
             0.6666666666666666,
             "#ed7953"
            ],
            [
             0.7777777777777778,
             "#fb9f3a"
            ],
            [
             0.8888888888888888,
             "#fdca26"
            ],
            [
             1,
             "#f0f921"
            ]
           ]
          },
          "colorway": [
           "#636efa",
           "#EF553B",
           "#00cc96",
           "#ab63fa",
           "#FFA15A",
           "#19d3f3",
           "#FF6692",
           "#B6E880",
           "#FF97FF",
           "#FECB52"
          ],
          "font": {
           "color": "#2a3f5f"
          },
          "geo": {
           "bgcolor": "white",
           "lakecolor": "white",
           "landcolor": "#E5ECF6",
           "showlakes": true,
           "showland": true,
           "subunitcolor": "white"
          },
          "hoverlabel": {
           "align": "left"
          },
          "hovermode": "closest",
          "mapbox": {
           "style": "light"
          },
          "paper_bgcolor": "white",
          "plot_bgcolor": "#E5ECF6",
          "polar": {
           "angularaxis": {
            "gridcolor": "white",
            "linecolor": "white",
            "ticks": ""
           },
           "bgcolor": "#E5ECF6",
           "radialaxis": {
            "gridcolor": "white",
            "linecolor": "white",
            "ticks": ""
           }
          },
          "scene": {
           "xaxis": {
            "backgroundcolor": "#E5ECF6",
            "gridcolor": "white",
            "gridwidth": 2,
            "linecolor": "white",
            "showbackground": true,
            "ticks": "",
            "zerolinecolor": "white"
           },
           "yaxis": {
            "backgroundcolor": "#E5ECF6",
            "gridcolor": "white",
            "gridwidth": 2,
            "linecolor": "white",
            "showbackground": true,
            "ticks": "",
            "zerolinecolor": "white"
           },
           "zaxis": {
            "backgroundcolor": "#E5ECF6",
            "gridcolor": "white",
            "gridwidth": 2,
            "linecolor": "white",
            "showbackground": true,
            "ticks": "",
            "zerolinecolor": "white"
           }
          },
          "shapedefaults": {
           "line": {
            "color": "#2a3f5f"
           }
          },
          "ternary": {
           "aaxis": {
            "gridcolor": "white",
            "linecolor": "white",
            "ticks": ""
           },
           "baxis": {
            "gridcolor": "white",
            "linecolor": "white",
            "ticks": ""
           },
           "bgcolor": "#E5ECF6",
           "caxis": {
            "gridcolor": "white",
            "linecolor": "white",
            "ticks": ""
           }
          },
          "title": {
           "x": 0.05
          },
          "xaxis": {
           "automargin": true,
           "gridcolor": "white",
           "linecolor": "white",
           "ticks": "",
           "title": {
            "standoff": 15
           },
           "zerolinecolor": "white",
           "zerolinewidth": 2
          },
          "yaxis": {
           "automargin": true,
           "gridcolor": "white",
           "linecolor": "white",
           "ticks": "",
           "title": {
            "standoff": 15
           },
           "zerolinecolor": "white",
           "zerolinewidth": 2
          }
         }
        },
        "title": {
         "font": {
          "color": "#4D5663"
         }
        },
        "xaxis": {
         "gridcolor": "#E1E5ED",
         "showgrid": true,
         "tickfont": {
          "color": "#4D5663"
         },
         "title": {
          "font": {
           "color": "#4D5663"
          },
          "text": ""
         },
         "zerolinecolor": "#E1E5ED"
        },
        "yaxis": {
         "gridcolor": "#E1E5ED",
         "showgrid": true,
         "tickfont": {
          "color": "#4D5663"
         },
         "title": {
          "font": {
           "color": "#4D5663"
          },
          "text": ""
         },
         "zerolinecolor": "#E1E5ED"
        }
       }
      },
      "text/html": [
       "<div>                            <div id=\"fab0b26b-2bff-4f58-a1b1-cbb8e21b6d25\" class=\"plotly-graph-div\" style=\"height:525px; width:100%;\"></div>            <script type=\"text/javascript\">                require([\"plotly\"], function(Plotly) {                    window.PLOTLYENV=window.PLOTLYENV || {};\n",
       "                    window.PLOTLYENV.BASE_URL='https://plot.ly';                                    if (document.getElementById(\"fab0b26b-2bff-4f58-a1b1-cbb8e21b6d25\")) {                    Plotly.newPlot(                        \"fab0b26b-2bff-4f58-a1b1-cbb8e21b6d25\",                        [{\"marker\":{\"color\":\"rgba(255, 153, 51, 0.6)\",\"line\":{\"color\":\"rgba(255, 153, 51, 1.0)\",\"width\":1}},\"name\":\"None\",\"orientation\":\"v\",\"text\":\"\",\"x\":[\"A\",\"B\",\"C\",\"D\"],\"y\":[100,100,100,100],\"type\":\"bar\"}],                        {\"legend\":{\"bgcolor\":\"#F5F6F9\",\"font\":{\"color\":\"#4D5663\"}},\"paper_bgcolor\":\"#F5F6F9\",\"plot_bgcolor\":\"#F5F6F9\",\"template\":{\"data\":{\"barpolar\":[{\"marker\":{\"line\":{\"color\":\"#E5ECF6\",\"width\":0.5},\"pattern\":{\"fillmode\":\"overlay\",\"size\":10,\"solidity\":0.2}},\"type\":\"barpolar\"}],\"bar\":[{\"error_x\":{\"color\":\"#2a3f5f\"},\"error_y\":{\"color\":\"#2a3f5f\"},\"marker\":{\"line\":{\"color\":\"#E5ECF6\",\"width\":0.5},\"pattern\":{\"fillmode\":\"overlay\",\"size\":10,\"solidity\":0.2}},\"type\":\"bar\"}],\"carpet\":[{\"aaxis\":{\"endlinecolor\":\"#2a3f5f\",\"gridcolor\":\"white\",\"linecolor\":\"white\",\"minorgridcolor\":\"white\",\"startlinecolor\":\"#2a3f5f\"},\"baxis\":{\"endlinecolor\":\"#2a3f5f\",\"gridcolor\":\"white\",\"linecolor\":\"white\",\"minorgridcolor\":\"white\",\"startlinecolor\":\"#2a3f5f\"},\"type\":\"carpet\"}],\"choropleth\":[{\"colorbar\":{\"outlinewidth\":0,\"ticks\":\"\"},\"type\":\"choropleth\"}],\"contourcarpet\":[{\"colorbar\":{\"outlinewidth\":0,\"ticks\":\"\"},\"type\":\"contourcarpet\"}],\"contour\":[{\"colorbar\":{\"outlinewidth\":0,\"ticks\":\"\"},\"colorscale\":[[0.0,\"#0d0887\"],[0.1111111111111111,\"#46039f\"],[0.2222222222222222,\"#7201a8\"],[0.3333333333333333,\"#9c179e\"],[0.4444444444444444,\"#bd3786\"],[0.5555555555555556,\"#d8576b\"],[0.6666666666666666,\"#ed7953\"],[0.7777777777777778,\"#fb9f3a\"],[0.8888888888888888,\"#fdca26\"],[1.0,\"#f0f921\"]],\"type\":\"contour\"}],\"heatmapgl\":[{\"colorbar\":{\"outlinewidth\":0,\"ticks\":\"\"},\"colorscale\":[[0.0,\"#0d0887\"],[0.1111111111111111,\"#46039f\"],[0.2222222222222222,\"#7201a8\"],[0.3333333333333333,\"#9c179e\"],[0.4444444444444444,\"#bd3786\"],[0.5555555555555556,\"#d8576b\"],[0.6666666666666666,\"#ed7953\"],[0.7777777777777778,\"#fb9f3a\"],[0.8888888888888888,\"#fdca26\"],[1.0,\"#f0f921\"]],\"type\":\"heatmapgl\"}],\"heatmap\":[{\"colorbar\":{\"outlinewidth\":0,\"ticks\":\"\"},\"colorscale\":[[0.0,\"#0d0887\"],[0.1111111111111111,\"#46039f\"],[0.2222222222222222,\"#7201a8\"],[0.3333333333333333,\"#9c179e\"],[0.4444444444444444,\"#bd3786\"],[0.5555555555555556,\"#d8576b\"],[0.6666666666666666,\"#ed7953\"],[0.7777777777777778,\"#fb9f3a\"],[0.8888888888888888,\"#fdca26\"],[1.0,\"#f0f921\"]],\"type\":\"heatmap\"}],\"histogram2dcontour\":[{\"colorbar\":{\"outlinewidth\":0,\"ticks\":\"\"},\"colorscale\":[[0.0,\"#0d0887\"],[0.1111111111111111,\"#46039f\"],[0.2222222222222222,\"#7201a8\"],[0.3333333333333333,\"#9c179e\"],[0.4444444444444444,\"#bd3786\"],[0.5555555555555556,\"#d8576b\"],[0.6666666666666666,\"#ed7953\"],[0.7777777777777778,\"#fb9f3a\"],[0.8888888888888888,\"#fdca26\"],[1.0,\"#f0f921\"]],\"type\":\"histogram2dcontour\"}],\"histogram2d\":[{\"colorbar\":{\"outlinewidth\":0,\"ticks\":\"\"},\"colorscale\":[[0.0,\"#0d0887\"],[0.1111111111111111,\"#46039f\"],[0.2222222222222222,\"#7201a8\"],[0.3333333333333333,\"#9c179e\"],[0.4444444444444444,\"#bd3786\"],[0.5555555555555556,\"#d8576b\"],[0.6666666666666666,\"#ed7953\"],[0.7777777777777778,\"#fb9f3a\"],[0.8888888888888888,\"#fdca26\"],[1.0,\"#f0f921\"]],\"type\":\"histogram2d\"}],\"histogram\":[{\"marker\":{\"pattern\":{\"fillmode\":\"overlay\",\"size\":10,\"solidity\":0.2}},\"type\":\"histogram\"}],\"mesh3d\":[{\"colorbar\":{\"outlinewidth\":0,\"ticks\":\"\"},\"type\":\"mesh3d\"}],\"parcoords\":[{\"line\":{\"colorbar\":{\"outlinewidth\":0,\"ticks\":\"\"}},\"type\":\"parcoords\"}],\"pie\":[{\"automargin\":true,\"type\":\"pie\"}],\"scatter3d\":[{\"line\":{\"colorbar\":{\"outlinewidth\":0,\"ticks\":\"\"}},\"marker\":{\"colorbar\":{\"outlinewidth\":0,\"ticks\":\"\"}},\"type\":\"scatter3d\"}],\"scattercarpet\":[{\"marker\":{\"colorbar\":{\"outlinewidth\":0,\"ticks\":\"\"}},\"type\":\"scattercarpet\"}],\"scattergeo\":[{\"marker\":{\"colorbar\":{\"outlinewidth\":0,\"ticks\":\"\"}},\"type\":\"scattergeo\"}],\"scattergl\":[{\"marker\":{\"colorbar\":{\"outlinewidth\":0,\"ticks\":\"\"}},\"type\":\"scattergl\"}],\"scattermapbox\":[{\"marker\":{\"colorbar\":{\"outlinewidth\":0,\"ticks\":\"\"}},\"type\":\"scattermapbox\"}],\"scatterpolargl\":[{\"marker\":{\"colorbar\":{\"outlinewidth\":0,\"ticks\":\"\"}},\"type\":\"scatterpolargl\"}],\"scatterpolar\":[{\"marker\":{\"colorbar\":{\"outlinewidth\":0,\"ticks\":\"\"}},\"type\":\"scatterpolar\"}],\"scatter\":[{\"fillpattern\":{\"fillmode\":\"overlay\",\"size\":10,\"solidity\":0.2},\"type\":\"scatter\"}],\"scatterternary\":[{\"marker\":{\"colorbar\":{\"outlinewidth\":0,\"ticks\":\"\"}},\"type\":\"scatterternary\"}],\"surface\":[{\"colorbar\":{\"outlinewidth\":0,\"ticks\":\"\"},\"colorscale\":[[0.0,\"#0d0887\"],[0.1111111111111111,\"#46039f\"],[0.2222222222222222,\"#7201a8\"],[0.3333333333333333,\"#9c179e\"],[0.4444444444444444,\"#bd3786\"],[0.5555555555555556,\"#d8576b\"],[0.6666666666666666,\"#ed7953\"],[0.7777777777777778,\"#fb9f3a\"],[0.8888888888888888,\"#fdca26\"],[1.0,\"#f0f921\"]],\"type\":\"surface\"}],\"table\":[{\"cells\":{\"fill\":{\"color\":\"#EBF0F8\"},\"line\":{\"color\":\"white\"}},\"header\":{\"fill\":{\"color\":\"#C8D4E3\"},\"line\":{\"color\":\"white\"}},\"type\":\"table\"}]},\"layout\":{\"annotationdefaults\":{\"arrowcolor\":\"#2a3f5f\",\"arrowhead\":0,\"arrowwidth\":1},\"autotypenumbers\":\"strict\",\"coloraxis\":{\"colorbar\":{\"outlinewidth\":0,\"ticks\":\"\"}},\"colorscale\":{\"diverging\":[[0,\"#8e0152\"],[0.1,\"#c51b7d\"],[0.2,\"#de77ae\"],[0.3,\"#f1b6da\"],[0.4,\"#fde0ef\"],[0.5,\"#f7f7f7\"],[0.6,\"#e6f5d0\"],[0.7,\"#b8e186\"],[0.8,\"#7fbc41\"],[0.9,\"#4d9221\"],[1,\"#276419\"]],\"sequential\":[[0.0,\"#0d0887\"],[0.1111111111111111,\"#46039f\"],[0.2222222222222222,\"#7201a8\"],[0.3333333333333333,\"#9c179e\"],[0.4444444444444444,\"#bd3786\"],[0.5555555555555556,\"#d8576b\"],[0.6666666666666666,\"#ed7953\"],[0.7777777777777778,\"#fb9f3a\"],[0.8888888888888888,\"#fdca26\"],[1.0,\"#f0f921\"]],\"sequentialminus\":[[0.0,\"#0d0887\"],[0.1111111111111111,\"#46039f\"],[0.2222222222222222,\"#7201a8\"],[0.3333333333333333,\"#9c179e\"],[0.4444444444444444,\"#bd3786\"],[0.5555555555555556,\"#d8576b\"],[0.6666666666666666,\"#ed7953\"],[0.7777777777777778,\"#fb9f3a\"],[0.8888888888888888,\"#fdca26\"],[1.0,\"#f0f921\"]]},\"colorway\":[\"#636efa\",\"#EF553B\",\"#00cc96\",\"#ab63fa\",\"#FFA15A\",\"#19d3f3\",\"#FF6692\",\"#B6E880\",\"#FF97FF\",\"#FECB52\"],\"font\":{\"color\":\"#2a3f5f\"},\"geo\":{\"bgcolor\":\"white\",\"lakecolor\":\"white\",\"landcolor\":\"#E5ECF6\",\"showlakes\":true,\"showland\":true,\"subunitcolor\":\"white\"},\"hoverlabel\":{\"align\":\"left\"},\"hovermode\":\"closest\",\"mapbox\":{\"style\":\"light\"},\"paper_bgcolor\":\"white\",\"plot_bgcolor\":\"#E5ECF6\",\"polar\":{\"angularaxis\":{\"gridcolor\":\"white\",\"linecolor\":\"white\",\"ticks\":\"\"},\"bgcolor\":\"#E5ECF6\",\"radialaxis\":{\"gridcolor\":\"white\",\"linecolor\":\"white\",\"ticks\":\"\"}},\"scene\":{\"xaxis\":{\"backgroundcolor\":\"#E5ECF6\",\"gridcolor\":\"white\",\"gridwidth\":2,\"linecolor\":\"white\",\"showbackground\":true,\"ticks\":\"\",\"zerolinecolor\":\"white\"},\"yaxis\":{\"backgroundcolor\":\"#E5ECF6\",\"gridcolor\":\"white\",\"gridwidth\":2,\"linecolor\":\"white\",\"showbackground\":true,\"ticks\":\"\",\"zerolinecolor\":\"white\"},\"zaxis\":{\"backgroundcolor\":\"#E5ECF6\",\"gridcolor\":\"white\",\"gridwidth\":2,\"linecolor\":\"white\",\"showbackground\":true,\"ticks\":\"\",\"zerolinecolor\":\"white\"}},\"shapedefaults\":{\"line\":{\"color\":\"#2a3f5f\"}},\"ternary\":{\"aaxis\":{\"gridcolor\":\"white\",\"linecolor\":\"white\",\"ticks\":\"\"},\"baxis\":{\"gridcolor\":\"white\",\"linecolor\":\"white\",\"ticks\":\"\"},\"bgcolor\":\"#E5ECF6\",\"caxis\":{\"gridcolor\":\"white\",\"linecolor\":\"white\",\"ticks\":\"\"}},\"title\":{\"x\":0.05},\"xaxis\":{\"automargin\":true,\"gridcolor\":\"white\",\"linecolor\":\"white\",\"ticks\":\"\",\"title\":{\"standoff\":15},\"zerolinecolor\":\"white\",\"zerolinewidth\":2},\"yaxis\":{\"automargin\":true,\"gridcolor\":\"white\",\"linecolor\":\"white\",\"ticks\":\"\",\"title\":{\"standoff\":15},\"zerolinecolor\":\"white\",\"zerolinewidth\":2}}},\"title\":{\"font\":{\"color\":\"#4D5663\"}},\"xaxis\":{\"gridcolor\":\"#E1E5ED\",\"showgrid\":true,\"tickfont\":{\"color\":\"#4D5663\"},\"title\":{\"font\":{\"color\":\"#4D5663\"},\"text\":\"\"},\"zerolinecolor\":\"#E1E5ED\"},\"yaxis\":{\"gridcolor\":\"#E1E5ED\",\"showgrid\":true,\"tickfont\":{\"color\":\"#4D5663\"},\"title\":{\"font\":{\"color\":\"#4D5663\"},\"text\":\"\"},\"zerolinecolor\":\"#E1E5ED\"}},                        {\"showLink\": true, \"linkText\": \"Export to plot.ly\", \"plotlyServerURL\": \"https://plot.ly\", \"responsive\": true}                    ).then(function(){\n",
       "                            \n",
       "var gd = document.getElementById('fab0b26b-2bff-4f58-a1b1-cbb8e21b6d25');\n",
       "var x = new MutationObserver(function (mutations, observer) {{\n",
       "        var display = window.getComputedStyle(gd).display;\n",
       "        if (!display || display === 'none') {{\n",
       "            console.log([gd, 'removed!']);\n",
       "            Plotly.purge(gd);\n",
       "            observer.disconnect();\n",
       "        }}\n",
       "}});\n",
       "\n",
       "// Listen for the removal of the full notebook cells\n",
       "var notebookContainer = gd.closest('#notebook-container');\n",
       "if (notebookContainer) {{\n",
       "    x.observe(notebookContainer, {childList: true});\n",
       "}}\n",
       "\n",
       "// Listen for the clearing of the current output cell\n",
       "var outputEl = gd.closest('.output');\n",
       "if (outputEl) {{\n",
       "    x.observe(outputEl, {childList: true});\n",
       "}}\n",
       "\n",
       "                        })                };                });            </script>        </div>"
      ]
     },
     "metadata": {},
     "output_type": "display_data"
    }
   ],
   "source": [
    "df.count().iplot(kind='bar')"
   ]
  },
  {
   "cell_type": "markdown",
   "metadata": {},
   "source": [
    "## Boxplots"
   ]
  },
  {
   "cell_type": "code",
   "execution_count": 14,
   "metadata": {},
   "outputs": [
    {
     "data": {
      "application/vnd.plotly.v1+json": {
       "config": {
        "linkText": "Export to plot.ly",
        "plotlyServerURL": "https://plot.ly",
        "showLink": true
       },
       "data": [
        {
         "boxpoints": false,
         "line": {
          "width": 1.3
         },
         "marker": {
          "color": "rgba(255, 153, 51, 1.0)"
         },
         "name": "A",
         "orientation": "v",
         "type": "box",
         "y": [
          0.7365676730741115,
          -0.7858723473162033,
          -0.7612014338282168,
          -0.33828969119184393,
          2.119963389888639,
          -0.21033529370795123,
          0.6767739565306867,
          0.5069782758452451,
          0.774016534624883,
          0.645969599888223,
          1.320915012722791,
          0.44625820307936953,
          1.3497982780888076,
          -0.054312851369403614,
          0.4086759252360387,
          0.7670248516378464,
          -0.34164747625266406,
          -1.7258492298186636,
          -0.606458487839304,
          -0.38509253069137594,
          1.4779673151544093,
          -1.5316814798425253,
          0.9217068353068714,
          -0.3871133629664417,
          -1.288295495500347,
          0.34657449460134787,
          -1.5122310913921442,
          -2.382550658507943,
          -0.38864645623694927,
          0.28966630577443714,
          0.3194368360872796,
          -0.298154648157231,
          0.04412351469237872,
          0.5820788298374068,
          0.6404347136769989,
          -0.5406726034486085,
          2.5069957332916686,
          0.601324464091323,
          -2.5973464357475677,
          -1.0898746058693036,
          -0.3674931138183991,
          -0.6956665949403,
          0.6067824786484017,
          -0.014631944251588846,
          1.5496933437294362,
          0.49670459037018383,
          0.008656386426374951,
          -1.1879079254428846,
          0.1133646617244053,
          -1.209457437051342,
          0.53738323876218,
          -0.6799498612216169,
          -0.2485611813921982,
          1.259647945013635,
          0.26831411554353923,
          1.0703105180570807,
          0.6120298241543476,
          -0.7922552770571334,
          2.7198069168792665,
          0.30130325020606896,
          -0.5917405760881879,
          0.5680047551310305,
          0.18989307616818785,
          0.11827140230978321,
          -0.7112741838759915,
          -0.29454452098868006,
          1.4192744302811733,
          0.20178726147006076,
          0.16737330097876532,
          -0.9455492012524679,
          -1.5807529424508262,
          -0.3217548006777736,
          -0.16441643952635626,
          0.7605565832475502,
          1.0550615529269523,
          -0.26281305127051263,
          0.023700138695366336,
          0.0623905688170181,
          -1.6334667527317086,
          0.05877352101880432,
          0.8779585966847681,
          -0.22021733716874808,
          -0.5087245522034368,
          -0.4513545021497254,
          0.26610125050362843,
          0.14691010739790702,
          -0.10712846369094996,
          -0.5380999650652848,
          1.1751937445166347,
          0.7347422409605809,
          0.46494295601226526,
          -0.41693050383705343,
          0.0890698769086676,
          1.2171732953811045,
          -0.07683110145682837,
          1.1787552497082416,
          1.0022080658556163,
          2.708142526407743,
          1.0322122478237143,
          -1.2757074009052138
         ]
        },
        {
         "boxpoints": false,
         "line": {
          "width": 1.3
         },
         "marker": {
          "color": "rgba(55, 128, 191, 1.0)"
         },
         "name": "B",
         "orientation": "v",
         "type": "box",
         "y": [
          -1.17960096095747,
          -1.3775555599416172,
          0.13792944280704006,
          0.48371504791298947,
          1.330402450096832,
          0.6008571556967333,
          -0.48801970995218547,
          0.8961245543966675,
          0.2961431824584401,
          -1.4649552300510922,
          -0.7080659462597593,
          -1.2955118557528216,
          -0.38026898461962383,
          -0.4533352454607744,
          -0.3539169985811786,
          -1.2025477368662538,
          0.00892006917367232,
          0.16966744435944756,
          0.8223657469907609,
          1.1951243289151658,
          0.30365969879879123,
          -0.3028597261401649,
          -0.019062927160904068,
          -1.1187078160968458,
          0.9936865559435638,
          1.149927312754949,
          -0.6117767973140005,
          -0.44387643888953543,
          -0.03439784317436975,
          0.015399420236178523,
          1.1123127177074992,
          0.2649658061453154,
          0.6806251765292582,
          0.14785949702601267,
          -2.4605460959827004,
          -0.16205752753046915,
          -1.2254109809660831,
          -0.12225449695743638,
          0.5635173461831468,
          -0.2599285316945004,
          -0.27611765191417736,
          -1.4690531379716825,
          -1.954153503410868,
          -0.5866390468375826,
          0.1018189830619359,
          -0.07048593057982283,
          -1.212665780136159,
          -0.3451925694516716,
          0.9702962511148727,
          0.3423474752420889,
          1.9493684121162587,
          1.4406008187314832,
          -0.9759644286967494,
          -2.2506220014240275,
          -0.1950416048205692,
          0.3899551845378141,
          0.9796444130032764,
          -1.1593956186919911,
          0.9883877171167217,
          0.18632777987730414,
          -0.32652211390169983,
          0.5235349712369627,
          -0.14554797924655524,
          -0.6632566049388412,
          1.450516587911176,
          -1.8242348077687922,
          -0.7986611676784975,
          1.2865759967254213,
          0.03311206362784604,
          0.826111885566775,
          -1.8404480684092652,
          -0.17647317946813473,
          0.7076473944942543,
          0.6433397834820548,
          -0.05019150477402584,
          0.6938641710145623,
          -1.0856055786365582,
          -1.4164083407235537,
          -1.3642812235548454,
          1.846182244755937,
          -0.21921761442914586,
          -0.08980549285517242,
          -0.1207473523157025,
          -0.41706054413176086,
          0.6611570044122105,
          1.3289032537940533,
          -0.07510227699547183,
          -0.06500699130762963,
          0.47215000010575603,
          1.6071041868429516,
          2.0246550229557956,
          0.08805236871800126,
          0.9792317235927371,
          1.2488287261048898,
          -0.9105759352090856,
          -1.4063251858608385,
          1.3450088447347763,
          0.22540725929083774,
          -1.3483110021192624,
          0.47968437914212037
         ]
        },
        {
         "boxpoints": false,
         "line": {
          "width": 1.3
         },
         "marker": {
          "color": "rgba(50, 171, 96, 1.0)"
         },
         "name": "C",
         "orientation": "v",
         "type": "box",
         "y": [
          0.2111802423317103,
          1.2513023812484676,
          -2.420262985173286,
          -0.01810690595321826,
          1.4369134657374685,
          0.6684809269544413,
          -0.8896657798628989,
          -0.04402398316027114,
          -1.8819037762203268,
          -0.8579940284335679,
          0.6630136483601791,
          -1.0130057914209418,
          0.5300948967919401,
          -0.6116875874922295,
          -1.0405317896111674,
          0.1066065630603391,
          -0.6623367018999061,
          -0.9141072267587206,
          -0.07651540637898738,
          0.8794740655476391,
          0.4954605506779982,
          0.24483452004683712,
          2.4264980700103336,
          -1.06138734364795,
          -0.557073652047221,
          -0.7695481294396544,
          0.03309694318780089,
          -1.157823416209676,
          -1.596494399797544,
          2.532456364986618,
          -0.8066088623148706,
          1.770470147368262,
          -0.06773218184250519,
          -2.1305263195387103,
          -1.822274695929015,
          0.030785638543068785,
          -0.008084167370602255,
          1.331337333505016,
          0.588186934226218,
          -1.5822140559039608,
          -0.5220156480516457,
          0.4661917968374661,
          0.48596504401991136,
          -0.4361624207486163,
          1.1427545134985497,
          -0.6824526850497654,
          -0.8440833820207647,
          0.3212876600368777,
          0.22382288539688838,
          -0.806383858896275,
          -0.5924041008070848,
          -1.0256936022595546,
          0.06451598536290552,
          -0.7166862762894189,
          -0.27515566734864444,
          -0.6014718779964504,
          -1.6753997147232118,
          0.16251273237698743,
          -0.2070889064583417,
          -0.44947347795404113,
          -0.08202653889245286,
          -0.9567459794601099,
          0.9074827992251838,
          -1.5375664107929354,
          0.16657684305640597,
          -0.6223030798991293,
          -0.8314366989766482,
          0.8923639467852169,
          -1.1816901669139268,
          -0.3355203332327252,
          0.19962944480521727,
          -2.2011482810267275,
          0.6445319929985893,
          -1.706926985518179,
          -0.5566538836996962,
          1.0543517373154683,
          -0.6622767931616665,
          0.7297025635382117,
          -0.7273033013667342,
          0.9158551674787964,
          2.013294011662559,
          0.603240529727419,
          -2.0588839296058454,
          0.4761047810469739,
          -1.0189856560944028,
          -0.055398045677197784,
          -0.3988064750448735,
          0.35640182671142695,
          -1.199030727369626,
          -1.4390659260992618,
          -0.7072400789104146,
          -0.656693883698443,
          0.8925601323061709,
          -1.0716342069766727,
          0.7635432042931674,
          -0.7218963008683043,
          -0.07248744015927425,
          0.6818670638384986,
          -0.669188717471183,
          -1.0594740245380794
         ]
        },
        {
         "boxpoints": false,
         "line": {
          "width": 1.3
         },
         "marker": {
          "color": "rgba(128, 0, 128, 1.0)"
         },
         "name": "D",
         "orientation": "v",
         "type": "box",
         "y": [
          0.028709117222660435,
          -0.8749211890322138,
          0.6750792939143624,
          -1.0262801428193047,
          0.3234398648599455,
          -0.3876739810699715,
          -0.11827322456217186,
          1.9885355457805702,
          0.03933541205734301,
          0.530069542647012,
          0.24686228319134487,
          0.20294901642620966,
          1.2252283809729214,
          -0.08125354468935345,
          -0.3175747171280276,
          0.021724154012419825,
          0.23291709506853644,
          0.7636567288123901,
          -0.5902298796389542,
          0.7819572200644456,
          1.2267628528169439,
          0.2352724133666129,
          -0.10589542879898398,
          1.2259432051006791,
          1.4494715484848886,
          -1.3923181404410845,
          0.508369611846267,
          -1.1143065653090483,
          -2.971993922889421,
          0.8642498062409729,
          -0.12910114376377066,
          -1.3372127108836547,
          -0.5069592925761005,
          0.18798294843010604,
          -0.2635532772361538,
          -0.21414271511520802,
          0.7139910742148748,
          -0.8033790782677973,
          0.34908653589119587,
          2.092937025226005,
          -0.27156830913114494,
          1.278982152856434,
          0.03212293185118509,
          0.032199289165888774,
          -0.6376893960814524,
          0.9533306530613369,
          1.7524769462077232,
          -1.1023081106066404,
          1.249201250592397,
          1.216220027822527,
          0.07973797657419972,
          0.5681735121792242,
          -0.9027943972756199,
          0.1948166653498565,
          -0.04497796781852511,
          0.35745036207342634,
          -1.7122693913265719,
          0.8696186131524236,
          0.37247176422267636,
          -1.0070686607190036,
          0.6472418575957608,
          -0.8801214715960499,
          0.8811787925892396,
          1.153030478742426,
          0.09120108761904984,
          -1.377553751673728,
          0.30887327296779304,
          1.490857984784296,
          0.4179453440267466,
          0.44405221801437456,
          -0.8403927578127272,
          -0.15426805996920614,
          -0.8204281060226977,
          0.03268017332568117,
          0.9630125035145306,
          -0.9130953040796658,
          -0.9085662487791775,
          1.195269761705436,
          0.4161310509843156,
          0.8153342008245268,
          -0.6487733233924821,
          -1.0907861563845118,
          0.5197384517832024,
          1.1789165623413587,
          1.7219520141869629,
          0.7549338839899621,
          0.2869016485675767,
          0.2592029263132396,
          0.7583566967276182,
          0.705595053820896,
          0.9220444078811396,
          1.0473044220862493,
          -0.22852565607430325,
          1.4262185670441727,
          1.3492535245563764,
          -1.146951429611907,
          1.6080698085483616,
          -1.517184974776277,
          -1.7149233920002773,
          1.1754726665124724
         ]
        }
       ],
       "layout": {
        "legend": {
         "bgcolor": "#F5F6F9",
         "font": {
          "color": "#4D5663"
         }
        },
        "paper_bgcolor": "#F5F6F9",
        "plot_bgcolor": "#F5F6F9",
        "template": {
         "data": {
          "bar": [
           {
            "error_x": {
             "color": "#2a3f5f"
            },
            "error_y": {
             "color": "#2a3f5f"
            },
            "marker": {
             "line": {
              "color": "#E5ECF6",
              "width": 0.5
             },
             "pattern": {
              "fillmode": "overlay",
              "size": 10,
              "solidity": 0.2
             }
            },
            "type": "bar"
           }
          ],
          "barpolar": [
           {
            "marker": {
             "line": {
              "color": "#E5ECF6",
              "width": 0.5
             },
             "pattern": {
              "fillmode": "overlay",
              "size": 10,
              "solidity": 0.2
             }
            },
            "type": "barpolar"
           }
          ],
          "carpet": [
           {
            "aaxis": {
             "endlinecolor": "#2a3f5f",
             "gridcolor": "white",
             "linecolor": "white",
             "minorgridcolor": "white",
             "startlinecolor": "#2a3f5f"
            },
            "baxis": {
             "endlinecolor": "#2a3f5f",
             "gridcolor": "white",
             "linecolor": "white",
             "minorgridcolor": "white",
             "startlinecolor": "#2a3f5f"
            },
            "type": "carpet"
           }
          ],
          "choropleth": [
           {
            "colorbar": {
             "outlinewidth": 0,
             "ticks": ""
            },
            "type": "choropleth"
           }
          ],
          "contour": [
           {
            "colorbar": {
             "outlinewidth": 0,
             "ticks": ""
            },
            "colorscale": [
             [
              0,
              "#0d0887"
             ],
             [
              0.1111111111111111,
              "#46039f"
             ],
             [
              0.2222222222222222,
              "#7201a8"
             ],
             [
              0.3333333333333333,
              "#9c179e"
             ],
             [
              0.4444444444444444,
              "#bd3786"
             ],
             [
              0.5555555555555556,
              "#d8576b"
             ],
             [
              0.6666666666666666,
              "#ed7953"
             ],
             [
              0.7777777777777778,
              "#fb9f3a"
             ],
             [
              0.8888888888888888,
              "#fdca26"
             ],
             [
              1,
              "#f0f921"
             ]
            ],
            "type": "contour"
           }
          ],
          "contourcarpet": [
           {
            "colorbar": {
             "outlinewidth": 0,
             "ticks": ""
            },
            "type": "contourcarpet"
           }
          ],
          "heatmap": [
           {
            "colorbar": {
             "outlinewidth": 0,
             "ticks": ""
            },
            "colorscale": [
             [
              0,
              "#0d0887"
             ],
             [
              0.1111111111111111,
              "#46039f"
             ],
             [
              0.2222222222222222,
              "#7201a8"
             ],
             [
              0.3333333333333333,
              "#9c179e"
             ],
             [
              0.4444444444444444,
              "#bd3786"
             ],
             [
              0.5555555555555556,
              "#d8576b"
             ],
             [
              0.6666666666666666,
              "#ed7953"
             ],
             [
              0.7777777777777778,
              "#fb9f3a"
             ],
             [
              0.8888888888888888,
              "#fdca26"
             ],
             [
              1,
              "#f0f921"
             ]
            ],
            "type": "heatmap"
           }
          ],
          "heatmapgl": [
           {
            "colorbar": {
             "outlinewidth": 0,
             "ticks": ""
            },
            "colorscale": [
             [
              0,
              "#0d0887"
             ],
             [
              0.1111111111111111,
              "#46039f"
             ],
             [
              0.2222222222222222,
              "#7201a8"
             ],
             [
              0.3333333333333333,
              "#9c179e"
             ],
             [
              0.4444444444444444,
              "#bd3786"
             ],
             [
              0.5555555555555556,
              "#d8576b"
             ],
             [
              0.6666666666666666,
              "#ed7953"
             ],
             [
              0.7777777777777778,
              "#fb9f3a"
             ],
             [
              0.8888888888888888,
              "#fdca26"
             ],
             [
              1,
              "#f0f921"
             ]
            ],
            "type": "heatmapgl"
           }
          ],
          "histogram": [
           {
            "marker": {
             "pattern": {
              "fillmode": "overlay",
              "size": 10,
              "solidity": 0.2
             }
            },
            "type": "histogram"
           }
          ],
          "histogram2d": [
           {
            "colorbar": {
             "outlinewidth": 0,
             "ticks": ""
            },
            "colorscale": [
             [
              0,
              "#0d0887"
             ],
             [
              0.1111111111111111,
              "#46039f"
             ],
             [
              0.2222222222222222,
              "#7201a8"
             ],
             [
              0.3333333333333333,
              "#9c179e"
             ],
             [
              0.4444444444444444,
              "#bd3786"
             ],
             [
              0.5555555555555556,
              "#d8576b"
             ],
             [
              0.6666666666666666,
              "#ed7953"
             ],
             [
              0.7777777777777778,
              "#fb9f3a"
             ],
             [
              0.8888888888888888,
              "#fdca26"
             ],
             [
              1,
              "#f0f921"
             ]
            ],
            "type": "histogram2d"
           }
          ],
          "histogram2dcontour": [
           {
            "colorbar": {
             "outlinewidth": 0,
             "ticks": ""
            },
            "colorscale": [
             [
              0,
              "#0d0887"
             ],
             [
              0.1111111111111111,
              "#46039f"
             ],
             [
              0.2222222222222222,
              "#7201a8"
             ],
             [
              0.3333333333333333,
              "#9c179e"
             ],
             [
              0.4444444444444444,
              "#bd3786"
             ],
             [
              0.5555555555555556,
              "#d8576b"
             ],
             [
              0.6666666666666666,
              "#ed7953"
             ],
             [
              0.7777777777777778,
              "#fb9f3a"
             ],
             [
              0.8888888888888888,
              "#fdca26"
             ],
             [
              1,
              "#f0f921"
             ]
            ],
            "type": "histogram2dcontour"
           }
          ],
          "mesh3d": [
           {
            "colorbar": {
             "outlinewidth": 0,
             "ticks": ""
            },
            "type": "mesh3d"
           }
          ],
          "parcoords": [
           {
            "line": {
             "colorbar": {
              "outlinewidth": 0,
              "ticks": ""
             }
            },
            "type": "parcoords"
           }
          ],
          "pie": [
           {
            "automargin": true,
            "type": "pie"
           }
          ],
          "scatter": [
           {
            "fillpattern": {
             "fillmode": "overlay",
             "size": 10,
             "solidity": 0.2
            },
            "type": "scatter"
           }
          ],
          "scatter3d": [
           {
            "line": {
             "colorbar": {
              "outlinewidth": 0,
              "ticks": ""
             }
            },
            "marker": {
             "colorbar": {
              "outlinewidth": 0,
              "ticks": ""
             }
            },
            "type": "scatter3d"
           }
          ],
          "scattercarpet": [
           {
            "marker": {
             "colorbar": {
              "outlinewidth": 0,
              "ticks": ""
             }
            },
            "type": "scattercarpet"
           }
          ],
          "scattergeo": [
           {
            "marker": {
             "colorbar": {
              "outlinewidth": 0,
              "ticks": ""
             }
            },
            "type": "scattergeo"
           }
          ],
          "scattergl": [
           {
            "marker": {
             "colorbar": {
              "outlinewidth": 0,
              "ticks": ""
             }
            },
            "type": "scattergl"
           }
          ],
          "scattermapbox": [
           {
            "marker": {
             "colorbar": {
              "outlinewidth": 0,
              "ticks": ""
             }
            },
            "type": "scattermapbox"
           }
          ],
          "scatterpolar": [
           {
            "marker": {
             "colorbar": {
              "outlinewidth": 0,
              "ticks": ""
             }
            },
            "type": "scatterpolar"
           }
          ],
          "scatterpolargl": [
           {
            "marker": {
             "colorbar": {
              "outlinewidth": 0,
              "ticks": ""
             }
            },
            "type": "scatterpolargl"
           }
          ],
          "scatterternary": [
           {
            "marker": {
             "colorbar": {
              "outlinewidth": 0,
              "ticks": ""
             }
            },
            "type": "scatterternary"
           }
          ],
          "surface": [
           {
            "colorbar": {
             "outlinewidth": 0,
             "ticks": ""
            },
            "colorscale": [
             [
              0,
              "#0d0887"
             ],
             [
              0.1111111111111111,
              "#46039f"
             ],
             [
              0.2222222222222222,
              "#7201a8"
             ],
             [
              0.3333333333333333,
              "#9c179e"
             ],
             [
              0.4444444444444444,
              "#bd3786"
             ],
             [
              0.5555555555555556,
              "#d8576b"
             ],
             [
              0.6666666666666666,
              "#ed7953"
             ],
             [
              0.7777777777777778,
              "#fb9f3a"
             ],
             [
              0.8888888888888888,
              "#fdca26"
             ],
             [
              1,
              "#f0f921"
             ]
            ],
            "type": "surface"
           }
          ],
          "table": [
           {
            "cells": {
             "fill": {
              "color": "#EBF0F8"
             },
             "line": {
              "color": "white"
             }
            },
            "header": {
             "fill": {
              "color": "#C8D4E3"
             },
             "line": {
              "color": "white"
             }
            },
            "type": "table"
           }
          ]
         },
         "layout": {
          "annotationdefaults": {
           "arrowcolor": "#2a3f5f",
           "arrowhead": 0,
           "arrowwidth": 1
          },
          "autotypenumbers": "strict",
          "coloraxis": {
           "colorbar": {
            "outlinewidth": 0,
            "ticks": ""
           }
          },
          "colorscale": {
           "diverging": [
            [
             0,
             "#8e0152"
            ],
            [
             0.1,
             "#c51b7d"
            ],
            [
             0.2,
             "#de77ae"
            ],
            [
             0.3,
             "#f1b6da"
            ],
            [
             0.4,
             "#fde0ef"
            ],
            [
             0.5,
             "#f7f7f7"
            ],
            [
             0.6,
             "#e6f5d0"
            ],
            [
             0.7,
             "#b8e186"
            ],
            [
             0.8,
             "#7fbc41"
            ],
            [
             0.9,
             "#4d9221"
            ],
            [
             1,
             "#276419"
            ]
           ],
           "sequential": [
            [
             0,
             "#0d0887"
            ],
            [
             0.1111111111111111,
             "#46039f"
            ],
            [
             0.2222222222222222,
             "#7201a8"
            ],
            [
             0.3333333333333333,
             "#9c179e"
            ],
            [
             0.4444444444444444,
             "#bd3786"
            ],
            [
             0.5555555555555556,
             "#d8576b"
            ],
            [
             0.6666666666666666,
             "#ed7953"
            ],
            [
             0.7777777777777778,
             "#fb9f3a"
            ],
            [
             0.8888888888888888,
             "#fdca26"
            ],
            [
             1,
             "#f0f921"
            ]
           ],
           "sequentialminus": [
            [
             0,
             "#0d0887"
            ],
            [
             0.1111111111111111,
             "#46039f"
            ],
            [
             0.2222222222222222,
             "#7201a8"
            ],
            [
             0.3333333333333333,
             "#9c179e"
            ],
            [
             0.4444444444444444,
             "#bd3786"
            ],
            [
             0.5555555555555556,
             "#d8576b"
            ],
            [
             0.6666666666666666,
             "#ed7953"
            ],
            [
             0.7777777777777778,
             "#fb9f3a"
            ],
            [
             0.8888888888888888,
             "#fdca26"
            ],
            [
             1,
             "#f0f921"
            ]
           ]
          },
          "colorway": [
           "#636efa",
           "#EF553B",
           "#00cc96",
           "#ab63fa",
           "#FFA15A",
           "#19d3f3",
           "#FF6692",
           "#B6E880",
           "#FF97FF",
           "#FECB52"
          ],
          "font": {
           "color": "#2a3f5f"
          },
          "geo": {
           "bgcolor": "white",
           "lakecolor": "white",
           "landcolor": "#E5ECF6",
           "showlakes": true,
           "showland": true,
           "subunitcolor": "white"
          },
          "hoverlabel": {
           "align": "left"
          },
          "hovermode": "closest",
          "mapbox": {
           "style": "light"
          },
          "paper_bgcolor": "white",
          "plot_bgcolor": "#E5ECF6",
          "polar": {
           "angularaxis": {
            "gridcolor": "white",
            "linecolor": "white",
            "ticks": ""
           },
           "bgcolor": "#E5ECF6",
           "radialaxis": {
            "gridcolor": "white",
            "linecolor": "white",
            "ticks": ""
           }
          },
          "scene": {
           "xaxis": {
            "backgroundcolor": "#E5ECF6",
            "gridcolor": "white",
            "gridwidth": 2,
            "linecolor": "white",
            "showbackground": true,
            "ticks": "",
            "zerolinecolor": "white"
           },
           "yaxis": {
            "backgroundcolor": "#E5ECF6",
            "gridcolor": "white",
            "gridwidth": 2,
            "linecolor": "white",
            "showbackground": true,
            "ticks": "",
            "zerolinecolor": "white"
           },
           "zaxis": {
            "backgroundcolor": "#E5ECF6",
            "gridcolor": "white",
            "gridwidth": 2,
            "linecolor": "white",
            "showbackground": true,
            "ticks": "",
            "zerolinecolor": "white"
           }
          },
          "shapedefaults": {
           "line": {
            "color": "#2a3f5f"
           }
          },
          "ternary": {
           "aaxis": {
            "gridcolor": "white",
            "linecolor": "white",
            "ticks": ""
           },
           "baxis": {
            "gridcolor": "white",
            "linecolor": "white",
            "ticks": ""
           },
           "bgcolor": "#E5ECF6",
           "caxis": {
            "gridcolor": "white",
            "linecolor": "white",
            "ticks": ""
           }
          },
          "title": {
           "x": 0.05
          },
          "xaxis": {
           "automargin": true,
           "gridcolor": "white",
           "linecolor": "white",
           "ticks": "",
           "title": {
            "standoff": 15
           },
           "zerolinecolor": "white",
           "zerolinewidth": 2
          },
          "yaxis": {
           "automargin": true,
           "gridcolor": "white",
           "linecolor": "white",
           "ticks": "",
           "title": {
            "standoff": 15
           },
           "zerolinecolor": "white",
           "zerolinewidth": 2
          }
         }
        },
        "title": {
         "font": {
          "color": "#4D5663"
         }
        },
        "xaxis": {
         "gridcolor": "#E1E5ED",
         "showgrid": true,
         "tickfont": {
          "color": "#4D5663"
         },
         "title": {
          "font": {
           "color": "#4D5663"
          },
          "text": ""
         },
         "zerolinecolor": "#E1E5ED"
        },
        "yaxis": {
         "gridcolor": "#E1E5ED",
         "showgrid": true,
         "tickfont": {
          "color": "#4D5663"
         },
         "title": {
          "font": {
           "color": "#4D5663"
          },
          "text": ""
         },
         "zerolinecolor": "#E1E5ED"
        }
       }
      },
      "text/html": [
       "<div>                            <div id=\"d903834d-bf6d-4e74-94cb-f1e3a7b7ba9d\" class=\"plotly-graph-div\" style=\"height:525px; width:100%;\"></div>            <script type=\"text/javascript\">                require([\"plotly\"], function(Plotly) {                    window.PLOTLYENV=window.PLOTLYENV || {};\n",
       "                    window.PLOTLYENV.BASE_URL='https://plot.ly';                                    if (document.getElementById(\"d903834d-bf6d-4e74-94cb-f1e3a7b7ba9d\")) {                    Plotly.newPlot(                        \"d903834d-bf6d-4e74-94cb-f1e3a7b7ba9d\",                        [{\"boxpoints\":false,\"line\":{\"width\":1.3},\"marker\":{\"color\":\"rgba(255, 153, 51, 1.0)\"},\"name\":\"A\",\"orientation\":\"v\",\"y\":[0.7365676730741115,-0.7858723473162033,-0.7612014338282168,-0.33828969119184393,2.119963389888639,-0.21033529370795123,0.6767739565306867,0.5069782758452451,0.774016534624883,0.645969599888223,1.320915012722791,0.44625820307936953,1.3497982780888076,-0.054312851369403614,0.4086759252360387,0.7670248516378464,-0.34164747625266406,-1.7258492298186636,-0.606458487839304,-0.38509253069137594,1.4779673151544093,-1.5316814798425253,0.9217068353068714,-0.3871133629664417,-1.288295495500347,0.34657449460134787,-1.5122310913921442,-2.382550658507943,-0.38864645623694927,0.28966630577443714,0.3194368360872796,-0.298154648157231,0.04412351469237872,0.5820788298374068,0.6404347136769989,-0.5406726034486085,2.5069957332916686,0.601324464091323,-2.5973464357475677,-1.0898746058693036,-0.3674931138183991,-0.6956665949403,0.6067824786484017,-0.014631944251588846,1.5496933437294362,0.49670459037018383,0.008656386426374951,-1.1879079254428846,0.1133646617244053,-1.209457437051342,0.53738323876218,-0.6799498612216169,-0.2485611813921982,1.259647945013635,0.26831411554353923,1.0703105180570807,0.6120298241543476,-0.7922552770571334,2.7198069168792665,0.30130325020606896,-0.5917405760881879,0.5680047551310305,0.18989307616818785,0.11827140230978321,-0.7112741838759915,-0.29454452098868006,1.4192744302811733,0.20178726147006076,0.16737330097876532,-0.9455492012524679,-1.5807529424508262,-0.3217548006777736,-0.16441643952635626,0.7605565832475502,1.0550615529269523,-0.26281305127051263,0.023700138695366336,0.0623905688170181,-1.6334667527317086,0.05877352101880432,0.8779585966847681,-0.22021733716874808,-0.5087245522034368,-0.4513545021497254,0.26610125050362843,0.14691010739790702,-0.10712846369094996,-0.5380999650652848,1.1751937445166347,0.7347422409605809,0.46494295601226526,-0.41693050383705343,0.0890698769086676,1.2171732953811045,-0.07683110145682837,1.1787552497082416,1.0022080658556163,2.708142526407743,1.0322122478237143,-1.2757074009052138],\"type\":\"box\"},{\"boxpoints\":false,\"line\":{\"width\":1.3},\"marker\":{\"color\":\"rgba(55, 128, 191, 1.0)\"},\"name\":\"B\",\"orientation\":\"v\",\"y\":[-1.17960096095747,-1.3775555599416172,0.13792944280704006,0.48371504791298947,1.330402450096832,0.6008571556967333,-0.48801970995218547,0.8961245543966675,0.2961431824584401,-1.4649552300510922,-0.7080659462597593,-1.2955118557528216,-0.38026898461962383,-0.4533352454607744,-0.3539169985811786,-1.2025477368662538,0.00892006917367232,0.16966744435944756,0.8223657469907609,1.1951243289151658,0.30365969879879123,-0.3028597261401649,-0.019062927160904068,-1.1187078160968458,0.9936865559435638,1.149927312754949,-0.6117767973140005,-0.44387643888953543,-0.03439784317436975,0.015399420236178523,1.1123127177074992,0.2649658061453154,0.6806251765292582,0.14785949702601267,-2.4605460959827004,-0.16205752753046915,-1.2254109809660831,-0.12225449695743638,0.5635173461831468,-0.2599285316945004,-0.27611765191417736,-1.4690531379716825,-1.954153503410868,-0.5866390468375826,0.1018189830619359,-0.07048593057982283,-1.212665780136159,-0.3451925694516716,0.9702962511148727,0.3423474752420889,1.9493684121162587,1.4406008187314832,-0.9759644286967494,-2.2506220014240275,-0.1950416048205692,0.3899551845378141,0.9796444130032764,-1.1593956186919911,0.9883877171167217,0.18632777987730414,-0.32652211390169983,0.5235349712369627,-0.14554797924655524,-0.6632566049388412,1.450516587911176,-1.8242348077687922,-0.7986611676784975,1.2865759967254213,0.03311206362784604,0.826111885566775,-1.8404480684092652,-0.17647317946813473,0.7076473944942543,0.6433397834820548,-0.05019150477402584,0.6938641710145623,-1.0856055786365582,-1.4164083407235537,-1.3642812235548454,1.846182244755937,-0.21921761442914586,-0.08980549285517242,-0.1207473523157025,-0.41706054413176086,0.6611570044122105,1.3289032537940533,-0.07510227699547183,-0.06500699130762963,0.47215000010575603,1.6071041868429516,2.0246550229557956,0.08805236871800126,0.9792317235927371,1.2488287261048898,-0.9105759352090856,-1.4063251858608385,1.3450088447347763,0.22540725929083774,-1.3483110021192624,0.47968437914212037],\"type\":\"box\"},{\"boxpoints\":false,\"line\":{\"width\":1.3},\"marker\":{\"color\":\"rgba(50, 171, 96, 1.0)\"},\"name\":\"C\",\"orientation\":\"v\",\"y\":[0.2111802423317103,1.2513023812484676,-2.420262985173286,-0.01810690595321826,1.4369134657374685,0.6684809269544413,-0.8896657798628989,-0.04402398316027114,-1.8819037762203268,-0.8579940284335679,0.6630136483601791,-1.0130057914209418,0.5300948967919401,-0.6116875874922295,-1.0405317896111674,0.1066065630603391,-0.6623367018999061,-0.9141072267587206,-0.07651540637898738,0.8794740655476391,0.4954605506779982,0.24483452004683712,2.4264980700103336,-1.06138734364795,-0.557073652047221,-0.7695481294396544,0.03309694318780089,-1.157823416209676,-1.596494399797544,2.532456364986618,-0.8066088623148706,1.770470147368262,-0.06773218184250519,-2.1305263195387103,-1.822274695929015,0.030785638543068785,-0.008084167370602255,1.331337333505016,0.588186934226218,-1.5822140559039608,-0.5220156480516457,0.4661917968374661,0.48596504401991136,-0.4361624207486163,1.1427545134985497,-0.6824526850497654,-0.8440833820207647,0.3212876600368777,0.22382288539688838,-0.806383858896275,-0.5924041008070848,-1.0256936022595546,0.06451598536290552,-0.7166862762894189,-0.27515566734864444,-0.6014718779964504,-1.6753997147232118,0.16251273237698743,-0.2070889064583417,-0.44947347795404113,-0.08202653889245286,-0.9567459794601099,0.9074827992251838,-1.5375664107929354,0.16657684305640597,-0.6223030798991293,-0.8314366989766482,0.8923639467852169,-1.1816901669139268,-0.3355203332327252,0.19962944480521727,-2.2011482810267275,0.6445319929985893,-1.706926985518179,-0.5566538836996962,1.0543517373154683,-0.6622767931616665,0.7297025635382117,-0.7273033013667342,0.9158551674787964,2.013294011662559,0.603240529727419,-2.0588839296058454,0.4761047810469739,-1.0189856560944028,-0.055398045677197784,-0.3988064750448735,0.35640182671142695,-1.199030727369626,-1.4390659260992618,-0.7072400789104146,-0.656693883698443,0.8925601323061709,-1.0716342069766727,0.7635432042931674,-0.7218963008683043,-0.07248744015927425,0.6818670638384986,-0.669188717471183,-1.0594740245380794],\"type\":\"box\"},{\"boxpoints\":false,\"line\":{\"width\":1.3},\"marker\":{\"color\":\"rgba(128, 0, 128, 1.0)\"},\"name\":\"D\",\"orientation\":\"v\",\"y\":[0.028709117222660435,-0.8749211890322138,0.6750792939143624,-1.0262801428193047,0.3234398648599455,-0.3876739810699715,-0.11827322456217186,1.9885355457805702,0.03933541205734301,0.530069542647012,0.24686228319134487,0.20294901642620966,1.2252283809729214,-0.08125354468935345,-0.3175747171280276,0.021724154012419825,0.23291709506853644,0.7636567288123901,-0.5902298796389542,0.7819572200644456,1.2267628528169439,0.2352724133666129,-0.10589542879898398,1.2259432051006791,1.4494715484848886,-1.3923181404410845,0.508369611846267,-1.1143065653090483,-2.971993922889421,0.8642498062409729,-0.12910114376377066,-1.3372127108836547,-0.5069592925761005,0.18798294843010604,-0.2635532772361538,-0.21414271511520802,0.7139910742148748,-0.8033790782677973,0.34908653589119587,2.092937025226005,-0.27156830913114494,1.278982152856434,0.03212293185118509,0.032199289165888774,-0.6376893960814524,0.9533306530613369,1.7524769462077232,-1.1023081106066404,1.249201250592397,1.216220027822527,0.07973797657419972,0.5681735121792242,-0.9027943972756199,0.1948166653498565,-0.04497796781852511,0.35745036207342634,-1.7122693913265719,0.8696186131524236,0.37247176422267636,-1.0070686607190036,0.6472418575957608,-0.8801214715960499,0.8811787925892396,1.153030478742426,0.09120108761904984,-1.377553751673728,0.30887327296779304,1.490857984784296,0.4179453440267466,0.44405221801437456,-0.8403927578127272,-0.15426805996920614,-0.8204281060226977,0.03268017332568117,0.9630125035145306,-0.9130953040796658,-0.9085662487791775,1.195269761705436,0.4161310509843156,0.8153342008245268,-0.6487733233924821,-1.0907861563845118,0.5197384517832024,1.1789165623413587,1.7219520141869629,0.7549338839899621,0.2869016485675767,0.2592029263132396,0.7583566967276182,0.705595053820896,0.9220444078811396,1.0473044220862493,-0.22852565607430325,1.4262185670441727,1.3492535245563764,-1.146951429611907,1.6080698085483616,-1.517184974776277,-1.7149233920002773,1.1754726665124724],\"type\":\"box\"}],                        {\"legend\":{\"bgcolor\":\"#F5F6F9\",\"font\":{\"color\":\"#4D5663\"}},\"paper_bgcolor\":\"#F5F6F9\",\"plot_bgcolor\":\"#F5F6F9\",\"template\":{\"data\":{\"barpolar\":[{\"marker\":{\"line\":{\"color\":\"#E5ECF6\",\"width\":0.5},\"pattern\":{\"fillmode\":\"overlay\",\"size\":10,\"solidity\":0.2}},\"type\":\"barpolar\"}],\"bar\":[{\"error_x\":{\"color\":\"#2a3f5f\"},\"error_y\":{\"color\":\"#2a3f5f\"},\"marker\":{\"line\":{\"color\":\"#E5ECF6\",\"width\":0.5},\"pattern\":{\"fillmode\":\"overlay\",\"size\":10,\"solidity\":0.2}},\"type\":\"bar\"}],\"carpet\":[{\"aaxis\":{\"endlinecolor\":\"#2a3f5f\",\"gridcolor\":\"white\",\"linecolor\":\"white\",\"minorgridcolor\":\"white\",\"startlinecolor\":\"#2a3f5f\"},\"baxis\":{\"endlinecolor\":\"#2a3f5f\",\"gridcolor\":\"white\",\"linecolor\":\"white\",\"minorgridcolor\":\"white\",\"startlinecolor\":\"#2a3f5f\"},\"type\":\"carpet\"}],\"choropleth\":[{\"colorbar\":{\"outlinewidth\":0,\"ticks\":\"\"},\"type\":\"choropleth\"}],\"contourcarpet\":[{\"colorbar\":{\"outlinewidth\":0,\"ticks\":\"\"},\"type\":\"contourcarpet\"}],\"contour\":[{\"colorbar\":{\"outlinewidth\":0,\"ticks\":\"\"},\"colorscale\":[[0.0,\"#0d0887\"],[0.1111111111111111,\"#46039f\"],[0.2222222222222222,\"#7201a8\"],[0.3333333333333333,\"#9c179e\"],[0.4444444444444444,\"#bd3786\"],[0.5555555555555556,\"#d8576b\"],[0.6666666666666666,\"#ed7953\"],[0.7777777777777778,\"#fb9f3a\"],[0.8888888888888888,\"#fdca26\"],[1.0,\"#f0f921\"]],\"type\":\"contour\"}],\"heatmapgl\":[{\"colorbar\":{\"outlinewidth\":0,\"ticks\":\"\"},\"colorscale\":[[0.0,\"#0d0887\"],[0.1111111111111111,\"#46039f\"],[0.2222222222222222,\"#7201a8\"],[0.3333333333333333,\"#9c179e\"],[0.4444444444444444,\"#bd3786\"],[0.5555555555555556,\"#d8576b\"],[0.6666666666666666,\"#ed7953\"],[0.7777777777777778,\"#fb9f3a\"],[0.8888888888888888,\"#fdca26\"],[1.0,\"#f0f921\"]],\"type\":\"heatmapgl\"}],\"heatmap\":[{\"colorbar\":{\"outlinewidth\":0,\"ticks\":\"\"},\"colorscale\":[[0.0,\"#0d0887\"],[0.1111111111111111,\"#46039f\"],[0.2222222222222222,\"#7201a8\"],[0.3333333333333333,\"#9c179e\"],[0.4444444444444444,\"#bd3786\"],[0.5555555555555556,\"#d8576b\"],[0.6666666666666666,\"#ed7953\"],[0.7777777777777778,\"#fb9f3a\"],[0.8888888888888888,\"#fdca26\"],[1.0,\"#f0f921\"]],\"type\":\"heatmap\"}],\"histogram2dcontour\":[{\"colorbar\":{\"outlinewidth\":0,\"ticks\":\"\"},\"colorscale\":[[0.0,\"#0d0887\"],[0.1111111111111111,\"#46039f\"],[0.2222222222222222,\"#7201a8\"],[0.3333333333333333,\"#9c179e\"],[0.4444444444444444,\"#bd3786\"],[0.5555555555555556,\"#d8576b\"],[0.6666666666666666,\"#ed7953\"],[0.7777777777777778,\"#fb9f3a\"],[0.8888888888888888,\"#fdca26\"],[1.0,\"#f0f921\"]],\"type\":\"histogram2dcontour\"}],\"histogram2d\":[{\"colorbar\":{\"outlinewidth\":0,\"ticks\":\"\"},\"colorscale\":[[0.0,\"#0d0887\"],[0.1111111111111111,\"#46039f\"],[0.2222222222222222,\"#7201a8\"],[0.3333333333333333,\"#9c179e\"],[0.4444444444444444,\"#bd3786\"],[0.5555555555555556,\"#d8576b\"],[0.6666666666666666,\"#ed7953\"],[0.7777777777777778,\"#fb9f3a\"],[0.8888888888888888,\"#fdca26\"],[1.0,\"#f0f921\"]],\"type\":\"histogram2d\"}],\"histogram\":[{\"marker\":{\"pattern\":{\"fillmode\":\"overlay\",\"size\":10,\"solidity\":0.2}},\"type\":\"histogram\"}],\"mesh3d\":[{\"colorbar\":{\"outlinewidth\":0,\"ticks\":\"\"},\"type\":\"mesh3d\"}],\"parcoords\":[{\"line\":{\"colorbar\":{\"outlinewidth\":0,\"ticks\":\"\"}},\"type\":\"parcoords\"}],\"pie\":[{\"automargin\":true,\"type\":\"pie\"}],\"scatter3d\":[{\"line\":{\"colorbar\":{\"outlinewidth\":0,\"ticks\":\"\"}},\"marker\":{\"colorbar\":{\"outlinewidth\":0,\"ticks\":\"\"}},\"type\":\"scatter3d\"}],\"scattercarpet\":[{\"marker\":{\"colorbar\":{\"outlinewidth\":0,\"ticks\":\"\"}},\"type\":\"scattercarpet\"}],\"scattergeo\":[{\"marker\":{\"colorbar\":{\"outlinewidth\":0,\"ticks\":\"\"}},\"type\":\"scattergeo\"}],\"scattergl\":[{\"marker\":{\"colorbar\":{\"outlinewidth\":0,\"ticks\":\"\"}},\"type\":\"scattergl\"}],\"scattermapbox\":[{\"marker\":{\"colorbar\":{\"outlinewidth\":0,\"ticks\":\"\"}},\"type\":\"scattermapbox\"}],\"scatterpolargl\":[{\"marker\":{\"colorbar\":{\"outlinewidth\":0,\"ticks\":\"\"}},\"type\":\"scatterpolargl\"}],\"scatterpolar\":[{\"marker\":{\"colorbar\":{\"outlinewidth\":0,\"ticks\":\"\"}},\"type\":\"scatterpolar\"}],\"scatter\":[{\"fillpattern\":{\"fillmode\":\"overlay\",\"size\":10,\"solidity\":0.2},\"type\":\"scatter\"}],\"scatterternary\":[{\"marker\":{\"colorbar\":{\"outlinewidth\":0,\"ticks\":\"\"}},\"type\":\"scatterternary\"}],\"surface\":[{\"colorbar\":{\"outlinewidth\":0,\"ticks\":\"\"},\"colorscale\":[[0.0,\"#0d0887\"],[0.1111111111111111,\"#46039f\"],[0.2222222222222222,\"#7201a8\"],[0.3333333333333333,\"#9c179e\"],[0.4444444444444444,\"#bd3786\"],[0.5555555555555556,\"#d8576b\"],[0.6666666666666666,\"#ed7953\"],[0.7777777777777778,\"#fb9f3a\"],[0.8888888888888888,\"#fdca26\"],[1.0,\"#f0f921\"]],\"type\":\"surface\"}],\"table\":[{\"cells\":{\"fill\":{\"color\":\"#EBF0F8\"},\"line\":{\"color\":\"white\"}},\"header\":{\"fill\":{\"color\":\"#C8D4E3\"},\"line\":{\"color\":\"white\"}},\"type\":\"table\"}]},\"layout\":{\"annotationdefaults\":{\"arrowcolor\":\"#2a3f5f\",\"arrowhead\":0,\"arrowwidth\":1},\"autotypenumbers\":\"strict\",\"coloraxis\":{\"colorbar\":{\"outlinewidth\":0,\"ticks\":\"\"}},\"colorscale\":{\"diverging\":[[0,\"#8e0152\"],[0.1,\"#c51b7d\"],[0.2,\"#de77ae\"],[0.3,\"#f1b6da\"],[0.4,\"#fde0ef\"],[0.5,\"#f7f7f7\"],[0.6,\"#e6f5d0\"],[0.7,\"#b8e186\"],[0.8,\"#7fbc41\"],[0.9,\"#4d9221\"],[1,\"#276419\"]],\"sequential\":[[0.0,\"#0d0887\"],[0.1111111111111111,\"#46039f\"],[0.2222222222222222,\"#7201a8\"],[0.3333333333333333,\"#9c179e\"],[0.4444444444444444,\"#bd3786\"],[0.5555555555555556,\"#d8576b\"],[0.6666666666666666,\"#ed7953\"],[0.7777777777777778,\"#fb9f3a\"],[0.8888888888888888,\"#fdca26\"],[1.0,\"#f0f921\"]],\"sequentialminus\":[[0.0,\"#0d0887\"],[0.1111111111111111,\"#46039f\"],[0.2222222222222222,\"#7201a8\"],[0.3333333333333333,\"#9c179e\"],[0.4444444444444444,\"#bd3786\"],[0.5555555555555556,\"#d8576b\"],[0.6666666666666666,\"#ed7953\"],[0.7777777777777778,\"#fb9f3a\"],[0.8888888888888888,\"#fdca26\"],[1.0,\"#f0f921\"]]},\"colorway\":[\"#636efa\",\"#EF553B\",\"#00cc96\",\"#ab63fa\",\"#FFA15A\",\"#19d3f3\",\"#FF6692\",\"#B6E880\",\"#FF97FF\",\"#FECB52\"],\"font\":{\"color\":\"#2a3f5f\"},\"geo\":{\"bgcolor\":\"white\",\"lakecolor\":\"white\",\"landcolor\":\"#E5ECF6\",\"showlakes\":true,\"showland\":true,\"subunitcolor\":\"white\"},\"hoverlabel\":{\"align\":\"left\"},\"hovermode\":\"closest\",\"mapbox\":{\"style\":\"light\"},\"paper_bgcolor\":\"white\",\"plot_bgcolor\":\"#E5ECF6\",\"polar\":{\"angularaxis\":{\"gridcolor\":\"white\",\"linecolor\":\"white\",\"ticks\":\"\"},\"bgcolor\":\"#E5ECF6\",\"radialaxis\":{\"gridcolor\":\"white\",\"linecolor\":\"white\",\"ticks\":\"\"}},\"scene\":{\"xaxis\":{\"backgroundcolor\":\"#E5ECF6\",\"gridcolor\":\"white\",\"gridwidth\":2,\"linecolor\":\"white\",\"showbackground\":true,\"ticks\":\"\",\"zerolinecolor\":\"white\"},\"yaxis\":{\"backgroundcolor\":\"#E5ECF6\",\"gridcolor\":\"white\",\"gridwidth\":2,\"linecolor\":\"white\",\"showbackground\":true,\"ticks\":\"\",\"zerolinecolor\":\"white\"},\"zaxis\":{\"backgroundcolor\":\"#E5ECF6\",\"gridcolor\":\"white\",\"gridwidth\":2,\"linecolor\":\"white\",\"showbackground\":true,\"ticks\":\"\",\"zerolinecolor\":\"white\"}},\"shapedefaults\":{\"line\":{\"color\":\"#2a3f5f\"}},\"ternary\":{\"aaxis\":{\"gridcolor\":\"white\",\"linecolor\":\"white\",\"ticks\":\"\"},\"baxis\":{\"gridcolor\":\"white\",\"linecolor\":\"white\",\"ticks\":\"\"},\"bgcolor\":\"#E5ECF6\",\"caxis\":{\"gridcolor\":\"white\",\"linecolor\":\"white\",\"ticks\":\"\"}},\"title\":{\"x\":0.05},\"xaxis\":{\"automargin\":true,\"gridcolor\":\"white\",\"linecolor\":\"white\",\"ticks\":\"\",\"title\":{\"standoff\":15},\"zerolinecolor\":\"white\",\"zerolinewidth\":2},\"yaxis\":{\"automargin\":true,\"gridcolor\":\"white\",\"linecolor\":\"white\",\"ticks\":\"\",\"title\":{\"standoff\":15},\"zerolinecolor\":\"white\",\"zerolinewidth\":2}}},\"title\":{\"font\":{\"color\":\"#4D5663\"}},\"xaxis\":{\"gridcolor\":\"#E1E5ED\",\"showgrid\":true,\"tickfont\":{\"color\":\"#4D5663\"},\"title\":{\"font\":{\"color\":\"#4D5663\"},\"text\":\"\"},\"zerolinecolor\":\"#E1E5ED\"},\"yaxis\":{\"gridcolor\":\"#E1E5ED\",\"showgrid\":true,\"tickfont\":{\"color\":\"#4D5663\"},\"title\":{\"font\":{\"color\":\"#4D5663\"},\"text\":\"\"},\"zerolinecolor\":\"#E1E5ED\"}},                        {\"showLink\": true, \"linkText\": \"Export to plot.ly\", \"plotlyServerURL\": \"https://plot.ly\", \"responsive\": true}                    ).then(function(){\n",
       "                            \n",
       "var gd = document.getElementById('d903834d-bf6d-4e74-94cb-f1e3a7b7ba9d');\n",
       "var x = new MutationObserver(function (mutations, observer) {{\n",
       "        var display = window.getComputedStyle(gd).display;\n",
       "        if (!display || display === 'none') {{\n",
       "            console.log([gd, 'removed!']);\n",
       "            Plotly.purge(gd);\n",
       "            observer.disconnect();\n",
       "        }}\n",
       "}});\n",
       "\n",
       "// Listen for the removal of the full notebook cells\n",
       "var notebookContainer = gd.closest('#notebook-container');\n",
       "if (notebookContainer) {{\n",
       "    x.observe(notebookContainer, {childList: true});\n",
       "}}\n",
       "\n",
       "// Listen for the clearing of the current output cell\n",
       "var outputEl = gd.closest('.output');\n",
       "if (outputEl) {{\n",
       "    x.observe(outputEl, {childList: true});\n",
       "}}\n",
       "\n",
       "                        })                };                });            </script>        </div>"
      ]
     },
     "metadata": {},
     "output_type": "display_data"
    }
   ],
   "source": [
    "df.iplot(kind='box')"
   ]
  },
  {
   "cell_type": "markdown",
   "metadata": {},
   "source": [
    "## 3d Surface"
   ]
  },
  {
   "cell_type": "code",
   "execution_count": 15,
   "metadata": {},
   "outputs": [
    {
     "data": {
      "application/vnd.plotly.v1+json": {
       "config": {
        "linkText": "Export to plot.ly",
        "plotlyServerURL": "https://plot.ly",
        "showLink": true
       },
       "data": [
        {
         "colorscale": [
          [
           0,
           "rgb(165,0,38)"
          ],
          [
           0.1,
           "rgb(215,48,39)"
          ],
          [
           0.2,
           "rgb(244,109,67)"
          ],
          [
           0.3,
           "rgb(253,174,97)"
          ],
          [
           0.4,
           "rgb(254,224,144)"
          ],
          [
           0.5,
           "rgb(255,255,191)"
          ],
          [
           0.6,
           "rgb(224,243,248)"
          ],
          [
           0.7,
           "rgb(171,217,233)"
          ],
          [
           0.8,
           "rgb(116,173,209)"
          ],
          [
           0.9,
           "rgb(69,117,180)"
          ],
          [
           1,
           "rgb(49,54,149)"
          ]
         ],
         "type": "surface",
         "x": [
          0,
          1,
          2,
          3,
          4
         ],
         "y": [
          "x",
          "y",
          "z"
         ],
         "z": [
          [
           1,
           2,
           3,
           4,
           5
          ],
          [
           10,
           20,
           30,
           20,
           10
          ],
          [
           5,
           4,
           3,
           2,
           1
          ]
         ]
        }
       ],
       "layout": {
        "legend": {
         "bgcolor": "#F5F6F9",
         "font": {
          "color": "#4D5663"
         }
        },
        "paper_bgcolor": "#F5F6F9",
        "plot_bgcolor": "#F5F6F9",
        "template": {
         "data": {
          "bar": [
           {
            "error_x": {
             "color": "#2a3f5f"
            },
            "error_y": {
             "color": "#2a3f5f"
            },
            "marker": {
             "line": {
              "color": "#E5ECF6",
              "width": 0.5
             },
             "pattern": {
              "fillmode": "overlay",
              "size": 10,
              "solidity": 0.2
             }
            },
            "type": "bar"
           }
          ],
          "barpolar": [
           {
            "marker": {
             "line": {
              "color": "#E5ECF6",
              "width": 0.5
             },
             "pattern": {
              "fillmode": "overlay",
              "size": 10,
              "solidity": 0.2
             }
            },
            "type": "barpolar"
           }
          ],
          "carpet": [
           {
            "aaxis": {
             "endlinecolor": "#2a3f5f",
             "gridcolor": "white",
             "linecolor": "white",
             "minorgridcolor": "white",
             "startlinecolor": "#2a3f5f"
            },
            "baxis": {
             "endlinecolor": "#2a3f5f",
             "gridcolor": "white",
             "linecolor": "white",
             "minorgridcolor": "white",
             "startlinecolor": "#2a3f5f"
            },
            "type": "carpet"
           }
          ],
          "choropleth": [
           {
            "colorbar": {
             "outlinewidth": 0,
             "ticks": ""
            },
            "type": "choropleth"
           }
          ],
          "contour": [
           {
            "colorbar": {
             "outlinewidth": 0,
             "ticks": ""
            },
            "colorscale": [
             [
              0,
              "#0d0887"
             ],
             [
              0.1111111111111111,
              "#46039f"
             ],
             [
              0.2222222222222222,
              "#7201a8"
             ],
             [
              0.3333333333333333,
              "#9c179e"
             ],
             [
              0.4444444444444444,
              "#bd3786"
             ],
             [
              0.5555555555555556,
              "#d8576b"
             ],
             [
              0.6666666666666666,
              "#ed7953"
             ],
             [
              0.7777777777777778,
              "#fb9f3a"
             ],
             [
              0.8888888888888888,
              "#fdca26"
             ],
             [
              1,
              "#f0f921"
             ]
            ],
            "type": "contour"
           }
          ],
          "contourcarpet": [
           {
            "colorbar": {
             "outlinewidth": 0,
             "ticks": ""
            },
            "type": "contourcarpet"
           }
          ],
          "heatmap": [
           {
            "colorbar": {
             "outlinewidth": 0,
             "ticks": ""
            },
            "colorscale": [
             [
              0,
              "#0d0887"
             ],
             [
              0.1111111111111111,
              "#46039f"
             ],
             [
              0.2222222222222222,
              "#7201a8"
             ],
             [
              0.3333333333333333,
              "#9c179e"
             ],
             [
              0.4444444444444444,
              "#bd3786"
             ],
             [
              0.5555555555555556,
              "#d8576b"
             ],
             [
              0.6666666666666666,
              "#ed7953"
             ],
             [
              0.7777777777777778,
              "#fb9f3a"
             ],
             [
              0.8888888888888888,
              "#fdca26"
             ],
             [
              1,
              "#f0f921"
             ]
            ],
            "type": "heatmap"
           }
          ],
          "heatmapgl": [
           {
            "colorbar": {
             "outlinewidth": 0,
             "ticks": ""
            },
            "colorscale": [
             [
              0,
              "#0d0887"
             ],
             [
              0.1111111111111111,
              "#46039f"
             ],
             [
              0.2222222222222222,
              "#7201a8"
             ],
             [
              0.3333333333333333,
              "#9c179e"
             ],
             [
              0.4444444444444444,
              "#bd3786"
             ],
             [
              0.5555555555555556,
              "#d8576b"
             ],
             [
              0.6666666666666666,
              "#ed7953"
             ],
             [
              0.7777777777777778,
              "#fb9f3a"
             ],
             [
              0.8888888888888888,
              "#fdca26"
             ],
             [
              1,
              "#f0f921"
             ]
            ],
            "type": "heatmapgl"
           }
          ],
          "histogram": [
           {
            "marker": {
             "pattern": {
              "fillmode": "overlay",
              "size": 10,
              "solidity": 0.2
             }
            },
            "type": "histogram"
           }
          ],
          "histogram2d": [
           {
            "colorbar": {
             "outlinewidth": 0,
             "ticks": ""
            },
            "colorscale": [
             [
              0,
              "#0d0887"
             ],
             [
              0.1111111111111111,
              "#46039f"
             ],
             [
              0.2222222222222222,
              "#7201a8"
             ],
             [
              0.3333333333333333,
              "#9c179e"
             ],
             [
              0.4444444444444444,
              "#bd3786"
             ],
             [
              0.5555555555555556,
              "#d8576b"
             ],
             [
              0.6666666666666666,
              "#ed7953"
             ],
             [
              0.7777777777777778,
              "#fb9f3a"
             ],
             [
              0.8888888888888888,
              "#fdca26"
             ],
             [
              1,
              "#f0f921"
             ]
            ],
            "type": "histogram2d"
           }
          ],
          "histogram2dcontour": [
           {
            "colorbar": {
             "outlinewidth": 0,
             "ticks": ""
            },
            "colorscale": [
             [
              0,
              "#0d0887"
             ],
             [
              0.1111111111111111,
              "#46039f"
             ],
             [
              0.2222222222222222,
              "#7201a8"
             ],
             [
              0.3333333333333333,
              "#9c179e"
             ],
             [
              0.4444444444444444,
              "#bd3786"
             ],
             [
              0.5555555555555556,
              "#d8576b"
             ],
             [
              0.6666666666666666,
              "#ed7953"
             ],
             [
              0.7777777777777778,
              "#fb9f3a"
             ],
             [
              0.8888888888888888,
              "#fdca26"
             ],
             [
              1,
              "#f0f921"
             ]
            ],
            "type": "histogram2dcontour"
           }
          ],
          "mesh3d": [
           {
            "colorbar": {
             "outlinewidth": 0,
             "ticks": ""
            },
            "type": "mesh3d"
           }
          ],
          "parcoords": [
           {
            "line": {
             "colorbar": {
              "outlinewidth": 0,
              "ticks": ""
             }
            },
            "type": "parcoords"
           }
          ],
          "pie": [
           {
            "automargin": true,
            "type": "pie"
           }
          ],
          "scatter": [
           {
            "fillpattern": {
             "fillmode": "overlay",
             "size": 10,
             "solidity": 0.2
            },
            "type": "scatter"
           }
          ],
          "scatter3d": [
           {
            "line": {
             "colorbar": {
              "outlinewidth": 0,
              "ticks": ""
             }
            },
            "marker": {
             "colorbar": {
              "outlinewidth": 0,
              "ticks": ""
             }
            },
            "type": "scatter3d"
           }
          ],
          "scattercarpet": [
           {
            "marker": {
             "colorbar": {
              "outlinewidth": 0,
              "ticks": ""
             }
            },
            "type": "scattercarpet"
           }
          ],
          "scattergeo": [
           {
            "marker": {
             "colorbar": {
              "outlinewidth": 0,
              "ticks": ""
             }
            },
            "type": "scattergeo"
           }
          ],
          "scattergl": [
           {
            "marker": {
             "colorbar": {
              "outlinewidth": 0,
              "ticks": ""
             }
            },
            "type": "scattergl"
           }
          ],
          "scattermapbox": [
           {
            "marker": {
             "colorbar": {
              "outlinewidth": 0,
              "ticks": ""
             }
            },
            "type": "scattermapbox"
           }
          ],
          "scatterpolar": [
           {
            "marker": {
             "colorbar": {
              "outlinewidth": 0,
              "ticks": ""
             }
            },
            "type": "scatterpolar"
           }
          ],
          "scatterpolargl": [
           {
            "marker": {
             "colorbar": {
              "outlinewidth": 0,
              "ticks": ""
             }
            },
            "type": "scatterpolargl"
           }
          ],
          "scatterternary": [
           {
            "marker": {
             "colorbar": {
              "outlinewidth": 0,
              "ticks": ""
             }
            },
            "type": "scatterternary"
           }
          ],
          "surface": [
           {
            "colorbar": {
             "outlinewidth": 0,
             "ticks": ""
            },
            "colorscale": [
             [
              0,
              "#0d0887"
             ],
             [
              0.1111111111111111,
              "#46039f"
             ],
             [
              0.2222222222222222,
              "#7201a8"
             ],
             [
              0.3333333333333333,
              "#9c179e"
             ],
             [
              0.4444444444444444,
              "#bd3786"
             ],
             [
              0.5555555555555556,
              "#d8576b"
             ],
             [
              0.6666666666666666,
              "#ed7953"
             ],
             [
              0.7777777777777778,
              "#fb9f3a"
             ],
             [
              0.8888888888888888,
              "#fdca26"
             ],
             [
              1,
              "#f0f921"
             ]
            ],
            "type": "surface"
           }
          ],
          "table": [
           {
            "cells": {
             "fill": {
              "color": "#EBF0F8"
             },
             "line": {
              "color": "white"
             }
            },
            "header": {
             "fill": {
              "color": "#C8D4E3"
             },
             "line": {
              "color": "white"
             }
            },
            "type": "table"
           }
          ]
         },
         "layout": {
          "annotationdefaults": {
           "arrowcolor": "#2a3f5f",
           "arrowhead": 0,
           "arrowwidth": 1
          },
          "autotypenumbers": "strict",
          "coloraxis": {
           "colorbar": {
            "outlinewidth": 0,
            "ticks": ""
           }
          },
          "colorscale": {
           "diverging": [
            [
             0,
             "#8e0152"
            ],
            [
             0.1,
             "#c51b7d"
            ],
            [
             0.2,
             "#de77ae"
            ],
            [
             0.3,
             "#f1b6da"
            ],
            [
             0.4,
             "#fde0ef"
            ],
            [
             0.5,
             "#f7f7f7"
            ],
            [
             0.6,
             "#e6f5d0"
            ],
            [
             0.7,
             "#b8e186"
            ],
            [
             0.8,
             "#7fbc41"
            ],
            [
             0.9,
             "#4d9221"
            ],
            [
             1,
             "#276419"
            ]
           ],
           "sequential": [
            [
             0,
             "#0d0887"
            ],
            [
             0.1111111111111111,
             "#46039f"
            ],
            [
             0.2222222222222222,
             "#7201a8"
            ],
            [
             0.3333333333333333,
             "#9c179e"
            ],
            [
             0.4444444444444444,
             "#bd3786"
            ],
            [
             0.5555555555555556,
             "#d8576b"
            ],
            [
             0.6666666666666666,
             "#ed7953"
            ],
            [
             0.7777777777777778,
             "#fb9f3a"
            ],
            [
             0.8888888888888888,
             "#fdca26"
            ],
            [
             1,
             "#f0f921"
            ]
           ],
           "sequentialminus": [
            [
             0,
             "#0d0887"
            ],
            [
             0.1111111111111111,
             "#46039f"
            ],
            [
             0.2222222222222222,
             "#7201a8"
            ],
            [
             0.3333333333333333,
             "#9c179e"
            ],
            [
             0.4444444444444444,
             "#bd3786"
            ],
            [
             0.5555555555555556,
             "#d8576b"
            ],
            [
             0.6666666666666666,
             "#ed7953"
            ],
            [
             0.7777777777777778,
             "#fb9f3a"
            ],
            [
             0.8888888888888888,
             "#fdca26"
            ],
            [
             1,
             "#f0f921"
            ]
           ]
          },
          "colorway": [
           "#636efa",
           "#EF553B",
           "#00cc96",
           "#ab63fa",
           "#FFA15A",
           "#19d3f3",
           "#FF6692",
           "#B6E880",
           "#FF97FF",
           "#FECB52"
          ],
          "font": {
           "color": "#2a3f5f"
          },
          "geo": {
           "bgcolor": "white",
           "lakecolor": "white",
           "landcolor": "#E5ECF6",
           "showlakes": true,
           "showland": true,
           "subunitcolor": "white"
          },
          "hoverlabel": {
           "align": "left"
          },
          "hovermode": "closest",
          "mapbox": {
           "style": "light"
          },
          "paper_bgcolor": "white",
          "plot_bgcolor": "#E5ECF6",
          "polar": {
           "angularaxis": {
            "gridcolor": "white",
            "linecolor": "white",
            "ticks": ""
           },
           "bgcolor": "#E5ECF6",
           "radialaxis": {
            "gridcolor": "white",
            "linecolor": "white",
            "ticks": ""
           }
          },
          "scene": {
           "xaxis": {
            "backgroundcolor": "#E5ECF6",
            "gridcolor": "white",
            "gridwidth": 2,
            "linecolor": "white",
            "showbackground": true,
            "ticks": "",
            "zerolinecolor": "white"
           },
           "yaxis": {
            "backgroundcolor": "#E5ECF6",
            "gridcolor": "white",
            "gridwidth": 2,
            "linecolor": "white",
            "showbackground": true,
            "ticks": "",
            "zerolinecolor": "white"
           },
           "zaxis": {
            "backgroundcolor": "#E5ECF6",
            "gridcolor": "white",
            "gridwidth": 2,
            "linecolor": "white",
            "showbackground": true,
            "ticks": "",
            "zerolinecolor": "white"
           }
          },
          "shapedefaults": {
           "line": {
            "color": "#2a3f5f"
           }
          },
          "ternary": {
           "aaxis": {
            "gridcolor": "white",
            "linecolor": "white",
            "ticks": ""
           },
           "baxis": {
            "gridcolor": "white",
            "linecolor": "white",
            "ticks": ""
           },
           "bgcolor": "#E5ECF6",
           "caxis": {
            "gridcolor": "white",
            "linecolor": "white",
            "ticks": ""
           }
          },
          "title": {
           "x": 0.05
          },
          "xaxis": {
           "automargin": true,
           "gridcolor": "white",
           "linecolor": "white",
           "ticks": "",
           "title": {
            "standoff": 15
           },
           "zerolinecolor": "white",
           "zerolinewidth": 2
          },
          "yaxis": {
           "automargin": true,
           "gridcolor": "white",
           "linecolor": "white",
           "ticks": "",
           "title": {
            "standoff": 15
           },
           "zerolinecolor": "white",
           "zerolinewidth": 2
          }
         }
        },
        "title": {
         "font": {
          "color": "#4D5663"
         }
        },
        "xaxis": {
         "gridcolor": "#E1E5ED",
         "showgrid": true,
         "tickfont": {
          "color": "#4D5663"
         },
         "title": {
          "font": {
           "color": "#4D5663"
          },
          "text": ""
         },
         "zerolinecolor": "#E1E5ED"
        },
        "yaxis": {
         "gridcolor": "#E1E5ED",
         "showgrid": true,
         "tickfont": {
          "color": "#4D5663"
         },
         "title": {
          "font": {
           "color": "#4D5663"
          },
          "text": ""
         },
         "zerolinecolor": "#E1E5ED"
        }
       }
      },
      "text/html": [
       "<div>                            <div id=\"8181691a-2e0a-4909-acf6-555f7cd1ff55\" class=\"plotly-graph-div\" style=\"height:525px; width:100%;\"></div>            <script type=\"text/javascript\">                require([\"plotly\"], function(Plotly) {                    window.PLOTLYENV=window.PLOTLYENV || {};\n",
       "                    window.PLOTLYENV.BASE_URL='https://plot.ly';                                    if (document.getElementById(\"8181691a-2e0a-4909-acf6-555f7cd1ff55\")) {                    Plotly.newPlot(                        \"8181691a-2e0a-4909-acf6-555f7cd1ff55\",                        [{\"colorscale\":[[0.0,\"rgb(165,0,38)\"],[0.1,\"rgb(215,48,39)\"],[0.2,\"rgb(244,109,67)\"],[0.3,\"rgb(253,174,97)\"],[0.4,\"rgb(254,224,144)\"],[0.5,\"rgb(255,255,191)\"],[0.6,\"rgb(224,243,248)\"],[0.7,\"rgb(171,217,233)\"],[0.8,\"rgb(116,173,209)\"],[0.9,\"rgb(69,117,180)\"],[1.0,\"rgb(49,54,149)\"]],\"x\":[0,1,2,3,4],\"y\":[\"x\",\"y\",\"z\"],\"z\":[[1,2,3,4,5],[10,20,30,20,10],[5,4,3,2,1]],\"type\":\"surface\"}],                        {\"legend\":{\"bgcolor\":\"#F5F6F9\",\"font\":{\"color\":\"#4D5663\"}},\"paper_bgcolor\":\"#F5F6F9\",\"plot_bgcolor\":\"#F5F6F9\",\"template\":{\"data\":{\"barpolar\":[{\"marker\":{\"line\":{\"color\":\"#E5ECF6\",\"width\":0.5},\"pattern\":{\"fillmode\":\"overlay\",\"size\":10,\"solidity\":0.2}},\"type\":\"barpolar\"}],\"bar\":[{\"error_x\":{\"color\":\"#2a3f5f\"},\"error_y\":{\"color\":\"#2a3f5f\"},\"marker\":{\"line\":{\"color\":\"#E5ECF6\",\"width\":0.5},\"pattern\":{\"fillmode\":\"overlay\",\"size\":10,\"solidity\":0.2}},\"type\":\"bar\"}],\"carpet\":[{\"aaxis\":{\"endlinecolor\":\"#2a3f5f\",\"gridcolor\":\"white\",\"linecolor\":\"white\",\"minorgridcolor\":\"white\",\"startlinecolor\":\"#2a3f5f\"},\"baxis\":{\"endlinecolor\":\"#2a3f5f\",\"gridcolor\":\"white\",\"linecolor\":\"white\",\"minorgridcolor\":\"white\",\"startlinecolor\":\"#2a3f5f\"},\"type\":\"carpet\"}],\"choropleth\":[{\"colorbar\":{\"outlinewidth\":0,\"ticks\":\"\"},\"type\":\"choropleth\"}],\"contourcarpet\":[{\"colorbar\":{\"outlinewidth\":0,\"ticks\":\"\"},\"type\":\"contourcarpet\"}],\"contour\":[{\"colorbar\":{\"outlinewidth\":0,\"ticks\":\"\"},\"colorscale\":[[0.0,\"#0d0887\"],[0.1111111111111111,\"#46039f\"],[0.2222222222222222,\"#7201a8\"],[0.3333333333333333,\"#9c179e\"],[0.4444444444444444,\"#bd3786\"],[0.5555555555555556,\"#d8576b\"],[0.6666666666666666,\"#ed7953\"],[0.7777777777777778,\"#fb9f3a\"],[0.8888888888888888,\"#fdca26\"],[1.0,\"#f0f921\"]],\"type\":\"contour\"}],\"heatmapgl\":[{\"colorbar\":{\"outlinewidth\":0,\"ticks\":\"\"},\"colorscale\":[[0.0,\"#0d0887\"],[0.1111111111111111,\"#46039f\"],[0.2222222222222222,\"#7201a8\"],[0.3333333333333333,\"#9c179e\"],[0.4444444444444444,\"#bd3786\"],[0.5555555555555556,\"#d8576b\"],[0.6666666666666666,\"#ed7953\"],[0.7777777777777778,\"#fb9f3a\"],[0.8888888888888888,\"#fdca26\"],[1.0,\"#f0f921\"]],\"type\":\"heatmapgl\"}],\"heatmap\":[{\"colorbar\":{\"outlinewidth\":0,\"ticks\":\"\"},\"colorscale\":[[0.0,\"#0d0887\"],[0.1111111111111111,\"#46039f\"],[0.2222222222222222,\"#7201a8\"],[0.3333333333333333,\"#9c179e\"],[0.4444444444444444,\"#bd3786\"],[0.5555555555555556,\"#d8576b\"],[0.6666666666666666,\"#ed7953\"],[0.7777777777777778,\"#fb9f3a\"],[0.8888888888888888,\"#fdca26\"],[1.0,\"#f0f921\"]],\"type\":\"heatmap\"}],\"histogram2dcontour\":[{\"colorbar\":{\"outlinewidth\":0,\"ticks\":\"\"},\"colorscale\":[[0.0,\"#0d0887\"],[0.1111111111111111,\"#46039f\"],[0.2222222222222222,\"#7201a8\"],[0.3333333333333333,\"#9c179e\"],[0.4444444444444444,\"#bd3786\"],[0.5555555555555556,\"#d8576b\"],[0.6666666666666666,\"#ed7953\"],[0.7777777777777778,\"#fb9f3a\"],[0.8888888888888888,\"#fdca26\"],[1.0,\"#f0f921\"]],\"type\":\"histogram2dcontour\"}],\"histogram2d\":[{\"colorbar\":{\"outlinewidth\":0,\"ticks\":\"\"},\"colorscale\":[[0.0,\"#0d0887\"],[0.1111111111111111,\"#46039f\"],[0.2222222222222222,\"#7201a8\"],[0.3333333333333333,\"#9c179e\"],[0.4444444444444444,\"#bd3786\"],[0.5555555555555556,\"#d8576b\"],[0.6666666666666666,\"#ed7953\"],[0.7777777777777778,\"#fb9f3a\"],[0.8888888888888888,\"#fdca26\"],[1.0,\"#f0f921\"]],\"type\":\"histogram2d\"}],\"histogram\":[{\"marker\":{\"pattern\":{\"fillmode\":\"overlay\",\"size\":10,\"solidity\":0.2}},\"type\":\"histogram\"}],\"mesh3d\":[{\"colorbar\":{\"outlinewidth\":0,\"ticks\":\"\"},\"type\":\"mesh3d\"}],\"parcoords\":[{\"line\":{\"colorbar\":{\"outlinewidth\":0,\"ticks\":\"\"}},\"type\":\"parcoords\"}],\"pie\":[{\"automargin\":true,\"type\":\"pie\"}],\"scatter3d\":[{\"line\":{\"colorbar\":{\"outlinewidth\":0,\"ticks\":\"\"}},\"marker\":{\"colorbar\":{\"outlinewidth\":0,\"ticks\":\"\"}},\"type\":\"scatter3d\"}],\"scattercarpet\":[{\"marker\":{\"colorbar\":{\"outlinewidth\":0,\"ticks\":\"\"}},\"type\":\"scattercarpet\"}],\"scattergeo\":[{\"marker\":{\"colorbar\":{\"outlinewidth\":0,\"ticks\":\"\"}},\"type\":\"scattergeo\"}],\"scattergl\":[{\"marker\":{\"colorbar\":{\"outlinewidth\":0,\"ticks\":\"\"}},\"type\":\"scattergl\"}],\"scattermapbox\":[{\"marker\":{\"colorbar\":{\"outlinewidth\":0,\"ticks\":\"\"}},\"type\":\"scattermapbox\"}],\"scatterpolargl\":[{\"marker\":{\"colorbar\":{\"outlinewidth\":0,\"ticks\":\"\"}},\"type\":\"scatterpolargl\"}],\"scatterpolar\":[{\"marker\":{\"colorbar\":{\"outlinewidth\":0,\"ticks\":\"\"}},\"type\":\"scatterpolar\"}],\"scatter\":[{\"fillpattern\":{\"fillmode\":\"overlay\",\"size\":10,\"solidity\":0.2},\"type\":\"scatter\"}],\"scatterternary\":[{\"marker\":{\"colorbar\":{\"outlinewidth\":0,\"ticks\":\"\"}},\"type\":\"scatterternary\"}],\"surface\":[{\"colorbar\":{\"outlinewidth\":0,\"ticks\":\"\"},\"colorscale\":[[0.0,\"#0d0887\"],[0.1111111111111111,\"#46039f\"],[0.2222222222222222,\"#7201a8\"],[0.3333333333333333,\"#9c179e\"],[0.4444444444444444,\"#bd3786\"],[0.5555555555555556,\"#d8576b\"],[0.6666666666666666,\"#ed7953\"],[0.7777777777777778,\"#fb9f3a\"],[0.8888888888888888,\"#fdca26\"],[1.0,\"#f0f921\"]],\"type\":\"surface\"}],\"table\":[{\"cells\":{\"fill\":{\"color\":\"#EBF0F8\"},\"line\":{\"color\":\"white\"}},\"header\":{\"fill\":{\"color\":\"#C8D4E3\"},\"line\":{\"color\":\"white\"}},\"type\":\"table\"}]},\"layout\":{\"annotationdefaults\":{\"arrowcolor\":\"#2a3f5f\",\"arrowhead\":0,\"arrowwidth\":1},\"autotypenumbers\":\"strict\",\"coloraxis\":{\"colorbar\":{\"outlinewidth\":0,\"ticks\":\"\"}},\"colorscale\":{\"diverging\":[[0,\"#8e0152\"],[0.1,\"#c51b7d\"],[0.2,\"#de77ae\"],[0.3,\"#f1b6da\"],[0.4,\"#fde0ef\"],[0.5,\"#f7f7f7\"],[0.6,\"#e6f5d0\"],[0.7,\"#b8e186\"],[0.8,\"#7fbc41\"],[0.9,\"#4d9221\"],[1,\"#276419\"]],\"sequential\":[[0.0,\"#0d0887\"],[0.1111111111111111,\"#46039f\"],[0.2222222222222222,\"#7201a8\"],[0.3333333333333333,\"#9c179e\"],[0.4444444444444444,\"#bd3786\"],[0.5555555555555556,\"#d8576b\"],[0.6666666666666666,\"#ed7953\"],[0.7777777777777778,\"#fb9f3a\"],[0.8888888888888888,\"#fdca26\"],[1.0,\"#f0f921\"]],\"sequentialminus\":[[0.0,\"#0d0887\"],[0.1111111111111111,\"#46039f\"],[0.2222222222222222,\"#7201a8\"],[0.3333333333333333,\"#9c179e\"],[0.4444444444444444,\"#bd3786\"],[0.5555555555555556,\"#d8576b\"],[0.6666666666666666,\"#ed7953\"],[0.7777777777777778,\"#fb9f3a\"],[0.8888888888888888,\"#fdca26\"],[1.0,\"#f0f921\"]]},\"colorway\":[\"#636efa\",\"#EF553B\",\"#00cc96\",\"#ab63fa\",\"#FFA15A\",\"#19d3f3\",\"#FF6692\",\"#B6E880\",\"#FF97FF\",\"#FECB52\"],\"font\":{\"color\":\"#2a3f5f\"},\"geo\":{\"bgcolor\":\"white\",\"lakecolor\":\"white\",\"landcolor\":\"#E5ECF6\",\"showlakes\":true,\"showland\":true,\"subunitcolor\":\"white\"},\"hoverlabel\":{\"align\":\"left\"},\"hovermode\":\"closest\",\"mapbox\":{\"style\":\"light\"},\"paper_bgcolor\":\"white\",\"plot_bgcolor\":\"#E5ECF6\",\"polar\":{\"angularaxis\":{\"gridcolor\":\"white\",\"linecolor\":\"white\",\"ticks\":\"\"},\"bgcolor\":\"#E5ECF6\",\"radialaxis\":{\"gridcolor\":\"white\",\"linecolor\":\"white\",\"ticks\":\"\"}},\"scene\":{\"xaxis\":{\"backgroundcolor\":\"#E5ECF6\",\"gridcolor\":\"white\",\"gridwidth\":2,\"linecolor\":\"white\",\"showbackground\":true,\"ticks\":\"\",\"zerolinecolor\":\"white\"},\"yaxis\":{\"backgroundcolor\":\"#E5ECF6\",\"gridcolor\":\"white\",\"gridwidth\":2,\"linecolor\":\"white\",\"showbackground\":true,\"ticks\":\"\",\"zerolinecolor\":\"white\"},\"zaxis\":{\"backgroundcolor\":\"#E5ECF6\",\"gridcolor\":\"white\",\"gridwidth\":2,\"linecolor\":\"white\",\"showbackground\":true,\"ticks\":\"\",\"zerolinecolor\":\"white\"}},\"shapedefaults\":{\"line\":{\"color\":\"#2a3f5f\"}},\"ternary\":{\"aaxis\":{\"gridcolor\":\"white\",\"linecolor\":\"white\",\"ticks\":\"\"},\"baxis\":{\"gridcolor\":\"white\",\"linecolor\":\"white\",\"ticks\":\"\"},\"bgcolor\":\"#E5ECF6\",\"caxis\":{\"gridcolor\":\"white\",\"linecolor\":\"white\",\"ticks\":\"\"}},\"title\":{\"x\":0.05},\"xaxis\":{\"automargin\":true,\"gridcolor\":\"white\",\"linecolor\":\"white\",\"ticks\":\"\",\"title\":{\"standoff\":15},\"zerolinecolor\":\"white\",\"zerolinewidth\":2},\"yaxis\":{\"automargin\":true,\"gridcolor\":\"white\",\"linecolor\":\"white\",\"ticks\":\"\",\"title\":{\"standoff\":15},\"zerolinecolor\":\"white\",\"zerolinewidth\":2}}},\"title\":{\"font\":{\"color\":\"#4D5663\"}},\"xaxis\":{\"gridcolor\":\"#E1E5ED\",\"showgrid\":true,\"tickfont\":{\"color\":\"#4D5663\"},\"title\":{\"font\":{\"color\":\"#4D5663\"},\"text\":\"\"},\"zerolinecolor\":\"#E1E5ED\"},\"yaxis\":{\"gridcolor\":\"#E1E5ED\",\"showgrid\":true,\"tickfont\":{\"color\":\"#4D5663\"},\"title\":{\"font\":{\"color\":\"#4D5663\"},\"text\":\"\"},\"zerolinecolor\":\"#E1E5ED\"}},                        {\"showLink\": true, \"linkText\": \"Export to plot.ly\", \"plotlyServerURL\": \"https://plot.ly\", \"responsive\": true}                    ).then(function(){\n",
       "                            \n",
       "var gd = document.getElementById('8181691a-2e0a-4909-acf6-555f7cd1ff55');\n",
       "var x = new MutationObserver(function (mutations, observer) {{\n",
       "        var display = window.getComputedStyle(gd).display;\n",
       "        if (!display || display === 'none') {{\n",
       "            console.log([gd, 'removed!']);\n",
       "            Plotly.purge(gd);\n",
       "            observer.disconnect();\n",
       "        }}\n",
       "}});\n",
       "\n",
       "// Listen for the removal of the full notebook cells\n",
       "var notebookContainer = gd.closest('#notebook-container');\n",
       "if (notebookContainer) {{\n",
       "    x.observe(notebookContainer, {childList: true});\n",
       "}}\n",
       "\n",
       "// Listen for the clearing of the current output cell\n",
       "var outputEl = gd.closest('.output');\n",
       "if (outputEl) {{\n",
       "    x.observe(outputEl, {childList: true});\n",
       "}}\n",
       "\n",
       "                        })                };                });            </script>        </div>"
      ]
     },
     "metadata": {},
     "output_type": "display_data"
    }
   ],
   "source": [
    "df3 = pd.DataFrame({'x':[1,2,3,4,5],'y':[10,20,30,20,10],'z':[5,4,3,2,1]})\n",
    "df3.iplot(kind='surface',colorscale='rdylbu')"
   ]
  },
  {
   "cell_type": "markdown",
   "metadata": {},
   "source": [
    "## Spread"
   ]
  },
  {
   "cell_type": "code",
   "execution_count": 17,
   "metadata": {},
   "outputs": [
    {
     "data": {
      "application/vnd.plotly.v1+json": {
       "config": {
        "linkText": "Export to plot.ly",
        "plotlyServerURL": "https://plot.ly",
        "showLink": true
       },
       "data": [
        {
         "line": {
          "color": "rgba(255, 153, 51, 1.0)",
          "dash": "solid",
          "shape": "linear",
          "width": 1.3
         },
         "mode": "lines",
         "name": "A",
         "text": "",
         "type": "scatter",
         "x": [
          0,
          1,
          2,
          3,
          4,
          5,
          6,
          7,
          8,
          9,
          10,
          11,
          12,
          13,
          14,
          15,
          16,
          17,
          18,
          19,
          20,
          21,
          22,
          23,
          24,
          25,
          26,
          27,
          28,
          29,
          30,
          31,
          32,
          33,
          34,
          35,
          36,
          37,
          38,
          39,
          40,
          41,
          42,
          43,
          44,
          45,
          46,
          47,
          48,
          49,
          50,
          51,
          52,
          53,
          54,
          55,
          56,
          57,
          58,
          59,
          60,
          61,
          62,
          63,
          64,
          65,
          66,
          67,
          68,
          69,
          70,
          71,
          72,
          73,
          74,
          75,
          76,
          77,
          78,
          79,
          80,
          81,
          82,
          83,
          84,
          85,
          86,
          87,
          88,
          89,
          90,
          91,
          92,
          93,
          94,
          95,
          96,
          97,
          98,
          99
         ],
         "y": [
          0.7365676730741115,
          -0.7858723473162033,
          -0.7612014338282168,
          -0.33828969119184393,
          2.119963389888639,
          -0.21033529370795123,
          0.6767739565306867,
          0.5069782758452451,
          0.774016534624883,
          0.645969599888223,
          1.320915012722791,
          0.44625820307936953,
          1.3497982780888076,
          -0.054312851369403614,
          0.4086759252360387,
          0.7670248516378464,
          -0.34164747625266406,
          -1.7258492298186636,
          -0.606458487839304,
          -0.38509253069137594,
          1.4779673151544093,
          -1.5316814798425253,
          0.9217068353068714,
          -0.3871133629664417,
          -1.288295495500347,
          0.34657449460134787,
          -1.5122310913921442,
          -2.382550658507943,
          -0.38864645623694927,
          0.28966630577443714,
          0.3194368360872796,
          -0.298154648157231,
          0.04412351469237872,
          0.5820788298374068,
          0.6404347136769989,
          -0.5406726034486085,
          2.5069957332916686,
          0.601324464091323,
          -2.5973464357475677,
          -1.0898746058693036,
          -0.3674931138183991,
          -0.6956665949403,
          0.6067824786484017,
          -0.014631944251588846,
          1.5496933437294362,
          0.49670459037018383,
          0.008656386426374951,
          -1.1879079254428846,
          0.1133646617244053,
          -1.209457437051342,
          0.53738323876218,
          -0.6799498612216169,
          -0.2485611813921982,
          1.259647945013635,
          0.26831411554353923,
          1.0703105180570807,
          0.6120298241543476,
          -0.7922552770571334,
          2.7198069168792665,
          0.30130325020606896,
          -0.5917405760881879,
          0.5680047551310305,
          0.18989307616818785,
          0.11827140230978321,
          -0.7112741838759915,
          -0.29454452098868006,
          1.4192744302811733,
          0.20178726147006076,
          0.16737330097876532,
          -0.9455492012524679,
          -1.5807529424508262,
          -0.3217548006777736,
          -0.16441643952635626,
          0.7605565832475502,
          1.0550615529269523,
          -0.26281305127051263,
          0.023700138695366336,
          0.0623905688170181,
          -1.6334667527317086,
          0.05877352101880432,
          0.8779585966847681,
          -0.22021733716874808,
          -0.5087245522034368,
          -0.4513545021497254,
          0.26610125050362843,
          0.14691010739790702,
          -0.10712846369094996,
          -0.5380999650652848,
          1.1751937445166347,
          0.7347422409605809,
          0.46494295601226526,
          -0.41693050383705343,
          0.0890698769086676,
          1.2171732953811045,
          -0.07683110145682837,
          1.1787552497082416,
          1.0022080658556163,
          2.708142526407743,
          1.0322122478237143,
          -1.2757074009052138
         ]
        },
        {
         "line": {
          "color": "rgba(55, 128, 191, 1.0)",
          "dash": "solid",
          "shape": "linear",
          "width": 1.3
         },
         "mode": "lines",
         "name": "B",
         "text": "",
         "type": "scatter",
         "x": [
          0,
          1,
          2,
          3,
          4,
          5,
          6,
          7,
          8,
          9,
          10,
          11,
          12,
          13,
          14,
          15,
          16,
          17,
          18,
          19,
          20,
          21,
          22,
          23,
          24,
          25,
          26,
          27,
          28,
          29,
          30,
          31,
          32,
          33,
          34,
          35,
          36,
          37,
          38,
          39,
          40,
          41,
          42,
          43,
          44,
          45,
          46,
          47,
          48,
          49,
          50,
          51,
          52,
          53,
          54,
          55,
          56,
          57,
          58,
          59,
          60,
          61,
          62,
          63,
          64,
          65,
          66,
          67,
          68,
          69,
          70,
          71,
          72,
          73,
          74,
          75,
          76,
          77,
          78,
          79,
          80,
          81,
          82,
          83,
          84,
          85,
          86,
          87,
          88,
          89,
          90,
          91,
          92,
          93,
          94,
          95,
          96,
          97,
          98,
          99
         ],
         "y": [
          -1.17960096095747,
          -1.3775555599416172,
          0.13792944280704006,
          0.48371504791298947,
          1.330402450096832,
          0.6008571556967333,
          -0.48801970995218547,
          0.8961245543966675,
          0.2961431824584401,
          -1.4649552300510922,
          -0.7080659462597593,
          -1.2955118557528216,
          -0.38026898461962383,
          -0.4533352454607744,
          -0.3539169985811786,
          -1.2025477368662538,
          0.00892006917367232,
          0.16966744435944756,
          0.8223657469907609,
          1.1951243289151658,
          0.30365969879879123,
          -0.3028597261401649,
          -0.019062927160904068,
          -1.1187078160968458,
          0.9936865559435638,
          1.149927312754949,
          -0.6117767973140005,
          -0.44387643888953543,
          -0.03439784317436975,
          0.015399420236178523,
          1.1123127177074992,
          0.2649658061453154,
          0.6806251765292582,
          0.14785949702601267,
          -2.4605460959827004,
          -0.16205752753046915,
          -1.2254109809660831,
          -0.12225449695743638,
          0.5635173461831468,
          -0.2599285316945004,
          -0.27611765191417736,
          -1.4690531379716825,
          -1.954153503410868,
          -0.5866390468375826,
          0.1018189830619359,
          -0.07048593057982283,
          -1.212665780136159,
          -0.3451925694516716,
          0.9702962511148727,
          0.3423474752420889,
          1.9493684121162587,
          1.4406008187314832,
          -0.9759644286967494,
          -2.2506220014240275,
          -0.1950416048205692,
          0.3899551845378141,
          0.9796444130032764,
          -1.1593956186919911,
          0.9883877171167217,
          0.18632777987730414,
          -0.32652211390169983,
          0.5235349712369627,
          -0.14554797924655524,
          -0.6632566049388412,
          1.450516587911176,
          -1.8242348077687922,
          -0.7986611676784975,
          1.2865759967254213,
          0.03311206362784604,
          0.826111885566775,
          -1.8404480684092652,
          -0.17647317946813473,
          0.7076473944942543,
          0.6433397834820548,
          -0.05019150477402584,
          0.6938641710145623,
          -1.0856055786365582,
          -1.4164083407235537,
          -1.3642812235548454,
          1.846182244755937,
          -0.21921761442914586,
          -0.08980549285517242,
          -0.1207473523157025,
          -0.41706054413176086,
          0.6611570044122105,
          1.3289032537940533,
          -0.07510227699547183,
          -0.06500699130762963,
          0.47215000010575603,
          1.6071041868429516,
          2.0246550229557956,
          0.08805236871800126,
          0.9792317235927371,
          1.2488287261048898,
          -0.9105759352090856,
          -1.4063251858608385,
          1.3450088447347763,
          0.22540725929083774,
          -1.3483110021192624,
          0.47968437914212037
         ]
        },
        {
         "connectgaps": false,
         "fill": "tozeroy",
         "line": {
          "color": "green",
          "dash": "solid",
          "shape": "linear",
          "width": 0.5
         },
         "mode": "lines",
         "name": "Spread",
         "showlegend": false,
         "type": "scatter",
         "x": [
          0,
          1,
          2,
          3,
          4,
          5,
          6,
          7,
          8,
          9,
          10,
          11,
          12,
          13,
          14,
          15,
          16,
          17,
          18,
          19,
          20,
          21,
          22,
          23,
          24,
          25,
          26,
          27,
          28,
          29,
          30,
          31,
          32,
          33,
          34,
          35,
          36,
          37,
          38,
          39,
          40,
          41,
          42,
          43,
          44,
          45,
          46,
          47,
          48,
          49,
          50,
          51,
          52,
          53,
          54,
          55,
          56,
          57,
          58,
          59,
          60,
          61,
          62,
          63,
          64,
          65,
          66,
          67,
          68,
          69,
          70,
          71,
          72,
          73,
          74,
          75,
          76,
          77,
          78,
          79,
          80,
          81,
          82,
          83,
          84,
          85,
          86,
          87,
          88,
          89,
          90,
          91,
          92,
          93,
          94,
          95,
          96,
          97,
          98,
          99
         ],
         "xaxis": "x2",
         "y": [
          1.9161686340315816,
          0.5916832126254139,
          "",
          "",
          0.7895609397918071,
          "",
          1.1647936664828722,
          "",
          0.47787335216644283,
          2.1109248299393153,
          2.0289809589825505,
          1.7417700588321912,
          1.7300672627084315,
          0.3990223940913708,
          0.7625929238172173,
          1.9695725885041002,
          "",
          "",
          "",
          "",
          1.174307616355618,
          "",
          0.9407697624677754,
          0.731594453130404,
          "",
          "",
          "",
          "",
          "",
          0.2742668855382586,
          "",
          "",
          "",
          0.43421933281139413,
          3.100980809659699,
          "",
          3.7324067142577517,
          0.7235789610487594,
          "",
          "",
          "",
          0.7733865430313824,
          2.5609359820592696,
          0.5720071025859937,
          1.4478743606675004,
          0.5671905209500067,
          1.221322166562534,
          "",
          "",
          "",
          "",
          "",
          0.7274032473045512,
          3.5102699464376625,
          0.46335572036410844,
          0.6803553335192666,
          "",
          0.36714034163485776,
          1.7314191997625448,
          0.11497547032876482,
          "",
          0.04446978389406786,
          0.3354410554147431,
          0.7815280072486244,
          "",
          1.529690286780112,
          2.217935597959671,
          "",
          0.13426123735091927,
          "",
          0.259695125958439,
          "",
          "",
          0.11721679976549537,
          1.105253057700978,
          "",
          1.1093057173319245,
          1.4787989095405718,
          "",
          "",
          1.0971762111139138,
          "",
          "",
          "",
          "",
          "",
          "",
          "",
          0.7030437444108787,
          "",
          "",
          "",
          "",
          "",
          0.8337448337522573,
          2.58508043556908,
          "",
          2.482735267116905,
          2.3805232499429767,
          ""
         ],
         "yaxis": "y2"
        },
        {
         "connectgaps": false,
         "fill": "tozeroy",
         "line": {
          "color": "red",
          "dash": "solid",
          "shape": "linear",
          "width": 0.5
         },
         "mode": "lines",
         "name": "Spread",
         "showlegend": false,
         "type": "scatter",
         "x": [
          0,
          1,
          2,
          3,
          4,
          5,
          6,
          7,
          8,
          9,
          10,
          11,
          12,
          13,
          14,
          15,
          16,
          17,
          18,
          19,
          20,
          21,
          22,
          23,
          24,
          25,
          26,
          27,
          28,
          29,
          30,
          31,
          32,
          33,
          34,
          35,
          36,
          37,
          38,
          39,
          40,
          41,
          42,
          43,
          44,
          45,
          46,
          47,
          48,
          49,
          50,
          51,
          52,
          53,
          54,
          55,
          56,
          57,
          58,
          59,
          60,
          61,
          62,
          63,
          64,
          65,
          66,
          67,
          68,
          69,
          70,
          71,
          72,
          73,
          74,
          75,
          76,
          77,
          78,
          79,
          80,
          81,
          82,
          83,
          84,
          85,
          86,
          87,
          88,
          89,
          90,
          91,
          92,
          93,
          94,
          95,
          96,
          97,
          98,
          99
         ],
         "xaxis": "x2",
         "y": [
          "",
          "",
          -0.8991308766352568,
          -0.8220047391048334,
          "",
          -0.8111924494046845,
          "",
          -0.38914627855142236,
          "",
          "",
          "",
          "",
          "",
          "",
          "",
          "",
          -0.3505675454263364,
          -1.895516674178111,
          -1.4288242348300648,
          -1.5802168596065418,
          "",
          -1.2288217537023605,
          "",
          "",
          -2.2819820514439106,
          -0.8033528181536012,
          -0.9004542940781437,
          -1.9386742196184077,
          -0.3542486130625795,
          "",
          -0.7928758816202196,
          -0.5631204543025463,
          -0.6365016618368795,
          "",
          "",
          -0.3786150759181393,
          "",
          "",
          -3.1608637819307144,
          -0.8299460741748033,
          -0.09137546190422174,
          "",
          "",
          "",
          "",
          "",
          "",
          -0.842715355991213,
          -0.8569315893904674,
          -1.551804912293431,
          -1.4119851733540787,
          -2.1205506799531,
          "",
          "",
          "",
          "",
          -0.36761458884892884,
          "",
          "",
          "",
          -0.26521846218648804,
          "",
          "",
          "",
          -2.1617907717871674,
          "",
          "",
          -1.0847887352553607,
          "",
          -1.7716610868192428,
          "",
          -0.1452816212096389,
          -0.8720638340206106,
          "",
          "",
          -0.956677222285075,
          "",
          "",
          -0.2691855291768632,
          -1.7874087237371328,
          "",
          -0.13041184431357566,
          -0.3879771998877343,
          -0.03429395801796453,
          -0.39505575390858205,
          -1.1819931463961462,
          -0.03202618669547813,
          -0.47309297375765513,
          "",
          -0.8723619458823707,
          -1.5597120669435303,
          -0.5049828725550547,
          -0.8901618466840695,
          -0.031655430723785294,
          "",
          "",
          -0.34280077887916005,
          "",
          "",
          -1.7553917800473342
         ],
         "yaxis": "y2"
        }
       ],
       "layout": {
        "hovermode": "x",
        "legend": {
         "bgcolor": "#F5F6F9",
         "font": {
          "color": "#4D5663"
         }
        },
        "paper_bgcolor": "#F5F6F9",
        "plot_bgcolor": "#F5F6F9",
        "template": {
         "data": {
          "bar": [
           {
            "error_x": {
             "color": "#2a3f5f"
            },
            "error_y": {
             "color": "#2a3f5f"
            },
            "marker": {
             "line": {
              "color": "#E5ECF6",
              "width": 0.5
             },
             "pattern": {
              "fillmode": "overlay",
              "size": 10,
              "solidity": 0.2
             }
            },
            "type": "bar"
           }
          ],
          "barpolar": [
           {
            "marker": {
             "line": {
              "color": "#E5ECF6",
              "width": 0.5
             },
             "pattern": {
              "fillmode": "overlay",
              "size": 10,
              "solidity": 0.2
             }
            },
            "type": "barpolar"
           }
          ],
          "carpet": [
           {
            "aaxis": {
             "endlinecolor": "#2a3f5f",
             "gridcolor": "white",
             "linecolor": "white",
             "minorgridcolor": "white",
             "startlinecolor": "#2a3f5f"
            },
            "baxis": {
             "endlinecolor": "#2a3f5f",
             "gridcolor": "white",
             "linecolor": "white",
             "minorgridcolor": "white",
             "startlinecolor": "#2a3f5f"
            },
            "type": "carpet"
           }
          ],
          "choropleth": [
           {
            "colorbar": {
             "outlinewidth": 0,
             "ticks": ""
            },
            "type": "choropleth"
           }
          ],
          "contour": [
           {
            "colorbar": {
             "outlinewidth": 0,
             "ticks": ""
            },
            "colorscale": [
             [
              0,
              "#0d0887"
             ],
             [
              0.1111111111111111,
              "#46039f"
             ],
             [
              0.2222222222222222,
              "#7201a8"
             ],
             [
              0.3333333333333333,
              "#9c179e"
             ],
             [
              0.4444444444444444,
              "#bd3786"
             ],
             [
              0.5555555555555556,
              "#d8576b"
             ],
             [
              0.6666666666666666,
              "#ed7953"
             ],
             [
              0.7777777777777778,
              "#fb9f3a"
             ],
             [
              0.8888888888888888,
              "#fdca26"
             ],
             [
              1,
              "#f0f921"
             ]
            ],
            "type": "contour"
           }
          ],
          "contourcarpet": [
           {
            "colorbar": {
             "outlinewidth": 0,
             "ticks": ""
            },
            "type": "contourcarpet"
           }
          ],
          "heatmap": [
           {
            "colorbar": {
             "outlinewidth": 0,
             "ticks": ""
            },
            "colorscale": [
             [
              0,
              "#0d0887"
             ],
             [
              0.1111111111111111,
              "#46039f"
             ],
             [
              0.2222222222222222,
              "#7201a8"
             ],
             [
              0.3333333333333333,
              "#9c179e"
             ],
             [
              0.4444444444444444,
              "#bd3786"
             ],
             [
              0.5555555555555556,
              "#d8576b"
             ],
             [
              0.6666666666666666,
              "#ed7953"
             ],
             [
              0.7777777777777778,
              "#fb9f3a"
             ],
             [
              0.8888888888888888,
              "#fdca26"
             ],
             [
              1,
              "#f0f921"
             ]
            ],
            "type": "heatmap"
           }
          ],
          "heatmapgl": [
           {
            "colorbar": {
             "outlinewidth": 0,
             "ticks": ""
            },
            "colorscale": [
             [
              0,
              "#0d0887"
             ],
             [
              0.1111111111111111,
              "#46039f"
             ],
             [
              0.2222222222222222,
              "#7201a8"
             ],
             [
              0.3333333333333333,
              "#9c179e"
             ],
             [
              0.4444444444444444,
              "#bd3786"
             ],
             [
              0.5555555555555556,
              "#d8576b"
             ],
             [
              0.6666666666666666,
              "#ed7953"
             ],
             [
              0.7777777777777778,
              "#fb9f3a"
             ],
             [
              0.8888888888888888,
              "#fdca26"
             ],
             [
              1,
              "#f0f921"
             ]
            ],
            "type": "heatmapgl"
           }
          ],
          "histogram": [
           {
            "marker": {
             "pattern": {
              "fillmode": "overlay",
              "size": 10,
              "solidity": 0.2
             }
            },
            "type": "histogram"
           }
          ],
          "histogram2d": [
           {
            "colorbar": {
             "outlinewidth": 0,
             "ticks": ""
            },
            "colorscale": [
             [
              0,
              "#0d0887"
             ],
             [
              0.1111111111111111,
              "#46039f"
             ],
             [
              0.2222222222222222,
              "#7201a8"
             ],
             [
              0.3333333333333333,
              "#9c179e"
             ],
             [
              0.4444444444444444,
              "#bd3786"
             ],
             [
              0.5555555555555556,
              "#d8576b"
             ],
             [
              0.6666666666666666,
              "#ed7953"
             ],
             [
              0.7777777777777778,
              "#fb9f3a"
             ],
             [
              0.8888888888888888,
              "#fdca26"
             ],
             [
              1,
              "#f0f921"
             ]
            ],
            "type": "histogram2d"
           }
          ],
          "histogram2dcontour": [
           {
            "colorbar": {
             "outlinewidth": 0,
             "ticks": ""
            },
            "colorscale": [
             [
              0,
              "#0d0887"
             ],
             [
              0.1111111111111111,
              "#46039f"
             ],
             [
              0.2222222222222222,
              "#7201a8"
             ],
             [
              0.3333333333333333,
              "#9c179e"
             ],
             [
              0.4444444444444444,
              "#bd3786"
             ],
             [
              0.5555555555555556,
              "#d8576b"
             ],
             [
              0.6666666666666666,
              "#ed7953"
             ],
             [
              0.7777777777777778,
              "#fb9f3a"
             ],
             [
              0.8888888888888888,
              "#fdca26"
             ],
             [
              1,
              "#f0f921"
             ]
            ],
            "type": "histogram2dcontour"
           }
          ],
          "mesh3d": [
           {
            "colorbar": {
             "outlinewidth": 0,
             "ticks": ""
            },
            "type": "mesh3d"
           }
          ],
          "parcoords": [
           {
            "line": {
             "colorbar": {
              "outlinewidth": 0,
              "ticks": ""
             }
            },
            "type": "parcoords"
           }
          ],
          "pie": [
           {
            "automargin": true,
            "type": "pie"
           }
          ],
          "scatter": [
           {
            "fillpattern": {
             "fillmode": "overlay",
             "size": 10,
             "solidity": 0.2
            },
            "type": "scatter"
           }
          ],
          "scatter3d": [
           {
            "line": {
             "colorbar": {
              "outlinewidth": 0,
              "ticks": ""
             }
            },
            "marker": {
             "colorbar": {
              "outlinewidth": 0,
              "ticks": ""
             }
            },
            "type": "scatter3d"
           }
          ],
          "scattercarpet": [
           {
            "marker": {
             "colorbar": {
              "outlinewidth": 0,
              "ticks": ""
             }
            },
            "type": "scattercarpet"
           }
          ],
          "scattergeo": [
           {
            "marker": {
             "colorbar": {
              "outlinewidth": 0,
              "ticks": ""
             }
            },
            "type": "scattergeo"
           }
          ],
          "scattergl": [
           {
            "marker": {
             "colorbar": {
              "outlinewidth": 0,
              "ticks": ""
             }
            },
            "type": "scattergl"
           }
          ],
          "scattermapbox": [
           {
            "marker": {
             "colorbar": {
              "outlinewidth": 0,
              "ticks": ""
             }
            },
            "type": "scattermapbox"
           }
          ],
          "scatterpolar": [
           {
            "marker": {
             "colorbar": {
              "outlinewidth": 0,
              "ticks": ""
             }
            },
            "type": "scatterpolar"
           }
          ],
          "scatterpolargl": [
           {
            "marker": {
             "colorbar": {
              "outlinewidth": 0,
              "ticks": ""
             }
            },
            "type": "scatterpolargl"
           }
          ],
          "scatterternary": [
           {
            "marker": {
             "colorbar": {
              "outlinewidth": 0,
              "ticks": ""
             }
            },
            "type": "scatterternary"
           }
          ],
          "surface": [
           {
            "colorbar": {
             "outlinewidth": 0,
             "ticks": ""
            },
            "colorscale": [
             [
              0,
              "#0d0887"
             ],
             [
              0.1111111111111111,
              "#46039f"
             ],
             [
              0.2222222222222222,
              "#7201a8"
             ],
             [
              0.3333333333333333,
              "#9c179e"
             ],
             [
              0.4444444444444444,
              "#bd3786"
             ],
             [
              0.5555555555555556,
              "#d8576b"
             ],
             [
              0.6666666666666666,
              "#ed7953"
             ],
             [
              0.7777777777777778,
              "#fb9f3a"
             ],
             [
              0.8888888888888888,
              "#fdca26"
             ],
             [
              1,
              "#f0f921"
             ]
            ],
            "type": "surface"
           }
          ],
          "table": [
           {
            "cells": {
             "fill": {
              "color": "#EBF0F8"
             },
             "line": {
              "color": "white"
             }
            },
            "header": {
             "fill": {
              "color": "#C8D4E3"
             },
             "line": {
              "color": "white"
             }
            },
            "type": "table"
           }
          ]
         },
         "layout": {
          "annotationdefaults": {
           "arrowcolor": "#2a3f5f",
           "arrowhead": 0,
           "arrowwidth": 1
          },
          "autotypenumbers": "strict",
          "coloraxis": {
           "colorbar": {
            "outlinewidth": 0,
            "ticks": ""
           }
          },
          "colorscale": {
           "diverging": [
            [
             0,
             "#8e0152"
            ],
            [
             0.1,
             "#c51b7d"
            ],
            [
             0.2,
             "#de77ae"
            ],
            [
             0.3,
             "#f1b6da"
            ],
            [
             0.4,
             "#fde0ef"
            ],
            [
             0.5,
             "#f7f7f7"
            ],
            [
             0.6,
             "#e6f5d0"
            ],
            [
             0.7,
             "#b8e186"
            ],
            [
             0.8,
             "#7fbc41"
            ],
            [
             0.9,
             "#4d9221"
            ],
            [
             1,
             "#276419"
            ]
           ],
           "sequential": [
            [
             0,
             "#0d0887"
            ],
            [
             0.1111111111111111,
             "#46039f"
            ],
            [
             0.2222222222222222,
             "#7201a8"
            ],
            [
             0.3333333333333333,
             "#9c179e"
            ],
            [
             0.4444444444444444,
             "#bd3786"
            ],
            [
             0.5555555555555556,
             "#d8576b"
            ],
            [
             0.6666666666666666,
             "#ed7953"
            ],
            [
             0.7777777777777778,
             "#fb9f3a"
            ],
            [
             0.8888888888888888,
             "#fdca26"
            ],
            [
             1,
             "#f0f921"
            ]
           ],
           "sequentialminus": [
            [
             0,
             "#0d0887"
            ],
            [
             0.1111111111111111,
             "#46039f"
            ],
            [
             0.2222222222222222,
             "#7201a8"
            ],
            [
             0.3333333333333333,
             "#9c179e"
            ],
            [
             0.4444444444444444,
             "#bd3786"
            ],
            [
             0.5555555555555556,
             "#d8576b"
            ],
            [
             0.6666666666666666,
             "#ed7953"
            ],
            [
             0.7777777777777778,
             "#fb9f3a"
            ],
            [
             0.8888888888888888,
             "#fdca26"
            ],
            [
             1,
             "#f0f921"
            ]
           ]
          },
          "colorway": [
           "#636efa",
           "#EF553B",
           "#00cc96",
           "#ab63fa",
           "#FFA15A",
           "#19d3f3",
           "#FF6692",
           "#B6E880",
           "#FF97FF",
           "#FECB52"
          ],
          "font": {
           "color": "#2a3f5f"
          },
          "geo": {
           "bgcolor": "white",
           "lakecolor": "white",
           "landcolor": "#E5ECF6",
           "showlakes": true,
           "showland": true,
           "subunitcolor": "white"
          },
          "hoverlabel": {
           "align": "left"
          },
          "hovermode": "closest",
          "mapbox": {
           "style": "light"
          },
          "paper_bgcolor": "white",
          "plot_bgcolor": "#E5ECF6",
          "polar": {
           "angularaxis": {
            "gridcolor": "white",
            "linecolor": "white",
            "ticks": ""
           },
           "bgcolor": "#E5ECF6",
           "radialaxis": {
            "gridcolor": "white",
            "linecolor": "white",
            "ticks": ""
           }
          },
          "scene": {
           "xaxis": {
            "backgroundcolor": "#E5ECF6",
            "gridcolor": "white",
            "gridwidth": 2,
            "linecolor": "white",
            "showbackground": true,
            "ticks": "",
            "zerolinecolor": "white"
           },
           "yaxis": {
            "backgroundcolor": "#E5ECF6",
            "gridcolor": "white",
            "gridwidth": 2,
            "linecolor": "white",
            "showbackground": true,
            "ticks": "",
            "zerolinecolor": "white"
           },
           "zaxis": {
            "backgroundcolor": "#E5ECF6",
            "gridcolor": "white",
            "gridwidth": 2,
            "linecolor": "white",
            "showbackground": true,
            "ticks": "",
            "zerolinecolor": "white"
           }
          },
          "shapedefaults": {
           "line": {
            "color": "#2a3f5f"
           }
          },
          "ternary": {
           "aaxis": {
            "gridcolor": "white",
            "linecolor": "white",
            "ticks": ""
           },
           "baxis": {
            "gridcolor": "white",
            "linecolor": "white",
            "ticks": ""
           },
           "bgcolor": "#E5ECF6",
           "caxis": {
            "gridcolor": "white",
            "linecolor": "white",
            "ticks": ""
           }
          },
          "title": {
           "x": 0.05
          },
          "xaxis": {
           "automargin": true,
           "gridcolor": "white",
           "linecolor": "white",
           "ticks": "",
           "title": {
            "standoff": 15
           },
           "zerolinecolor": "white",
           "zerolinewidth": 2
          },
          "yaxis": {
           "automargin": true,
           "gridcolor": "white",
           "linecolor": "white",
           "ticks": "",
           "title": {
            "standoff": 15
           },
           "zerolinecolor": "white",
           "zerolinewidth": 2
          }
         }
        },
        "title": {
         "font": {
          "color": "#4D5663"
         }
        },
        "xaxis": {
         "gridcolor": "#E1E5ED",
         "showgrid": true,
         "tickfont": {
          "color": "#4D5663"
         },
         "title": {
          "font": {
           "color": "#4D5663"
          },
          "text": ""
         },
         "zerolinecolor": "#E1E5ED"
        },
        "xaxis2": {
         "anchor": "y2",
         "gridcolor": "#E1E5ED",
         "showgrid": true,
         "showticklabels": false,
         "tickfont": {
          "color": "#4D5663"
         },
         "title": {
          "font": {
           "color": "#4D5663"
          },
          "text": ""
         },
         "zerolinecolor": "#E1E5ED"
        },
        "yaxis": {
         "domain": [
          0.3,
          1
         ],
         "gridcolor": "#E1E5ED",
         "showgrid": true,
         "tickfont": {
          "color": "#4D5663"
         },
         "title": {
          "font": {
           "color": "#4D5663"
          },
          "text": ""
         },
         "zerolinecolor": "#E1E5ED"
        },
        "yaxis2": {
         "domain": [
          0,
          0.25
         ],
         "gridcolor": "#E1E5ED",
         "showgrid": true,
         "tickfont": {
          "color": "#4D5663"
         },
         "title": {
          "font": {
           "color": "#4D5663"
          },
          "text": "Spread"
         },
         "zerolinecolor": "#E1E5ED"
        }
       }
      },
      "text/html": [
       "<div>                            <div id=\"d2a7b48b-5780-4888-ab54-83d34de11c22\" class=\"plotly-graph-div\" style=\"height:525px; width:100%;\"></div>            <script type=\"text/javascript\">                require([\"plotly\"], function(Plotly) {                    window.PLOTLYENV=window.PLOTLYENV || {};\n",
       "                    window.PLOTLYENV.BASE_URL='https://plot.ly';                                    if (document.getElementById(\"d2a7b48b-5780-4888-ab54-83d34de11c22\")) {                    Plotly.newPlot(                        \"d2a7b48b-5780-4888-ab54-83d34de11c22\",                        [{\"line\":{\"color\":\"rgba(255, 153, 51, 1.0)\",\"dash\":\"solid\",\"shape\":\"linear\",\"width\":1.3},\"mode\":\"lines\",\"name\":\"A\",\"text\":\"\",\"x\":[0,1,2,3,4,5,6,7,8,9,10,11,12,13,14,15,16,17,18,19,20,21,22,23,24,25,26,27,28,29,30,31,32,33,34,35,36,37,38,39,40,41,42,43,44,45,46,47,48,49,50,51,52,53,54,55,56,57,58,59,60,61,62,63,64,65,66,67,68,69,70,71,72,73,74,75,76,77,78,79,80,81,82,83,84,85,86,87,88,89,90,91,92,93,94,95,96,97,98,99],\"y\":[0.7365676730741115,-0.7858723473162033,-0.7612014338282168,-0.33828969119184393,2.119963389888639,-0.21033529370795123,0.6767739565306867,0.5069782758452451,0.774016534624883,0.645969599888223,1.320915012722791,0.44625820307936953,1.3497982780888076,-0.054312851369403614,0.4086759252360387,0.7670248516378464,-0.34164747625266406,-1.7258492298186636,-0.606458487839304,-0.38509253069137594,1.4779673151544093,-1.5316814798425253,0.9217068353068714,-0.3871133629664417,-1.288295495500347,0.34657449460134787,-1.5122310913921442,-2.382550658507943,-0.38864645623694927,0.28966630577443714,0.3194368360872796,-0.298154648157231,0.04412351469237872,0.5820788298374068,0.6404347136769989,-0.5406726034486085,2.5069957332916686,0.601324464091323,-2.5973464357475677,-1.0898746058693036,-0.3674931138183991,-0.6956665949403,0.6067824786484017,-0.014631944251588846,1.5496933437294362,0.49670459037018383,0.008656386426374951,-1.1879079254428846,0.1133646617244053,-1.209457437051342,0.53738323876218,-0.6799498612216169,-0.2485611813921982,1.259647945013635,0.26831411554353923,1.0703105180570807,0.6120298241543476,-0.7922552770571334,2.7198069168792665,0.30130325020606896,-0.5917405760881879,0.5680047551310305,0.18989307616818785,0.11827140230978321,-0.7112741838759915,-0.29454452098868006,1.4192744302811733,0.20178726147006076,0.16737330097876532,-0.9455492012524679,-1.5807529424508262,-0.3217548006777736,-0.16441643952635626,0.7605565832475502,1.0550615529269523,-0.26281305127051263,0.023700138695366336,0.0623905688170181,-1.6334667527317086,0.05877352101880432,0.8779585966847681,-0.22021733716874808,-0.5087245522034368,-0.4513545021497254,0.26610125050362843,0.14691010739790702,-0.10712846369094996,-0.5380999650652848,1.1751937445166347,0.7347422409605809,0.46494295601226526,-0.41693050383705343,0.0890698769086676,1.2171732953811045,-0.07683110145682837,1.1787552497082416,1.0022080658556163,2.708142526407743,1.0322122478237143,-1.2757074009052138],\"type\":\"scatter\"},{\"line\":{\"color\":\"rgba(55, 128, 191, 1.0)\",\"dash\":\"solid\",\"shape\":\"linear\",\"width\":1.3},\"mode\":\"lines\",\"name\":\"B\",\"text\":\"\",\"x\":[0,1,2,3,4,5,6,7,8,9,10,11,12,13,14,15,16,17,18,19,20,21,22,23,24,25,26,27,28,29,30,31,32,33,34,35,36,37,38,39,40,41,42,43,44,45,46,47,48,49,50,51,52,53,54,55,56,57,58,59,60,61,62,63,64,65,66,67,68,69,70,71,72,73,74,75,76,77,78,79,80,81,82,83,84,85,86,87,88,89,90,91,92,93,94,95,96,97,98,99],\"y\":[-1.17960096095747,-1.3775555599416172,0.13792944280704006,0.48371504791298947,1.330402450096832,0.6008571556967333,-0.48801970995218547,0.8961245543966675,0.2961431824584401,-1.4649552300510922,-0.7080659462597593,-1.2955118557528216,-0.38026898461962383,-0.4533352454607744,-0.3539169985811786,-1.2025477368662538,0.00892006917367232,0.16966744435944756,0.8223657469907609,1.1951243289151658,0.30365969879879123,-0.3028597261401649,-0.019062927160904068,-1.1187078160968458,0.9936865559435638,1.149927312754949,-0.6117767973140005,-0.44387643888953543,-0.03439784317436975,0.015399420236178523,1.1123127177074992,0.2649658061453154,0.6806251765292582,0.14785949702601267,-2.4605460959827004,-0.16205752753046915,-1.2254109809660831,-0.12225449695743638,0.5635173461831468,-0.2599285316945004,-0.27611765191417736,-1.4690531379716825,-1.954153503410868,-0.5866390468375826,0.1018189830619359,-0.07048593057982283,-1.212665780136159,-0.3451925694516716,0.9702962511148727,0.3423474752420889,1.9493684121162587,1.4406008187314832,-0.9759644286967494,-2.2506220014240275,-0.1950416048205692,0.3899551845378141,0.9796444130032764,-1.1593956186919911,0.9883877171167217,0.18632777987730414,-0.32652211390169983,0.5235349712369627,-0.14554797924655524,-0.6632566049388412,1.450516587911176,-1.8242348077687922,-0.7986611676784975,1.2865759967254213,0.03311206362784604,0.826111885566775,-1.8404480684092652,-0.17647317946813473,0.7076473944942543,0.6433397834820548,-0.05019150477402584,0.6938641710145623,-1.0856055786365582,-1.4164083407235537,-1.3642812235548454,1.846182244755937,-0.21921761442914586,-0.08980549285517242,-0.1207473523157025,-0.41706054413176086,0.6611570044122105,1.3289032537940533,-0.07510227699547183,-0.06500699130762963,0.47215000010575603,1.6071041868429516,2.0246550229557956,0.08805236871800126,0.9792317235927371,1.2488287261048898,-0.9105759352090856,-1.4063251858608385,1.3450088447347763,0.22540725929083774,-1.3483110021192624,0.47968437914212037],\"type\":\"scatter\"},{\"connectgaps\":false,\"fill\":\"tozeroy\",\"line\":{\"color\":\"green\",\"dash\":\"solid\",\"shape\":\"linear\",\"width\":0.5},\"mode\":\"lines\",\"name\":\"Spread\",\"showlegend\":false,\"x\":[0,1,2,3,4,5,6,7,8,9,10,11,12,13,14,15,16,17,18,19,20,21,22,23,24,25,26,27,28,29,30,31,32,33,34,35,36,37,38,39,40,41,42,43,44,45,46,47,48,49,50,51,52,53,54,55,56,57,58,59,60,61,62,63,64,65,66,67,68,69,70,71,72,73,74,75,76,77,78,79,80,81,82,83,84,85,86,87,88,89,90,91,92,93,94,95,96,97,98,99],\"xaxis\":\"x2\",\"y\":[1.9161686340315816,0.5916832126254139,\"\",\"\",0.7895609397918071,\"\",1.1647936664828722,\"\",0.47787335216644283,2.1109248299393153,2.0289809589825505,1.7417700588321912,1.7300672627084315,0.3990223940913708,0.7625929238172173,1.9695725885041002,\"\",\"\",\"\",\"\",1.174307616355618,\"\",0.9407697624677754,0.731594453130404,\"\",\"\",\"\",\"\",\"\",0.2742668855382586,\"\",\"\",\"\",0.43421933281139413,3.100980809659699,\"\",3.7324067142577517,0.7235789610487594,\"\",\"\",\"\",0.7733865430313824,2.5609359820592696,0.5720071025859937,1.4478743606675004,0.5671905209500067,1.221322166562534,\"\",\"\",\"\",\"\",\"\",0.7274032473045512,3.5102699464376625,0.46335572036410844,0.6803553335192666,\"\",0.36714034163485776,1.7314191997625448,0.11497547032876482,\"\",0.04446978389406786,0.3354410554147431,0.7815280072486244,\"\",1.529690286780112,2.217935597959671,\"\",0.13426123735091927,\"\",0.259695125958439,\"\",\"\",0.11721679976549537,1.105253057700978,\"\",1.1093057173319245,1.4787989095405718,\"\",\"\",1.0971762111139138,\"\",\"\",\"\",\"\",\"\",\"\",\"\",0.7030437444108787,\"\",\"\",\"\",\"\",\"\",0.8337448337522573,2.58508043556908,\"\",2.482735267116905,2.3805232499429767,\"\"],\"yaxis\":\"y2\",\"type\":\"scatter\"},{\"connectgaps\":false,\"fill\":\"tozeroy\",\"line\":{\"color\":\"red\",\"dash\":\"solid\",\"shape\":\"linear\",\"width\":0.5},\"mode\":\"lines\",\"name\":\"Spread\",\"showlegend\":false,\"x\":[0,1,2,3,4,5,6,7,8,9,10,11,12,13,14,15,16,17,18,19,20,21,22,23,24,25,26,27,28,29,30,31,32,33,34,35,36,37,38,39,40,41,42,43,44,45,46,47,48,49,50,51,52,53,54,55,56,57,58,59,60,61,62,63,64,65,66,67,68,69,70,71,72,73,74,75,76,77,78,79,80,81,82,83,84,85,86,87,88,89,90,91,92,93,94,95,96,97,98,99],\"xaxis\":\"x2\",\"y\":[\"\",\"\",-0.8991308766352568,-0.8220047391048334,\"\",-0.8111924494046845,\"\",-0.38914627855142236,\"\",\"\",\"\",\"\",\"\",\"\",\"\",\"\",-0.3505675454263364,-1.895516674178111,-1.4288242348300648,-1.5802168596065418,\"\",-1.2288217537023605,\"\",\"\",-2.2819820514439106,-0.8033528181536012,-0.9004542940781437,-1.9386742196184077,-0.3542486130625795,\"\",-0.7928758816202196,-0.5631204543025463,-0.6365016618368795,\"\",\"\",-0.3786150759181393,\"\",\"\",-3.1608637819307144,-0.8299460741748033,-0.09137546190422174,\"\",\"\",\"\",\"\",\"\",\"\",-0.842715355991213,-0.8569315893904674,-1.551804912293431,-1.4119851733540787,-2.1205506799531,\"\",\"\",\"\",\"\",-0.36761458884892884,\"\",\"\",\"\",-0.26521846218648804,\"\",\"\",\"\",-2.1617907717871674,\"\",\"\",-1.0847887352553607,\"\",-1.7716610868192428,\"\",-0.1452816212096389,-0.8720638340206106,\"\",\"\",-0.956677222285075,\"\",\"\",-0.2691855291768632,-1.7874087237371328,\"\",-0.13041184431357566,-0.3879771998877343,-0.03429395801796453,-0.39505575390858205,-1.1819931463961462,-0.03202618669547813,-0.47309297375765513,\"\",-0.8723619458823707,-1.5597120669435303,-0.5049828725550547,-0.8901618466840695,-0.031655430723785294,\"\",\"\",-0.34280077887916005,\"\",\"\",-1.7553917800473342],\"yaxis\":\"y2\",\"type\":\"scatter\"}],                        {\"hovermode\":\"x\",\"legend\":{\"bgcolor\":\"#F5F6F9\",\"font\":{\"color\":\"#4D5663\"}},\"paper_bgcolor\":\"#F5F6F9\",\"plot_bgcolor\":\"#F5F6F9\",\"template\":{\"data\":{\"barpolar\":[{\"marker\":{\"line\":{\"color\":\"#E5ECF6\",\"width\":0.5},\"pattern\":{\"fillmode\":\"overlay\",\"size\":10,\"solidity\":0.2}},\"type\":\"barpolar\"}],\"bar\":[{\"error_x\":{\"color\":\"#2a3f5f\"},\"error_y\":{\"color\":\"#2a3f5f\"},\"marker\":{\"line\":{\"color\":\"#E5ECF6\",\"width\":0.5},\"pattern\":{\"fillmode\":\"overlay\",\"size\":10,\"solidity\":0.2}},\"type\":\"bar\"}],\"carpet\":[{\"aaxis\":{\"endlinecolor\":\"#2a3f5f\",\"gridcolor\":\"white\",\"linecolor\":\"white\",\"minorgridcolor\":\"white\",\"startlinecolor\":\"#2a3f5f\"},\"baxis\":{\"endlinecolor\":\"#2a3f5f\",\"gridcolor\":\"white\",\"linecolor\":\"white\",\"minorgridcolor\":\"white\",\"startlinecolor\":\"#2a3f5f\"},\"type\":\"carpet\"}],\"choropleth\":[{\"colorbar\":{\"outlinewidth\":0,\"ticks\":\"\"},\"type\":\"choropleth\"}],\"contourcarpet\":[{\"colorbar\":{\"outlinewidth\":0,\"ticks\":\"\"},\"type\":\"contourcarpet\"}],\"contour\":[{\"colorbar\":{\"outlinewidth\":0,\"ticks\":\"\"},\"colorscale\":[[0.0,\"#0d0887\"],[0.1111111111111111,\"#46039f\"],[0.2222222222222222,\"#7201a8\"],[0.3333333333333333,\"#9c179e\"],[0.4444444444444444,\"#bd3786\"],[0.5555555555555556,\"#d8576b\"],[0.6666666666666666,\"#ed7953\"],[0.7777777777777778,\"#fb9f3a\"],[0.8888888888888888,\"#fdca26\"],[1.0,\"#f0f921\"]],\"type\":\"contour\"}],\"heatmapgl\":[{\"colorbar\":{\"outlinewidth\":0,\"ticks\":\"\"},\"colorscale\":[[0.0,\"#0d0887\"],[0.1111111111111111,\"#46039f\"],[0.2222222222222222,\"#7201a8\"],[0.3333333333333333,\"#9c179e\"],[0.4444444444444444,\"#bd3786\"],[0.5555555555555556,\"#d8576b\"],[0.6666666666666666,\"#ed7953\"],[0.7777777777777778,\"#fb9f3a\"],[0.8888888888888888,\"#fdca26\"],[1.0,\"#f0f921\"]],\"type\":\"heatmapgl\"}],\"heatmap\":[{\"colorbar\":{\"outlinewidth\":0,\"ticks\":\"\"},\"colorscale\":[[0.0,\"#0d0887\"],[0.1111111111111111,\"#46039f\"],[0.2222222222222222,\"#7201a8\"],[0.3333333333333333,\"#9c179e\"],[0.4444444444444444,\"#bd3786\"],[0.5555555555555556,\"#d8576b\"],[0.6666666666666666,\"#ed7953\"],[0.7777777777777778,\"#fb9f3a\"],[0.8888888888888888,\"#fdca26\"],[1.0,\"#f0f921\"]],\"type\":\"heatmap\"}],\"histogram2dcontour\":[{\"colorbar\":{\"outlinewidth\":0,\"ticks\":\"\"},\"colorscale\":[[0.0,\"#0d0887\"],[0.1111111111111111,\"#46039f\"],[0.2222222222222222,\"#7201a8\"],[0.3333333333333333,\"#9c179e\"],[0.4444444444444444,\"#bd3786\"],[0.5555555555555556,\"#d8576b\"],[0.6666666666666666,\"#ed7953\"],[0.7777777777777778,\"#fb9f3a\"],[0.8888888888888888,\"#fdca26\"],[1.0,\"#f0f921\"]],\"type\":\"histogram2dcontour\"}],\"histogram2d\":[{\"colorbar\":{\"outlinewidth\":0,\"ticks\":\"\"},\"colorscale\":[[0.0,\"#0d0887\"],[0.1111111111111111,\"#46039f\"],[0.2222222222222222,\"#7201a8\"],[0.3333333333333333,\"#9c179e\"],[0.4444444444444444,\"#bd3786\"],[0.5555555555555556,\"#d8576b\"],[0.6666666666666666,\"#ed7953\"],[0.7777777777777778,\"#fb9f3a\"],[0.8888888888888888,\"#fdca26\"],[1.0,\"#f0f921\"]],\"type\":\"histogram2d\"}],\"histogram\":[{\"marker\":{\"pattern\":{\"fillmode\":\"overlay\",\"size\":10,\"solidity\":0.2}},\"type\":\"histogram\"}],\"mesh3d\":[{\"colorbar\":{\"outlinewidth\":0,\"ticks\":\"\"},\"type\":\"mesh3d\"}],\"parcoords\":[{\"line\":{\"colorbar\":{\"outlinewidth\":0,\"ticks\":\"\"}},\"type\":\"parcoords\"}],\"pie\":[{\"automargin\":true,\"type\":\"pie\"}],\"scatter3d\":[{\"line\":{\"colorbar\":{\"outlinewidth\":0,\"ticks\":\"\"}},\"marker\":{\"colorbar\":{\"outlinewidth\":0,\"ticks\":\"\"}},\"type\":\"scatter3d\"}],\"scattercarpet\":[{\"marker\":{\"colorbar\":{\"outlinewidth\":0,\"ticks\":\"\"}},\"type\":\"scattercarpet\"}],\"scattergeo\":[{\"marker\":{\"colorbar\":{\"outlinewidth\":0,\"ticks\":\"\"}},\"type\":\"scattergeo\"}],\"scattergl\":[{\"marker\":{\"colorbar\":{\"outlinewidth\":0,\"ticks\":\"\"}},\"type\":\"scattergl\"}],\"scattermapbox\":[{\"marker\":{\"colorbar\":{\"outlinewidth\":0,\"ticks\":\"\"}},\"type\":\"scattermapbox\"}],\"scatterpolargl\":[{\"marker\":{\"colorbar\":{\"outlinewidth\":0,\"ticks\":\"\"}},\"type\":\"scatterpolargl\"}],\"scatterpolar\":[{\"marker\":{\"colorbar\":{\"outlinewidth\":0,\"ticks\":\"\"}},\"type\":\"scatterpolar\"}],\"scatter\":[{\"fillpattern\":{\"fillmode\":\"overlay\",\"size\":10,\"solidity\":0.2},\"type\":\"scatter\"}],\"scatterternary\":[{\"marker\":{\"colorbar\":{\"outlinewidth\":0,\"ticks\":\"\"}},\"type\":\"scatterternary\"}],\"surface\":[{\"colorbar\":{\"outlinewidth\":0,\"ticks\":\"\"},\"colorscale\":[[0.0,\"#0d0887\"],[0.1111111111111111,\"#46039f\"],[0.2222222222222222,\"#7201a8\"],[0.3333333333333333,\"#9c179e\"],[0.4444444444444444,\"#bd3786\"],[0.5555555555555556,\"#d8576b\"],[0.6666666666666666,\"#ed7953\"],[0.7777777777777778,\"#fb9f3a\"],[0.8888888888888888,\"#fdca26\"],[1.0,\"#f0f921\"]],\"type\":\"surface\"}],\"table\":[{\"cells\":{\"fill\":{\"color\":\"#EBF0F8\"},\"line\":{\"color\":\"white\"}},\"header\":{\"fill\":{\"color\":\"#C8D4E3\"},\"line\":{\"color\":\"white\"}},\"type\":\"table\"}]},\"layout\":{\"annotationdefaults\":{\"arrowcolor\":\"#2a3f5f\",\"arrowhead\":0,\"arrowwidth\":1},\"autotypenumbers\":\"strict\",\"coloraxis\":{\"colorbar\":{\"outlinewidth\":0,\"ticks\":\"\"}},\"colorscale\":{\"diverging\":[[0,\"#8e0152\"],[0.1,\"#c51b7d\"],[0.2,\"#de77ae\"],[0.3,\"#f1b6da\"],[0.4,\"#fde0ef\"],[0.5,\"#f7f7f7\"],[0.6,\"#e6f5d0\"],[0.7,\"#b8e186\"],[0.8,\"#7fbc41\"],[0.9,\"#4d9221\"],[1,\"#276419\"]],\"sequential\":[[0.0,\"#0d0887\"],[0.1111111111111111,\"#46039f\"],[0.2222222222222222,\"#7201a8\"],[0.3333333333333333,\"#9c179e\"],[0.4444444444444444,\"#bd3786\"],[0.5555555555555556,\"#d8576b\"],[0.6666666666666666,\"#ed7953\"],[0.7777777777777778,\"#fb9f3a\"],[0.8888888888888888,\"#fdca26\"],[1.0,\"#f0f921\"]],\"sequentialminus\":[[0.0,\"#0d0887\"],[0.1111111111111111,\"#46039f\"],[0.2222222222222222,\"#7201a8\"],[0.3333333333333333,\"#9c179e\"],[0.4444444444444444,\"#bd3786\"],[0.5555555555555556,\"#d8576b\"],[0.6666666666666666,\"#ed7953\"],[0.7777777777777778,\"#fb9f3a\"],[0.8888888888888888,\"#fdca26\"],[1.0,\"#f0f921\"]]},\"colorway\":[\"#636efa\",\"#EF553B\",\"#00cc96\",\"#ab63fa\",\"#FFA15A\",\"#19d3f3\",\"#FF6692\",\"#B6E880\",\"#FF97FF\",\"#FECB52\"],\"font\":{\"color\":\"#2a3f5f\"},\"geo\":{\"bgcolor\":\"white\",\"lakecolor\":\"white\",\"landcolor\":\"#E5ECF6\",\"showlakes\":true,\"showland\":true,\"subunitcolor\":\"white\"},\"hoverlabel\":{\"align\":\"left\"},\"hovermode\":\"closest\",\"mapbox\":{\"style\":\"light\"},\"paper_bgcolor\":\"white\",\"plot_bgcolor\":\"#E5ECF6\",\"polar\":{\"angularaxis\":{\"gridcolor\":\"white\",\"linecolor\":\"white\",\"ticks\":\"\"},\"bgcolor\":\"#E5ECF6\",\"radialaxis\":{\"gridcolor\":\"white\",\"linecolor\":\"white\",\"ticks\":\"\"}},\"scene\":{\"xaxis\":{\"backgroundcolor\":\"#E5ECF6\",\"gridcolor\":\"white\",\"gridwidth\":2,\"linecolor\":\"white\",\"showbackground\":true,\"ticks\":\"\",\"zerolinecolor\":\"white\"},\"yaxis\":{\"backgroundcolor\":\"#E5ECF6\",\"gridcolor\":\"white\",\"gridwidth\":2,\"linecolor\":\"white\",\"showbackground\":true,\"ticks\":\"\",\"zerolinecolor\":\"white\"},\"zaxis\":{\"backgroundcolor\":\"#E5ECF6\",\"gridcolor\":\"white\",\"gridwidth\":2,\"linecolor\":\"white\",\"showbackground\":true,\"ticks\":\"\",\"zerolinecolor\":\"white\"}},\"shapedefaults\":{\"line\":{\"color\":\"#2a3f5f\"}},\"ternary\":{\"aaxis\":{\"gridcolor\":\"white\",\"linecolor\":\"white\",\"ticks\":\"\"},\"baxis\":{\"gridcolor\":\"white\",\"linecolor\":\"white\",\"ticks\":\"\"},\"bgcolor\":\"#E5ECF6\",\"caxis\":{\"gridcolor\":\"white\",\"linecolor\":\"white\",\"ticks\":\"\"}},\"title\":{\"x\":0.05},\"xaxis\":{\"automargin\":true,\"gridcolor\":\"white\",\"linecolor\":\"white\",\"ticks\":\"\",\"title\":{\"standoff\":15},\"zerolinecolor\":\"white\",\"zerolinewidth\":2},\"yaxis\":{\"automargin\":true,\"gridcolor\":\"white\",\"linecolor\":\"white\",\"ticks\":\"\",\"title\":{\"standoff\":15},\"zerolinecolor\":\"white\",\"zerolinewidth\":2}}},\"title\":{\"font\":{\"color\":\"#4D5663\"}},\"xaxis\":{\"gridcolor\":\"#E1E5ED\",\"showgrid\":true,\"tickfont\":{\"color\":\"#4D5663\"},\"title\":{\"font\":{\"color\":\"#4D5663\"},\"text\":\"\"},\"zerolinecolor\":\"#E1E5ED\"},\"yaxis\":{\"domain\":[0.3,1],\"gridcolor\":\"#E1E5ED\",\"showgrid\":true,\"tickfont\":{\"color\":\"#4D5663\"},\"title\":{\"font\":{\"color\":\"#4D5663\"},\"text\":\"\"},\"zerolinecolor\":\"#E1E5ED\"},\"yaxis2\":{\"domain\":[0,0.25],\"gridcolor\":\"#E1E5ED\",\"showgrid\":true,\"tickfont\":{\"color\":\"#4D5663\"},\"title\":{\"font\":{\"color\":\"#4D5663\"},\"text\":\"Spread\"},\"zerolinecolor\":\"#E1E5ED\"},\"xaxis2\":{\"anchor\":\"y2\",\"gridcolor\":\"#E1E5ED\",\"showgrid\":true,\"showticklabels\":false,\"tickfont\":{\"color\":\"#4D5663\"},\"title\":{\"font\":{\"color\":\"#4D5663\"},\"text\":\"\"},\"zerolinecolor\":\"#E1E5ED\"}},                        {\"showLink\": true, \"linkText\": \"Export to plot.ly\", \"plotlyServerURL\": \"https://plot.ly\", \"responsive\": true}                    ).then(function(){\n",
       "                            \n",
       "var gd = document.getElementById('d2a7b48b-5780-4888-ab54-83d34de11c22');\n",
       "var x = new MutationObserver(function (mutations, observer) {{\n",
       "        var display = window.getComputedStyle(gd).display;\n",
       "        if (!display || display === 'none') {{\n",
       "            console.log([gd, 'removed!']);\n",
       "            Plotly.purge(gd);\n",
       "            observer.disconnect();\n",
       "        }}\n",
       "}});\n",
       "\n",
       "// Listen for the removal of the full notebook cells\n",
       "var notebookContainer = gd.closest('#notebook-container');\n",
       "if (notebookContainer) {{\n",
       "    x.observe(notebookContainer, {childList: true});\n",
       "}}\n",
       "\n",
       "// Listen for the clearing of the current output cell\n",
       "var outputEl = gd.closest('.output');\n",
       "if (outputEl) {{\n",
       "    x.observe(outputEl, {childList: true});\n",
       "}}\n",
       "\n",
       "                        })                };                });            </script>        </div>"
      ]
     },
     "metadata": {},
     "output_type": "display_data"
    }
   ],
   "source": [
    "import numpy\n",
    "df[['A','B']].iplot(kind='spread')"
   ]
  },
  {
   "cell_type": "markdown",
   "metadata": {},
   "source": [
    "## histogram"
   ]
  },
  {
   "cell_type": "code",
   "execution_count": 18,
   "metadata": {},
   "outputs": [
    {
     "data": {
      "application/vnd.plotly.v1+json": {
       "config": {
        "linkText": "Export to plot.ly",
        "plotlyServerURL": "https://plot.ly",
        "showLink": true
       },
       "data": [
        {
         "histfunc": "count",
         "histnorm": "",
         "marker": {
          "color": "rgba(255, 153, 51, 1.0)",
          "line": {
           "color": "#4D5663",
           "width": 1.3
          }
         },
         "name": "A",
         "nbinsx": 25,
         "opacity": 0.8,
         "orientation": "v",
         "type": "histogram",
         "x": [
          0.7365676730741115,
          -0.7858723473162033,
          -0.7612014338282168,
          -0.33828969119184393,
          2.119963389888639,
          -0.21033529370795123,
          0.6767739565306867,
          0.5069782758452451,
          0.774016534624883,
          0.645969599888223,
          1.320915012722791,
          0.44625820307936953,
          1.3497982780888076,
          -0.054312851369403614,
          0.4086759252360387,
          0.7670248516378464,
          -0.34164747625266406,
          -1.7258492298186636,
          -0.606458487839304,
          -0.38509253069137594,
          1.4779673151544093,
          -1.5316814798425253,
          0.9217068353068714,
          -0.3871133629664417,
          -1.288295495500347,
          0.34657449460134787,
          -1.5122310913921442,
          -2.382550658507943,
          -0.38864645623694927,
          0.28966630577443714,
          0.3194368360872796,
          -0.298154648157231,
          0.04412351469237872,
          0.5820788298374068,
          0.6404347136769989,
          -0.5406726034486085,
          2.5069957332916686,
          0.601324464091323,
          -2.5973464357475677,
          -1.0898746058693036,
          -0.3674931138183991,
          -0.6956665949403,
          0.6067824786484017,
          -0.014631944251588846,
          1.5496933437294362,
          0.49670459037018383,
          0.008656386426374951,
          -1.1879079254428846,
          0.1133646617244053,
          -1.209457437051342,
          0.53738323876218,
          -0.6799498612216169,
          -0.2485611813921982,
          1.259647945013635,
          0.26831411554353923,
          1.0703105180570807,
          0.6120298241543476,
          -0.7922552770571334,
          2.7198069168792665,
          0.30130325020606896,
          -0.5917405760881879,
          0.5680047551310305,
          0.18989307616818785,
          0.11827140230978321,
          -0.7112741838759915,
          -0.29454452098868006,
          1.4192744302811733,
          0.20178726147006076,
          0.16737330097876532,
          -0.9455492012524679,
          -1.5807529424508262,
          -0.3217548006777736,
          -0.16441643952635626,
          0.7605565832475502,
          1.0550615529269523,
          -0.26281305127051263,
          0.023700138695366336,
          0.0623905688170181,
          -1.6334667527317086,
          0.05877352101880432,
          0.8779585966847681,
          -0.22021733716874808,
          -0.5087245522034368,
          -0.4513545021497254,
          0.26610125050362843,
          0.14691010739790702,
          -0.10712846369094996,
          -0.5380999650652848,
          1.1751937445166347,
          0.7347422409605809,
          0.46494295601226526,
          -0.41693050383705343,
          0.0890698769086676,
          1.2171732953811045,
          -0.07683110145682837,
          1.1787552497082416,
          1.0022080658556163,
          2.708142526407743,
          1.0322122478237143,
          -1.2757074009052138
         ]
        }
       ],
       "layout": {
        "barmode": "overlay",
        "legend": {
         "bgcolor": "#F5F6F9",
         "font": {
          "color": "#4D5663"
         }
        },
        "paper_bgcolor": "#F5F6F9",
        "plot_bgcolor": "#F5F6F9",
        "template": {
         "data": {
          "bar": [
           {
            "error_x": {
             "color": "#2a3f5f"
            },
            "error_y": {
             "color": "#2a3f5f"
            },
            "marker": {
             "line": {
              "color": "#E5ECF6",
              "width": 0.5
             },
             "pattern": {
              "fillmode": "overlay",
              "size": 10,
              "solidity": 0.2
             }
            },
            "type": "bar"
           }
          ],
          "barpolar": [
           {
            "marker": {
             "line": {
              "color": "#E5ECF6",
              "width": 0.5
             },
             "pattern": {
              "fillmode": "overlay",
              "size": 10,
              "solidity": 0.2
             }
            },
            "type": "barpolar"
           }
          ],
          "carpet": [
           {
            "aaxis": {
             "endlinecolor": "#2a3f5f",
             "gridcolor": "white",
             "linecolor": "white",
             "minorgridcolor": "white",
             "startlinecolor": "#2a3f5f"
            },
            "baxis": {
             "endlinecolor": "#2a3f5f",
             "gridcolor": "white",
             "linecolor": "white",
             "minorgridcolor": "white",
             "startlinecolor": "#2a3f5f"
            },
            "type": "carpet"
           }
          ],
          "choropleth": [
           {
            "colorbar": {
             "outlinewidth": 0,
             "ticks": ""
            },
            "type": "choropleth"
           }
          ],
          "contour": [
           {
            "colorbar": {
             "outlinewidth": 0,
             "ticks": ""
            },
            "colorscale": [
             [
              0,
              "#0d0887"
             ],
             [
              0.1111111111111111,
              "#46039f"
             ],
             [
              0.2222222222222222,
              "#7201a8"
             ],
             [
              0.3333333333333333,
              "#9c179e"
             ],
             [
              0.4444444444444444,
              "#bd3786"
             ],
             [
              0.5555555555555556,
              "#d8576b"
             ],
             [
              0.6666666666666666,
              "#ed7953"
             ],
             [
              0.7777777777777778,
              "#fb9f3a"
             ],
             [
              0.8888888888888888,
              "#fdca26"
             ],
             [
              1,
              "#f0f921"
             ]
            ],
            "type": "contour"
           }
          ],
          "contourcarpet": [
           {
            "colorbar": {
             "outlinewidth": 0,
             "ticks": ""
            },
            "type": "contourcarpet"
           }
          ],
          "heatmap": [
           {
            "colorbar": {
             "outlinewidth": 0,
             "ticks": ""
            },
            "colorscale": [
             [
              0,
              "#0d0887"
             ],
             [
              0.1111111111111111,
              "#46039f"
             ],
             [
              0.2222222222222222,
              "#7201a8"
             ],
             [
              0.3333333333333333,
              "#9c179e"
             ],
             [
              0.4444444444444444,
              "#bd3786"
             ],
             [
              0.5555555555555556,
              "#d8576b"
             ],
             [
              0.6666666666666666,
              "#ed7953"
             ],
             [
              0.7777777777777778,
              "#fb9f3a"
             ],
             [
              0.8888888888888888,
              "#fdca26"
             ],
             [
              1,
              "#f0f921"
             ]
            ],
            "type": "heatmap"
           }
          ],
          "heatmapgl": [
           {
            "colorbar": {
             "outlinewidth": 0,
             "ticks": ""
            },
            "colorscale": [
             [
              0,
              "#0d0887"
             ],
             [
              0.1111111111111111,
              "#46039f"
             ],
             [
              0.2222222222222222,
              "#7201a8"
             ],
             [
              0.3333333333333333,
              "#9c179e"
             ],
             [
              0.4444444444444444,
              "#bd3786"
             ],
             [
              0.5555555555555556,
              "#d8576b"
             ],
             [
              0.6666666666666666,
              "#ed7953"
             ],
             [
              0.7777777777777778,
              "#fb9f3a"
             ],
             [
              0.8888888888888888,
              "#fdca26"
             ],
             [
              1,
              "#f0f921"
             ]
            ],
            "type": "heatmapgl"
           }
          ],
          "histogram": [
           {
            "marker": {
             "pattern": {
              "fillmode": "overlay",
              "size": 10,
              "solidity": 0.2
             }
            },
            "type": "histogram"
           }
          ],
          "histogram2d": [
           {
            "colorbar": {
             "outlinewidth": 0,
             "ticks": ""
            },
            "colorscale": [
             [
              0,
              "#0d0887"
             ],
             [
              0.1111111111111111,
              "#46039f"
             ],
             [
              0.2222222222222222,
              "#7201a8"
             ],
             [
              0.3333333333333333,
              "#9c179e"
             ],
             [
              0.4444444444444444,
              "#bd3786"
             ],
             [
              0.5555555555555556,
              "#d8576b"
             ],
             [
              0.6666666666666666,
              "#ed7953"
             ],
             [
              0.7777777777777778,
              "#fb9f3a"
             ],
             [
              0.8888888888888888,
              "#fdca26"
             ],
             [
              1,
              "#f0f921"
             ]
            ],
            "type": "histogram2d"
           }
          ],
          "histogram2dcontour": [
           {
            "colorbar": {
             "outlinewidth": 0,
             "ticks": ""
            },
            "colorscale": [
             [
              0,
              "#0d0887"
             ],
             [
              0.1111111111111111,
              "#46039f"
             ],
             [
              0.2222222222222222,
              "#7201a8"
             ],
             [
              0.3333333333333333,
              "#9c179e"
             ],
             [
              0.4444444444444444,
              "#bd3786"
             ],
             [
              0.5555555555555556,
              "#d8576b"
             ],
             [
              0.6666666666666666,
              "#ed7953"
             ],
             [
              0.7777777777777778,
              "#fb9f3a"
             ],
             [
              0.8888888888888888,
              "#fdca26"
             ],
             [
              1,
              "#f0f921"
             ]
            ],
            "type": "histogram2dcontour"
           }
          ],
          "mesh3d": [
           {
            "colorbar": {
             "outlinewidth": 0,
             "ticks": ""
            },
            "type": "mesh3d"
           }
          ],
          "parcoords": [
           {
            "line": {
             "colorbar": {
              "outlinewidth": 0,
              "ticks": ""
             }
            },
            "type": "parcoords"
           }
          ],
          "pie": [
           {
            "automargin": true,
            "type": "pie"
           }
          ],
          "scatter": [
           {
            "fillpattern": {
             "fillmode": "overlay",
             "size": 10,
             "solidity": 0.2
            },
            "type": "scatter"
           }
          ],
          "scatter3d": [
           {
            "line": {
             "colorbar": {
              "outlinewidth": 0,
              "ticks": ""
             }
            },
            "marker": {
             "colorbar": {
              "outlinewidth": 0,
              "ticks": ""
             }
            },
            "type": "scatter3d"
           }
          ],
          "scattercarpet": [
           {
            "marker": {
             "colorbar": {
              "outlinewidth": 0,
              "ticks": ""
             }
            },
            "type": "scattercarpet"
           }
          ],
          "scattergeo": [
           {
            "marker": {
             "colorbar": {
              "outlinewidth": 0,
              "ticks": ""
             }
            },
            "type": "scattergeo"
           }
          ],
          "scattergl": [
           {
            "marker": {
             "colorbar": {
              "outlinewidth": 0,
              "ticks": ""
             }
            },
            "type": "scattergl"
           }
          ],
          "scattermapbox": [
           {
            "marker": {
             "colorbar": {
              "outlinewidth": 0,
              "ticks": ""
             }
            },
            "type": "scattermapbox"
           }
          ],
          "scatterpolar": [
           {
            "marker": {
             "colorbar": {
              "outlinewidth": 0,
              "ticks": ""
             }
            },
            "type": "scatterpolar"
           }
          ],
          "scatterpolargl": [
           {
            "marker": {
             "colorbar": {
              "outlinewidth": 0,
              "ticks": ""
             }
            },
            "type": "scatterpolargl"
           }
          ],
          "scatterternary": [
           {
            "marker": {
             "colorbar": {
              "outlinewidth": 0,
              "ticks": ""
             }
            },
            "type": "scatterternary"
           }
          ],
          "surface": [
           {
            "colorbar": {
             "outlinewidth": 0,
             "ticks": ""
            },
            "colorscale": [
             [
              0,
              "#0d0887"
             ],
             [
              0.1111111111111111,
              "#46039f"
             ],
             [
              0.2222222222222222,
              "#7201a8"
             ],
             [
              0.3333333333333333,
              "#9c179e"
             ],
             [
              0.4444444444444444,
              "#bd3786"
             ],
             [
              0.5555555555555556,
              "#d8576b"
             ],
             [
              0.6666666666666666,
              "#ed7953"
             ],
             [
              0.7777777777777778,
              "#fb9f3a"
             ],
             [
              0.8888888888888888,
              "#fdca26"
             ],
             [
              1,
              "#f0f921"
             ]
            ],
            "type": "surface"
           }
          ],
          "table": [
           {
            "cells": {
             "fill": {
              "color": "#EBF0F8"
             },
             "line": {
              "color": "white"
             }
            },
            "header": {
             "fill": {
              "color": "#C8D4E3"
             },
             "line": {
              "color": "white"
             }
            },
            "type": "table"
           }
          ]
         },
         "layout": {
          "annotationdefaults": {
           "arrowcolor": "#2a3f5f",
           "arrowhead": 0,
           "arrowwidth": 1
          },
          "autotypenumbers": "strict",
          "coloraxis": {
           "colorbar": {
            "outlinewidth": 0,
            "ticks": ""
           }
          },
          "colorscale": {
           "diverging": [
            [
             0,
             "#8e0152"
            ],
            [
             0.1,
             "#c51b7d"
            ],
            [
             0.2,
             "#de77ae"
            ],
            [
             0.3,
             "#f1b6da"
            ],
            [
             0.4,
             "#fde0ef"
            ],
            [
             0.5,
             "#f7f7f7"
            ],
            [
             0.6,
             "#e6f5d0"
            ],
            [
             0.7,
             "#b8e186"
            ],
            [
             0.8,
             "#7fbc41"
            ],
            [
             0.9,
             "#4d9221"
            ],
            [
             1,
             "#276419"
            ]
           ],
           "sequential": [
            [
             0,
             "#0d0887"
            ],
            [
             0.1111111111111111,
             "#46039f"
            ],
            [
             0.2222222222222222,
             "#7201a8"
            ],
            [
             0.3333333333333333,
             "#9c179e"
            ],
            [
             0.4444444444444444,
             "#bd3786"
            ],
            [
             0.5555555555555556,
             "#d8576b"
            ],
            [
             0.6666666666666666,
             "#ed7953"
            ],
            [
             0.7777777777777778,
             "#fb9f3a"
            ],
            [
             0.8888888888888888,
             "#fdca26"
            ],
            [
             1,
             "#f0f921"
            ]
           ],
           "sequentialminus": [
            [
             0,
             "#0d0887"
            ],
            [
             0.1111111111111111,
             "#46039f"
            ],
            [
             0.2222222222222222,
             "#7201a8"
            ],
            [
             0.3333333333333333,
             "#9c179e"
            ],
            [
             0.4444444444444444,
             "#bd3786"
            ],
            [
             0.5555555555555556,
             "#d8576b"
            ],
            [
             0.6666666666666666,
             "#ed7953"
            ],
            [
             0.7777777777777778,
             "#fb9f3a"
            ],
            [
             0.8888888888888888,
             "#fdca26"
            ],
            [
             1,
             "#f0f921"
            ]
           ]
          },
          "colorway": [
           "#636efa",
           "#EF553B",
           "#00cc96",
           "#ab63fa",
           "#FFA15A",
           "#19d3f3",
           "#FF6692",
           "#B6E880",
           "#FF97FF",
           "#FECB52"
          ],
          "font": {
           "color": "#2a3f5f"
          },
          "geo": {
           "bgcolor": "white",
           "lakecolor": "white",
           "landcolor": "#E5ECF6",
           "showlakes": true,
           "showland": true,
           "subunitcolor": "white"
          },
          "hoverlabel": {
           "align": "left"
          },
          "hovermode": "closest",
          "mapbox": {
           "style": "light"
          },
          "paper_bgcolor": "white",
          "plot_bgcolor": "#E5ECF6",
          "polar": {
           "angularaxis": {
            "gridcolor": "white",
            "linecolor": "white",
            "ticks": ""
           },
           "bgcolor": "#E5ECF6",
           "radialaxis": {
            "gridcolor": "white",
            "linecolor": "white",
            "ticks": ""
           }
          },
          "scene": {
           "xaxis": {
            "backgroundcolor": "#E5ECF6",
            "gridcolor": "white",
            "gridwidth": 2,
            "linecolor": "white",
            "showbackground": true,
            "ticks": "",
            "zerolinecolor": "white"
           },
           "yaxis": {
            "backgroundcolor": "#E5ECF6",
            "gridcolor": "white",
            "gridwidth": 2,
            "linecolor": "white",
            "showbackground": true,
            "ticks": "",
            "zerolinecolor": "white"
           },
           "zaxis": {
            "backgroundcolor": "#E5ECF6",
            "gridcolor": "white",
            "gridwidth": 2,
            "linecolor": "white",
            "showbackground": true,
            "ticks": "",
            "zerolinecolor": "white"
           }
          },
          "shapedefaults": {
           "line": {
            "color": "#2a3f5f"
           }
          },
          "ternary": {
           "aaxis": {
            "gridcolor": "white",
            "linecolor": "white",
            "ticks": ""
           },
           "baxis": {
            "gridcolor": "white",
            "linecolor": "white",
            "ticks": ""
           },
           "bgcolor": "#E5ECF6",
           "caxis": {
            "gridcolor": "white",
            "linecolor": "white",
            "ticks": ""
           }
          },
          "title": {
           "x": 0.05
          },
          "xaxis": {
           "automargin": true,
           "gridcolor": "white",
           "linecolor": "white",
           "ticks": "",
           "title": {
            "standoff": 15
           },
           "zerolinecolor": "white",
           "zerolinewidth": 2
          },
          "yaxis": {
           "automargin": true,
           "gridcolor": "white",
           "linecolor": "white",
           "ticks": "",
           "title": {
            "standoff": 15
           },
           "zerolinecolor": "white",
           "zerolinewidth": 2
          }
         }
        },
        "title": {
         "font": {
          "color": "#4D5663"
         }
        },
        "xaxis": {
         "gridcolor": "#E1E5ED",
         "showgrid": true,
         "tickfont": {
          "color": "#4D5663"
         },
         "title": {
          "font": {
           "color": "#4D5663"
          },
          "text": ""
         },
         "zerolinecolor": "#E1E5ED"
        },
        "yaxis": {
         "gridcolor": "#E1E5ED",
         "showgrid": true,
         "tickfont": {
          "color": "#4D5663"
         },
         "title": {
          "font": {
           "color": "#4D5663"
          },
          "text": ""
         },
         "zerolinecolor": "#E1E5ED"
        }
       }
      },
      "text/html": [
       "<div>                            <div id=\"7cab9db2-fd5e-424b-b069-557a07fd71cd\" class=\"plotly-graph-div\" style=\"height:525px; width:100%;\"></div>            <script type=\"text/javascript\">                require([\"plotly\"], function(Plotly) {                    window.PLOTLYENV=window.PLOTLYENV || {};\n",
       "                    window.PLOTLYENV.BASE_URL='https://plot.ly';                                    if (document.getElementById(\"7cab9db2-fd5e-424b-b069-557a07fd71cd\")) {                    Plotly.newPlot(                        \"7cab9db2-fd5e-424b-b069-557a07fd71cd\",                        [{\"histfunc\":\"count\",\"histnorm\":\"\",\"marker\":{\"color\":\"rgba(255, 153, 51, 1.0)\",\"line\":{\"color\":\"#4D5663\",\"width\":1.3}},\"name\":\"A\",\"nbinsx\":25,\"opacity\":0.8,\"orientation\":\"v\",\"x\":[0.7365676730741115,-0.7858723473162033,-0.7612014338282168,-0.33828969119184393,2.119963389888639,-0.21033529370795123,0.6767739565306867,0.5069782758452451,0.774016534624883,0.645969599888223,1.320915012722791,0.44625820307936953,1.3497982780888076,-0.054312851369403614,0.4086759252360387,0.7670248516378464,-0.34164747625266406,-1.7258492298186636,-0.606458487839304,-0.38509253069137594,1.4779673151544093,-1.5316814798425253,0.9217068353068714,-0.3871133629664417,-1.288295495500347,0.34657449460134787,-1.5122310913921442,-2.382550658507943,-0.38864645623694927,0.28966630577443714,0.3194368360872796,-0.298154648157231,0.04412351469237872,0.5820788298374068,0.6404347136769989,-0.5406726034486085,2.5069957332916686,0.601324464091323,-2.5973464357475677,-1.0898746058693036,-0.3674931138183991,-0.6956665949403,0.6067824786484017,-0.014631944251588846,1.5496933437294362,0.49670459037018383,0.008656386426374951,-1.1879079254428846,0.1133646617244053,-1.209457437051342,0.53738323876218,-0.6799498612216169,-0.2485611813921982,1.259647945013635,0.26831411554353923,1.0703105180570807,0.6120298241543476,-0.7922552770571334,2.7198069168792665,0.30130325020606896,-0.5917405760881879,0.5680047551310305,0.18989307616818785,0.11827140230978321,-0.7112741838759915,-0.29454452098868006,1.4192744302811733,0.20178726147006076,0.16737330097876532,-0.9455492012524679,-1.5807529424508262,-0.3217548006777736,-0.16441643952635626,0.7605565832475502,1.0550615529269523,-0.26281305127051263,0.023700138695366336,0.0623905688170181,-1.6334667527317086,0.05877352101880432,0.8779585966847681,-0.22021733716874808,-0.5087245522034368,-0.4513545021497254,0.26610125050362843,0.14691010739790702,-0.10712846369094996,-0.5380999650652848,1.1751937445166347,0.7347422409605809,0.46494295601226526,-0.41693050383705343,0.0890698769086676,1.2171732953811045,-0.07683110145682837,1.1787552497082416,1.0022080658556163,2.708142526407743,1.0322122478237143,-1.2757074009052138],\"type\":\"histogram\"}],                        {\"barmode\":\"overlay\",\"legend\":{\"bgcolor\":\"#F5F6F9\",\"font\":{\"color\":\"#4D5663\"}},\"paper_bgcolor\":\"#F5F6F9\",\"plot_bgcolor\":\"#F5F6F9\",\"template\":{\"data\":{\"barpolar\":[{\"marker\":{\"line\":{\"color\":\"#E5ECF6\",\"width\":0.5},\"pattern\":{\"fillmode\":\"overlay\",\"size\":10,\"solidity\":0.2}},\"type\":\"barpolar\"}],\"bar\":[{\"error_x\":{\"color\":\"#2a3f5f\"},\"error_y\":{\"color\":\"#2a3f5f\"},\"marker\":{\"line\":{\"color\":\"#E5ECF6\",\"width\":0.5},\"pattern\":{\"fillmode\":\"overlay\",\"size\":10,\"solidity\":0.2}},\"type\":\"bar\"}],\"carpet\":[{\"aaxis\":{\"endlinecolor\":\"#2a3f5f\",\"gridcolor\":\"white\",\"linecolor\":\"white\",\"minorgridcolor\":\"white\",\"startlinecolor\":\"#2a3f5f\"},\"baxis\":{\"endlinecolor\":\"#2a3f5f\",\"gridcolor\":\"white\",\"linecolor\":\"white\",\"minorgridcolor\":\"white\",\"startlinecolor\":\"#2a3f5f\"},\"type\":\"carpet\"}],\"choropleth\":[{\"colorbar\":{\"outlinewidth\":0,\"ticks\":\"\"},\"type\":\"choropleth\"}],\"contourcarpet\":[{\"colorbar\":{\"outlinewidth\":0,\"ticks\":\"\"},\"type\":\"contourcarpet\"}],\"contour\":[{\"colorbar\":{\"outlinewidth\":0,\"ticks\":\"\"},\"colorscale\":[[0.0,\"#0d0887\"],[0.1111111111111111,\"#46039f\"],[0.2222222222222222,\"#7201a8\"],[0.3333333333333333,\"#9c179e\"],[0.4444444444444444,\"#bd3786\"],[0.5555555555555556,\"#d8576b\"],[0.6666666666666666,\"#ed7953\"],[0.7777777777777778,\"#fb9f3a\"],[0.8888888888888888,\"#fdca26\"],[1.0,\"#f0f921\"]],\"type\":\"contour\"}],\"heatmapgl\":[{\"colorbar\":{\"outlinewidth\":0,\"ticks\":\"\"},\"colorscale\":[[0.0,\"#0d0887\"],[0.1111111111111111,\"#46039f\"],[0.2222222222222222,\"#7201a8\"],[0.3333333333333333,\"#9c179e\"],[0.4444444444444444,\"#bd3786\"],[0.5555555555555556,\"#d8576b\"],[0.6666666666666666,\"#ed7953\"],[0.7777777777777778,\"#fb9f3a\"],[0.8888888888888888,\"#fdca26\"],[1.0,\"#f0f921\"]],\"type\":\"heatmapgl\"}],\"heatmap\":[{\"colorbar\":{\"outlinewidth\":0,\"ticks\":\"\"},\"colorscale\":[[0.0,\"#0d0887\"],[0.1111111111111111,\"#46039f\"],[0.2222222222222222,\"#7201a8\"],[0.3333333333333333,\"#9c179e\"],[0.4444444444444444,\"#bd3786\"],[0.5555555555555556,\"#d8576b\"],[0.6666666666666666,\"#ed7953\"],[0.7777777777777778,\"#fb9f3a\"],[0.8888888888888888,\"#fdca26\"],[1.0,\"#f0f921\"]],\"type\":\"heatmap\"}],\"histogram2dcontour\":[{\"colorbar\":{\"outlinewidth\":0,\"ticks\":\"\"},\"colorscale\":[[0.0,\"#0d0887\"],[0.1111111111111111,\"#46039f\"],[0.2222222222222222,\"#7201a8\"],[0.3333333333333333,\"#9c179e\"],[0.4444444444444444,\"#bd3786\"],[0.5555555555555556,\"#d8576b\"],[0.6666666666666666,\"#ed7953\"],[0.7777777777777778,\"#fb9f3a\"],[0.8888888888888888,\"#fdca26\"],[1.0,\"#f0f921\"]],\"type\":\"histogram2dcontour\"}],\"histogram2d\":[{\"colorbar\":{\"outlinewidth\":0,\"ticks\":\"\"},\"colorscale\":[[0.0,\"#0d0887\"],[0.1111111111111111,\"#46039f\"],[0.2222222222222222,\"#7201a8\"],[0.3333333333333333,\"#9c179e\"],[0.4444444444444444,\"#bd3786\"],[0.5555555555555556,\"#d8576b\"],[0.6666666666666666,\"#ed7953\"],[0.7777777777777778,\"#fb9f3a\"],[0.8888888888888888,\"#fdca26\"],[1.0,\"#f0f921\"]],\"type\":\"histogram2d\"}],\"histogram\":[{\"marker\":{\"pattern\":{\"fillmode\":\"overlay\",\"size\":10,\"solidity\":0.2}},\"type\":\"histogram\"}],\"mesh3d\":[{\"colorbar\":{\"outlinewidth\":0,\"ticks\":\"\"},\"type\":\"mesh3d\"}],\"parcoords\":[{\"line\":{\"colorbar\":{\"outlinewidth\":0,\"ticks\":\"\"}},\"type\":\"parcoords\"}],\"pie\":[{\"automargin\":true,\"type\":\"pie\"}],\"scatter3d\":[{\"line\":{\"colorbar\":{\"outlinewidth\":0,\"ticks\":\"\"}},\"marker\":{\"colorbar\":{\"outlinewidth\":0,\"ticks\":\"\"}},\"type\":\"scatter3d\"}],\"scattercarpet\":[{\"marker\":{\"colorbar\":{\"outlinewidth\":0,\"ticks\":\"\"}},\"type\":\"scattercarpet\"}],\"scattergeo\":[{\"marker\":{\"colorbar\":{\"outlinewidth\":0,\"ticks\":\"\"}},\"type\":\"scattergeo\"}],\"scattergl\":[{\"marker\":{\"colorbar\":{\"outlinewidth\":0,\"ticks\":\"\"}},\"type\":\"scattergl\"}],\"scattermapbox\":[{\"marker\":{\"colorbar\":{\"outlinewidth\":0,\"ticks\":\"\"}},\"type\":\"scattermapbox\"}],\"scatterpolargl\":[{\"marker\":{\"colorbar\":{\"outlinewidth\":0,\"ticks\":\"\"}},\"type\":\"scatterpolargl\"}],\"scatterpolar\":[{\"marker\":{\"colorbar\":{\"outlinewidth\":0,\"ticks\":\"\"}},\"type\":\"scatterpolar\"}],\"scatter\":[{\"fillpattern\":{\"fillmode\":\"overlay\",\"size\":10,\"solidity\":0.2},\"type\":\"scatter\"}],\"scatterternary\":[{\"marker\":{\"colorbar\":{\"outlinewidth\":0,\"ticks\":\"\"}},\"type\":\"scatterternary\"}],\"surface\":[{\"colorbar\":{\"outlinewidth\":0,\"ticks\":\"\"},\"colorscale\":[[0.0,\"#0d0887\"],[0.1111111111111111,\"#46039f\"],[0.2222222222222222,\"#7201a8\"],[0.3333333333333333,\"#9c179e\"],[0.4444444444444444,\"#bd3786\"],[0.5555555555555556,\"#d8576b\"],[0.6666666666666666,\"#ed7953\"],[0.7777777777777778,\"#fb9f3a\"],[0.8888888888888888,\"#fdca26\"],[1.0,\"#f0f921\"]],\"type\":\"surface\"}],\"table\":[{\"cells\":{\"fill\":{\"color\":\"#EBF0F8\"},\"line\":{\"color\":\"white\"}},\"header\":{\"fill\":{\"color\":\"#C8D4E3\"},\"line\":{\"color\":\"white\"}},\"type\":\"table\"}]},\"layout\":{\"annotationdefaults\":{\"arrowcolor\":\"#2a3f5f\",\"arrowhead\":0,\"arrowwidth\":1},\"autotypenumbers\":\"strict\",\"coloraxis\":{\"colorbar\":{\"outlinewidth\":0,\"ticks\":\"\"}},\"colorscale\":{\"diverging\":[[0,\"#8e0152\"],[0.1,\"#c51b7d\"],[0.2,\"#de77ae\"],[0.3,\"#f1b6da\"],[0.4,\"#fde0ef\"],[0.5,\"#f7f7f7\"],[0.6,\"#e6f5d0\"],[0.7,\"#b8e186\"],[0.8,\"#7fbc41\"],[0.9,\"#4d9221\"],[1,\"#276419\"]],\"sequential\":[[0.0,\"#0d0887\"],[0.1111111111111111,\"#46039f\"],[0.2222222222222222,\"#7201a8\"],[0.3333333333333333,\"#9c179e\"],[0.4444444444444444,\"#bd3786\"],[0.5555555555555556,\"#d8576b\"],[0.6666666666666666,\"#ed7953\"],[0.7777777777777778,\"#fb9f3a\"],[0.8888888888888888,\"#fdca26\"],[1.0,\"#f0f921\"]],\"sequentialminus\":[[0.0,\"#0d0887\"],[0.1111111111111111,\"#46039f\"],[0.2222222222222222,\"#7201a8\"],[0.3333333333333333,\"#9c179e\"],[0.4444444444444444,\"#bd3786\"],[0.5555555555555556,\"#d8576b\"],[0.6666666666666666,\"#ed7953\"],[0.7777777777777778,\"#fb9f3a\"],[0.8888888888888888,\"#fdca26\"],[1.0,\"#f0f921\"]]},\"colorway\":[\"#636efa\",\"#EF553B\",\"#00cc96\",\"#ab63fa\",\"#FFA15A\",\"#19d3f3\",\"#FF6692\",\"#B6E880\",\"#FF97FF\",\"#FECB52\"],\"font\":{\"color\":\"#2a3f5f\"},\"geo\":{\"bgcolor\":\"white\",\"lakecolor\":\"white\",\"landcolor\":\"#E5ECF6\",\"showlakes\":true,\"showland\":true,\"subunitcolor\":\"white\"},\"hoverlabel\":{\"align\":\"left\"},\"hovermode\":\"closest\",\"mapbox\":{\"style\":\"light\"},\"paper_bgcolor\":\"white\",\"plot_bgcolor\":\"#E5ECF6\",\"polar\":{\"angularaxis\":{\"gridcolor\":\"white\",\"linecolor\":\"white\",\"ticks\":\"\"},\"bgcolor\":\"#E5ECF6\",\"radialaxis\":{\"gridcolor\":\"white\",\"linecolor\":\"white\",\"ticks\":\"\"}},\"scene\":{\"xaxis\":{\"backgroundcolor\":\"#E5ECF6\",\"gridcolor\":\"white\",\"gridwidth\":2,\"linecolor\":\"white\",\"showbackground\":true,\"ticks\":\"\",\"zerolinecolor\":\"white\"},\"yaxis\":{\"backgroundcolor\":\"#E5ECF6\",\"gridcolor\":\"white\",\"gridwidth\":2,\"linecolor\":\"white\",\"showbackground\":true,\"ticks\":\"\",\"zerolinecolor\":\"white\"},\"zaxis\":{\"backgroundcolor\":\"#E5ECF6\",\"gridcolor\":\"white\",\"gridwidth\":2,\"linecolor\":\"white\",\"showbackground\":true,\"ticks\":\"\",\"zerolinecolor\":\"white\"}},\"shapedefaults\":{\"line\":{\"color\":\"#2a3f5f\"}},\"ternary\":{\"aaxis\":{\"gridcolor\":\"white\",\"linecolor\":\"white\",\"ticks\":\"\"},\"baxis\":{\"gridcolor\":\"white\",\"linecolor\":\"white\",\"ticks\":\"\"},\"bgcolor\":\"#E5ECF6\",\"caxis\":{\"gridcolor\":\"white\",\"linecolor\":\"white\",\"ticks\":\"\"}},\"title\":{\"x\":0.05},\"xaxis\":{\"automargin\":true,\"gridcolor\":\"white\",\"linecolor\":\"white\",\"ticks\":\"\",\"title\":{\"standoff\":15},\"zerolinecolor\":\"white\",\"zerolinewidth\":2},\"yaxis\":{\"automargin\":true,\"gridcolor\":\"white\",\"linecolor\":\"white\",\"ticks\":\"\",\"title\":{\"standoff\":15},\"zerolinecolor\":\"white\",\"zerolinewidth\":2}}},\"title\":{\"font\":{\"color\":\"#4D5663\"}},\"xaxis\":{\"gridcolor\":\"#E1E5ED\",\"showgrid\":true,\"tickfont\":{\"color\":\"#4D5663\"},\"title\":{\"font\":{\"color\":\"#4D5663\"},\"text\":\"\"},\"zerolinecolor\":\"#E1E5ED\"},\"yaxis\":{\"gridcolor\":\"#E1E5ED\",\"showgrid\":true,\"tickfont\":{\"color\":\"#4D5663\"},\"title\":{\"font\":{\"color\":\"#4D5663\"},\"text\":\"\"},\"zerolinecolor\":\"#E1E5ED\"}},                        {\"showLink\": true, \"linkText\": \"Export to plot.ly\", \"plotlyServerURL\": \"https://plot.ly\", \"responsive\": true}                    ).then(function(){\n",
       "                            \n",
       "var gd = document.getElementById('7cab9db2-fd5e-424b-b069-557a07fd71cd');\n",
       "var x = new MutationObserver(function (mutations, observer) {{\n",
       "        var display = window.getComputedStyle(gd).display;\n",
       "        if (!display || display === 'none') {{\n",
       "            console.log([gd, 'removed!']);\n",
       "            Plotly.purge(gd);\n",
       "            observer.disconnect();\n",
       "        }}\n",
       "}});\n",
       "\n",
       "// Listen for the removal of the full notebook cells\n",
       "var notebookContainer = gd.closest('#notebook-container');\n",
       "if (notebookContainer) {{\n",
       "    x.observe(notebookContainer, {childList: true});\n",
       "}}\n",
       "\n",
       "// Listen for the clearing of the current output cell\n",
       "var outputEl = gd.closest('.output');\n",
       "if (outputEl) {{\n",
       "    x.observe(outputEl, {childList: true});\n",
       "}}\n",
       "\n",
       "                        })                };                });            </script>        </div>"
      ]
     },
     "metadata": {},
     "output_type": "display_data"
    }
   ],
   "source": [
    "df['A'].iplot(kind='hist',bins=25)"
   ]
  },
  {
   "cell_type": "code",
   "execution_count": 19,
   "metadata": {},
   "outputs": [
    {
     "data": {
      "application/vnd.plotly.v1+json": {
       "config": {
        "linkText": "Export to plot.ly",
        "plotlyServerURL": "https://plot.ly",
        "showLink": true
       },
       "data": [
        {
         "marker": {
          "color": [
           "rgb(255, 153, 51)",
           "rgb(55, 128, 191)",
           "rgb(50, 171, 96)",
           "rgb(128, 0, 128)",
           "rgb(219, 64, 82)",
           "rgb(0, 128, 128)",
           "rgb(255, 255, 51)",
           "rgb(128, 128, 0)",
           "rgb(251, 128, 114)",
           "rgb(128, 177, 211)"
          ],
          "line": {
           "width": 1.3
          },
          "size": [
           65,
           86,
           12,
           60,
           89,
           74,
           42,
           59,
           22,
           43,
           74,
           40,
           71,
           48,
           39,
           63,
           47,
           42,
           59,
           78,
           70,
           65,
           109,
           39,
           49,
           45,
           61,
           37,
           28,
           112,
           44,
           96,
           59,
           17,
           24,
           61,
           60,
           87,
           72,
           28,
           50,
           70,
           70,
           52,
           83,
           47,
           43,
           67,
           65,
           44,
           48,
           40,
           62,
           46,
           55,
           48,
           27,
           64,
           56,
           51,
           59,
           41,
           79,
           29,
           64,
           48,
           44,
           78,
           37,
           54,
           64,
           16,
           73,
           26,
           49,
           82,
           47,
           75,
           46,
           79,
           101,
           73,
           19,
           70,
           40,
           59,
           52,
           68,
           36,
           31,
           46,
           47,
           78,
           39,
           76,
           46,
           59,
           74,
           47,
           39
          ],
          "symbol": "circle"
         },
         "mode": "markers",
         "text": "",
         "type": "scatter",
         "x": [
          0.7365676730741115,
          -0.7858723473162033,
          -0.7612014338282168,
          -0.33828969119184393,
          2.119963389888639,
          -0.21033529370795123,
          0.6767739565306867,
          0.5069782758452451,
          0.774016534624883,
          0.645969599888223,
          1.320915012722791,
          0.44625820307936953,
          1.3497982780888076,
          -0.054312851369403614,
          0.4086759252360387,
          0.7670248516378464,
          -0.34164747625266406,
          -1.7258492298186636,
          -0.606458487839304,
          -0.38509253069137594,
          1.4779673151544093,
          -1.5316814798425253,
          0.9217068353068714,
          -0.3871133629664417,
          -1.288295495500347,
          0.34657449460134787,
          -1.5122310913921442,
          -2.382550658507943,
          -0.38864645623694927,
          0.28966630577443714,
          0.3194368360872796,
          -0.298154648157231,
          0.04412351469237872,
          0.5820788298374068,
          0.6404347136769989,
          -0.5406726034486085,
          2.5069957332916686,
          0.601324464091323,
          -2.5973464357475677,
          -1.0898746058693036,
          -0.3674931138183991,
          -0.6956665949403,
          0.6067824786484017,
          -0.014631944251588846,
          1.5496933437294362,
          0.49670459037018383,
          0.008656386426374951,
          -1.1879079254428846,
          0.1133646617244053,
          -1.209457437051342,
          0.53738323876218,
          -0.6799498612216169,
          -0.2485611813921982,
          1.259647945013635,
          0.26831411554353923,
          1.0703105180570807,
          0.6120298241543476,
          -0.7922552770571334,
          2.7198069168792665,
          0.30130325020606896,
          -0.5917405760881879,
          0.5680047551310305,
          0.18989307616818785,
          0.11827140230978321,
          -0.7112741838759915,
          -0.29454452098868006,
          1.4192744302811733,
          0.20178726147006076,
          0.16737330097876532,
          -0.9455492012524679,
          -1.5807529424508262,
          -0.3217548006777736,
          -0.16441643952635626,
          0.7605565832475502,
          1.0550615529269523,
          -0.26281305127051263,
          0.023700138695366336,
          0.0623905688170181,
          -1.6334667527317086,
          0.05877352101880432,
          0.8779585966847681,
          -0.22021733716874808,
          -0.5087245522034368,
          -0.4513545021497254,
          0.26610125050362843,
          0.14691010739790702,
          -0.10712846369094996,
          -0.5380999650652848,
          1.1751937445166347,
          0.7347422409605809,
          0.46494295601226526,
          -0.41693050383705343,
          0.0890698769086676,
          1.2171732953811045,
          -0.07683110145682837,
          1.1787552497082416,
          1.0022080658556163,
          2.708142526407743,
          1.0322122478237143,
          -1.2757074009052138
         ],
         "y": [
          -1.17960096095747,
          -1.3775555599416172,
          0.13792944280704006,
          0.48371504791298947,
          1.330402450096832,
          0.6008571556967333,
          -0.48801970995218547,
          0.8961245543966675,
          0.2961431824584401,
          -1.4649552300510922,
          -0.7080659462597593,
          -1.2955118557528216,
          -0.38026898461962383,
          -0.4533352454607744,
          -0.3539169985811786,
          -1.2025477368662538,
          0.00892006917367232,
          0.16966744435944756,
          0.8223657469907609,
          1.1951243289151658,
          0.30365969879879123,
          -0.3028597261401649,
          -0.019062927160904068,
          -1.1187078160968458,
          0.9936865559435638,
          1.149927312754949,
          -0.6117767973140005,
          -0.44387643888953543,
          -0.03439784317436975,
          0.015399420236178523,
          1.1123127177074992,
          0.2649658061453154,
          0.6806251765292582,
          0.14785949702601267,
          -2.4605460959827004,
          -0.16205752753046915,
          -1.2254109809660831,
          -0.12225449695743638,
          0.5635173461831468,
          -0.2599285316945004,
          -0.27611765191417736,
          -1.4690531379716825,
          -1.954153503410868,
          -0.5866390468375826,
          0.1018189830619359,
          -0.07048593057982283,
          -1.212665780136159,
          -0.3451925694516716,
          0.9702962511148727,
          0.3423474752420889,
          1.9493684121162587,
          1.4406008187314832,
          -0.9759644286967494,
          -2.2506220014240275,
          -0.1950416048205692,
          0.3899551845378141,
          0.9796444130032764,
          -1.1593956186919911,
          0.9883877171167217,
          0.18632777987730414,
          -0.32652211390169983,
          0.5235349712369627,
          -0.14554797924655524,
          -0.6632566049388412,
          1.450516587911176,
          -1.8242348077687922,
          -0.7986611676784975,
          1.2865759967254213,
          0.03311206362784604,
          0.826111885566775,
          -1.8404480684092652,
          -0.17647317946813473,
          0.7076473944942543,
          0.6433397834820548,
          -0.05019150477402584,
          0.6938641710145623,
          -1.0856055786365582,
          -1.4164083407235537,
          -1.3642812235548454,
          1.846182244755937,
          -0.21921761442914586,
          -0.08980549285517242,
          -0.1207473523157025,
          -0.41706054413176086,
          0.6611570044122105,
          1.3289032537940533,
          -0.07510227699547183,
          -0.06500699130762963,
          0.47215000010575603,
          1.6071041868429516,
          2.0246550229557956,
          0.08805236871800126,
          0.9792317235927371,
          1.2488287261048898,
          -0.9105759352090856,
          -1.4063251858608385,
          1.3450088447347763,
          0.22540725929083774,
          -1.3483110021192624,
          0.47968437914212037
         ]
        }
       ],
       "layout": {
        "legend": {
         "bgcolor": "#F5F6F9",
         "font": {
          "color": "#4D5663"
         }
        },
        "paper_bgcolor": "#F5F6F9",
        "plot_bgcolor": "#F5F6F9",
        "template": {
         "data": {
          "bar": [
           {
            "error_x": {
             "color": "#2a3f5f"
            },
            "error_y": {
             "color": "#2a3f5f"
            },
            "marker": {
             "line": {
              "color": "#E5ECF6",
              "width": 0.5
             },
             "pattern": {
              "fillmode": "overlay",
              "size": 10,
              "solidity": 0.2
             }
            },
            "type": "bar"
           }
          ],
          "barpolar": [
           {
            "marker": {
             "line": {
              "color": "#E5ECF6",
              "width": 0.5
             },
             "pattern": {
              "fillmode": "overlay",
              "size": 10,
              "solidity": 0.2
             }
            },
            "type": "barpolar"
           }
          ],
          "carpet": [
           {
            "aaxis": {
             "endlinecolor": "#2a3f5f",
             "gridcolor": "white",
             "linecolor": "white",
             "minorgridcolor": "white",
             "startlinecolor": "#2a3f5f"
            },
            "baxis": {
             "endlinecolor": "#2a3f5f",
             "gridcolor": "white",
             "linecolor": "white",
             "minorgridcolor": "white",
             "startlinecolor": "#2a3f5f"
            },
            "type": "carpet"
           }
          ],
          "choropleth": [
           {
            "colorbar": {
             "outlinewidth": 0,
             "ticks": ""
            },
            "type": "choropleth"
           }
          ],
          "contour": [
           {
            "colorbar": {
             "outlinewidth": 0,
             "ticks": ""
            },
            "colorscale": [
             [
              0,
              "#0d0887"
             ],
             [
              0.1111111111111111,
              "#46039f"
             ],
             [
              0.2222222222222222,
              "#7201a8"
             ],
             [
              0.3333333333333333,
              "#9c179e"
             ],
             [
              0.4444444444444444,
              "#bd3786"
             ],
             [
              0.5555555555555556,
              "#d8576b"
             ],
             [
              0.6666666666666666,
              "#ed7953"
             ],
             [
              0.7777777777777778,
              "#fb9f3a"
             ],
             [
              0.8888888888888888,
              "#fdca26"
             ],
             [
              1,
              "#f0f921"
             ]
            ],
            "type": "contour"
           }
          ],
          "contourcarpet": [
           {
            "colorbar": {
             "outlinewidth": 0,
             "ticks": ""
            },
            "type": "contourcarpet"
           }
          ],
          "heatmap": [
           {
            "colorbar": {
             "outlinewidth": 0,
             "ticks": ""
            },
            "colorscale": [
             [
              0,
              "#0d0887"
             ],
             [
              0.1111111111111111,
              "#46039f"
             ],
             [
              0.2222222222222222,
              "#7201a8"
             ],
             [
              0.3333333333333333,
              "#9c179e"
             ],
             [
              0.4444444444444444,
              "#bd3786"
             ],
             [
              0.5555555555555556,
              "#d8576b"
             ],
             [
              0.6666666666666666,
              "#ed7953"
             ],
             [
              0.7777777777777778,
              "#fb9f3a"
             ],
             [
              0.8888888888888888,
              "#fdca26"
             ],
             [
              1,
              "#f0f921"
             ]
            ],
            "type": "heatmap"
           }
          ],
          "heatmapgl": [
           {
            "colorbar": {
             "outlinewidth": 0,
             "ticks": ""
            },
            "colorscale": [
             [
              0,
              "#0d0887"
             ],
             [
              0.1111111111111111,
              "#46039f"
             ],
             [
              0.2222222222222222,
              "#7201a8"
             ],
             [
              0.3333333333333333,
              "#9c179e"
             ],
             [
              0.4444444444444444,
              "#bd3786"
             ],
             [
              0.5555555555555556,
              "#d8576b"
             ],
             [
              0.6666666666666666,
              "#ed7953"
             ],
             [
              0.7777777777777778,
              "#fb9f3a"
             ],
             [
              0.8888888888888888,
              "#fdca26"
             ],
             [
              1,
              "#f0f921"
             ]
            ],
            "type": "heatmapgl"
           }
          ],
          "histogram": [
           {
            "marker": {
             "pattern": {
              "fillmode": "overlay",
              "size": 10,
              "solidity": 0.2
             }
            },
            "type": "histogram"
           }
          ],
          "histogram2d": [
           {
            "colorbar": {
             "outlinewidth": 0,
             "ticks": ""
            },
            "colorscale": [
             [
              0,
              "#0d0887"
             ],
             [
              0.1111111111111111,
              "#46039f"
             ],
             [
              0.2222222222222222,
              "#7201a8"
             ],
             [
              0.3333333333333333,
              "#9c179e"
             ],
             [
              0.4444444444444444,
              "#bd3786"
             ],
             [
              0.5555555555555556,
              "#d8576b"
             ],
             [
              0.6666666666666666,
              "#ed7953"
             ],
             [
              0.7777777777777778,
              "#fb9f3a"
             ],
             [
              0.8888888888888888,
              "#fdca26"
             ],
             [
              1,
              "#f0f921"
             ]
            ],
            "type": "histogram2d"
           }
          ],
          "histogram2dcontour": [
           {
            "colorbar": {
             "outlinewidth": 0,
             "ticks": ""
            },
            "colorscale": [
             [
              0,
              "#0d0887"
             ],
             [
              0.1111111111111111,
              "#46039f"
             ],
             [
              0.2222222222222222,
              "#7201a8"
             ],
             [
              0.3333333333333333,
              "#9c179e"
             ],
             [
              0.4444444444444444,
              "#bd3786"
             ],
             [
              0.5555555555555556,
              "#d8576b"
             ],
             [
              0.6666666666666666,
              "#ed7953"
             ],
             [
              0.7777777777777778,
              "#fb9f3a"
             ],
             [
              0.8888888888888888,
              "#fdca26"
             ],
             [
              1,
              "#f0f921"
             ]
            ],
            "type": "histogram2dcontour"
           }
          ],
          "mesh3d": [
           {
            "colorbar": {
             "outlinewidth": 0,
             "ticks": ""
            },
            "type": "mesh3d"
           }
          ],
          "parcoords": [
           {
            "line": {
             "colorbar": {
              "outlinewidth": 0,
              "ticks": ""
             }
            },
            "type": "parcoords"
           }
          ],
          "pie": [
           {
            "automargin": true,
            "type": "pie"
           }
          ],
          "scatter": [
           {
            "fillpattern": {
             "fillmode": "overlay",
             "size": 10,
             "solidity": 0.2
            },
            "type": "scatter"
           }
          ],
          "scatter3d": [
           {
            "line": {
             "colorbar": {
              "outlinewidth": 0,
              "ticks": ""
             }
            },
            "marker": {
             "colorbar": {
              "outlinewidth": 0,
              "ticks": ""
             }
            },
            "type": "scatter3d"
           }
          ],
          "scattercarpet": [
           {
            "marker": {
             "colorbar": {
              "outlinewidth": 0,
              "ticks": ""
             }
            },
            "type": "scattercarpet"
           }
          ],
          "scattergeo": [
           {
            "marker": {
             "colorbar": {
              "outlinewidth": 0,
              "ticks": ""
             }
            },
            "type": "scattergeo"
           }
          ],
          "scattergl": [
           {
            "marker": {
             "colorbar": {
              "outlinewidth": 0,
              "ticks": ""
             }
            },
            "type": "scattergl"
           }
          ],
          "scattermapbox": [
           {
            "marker": {
             "colorbar": {
              "outlinewidth": 0,
              "ticks": ""
             }
            },
            "type": "scattermapbox"
           }
          ],
          "scatterpolar": [
           {
            "marker": {
             "colorbar": {
              "outlinewidth": 0,
              "ticks": ""
             }
            },
            "type": "scatterpolar"
           }
          ],
          "scatterpolargl": [
           {
            "marker": {
             "colorbar": {
              "outlinewidth": 0,
              "ticks": ""
             }
            },
            "type": "scatterpolargl"
           }
          ],
          "scatterternary": [
           {
            "marker": {
             "colorbar": {
              "outlinewidth": 0,
              "ticks": ""
             }
            },
            "type": "scatterternary"
           }
          ],
          "surface": [
           {
            "colorbar": {
             "outlinewidth": 0,
             "ticks": ""
            },
            "colorscale": [
             [
              0,
              "#0d0887"
             ],
             [
              0.1111111111111111,
              "#46039f"
             ],
             [
              0.2222222222222222,
              "#7201a8"
             ],
             [
              0.3333333333333333,
              "#9c179e"
             ],
             [
              0.4444444444444444,
              "#bd3786"
             ],
             [
              0.5555555555555556,
              "#d8576b"
             ],
             [
              0.6666666666666666,
              "#ed7953"
             ],
             [
              0.7777777777777778,
              "#fb9f3a"
             ],
             [
              0.8888888888888888,
              "#fdca26"
             ],
             [
              1,
              "#f0f921"
             ]
            ],
            "type": "surface"
           }
          ],
          "table": [
           {
            "cells": {
             "fill": {
              "color": "#EBF0F8"
             },
             "line": {
              "color": "white"
             }
            },
            "header": {
             "fill": {
              "color": "#C8D4E3"
             },
             "line": {
              "color": "white"
             }
            },
            "type": "table"
           }
          ]
         },
         "layout": {
          "annotationdefaults": {
           "arrowcolor": "#2a3f5f",
           "arrowhead": 0,
           "arrowwidth": 1
          },
          "autotypenumbers": "strict",
          "coloraxis": {
           "colorbar": {
            "outlinewidth": 0,
            "ticks": ""
           }
          },
          "colorscale": {
           "diverging": [
            [
             0,
             "#8e0152"
            ],
            [
             0.1,
             "#c51b7d"
            ],
            [
             0.2,
             "#de77ae"
            ],
            [
             0.3,
             "#f1b6da"
            ],
            [
             0.4,
             "#fde0ef"
            ],
            [
             0.5,
             "#f7f7f7"
            ],
            [
             0.6,
             "#e6f5d0"
            ],
            [
             0.7,
             "#b8e186"
            ],
            [
             0.8,
             "#7fbc41"
            ],
            [
             0.9,
             "#4d9221"
            ],
            [
             1,
             "#276419"
            ]
           ],
           "sequential": [
            [
             0,
             "#0d0887"
            ],
            [
             0.1111111111111111,
             "#46039f"
            ],
            [
             0.2222222222222222,
             "#7201a8"
            ],
            [
             0.3333333333333333,
             "#9c179e"
            ],
            [
             0.4444444444444444,
             "#bd3786"
            ],
            [
             0.5555555555555556,
             "#d8576b"
            ],
            [
             0.6666666666666666,
             "#ed7953"
            ],
            [
             0.7777777777777778,
             "#fb9f3a"
            ],
            [
             0.8888888888888888,
             "#fdca26"
            ],
            [
             1,
             "#f0f921"
            ]
           ],
           "sequentialminus": [
            [
             0,
             "#0d0887"
            ],
            [
             0.1111111111111111,
             "#46039f"
            ],
            [
             0.2222222222222222,
             "#7201a8"
            ],
            [
             0.3333333333333333,
             "#9c179e"
            ],
            [
             0.4444444444444444,
             "#bd3786"
            ],
            [
             0.5555555555555556,
             "#d8576b"
            ],
            [
             0.6666666666666666,
             "#ed7953"
            ],
            [
             0.7777777777777778,
             "#fb9f3a"
            ],
            [
             0.8888888888888888,
             "#fdca26"
            ],
            [
             1,
             "#f0f921"
            ]
           ]
          },
          "colorway": [
           "#636efa",
           "#EF553B",
           "#00cc96",
           "#ab63fa",
           "#FFA15A",
           "#19d3f3",
           "#FF6692",
           "#B6E880",
           "#FF97FF",
           "#FECB52"
          ],
          "font": {
           "color": "#2a3f5f"
          },
          "geo": {
           "bgcolor": "white",
           "lakecolor": "white",
           "landcolor": "#E5ECF6",
           "showlakes": true,
           "showland": true,
           "subunitcolor": "white"
          },
          "hoverlabel": {
           "align": "left"
          },
          "hovermode": "closest",
          "mapbox": {
           "style": "light"
          },
          "paper_bgcolor": "white",
          "plot_bgcolor": "#E5ECF6",
          "polar": {
           "angularaxis": {
            "gridcolor": "white",
            "linecolor": "white",
            "ticks": ""
           },
           "bgcolor": "#E5ECF6",
           "radialaxis": {
            "gridcolor": "white",
            "linecolor": "white",
            "ticks": ""
           }
          },
          "scene": {
           "xaxis": {
            "backgroundcolor": "#E5ECF6",
            "gridcolor": "white",
            "gridwidth": 2,
            "linecolor": "white",
            "showbackground": true,
            "ticks": "",
            "zerolinecolor": "white"
           },
           "yaxis": {
            "backgroundcolor": "#E5ECF6",
            "gridcolor": "white",
            "gridwidth": 2,
            "linecolor": "white",
            "showbackground": true,
            "ticks": "",
            "zerolinecolor": "white"
           },
           "zaxis": {
            "backgroundcolor": "#E5ECF6",
            "gridcolor": "white",
            "gridwidth": 2,
            "linecolor": "white",
            "showbackground": true,
            "ticks": "",
            "zerolinecolor": "white"
           }
          },
          "shapedefaults": {
           "line": {
            "color": "#2a3f5f"
           }
          },
          "ternary": {
           "aaxis": {
            "gridcolor": "white",
            "linecolor": "white",
            "ticks": ""
           },
           "baxis": {
            "gridcolor": "white",
            "linecolor": "white",
            "ticks": ""
           },
           "bgcolor": "#E5ECF6",
           "caxis": {
            "gridcolor": "white",
            "linecolor": "white",
            "ticks": ""
           }
          },
          "title": {
           "x": 0.05
          },
          "xaxis": {
           "automargin": true,
           "gridcolor": "white",
           "linecolor": "white",
           "ticks": "",
           "title": {
            "standoff": 15
           },
           "zerolinecolor": "white",
           "zerolinewidth": 2
          },
          "yaxis": {
           "automargin": true,
           "gridcolor": "white",
           "linecolor": "white",
           "ticks": "",
           "title": {
            "standoff": 15
           },
           "zerolinecolor": "white",
           "zerolinewidth": 2
          }
         }
        },
        "title": {
         "font": {
          "color": "#4D5663"
         }
        },
        "xaxis": {
         "gridcolor": "#E1E5ED",
         "showgrid": true,
         "tickfont": {
          "color": "#4D5663"
         },
         "title": {
          "font": {
           "color": "#4D5663"
          },
          "text": ""
         },
         "zerolinecolor": "#E1E5ED"
        },
        "yaxis": {
         "gridcolor": "#E1E5ED",
         "showgrid": true,
         "tickfont": {
          "color": "#4D5663"
         },
         "title": {
          "font": {
           "color": "#4D5663"
          },
          "text": ""
         },
         "zerolinecolor": "#E1E5ED"
        }
       }
      },
      "text/html": [
       "<div>                            <div id=\"cc060f18-bce0-4015-b3d2-a5156ca6fa8e\" class=\"plotly-graph-div\" style=\"height:525px; width:100%;\"></div>            <script type=\"text/javascript\">                require([\"plotly\"], function(Plotly) {                    window.PLOTLYENV=window.PLOTLYENV || {};\n",
       "                    window.PLOTLYENV.BASE_URL='https://plot.ly';                                    if (document.getElementById(\"cc060f18-bce0-4015-b3d2-a5156ca6fa8e\")) {                    Plotly.newPlot(                        \"cc060f18-bce0-4015-b3d2-a5156ca6fa8e\",                        [{\"marker\":{\"color\":[\"rgb(255, 153, 51)\",\"rgb(55, 128, 191)\",\"rgb(50, 171, 96)\",\"rgb(128, 0, 128)\",\"rgb(219, 64, 82)\",\"rgb(0, 128, 128)\",\"rgb(255, 255, 51)\",\"rgb(128, 128, 0)\",\"rgb(251, 128, 114)\",\"rgb(128, 177, 211)\"],\"line\":{\"width\":1.3},\"size\":[65,86,12,60,89,74,42,59,22,43,74,40,71,48,39,63,47,42,59,78,70,65,109,39,49,45,61,37,28,112,44,96,59,17,24,61,60,87,72,28,50,70,70,52,83,47,43,67,65,44,48,40,62,46,55,48,27,64,56,51,59,41,79,29,64,48,44,78,37,54,64,16,73,26,49,82,47,75,46,79,101,73,19,70,40,59,52,68,36,31,46,47,78,39,76,46,59,74,47,39],\"symbol\":\"circle\"},\"mode\":\"markers\",\"text\":\"\",\"x\":[0.7365676730741115,-0.7858723473162033,-0.7612014338282168,-0.33828969119184393,2.119963389888639,-0.21033529370795123,0.6767739565306867,0.5069782758452451,0.774016534624883,0.645969599888223,1.320915012722791,0.44625820307936953,1.3497982780888076,-0.054312851369403614,0.4086759252360387,0.7670248516378464,-0.34164747625266406,-1.7258492298186636,-0.606458487839304,-0.38509253069137594,1.4779673151544093,-1.5316814798425253,0.9217068353068714,-0.3871133629664417,-1.288295495500347,0.34657449460134787,-1.5122310913921442,-2.382550658507943,-0.38864645623694927,0.28966630577443714,0.3194368360872796,-0.298154648157231,0.04412351469237872,0.5820788298374068,0.6404347136769989,-0.5406726034486085,2.5069957332916686,0.601324464091323,-2.5973464357475677,-1.0898746058693036,-0.3674931138183991,-0.6956665949403,0.6067824786484017,-0.014631944251588846,1.5496933437294362,0.49670459037018383,0.008656386426374951,-1.1879079254428846,0.1133646617244053,-1.209457437051342,0.53738323876218,-0.6799498612216169,-0.2485611813921982,1.259647945013635,0.26831411554353923,1.0703105180570807,0.6120298241543476,-0.7922552770571334,2.7198069168792665,0.30130325020606896,-0.5917405760881879,0.5680047551310305,0.18989307616818785,0.11827140230978321,-0.7112741838759915,-0.29454452098868006,1.4192744302811733,0.20178726147006076,0.16737330097876532,-0.9455492012524679,-1.5807529424508262,-0.3217548006777736,-0.16441643952635626,0.7605565832475502,1.0550615529269523,-0.26281305127051263,0.023700138695366336,0.0623905688170181,-1.6334667527317086,0.05877352101880432,0.8779585966847681,-0.22021733716874808,-0.5087245522034368,-0.4513545021497254,0.26610125050362843,0.14691010739790702,-0.10712846369094996,-0.5380999650652848,1.1751937445166347,0.7347422409605809,0.46494295601226526,-0.41693050383705343,0.0890698769086676,1.2171732953811045,-0.07683110145682837,1.1787552497082416,1.0022080658556163,2.708142526407743,1.0322122478237143,-1.2757074009052138],\"y\":[-1.17960096095747,-1.3775555599416172,0.13792944280704006,0.48371504791298947,1.330402450096832,0.6008571556967333,-0.48801970995218547,0.8961245543966675,0.2961431824584401,-1.4649552300510922,-0.7080659462597593,-1.2955118557528216,-0.38026898461962383,-0.4533352454607744,-0.3539169985811786,-1.2025477368662538,0.00892006917367232,0.16966744435944756,0.8223657469907609,1.1951243289151658,0.30365969879879123,-0.3028597261401649,-0.019062927160904068,-1.1187078160968458,0.9936865559435638,1.149927312754949,-0.6117767973140005,-0.44387643888953543,-0.03439784317436975,0.015399420236178523,1.1123127177074992,0.2649658061453154,0.6806251765292582,0.14785949702601267,-2.4605460959827004,-0.16205752753046915,-1.2254109809660831,-0.12225449695743638,0.5635173461831468,-0.2599285316945004,-0.27611765191417736,-1.4690531379716825,-1.954153503410868,-0.5866390468375826,0.1018189830619359,-0.07048593057982283,-1.212665780136159,-0.3451925694516716,0.9702962511148727,0.3423474752420889,1.9493684121162587,1.4406008187314832,-0.9759644286967494,-2.2506220014240275,-0.1950416048205692,0.3899551845378141,0.9796444130032764,-1.1593956186919911,0.9883877171167217,0.18632777987730414,-0.32652211390169983,0.5235349712369627,-0.14554797924655524,-0.6632566049388412,1.450516587911176,-1.8242348077687922,-0.7986611676784975,1.2865759967254213,0.03311206362784604,0.826111885566775,-1.8404480684092652,-0.17647317946813473,0.7076473944942543,0.6433397834820548,-0.05019150477402584,0.6938641710145623,-1.0856055786365582,-1.4164083407235537,-1.3642812235548454,1.846182244755937,-0.21921761442914586,-0.08980549285517242,-0.1207473523157025,-0.41706054413176086,0.6611570044122105,1.3289032537940533,-0.07510227699547183,-0.06500699130762963,0.47215000010575603,1.6071041868429516,2.0246550229557956,0.08805236871800126,0.9792317235927371,1.2488287261048898,-0.9105759352090856,-1.4063251858608385,1.3450088447347763,0.22540725929083774,-1.3483110021192624,0.47968437914212037],\"type\":\"scatter\"}],                        {\"legend\":{\"bgcolor\":\"#F5F6F9\",\"font\":{\"color\":\"#4D5663\"}},\"paper_bgcolor\":\"#F5F6F9\",\"plot_bgcolor\":\"#F5F6F9\",\"template\":{\"data\":{\"barpolar\":[{\"marker\":{\"line\":{\"color\":\"#E5ECF6\",\"width\":0.5},\"pattern\":{\"fillmode\":\"overlay\",\"size\":10,\"solidity\":0.2}},\"type\":\"barpolar\"}],\"bar\":[{\"error_x\":{\"color\":\"#2a3f5f\"},\"error_y\":{\"color\":\"#2a3f5f\"},\"marker\":{\"line\":{\"color\":\"#E5ECF6\",\"width\":0.5},\"pattern\":{\"fillmode\":\"overlay\",\"size\":10,\"solidity\":0.2}},\"type\":\"bar\"}],\"carpet\":[{\"aaxis\":{\"endlinecolor\":\"#2a3f5f\",\"gridcolor\":\"white\",\"linecolor\":\"white\",\"minorgridcolor\":\"white\",\"startlinecolor\":\"#2a3f5f\"},\"baxis\":{\"endlinecolor\":\"#2a3f5f\",\"gridcolor\":\"white\",\"linecolor\":\"white\",\"minorgridcolor\":\"white\",\"startlinecolor\":\"#2a3f5f\"},\"type\":\"carpet\"}],\"choropleth\":[{\"colorbar\":{\"outlinewidth\":0,\"ticks\":\"\"},\"type\":\"choropleth\"}],\"contourcarpet\":[{\"colorbar\":{\"outlinewidth\":0,\"ticks\":\"\"},\"type\":\"contourcarpet\"}],\"contour\":[{\"colorbar\":{\"outlinewidth\":0,\"ticks\":\"\"},\"colorscale\":[[0.0,\"#0d0887\"],[0.1111111111111111,\"#46039f\"],[0.2222222222222222,\"#7201a8\"],[0.3333333333333333,\"#9c179e\"],[0.4444444444444444,\"#bd3786\"],[0.5555555555555556,\"#d8576b\"],[0.6666666666666666,\"#ed7953\"],[0.7777777777777778,\"#fb9f3a\"],[0.8888888888888888,\"#fdca26\"],[1.0,\"#f0f921\"]],\"type\":\"contour\"}],\"heatmapgl\":[{\"colorbar\":{\"outlinewidth\":0,\"ticks\":\"\"},\"colorscale\":[[0.0,\"#0d0887\"],[0.1111111111111111,\"#46039f\"],[0.2222222222222222,\"#7201a8\"],[0.3333333333333333,\"#9c179e\"],[0.4444444444444444,\"#bd3786\"],[0.5555555555555556,\"#d8576b\"],[0.6666666666666666,\"#ed7953\"],[0.7777777777777778,\"#fb9f3a\"],[0.8888888888888888,\"#fdca26\"],[1.0,\"#f0f921\"]],\"type\":\"heatmapgl\"}],\"heatmap\":[{\"colorbar\":{\"outlinewidth\":0,\"ticks\":\"\"},\"colorscale\":[[0.0,\"#0d0887\"],[0.1111111111111111,\"#46039f\"],[0.2222222222222222,\"#7201a8\"],[0.3333333333333333,\"#9c179e\"],[0.4444444444444444,\"#bd3786\"],[0.5555555555555556,\"#d8576b\"],[0.6666666666666666,\"#ed7953\"],[0.7777777777777778,\"#fb9f3a\"],[0.8888888888888888,\"#fdca26\"],[1.0,\"#f0f921\"]],\"type\":\"heatmap\"}],\"histogram2dcontour\":[{\"colorbar\":{\"outlinewidth\":0,\"ticks\":\"\"},\"colorscale\":[[0.0,\"#0d0887\"],[0.1111111111111111,\"#46039f\"],[0.2222222222222222,\"#7201a8\"],[0.3333333333333333,\"#9c179e\"],[0.4444444444444444,\"#bd3786\"],[0.5555555555555556,\"#d8576b\"],[0.6666666666666666,\"#ed7953\"],[0.7777777777777778,\"#fb9f3a\"],[0.8888888888888888,\"#fdca26\"],[1.0,\"#f0f921\"]],\"type\":\"histogram2dcontour\"}],\"histogram2d\":[{\"colorbar\":{\"outlinewidth\":0,\"ticks\":\"\"},\"colorscale\":[[0.0,\"#0d0887\"],[0.1111111111111111,\"#46039f\"],[0.2222222222222222,\"#7201a8\"],[0.3333333333333333,\"#9c179e\"],[0.4444444444444444,\"#bd3786\"],[0.5555555555555556,\"#d8576b\"],[0.6666666666666666,\"#ed7953\"],[0.7777777777777778,\"#fb9f3a\"],[0.8888888888888888,\"#fdca26\"],[1.0,\"#f0f921\"]],\"type\":\"histogram2d\"}],\"histogram\":[{\"marker\":{\"pattern\":{\"fillmode\":\"overlay\",\"size\":10,\"solidity\":0.2}},\"type\":\"histogram\"}],\"mesh3d\":[{\"colorbar\":{\"outlinewidth\":0,\"ticks\":\"\"},\"type\":\"mesh3d\"}],\"parcoords\":[{\"line\":{\"colorbar\":{\"outlinewidth\":0,\"ticks\":\"\"}},\"type\":\"parcoords\"}],\"pie\":[{\"automargin\":true,\"type\":\"pie\"}],\"scatter3d\":[{\"line\":{\"colorbar\":{\"outlinewidth\":0,\"ticks\":\"\"}},\"marker\":{\"colorbar\":{\"outlinewidth\":0,\"ticks\":\"\"}},\"type\":\"scatter3d\"}],\"scattercarpet\":[{\"marker\":{\"colorbar\":{\"outlinewidth\":0,\"ticks\":\"\"}},\"type\":\"scattercarpet\"}],\"scattergeo\":[{\"marker\":{\"colorbar\":{\"outlinewidth\":0,\"ticks\":\"\"}},\"type\":\"scattergeo\"}],\"scattergl\":[{\"marker\":{\"colorbar\":{\"outlinewidth\":0,\"ticks\":\"\"}},\"type\":\"scattergl\"}],\"scattermapbox\":[{\"marker\":{\"colorbar\":{\"outlinewidth\":0,\"ticks\":\"\"}},\"type\":\"scattermapbox\"}],\"scatterpolargl\":[{\"marker\":{\"colorbar\":{\"outlinewidth\":0,\"ticks\":\"\"}},\"type\":\"scatterpolargl\"}],\"scatterpolar\":[{\"marker\":{\"colorbar\":{\"outlinewidth\":0,\"ticks\":\"\"}},\"type\":\"scatterpolar\"}],\"scatter\":[{\"fillpattern\":{\"fillmode\":\"overlay\",\"size\":10,\"solidity\":0.2},\"type\":\"scatter\"}],\"scatterternary\":[{\"marker\":{\"colorbar\":{\"outlinewidth\":0,\"ticks\":\"\"}},\"type\":\"scatterternary\"}],\"surface\":[{\"colorbar\":{\"outlinewidth\":0,\"ticks\":\"\"},\"colorscale\":[[0.0,\"#0d0887\"],[0.1111111111111111,\"#46039f\"],[0.2222222222222222,\"#7201a8\"],[0.3333333333333333,\"#9c179e\"],[0.4444444444444444,\"#bd3786\"],[0.5555555555555556,\"#d8576b\"],[0.6666666666666666,\"#ed7953\"],[0.7777777777777778,\"#fb9f3a\"],[0.8888888888888888,\"#fdca26\"],[1.0,\"#f0f921\"]],\"type\":\"surface\"}],\"table\":[{\"cells\":{\"fill\":{\"color\":\"#EBF0F8\"},\"line\":{\"color\":\"white\"}},\"header\":{\"fill\":{\"color\":\"#C8D4E3\"},\"line\":{\"color\":\"white\"}},\"type\":\"table\"}]},\"layout\":{\"annotationdefaults\":{\"arrowcolor\":\"#2a3f5f\",\"arrowhead\":0,\"arrowwidth\":1},\"autotypenumbers\":\"strict\",\"coloraxis\":{\"colorbar\":{\"outlinewidth\":0,\"ticks\":\"\"}},\"colorscale\":{\"diverging\":[[0,\"#8e0152\"],[0.1,\"#c51b7d\"],[0.2,\"#de77ae\"],[0.3,\"#f1b6da\"],[0.4,\"#fde0ef\"],[0.5,\"#f7f7f7\"],[0.6,\"#e6f5d0\"],[0.7,\"#b8e186\"],[0.8,\"#7fbc41\"],[0.9,\"#4d9221\"],[1,\"#276419\"]],\"sequential\":[[0.0,\"#0d0887\"],[0.1111111111111111,\"#46039f\"],[0.2222222222222222,\"#7201a8\"],[0.3333333333333333,\"#9c179e\"],[0.4444444444444444,\"#bd3786\"],[0.5555555555555556,\"#d8576b\"],[0.6666666666666666,\"#ed7953\"],[0.7777777777777778,\"#fb9f3a\"],[0.8888888888888888,\"#fdca26\"],[1.0,\"#f0f921\"]],\"sequentialminus\":[[0.0,\"#0d0887\"],[0.1111111111111111,\"#46039f\"],[0.2222222222222222,\"#7201a8\"],[0.3333333333333333,\"#9c179e\"],[0.4444444444444444,\"#bd3786\"],[0.5555555555555556,\"#d8576b\"],[0.6666666666666666,\"#ed7953\"],[0.7777777777777778,\"#fb9f3a\"],[0.8888888888888888,\"#fdca26\"],[1.0,\"#f0f921\"]]},\"colorway\":[\"#636efa\",\"#EF553B\",\"#00cc96\",\"#ab63fa\",\"#FFA15A\",\"#19d3f3\",\"#FF6692\",\"#B6E880\",\"#FF97FF\",\"#FECB52\"],\"font\":{\"color\":\"#2a3f5f\"},\"geo\":{\"bgcolor\":\"white\",\"lakecolor\":\"white\",\"landcolor\":\"#E5ECF6\",\"showlakes\":true,\"showland\":true,\"subunitcolor\":\"white\"},\"hoverlabel\":{\"align\":\"left\"},\"hovermode\":\"closest\",\"mapbox\":{\"style\":\"light\"},\"paper_bgcolor\":\"white\",\"plot_bgcolor\":\"#E5ECF6\",\"polar\":{\"angularaxis\":{\"gridcolor\":\"white\",\"linecolor\":\"white\",\"ticks\":\"\"},\"bgcolor\":\"#E5ECF6\",\"radialaxis\":{\"gridcolor\":\"white\",\"linecolor\":\"white\",\"ticks\":\"\"}},\"scene\":{\"xaxis\":{\"backgroundcolor\":\"#E5ECF6\",\"gridcolor\":\"white\",\"gridwidth\":2,\"linecolor\":\"white\",\"showbackground\":true,\"ticks\":\"\",\"zerolinecolor\":\"white\"},\"yaxis\":{\"backgroundcolor\":\"#E5ECF6\",\"gridcolor\":\"white\",\"gridwidth\":2,\"linecolor\":\"white\",\"showbackground\":true,\"ticks\":\"\",\"zerolinecolor\":\"white\"},\"zaxis\":{\"backgroundcolor\":\"#E5ECF6\",\"gridcolor\":\"white\",\"gridwidth\":2,\"linecolor\":\"white\",\"showbackground\":true,\"ticks\":\"\",\"zerolinecolor\":\"white\"}},\"shapedefaults\":{\"line\":{\"color\":\"#2a3f5f\"}},\"ternary\":{\"aaxis\":{\"gridcolor\":\"white\",\"linecolor\":\"white\",\"ticks\":\"\"},\"baxis\":{\"gridcolor\":\"white\",\"linecolor\":\"white\",\"ticks\":\"\"},\"bgcolor\":\"#E5ECF6\",\"caxis\":{\"gridcolor\":\"white\",\"linecolor\":\"white\",\"ticks\":\"\"}},\"title\":{\"x\":0.05},\"xaxis\":{\"automargin\":true,\"gridcolor\":\"white\",\"linecolor\":\"white\",\"ticks\":\"\",\"title\":{\"standoff\":15},\"zerolinecolor\":\"white\",\"zerolinewidth\":2},\"yaxis\":{\"automargin\":true,\"gridcolor\":\"white\",\"linecolor\":\"white\",\"ticks\":\"\",\"title\":{\"standoff\":15},\"zerolinecolor\":\"white\",\"zerolinewidth\":2}}},\"title\":{\"font\":{\"color\":\"#4D5663\"}},\"xaxis\":{\"gridcolor\":\"#E1E5ED\",\"showgrid\":true,\"tickfont\":{\"color\":\"#4D5663\"},\"title\":{\"font\":{\"color\":\"#4D5663\"},\"text\":\"\"},\"zerolinecolor\":\"#E1E5ED\"},\"yaxis\":{\"gridcolor\":\"#E1E5ED\",\"showgrid\":true,\"tickfont\":{\"color\":\"#4D5663\"},\"title\":{\"font\":{\"color\":\"#4D5663\"},\"text\":\"\"},\"zerolinecolor\":\"#E1E5ED\"}},                        {\"showLink\": true, \"linkText\": \"Export to plot.ly\", \"plotlyServerURL\": \"https://plot.ly\", \"responsive\": true}                    ).then(function(){\n",
       "                            \n",
       "var gd = document.getElementById('cc060f18-bce0-4015-b3d2-a5156ca6fa8e');\n",
       "var x = new MutationObserver(function (mutations, observer) {{\n",
       "        var display = window.getComputedStyle(gd).display;\n",
       "        if (!display || display === 'none') {{\n",
       "            console.log([gd, 'removed!']);\n",
       "            Plotly.purge(gd);\n",
       "            observer.disconnect();\n",
       "        }}\n",
       "}});\n",
       "\n",
       "// Listen for the removal of the full notebook cells\n",
       "var notebookContainer = gd.closest('#notebook-container');\n",
       "if (notebookContainer) {{\n",
       "    x.observe(notebookContainer, {childList: true});\n",
       "}}\n",
       "\n",
       "// Listen for the clearing of the current output cell\n",
       "var outputEl = gd.closest('.output');\n",
       "if (outputEl) {{\n",
       "    x.observe(outputEl, {childList: true});\n",
       "}}\n",
       "\n",
       "                        })                };                });            </script>        </div>"
      ]
     },
     "metadata": {},
     "output_type": "display_data"
    }
   ],
   "source": [
    "df.iplot(kind='bubble',x='A',y='B',size='C')"
   ]
  },
  {
   "cell_type": "markdown",
   "metadata": {},
   "source": [
    "## scatter_matrix()\n",
    "\n",
    "Similar to sns.pairplot()"
   ]
  },
  {
   "cell_type": "code",
   "execution_count": 20,
   "metadata": {},
   "outputs": [
    {
     "data": {
      "application/vnd.plotly.v1+json": {
       "config": {
        "linkText": "Export to plot.ly",
        "plotlyServerURL": "https://plot.ly",
        "showLink": true
       },
       "data": [
        {
         "histfunc": "count",
         "histnorm": "",
         "marker": {
          "color": "rgba(255, 153, 51, 1.0)",
          "line": {
           "color": "#4D5663",
           "width": 1.3
          }
         },
         "name": "A",
         "nbinsx": 10,
         "opacity": 0.8,
         "orientation": "v",
         "type": "histogram",
         "x": [
          0.7365676730741115,
          -0.7858723473162033,
          -0.7612014338282168,
          -0.33828969119184393,
          2.119963389888639,
          -0.21033529370795123,
          0.6767739565306867,
          0.5069782758452451,
          0.774016534624883,
          0.645969599888223,
          1.320915012722791,
          0.44625820307936953,
          1.3497982780888076,
          -0.054312851369403614,
          0.4086759252360387,
          0.7670248516378464,
          -0.34164747625266406,
          -1.7258492298186636,
          -0.606458487839304,
          -0.38509253069137594,
          1.4779673151544093,
          -1.5316814798425253,
          0.9217068353068714,
          -0.3871133629664417,
          -1.288295495500347,
          0.34657449460134787,
          -1.5122310913921442,
          -2.382550658507943,
          -0.38864645623694927,
          0.28966630577443714,
          0.3194368360872796,
          -0.298154648157231,
          0.04412351469237872,
          0.5820788298374068,
          0.6404347136769989,
          -0.5406726034486085,
          2.5069957332916686,
          0.601324464091323,
          -2.5973464357475677,
          -1.0898746058693036,
          -0.3674931138183991,
          -0.6956665949403,
          0.6067824786484017,
          -0.014631944251588846,
          1.5496933437294362,
          0.49670459037018383,
          0.008656386426374951,
          -1.1879079254428846,
          0.1133646617244053,
          -1.209457437051342,
          0.53738323876218,
          -0.6799498612216169,
          -0.2485611813921982,
          1.259647945013635,
          0.26831411554353923,
          1.0703105180570807,
          0.6120298241543476,
          -0.7922552770571334,
          2.7198069168792665,
          0.30130325020606896,
          -0.5917405760881879,
          0.5680047551310305,
          0.18989307616818785,
          0.11827140230978321,
          -0.7112741838759915,
          -0.29454452098868006,
          1.4192744302811733,
          0.20178726147006076,
          0.16737330097876532,
          -0.9455492012524679,
          -1.5807529424508262,
          -0.3217548006777736,
          -0.16441643952635626,
          0.7605565832475502,
          1.0550615529269523,
          -0.26281305127051263,
          0.023700138695366336,
          0.0623905688170181,
          -1.6334667527317086,
          0.05877352101880432,
          0.8779585966847681,
          -0.22021733716874808,
          -0.5087245522034368,
          -0.4513545021497254,
          0.26610125050362843,
          0.14691010739790702,
          -0.10712846369094996,
          -0.5380999650652848,
          1.1751937445166347,
          0.7347422409605809,
          0.46494295601226526,
          -0.41693050383705343,
          0.0890698769086676,
          1.2171732953811045,
          -0.07683110145682837,
          1.1787552497082416,
          1.0022080658556163,
          2.708142526407743,
          1.0322122478237143,
          -1.2757074009052138
         ],
         "xaxis": "x",
         "yaxis": "y"
        },
        {
         "line": {
          "color": "rgba(128, 128, 128, 1.0)",
          "dash": "solid",
          "shape": "linear",
          "width": 1.3
         },
         "marker": {
          "size": 2,
          "symbol": "circle"
         },
         "mode": "markers",
         "name": "A",
         "text": "",
         "type": "scatter",
         "x": [
          -1.17960096095747,
          -1.3775555599416172,
          0.13792944280704006,
          0.48371504791298947,
          1.330402450096832,
          0.6008571556967333,
          -0.48801970995218547,
          0.8961245543966675,
          0.2961431824584401,
          -1.4649552300510922,
          -0.7080659462597593,
          -1.2955118557528216,
          -0.38026898461962383,
          -0.4533352454607744,
          -0.3539169985811786,
          -1.2025477368662538,
          0.00892006917367232,
          0.16966744435944756,
          0.8223657469907609,
          1.1951243289151658,
          0.30365969879879123,
          -0.3028597261401649,
          -0.019062927160904068,
          -1.1187078160968458,
          0.9936865559435638,
          1.149927312754949,
          -0.6117767973140005,
          -0.44387643888953543,
          -0.03439784317436975,
          0.015399420236178523,
          1.1123127177074992,
          0.2649658061453154,
          0.6806251765292582,
          0.14785949702601267,
          -2.4605460959827004,
          -0.16205752753046915,
          -1.2254109809660831,
          -0.12225449695743638,
          0.5635173461831468,
          -0.2599285316945004,
          -0.27611765191417736,
          -1.4690531379716825,
          -1.954153503410868,
          -0.5866390468375826,
          0.1018189830619359,
          -0.07048593057982283,
          -1.212665780136159,
          -0.3451925694516716,
          0.9702962511148727,
          0.3423474752420889,
          1.9493684121162587,
          1.4406008187314832,
          -0.9759644286967494,
          -2.2506220014240275,
          -0.1950416048205692,
          0.3899551845378141,
          0.9796444130032764,
          -1.1593956186919911,
          0.9883877171167217,
          0.18632777987730414,
          -0.32652211390169983,
          0.5235349712369627,
          -0.14554797924655524,
          -0.6632566049388412,
          1.450516587911176,
          -1.8242348077687922,
          -0.7986611676784975,
          1.2865759967254213,
          0.03311206362784604,
          0.826111885566775,
          -1.8404480684092652,
          -0.17647317946813473,
          0.7076473944942543,
          0.6433397834820548,
          -0.05019150477402584,
          0.6938641710145623,
          -1.0856055786365582,
          -1.4164083407235537,
          -1.3642812235548454,
          1.846182244755937,
          -0.21921761442914586,
          -0.08980549285517242,
          -0.1207473523157025,
          -0.41706054413176086,
          0.6611570044122105,
          1.3289032537940533,
          -0.07510227699547183,
          -0.06500699130762963,
          0.47215000010575603,
          1.6071041868429516,
          2.0246550229557956,
          0.08805236871800126,
          0.9792317235927371,
          1.2488287261048898,
          -0.9105759352090856,
          -1.4063251858608385,
          1.3450088447347763,
          0.22540725929083774,
          -1.3483110021192624,
          0.47968437914212037
         ],
         "xaxis": "x2",
         "y": [
          0.7365676730741115,
          -0.7858723473162033,
          -0.7612014338282168,
          -0.33828969119184393,
          2.119963389888639,
          -0.21033529370795123,
          0.6767739565306867,
          0.5069782758452451,
          0.774016534624883,
          0.645969599888223,
          1.320915012722791,
          0.44625820307936953,
          1.3497982780888076,
          -0.054312851369403614,
          0.4086759252360387,
          0.7670248516378464,
          -0.34164747625266406,
          -1.7258492298186636,
          -0.606458487839304,
          -0.38509253069137594,
          1.4779673151544093,
          -1.5316814798425253,
          0.9217068353068714,
          -0.3871133629664417,
          -1.288295495500347,
          0.34657449460134787,
          -1.5122310913921442,
          -2.382550658507943,
          -0.38864645623694927,
          0.28966630577443714,
          0.3194368360872796,
          -0.298154648157231,
          0.04412351469237872,
          0.5820788298374068,
          0.6404347136769989,
          -0.5406726034486085,
          2.5069957332916686,
          0.601324464091323,
          -2.5973464357475677,
          -1.0898746058693036,
          -0.3674931138183991,
          -0.6956665949403,
          0.6067824786484017,
          -0.014631944251588846,
          1.5496933437294362,
          0.49670459037018383,
          0.008656386426374951,
          -1.1879079254428846,
          0.1133646617244053,
          -1.209457437051342,
          0.53738323876218,
          -0.6799498612216169,
          -0.2485611813921982,
          1.259647945013635,
          0.26831411554353923,
          1.0703105180570807,
          0.6120298241543476,
          -0.7922552770571334,
          2.7198069168792665,
          0.30130325020606896,
          -0.5917405760881879,
          0.5680047551310305,
          0.18989307616818785,
          0.11827140230978321,
          -0.7112741838759915,
          -0.29454452098868006,
          1.4192744302811733,
          0.20178726147006076,
          0.16737330097876532,
          -0.9455492012524679,
          -1.5807529424508262,
          -0.3217548006777736,
          -0.16441643952635626,
          0.7605565832475502,
          1.0550615529269523,
          -0.26281305127051263,
          0.023700138695366336,
          0.0623905688170181,
          -1.6334667527317086,
          0.05877352101880432,
          0.8779585966847681,
          -0.22021733716874808,
          -0.5087245522034368,
          -0.4513545021497254,
          0.26610125050362843,
          0.14691010739790702,
          -0.10712846369094996,
          -0.5380999650652848,
          1.1751937445166347,
          0.7347422409605809,
          0.46494295601226526,
          -0.41693050383705343,
          0.0890698769086676,
          1.2171732953811045,
          -0.07683110145682837,
          1.1787552497082416,
          1.0022080658556163,
          2.708142526407743,
          1.0322122478237143,
          -1.2757074009052138
         ],
         "yaxis": "y2"
        },
        {
         "line": {
          "color": "rgba(128, 128, 128, 1.0)",
          "dash": "solid",
          "shape": "linear",
          "width": 1.3
         },
         "marker": {
          "size": 2,
          "symbol": "circle"
         },
         "mode": "markers",
         "name": "A",
         "text": "",
         "type": "scatter",
         "x": [
          0.2111802423317103,
          1.2513023812484676,
          -2.420262985173286,
          -0.01810690595321826,
          1.4369134657374685,
          0.6684809269544413,
          -0.8896657798628989,
          -0.04402398316027114,
          -1.8819037762203268,
          -0.8579940284335679,
          0.6630136483601791,
          -1.0130057914209418,
          0.5300948967919401,
          -0.6116875874922295,
          -1.0405317896111674,
          0.1066065630603391,
          -0.6623367018999061,
          -0.9141072267587206,
          -0.07651540637898738,
          0.8794740655476391,
          0.4954605506779982,
          0.24483452004683712,
          2.4264980700103336,
          -1.06138734364795,
          -0.557073652047221,
          -0.7695481294396544,
          0.03309694318780089,
          -1.157823416209676,
          -1.596494399797544,
          2.532456364986618,
          -0.8066088623148706,
          1.770470147368262,
          -0.06773218184250519,
          -2.1305263195387103,
          -1.822274695929015,
          0.030785638543068785,
          -0.008084167370602255,
          1.331337333505016,
          0.588186934226218,
          -1.5822140559039608,
          -0.5220156480516457,
          0.4661917968374661,
          0.48596504401991136,
          -0.4361624207486163,
          1.1427545134985497,
          -0.6824526850497654,
          -0.8440833820207647,
          0.3212876600368777,
          0.22382288539688838,
          -0.806383858896275,
          -0.5924041008070848,
          -1.0256936022595546,
          0.06451598536290552,
          -0.7166862762894189,
          -0.27515566734864444,
          -0.6014718779964504,
          -1.6753997147232118,
          0.16251273237698743,
          -0.2070889064583417,
          -0.44947347795404113,
          -0.08202653889245286,
          -0.9567459794601099,
          0.9074827992251838,
          -1.5375664107929354,
          0.16657684305640597,
          -0.6223030798991293,
          -0.8314366989766482,
          0.8923639467852169,
          -1.1816901669139268,
          -0.3355203332327252,
          0.19962944480521727,
          -2.2011482810267275,
          0.6445319929985893,
          -1.706926985518179,
          -0.5566538836996962,
          1.0543517373154683,
          -0.6622767931616665,
          0.7297025635382117,
          -0.7273033013667342,
          0.9158551674787964,
          2.013294011662559,
          0.603240529727419,
          -2.0588839296058454,
          0.4761047810469739,
          -1.0189856560944028,
          -0.055398045677197784,
          -0.3988064750448735,
          0.35640182671142695,
          -1.199030727369626,
          -1.4390659260992618,
          -0.7072400789104146,
          -0.656693883698443,
          0.8925601323061709,
          -1.0716342069766727,
          0.7635432042931674,
          -0.7218963008683043,
          -0.07248744015927425,
          0.6818670638384986,
          -0.669188717471183,
          -1.0594740245380794
         ],
         "xaxis": "x3",
         "y": [
          0.7365676730741115,
          -0.7858723473162033,
          -0.7612014338282168,
          -0.33828969119184393,
          2.119963389888639,
          -0.21033529370795123,
          0.6767739565306867,
          0.5069782758452451,
          0.774016534624883,
          0.645969599888223,
          1.320915012722791,
          0.44625820307936953,
          1.3497982780888076,
          -0.054312851369403614,
          0.4086759252360387,
          0.7670248516378464,
          -0.34164747625266406,
          -1.7258492298186636,
          -0.606458487839304,
          -0.38509253069137594,
          1.4779673151544093,
          -1.5316814798425253,
          0.9217068353068714,
          -0.3871133629664417,
          -1.288295495500347,
          0.34657449460134787,
          -1.5122310913921442,
          -2.382550658507943,
          -0.38864645623694927,
          0.28966630577443714,
          0.3194368360872796,
          -0.298154648157231,
          0.04412351469237872,
          0.5820788298374068,
          0.6404347136769989,
          -0.5406726034486085,
          2.5069957332916686,
          0.601324464091323,
          -2.5973464357475677,
          -1.0898746058693036,
          -0.3674931138183991,
          -0.6956665949403,
          0.6067824786484017,
          -0.014631944251588846,
          1.5496933437294362,
          0.49670459037018383,
          0.008656386426374951,
          -1.1879079254428846,
          0.1133646617244053,
          -1.209457437051342,
          0.53738323876218,
          -0.6799498612216169,
          -0.2485611813921982,
          1.259647945013635,
          0.26831411554353923,
          1.0703105180570807,
          0.6120298241543476,
          -0.7922552770571334,
          2.7198069168792665,
          0.30130325020606896,
          -0.5917405760881879,
          0.5680047551310305,
          0.18989307616818785,
          0.11827140230978321,
          -0.7112741838759915,
          -0.29454452098868006,
          1.4192744302811733,
          0.20178726147006076,
          0.16737330097876532,
          -0.9455492012524679,
          -1.5807529424508262,
          -0.3217548006777736,
          -0.16441643952635626,
          0.7605565832475502,
          1.0550615529269523,
          -0.26281305127051263,
          0.023700138695366336,
          0.0623905688170181,
          -1.6334667527317086,
          0.05877352101880432,
          0.8779585966847681,
          -0.22021733716874808,
          -0.5087245522034368,
          -0.4513545021497254,
          0.26610125050362843,
          0.14691010739790702,
          -0.10712846369094996,
          -0.5380999650652848,
          1.1751937445166347,
          0.7347422409605809,
          0.46494295601226526,
          -0.41693050383705343,
          0.0890698769086676,
          1.2171732953811045,
          -0.07683110145682837,
          1.1787552497082416,
          1.0022080658556163,
          2.708142526407743,
          1.0322122478237143,
          -1.2757074009052138
         ],
         "yaxis": "y3"
        },
        {
         "line": {
          "color": "rgba(128, 128, 128, 1.0)",
          "dash": "solid",
          "shape": "linear",
          "width": 1.3
         },
         "marker": {
          "size": 2,
          "symbol": "circle"
         },
         "mode": "markers",
         "name": "A",
         "text": "",
         "type": "scatter",
         "x": [
          0.028709117222660435,
          -0.8749211890322138,
          0.6750792939143624,
          -1.0262801428193047,
          0.3234398648599455,
          -0.3876739810699715,
          -0.11827322456217186,
          1.9885355457805702,
          0.03933541205734301,
          0.530069542647012,
          0.24686228319134487,
          0.20294901642620966,
          1.2252283809729214,
          -0.08125354468935345,
          -0.3175747171280276,
          0.021724154012419825,
          0.23291709506853644,
          0.7636567288123901,
          -0.5902298796389542,
          0.7819572200644456,
          1.2267628528169439,
          0.2352724133666129,
          -0.10589542879898398,
          1.2259432051006791,
          1.4494715484848886,
          -1.3923181404410845,
          0.508369611846267,
          -1.1143065653090483,
          -2.971993922889421,
          0.8642498062409729,
          -0.12910114376377066,
          -1.3372127108836547,
          -0.5069592925761005,
          0.18798294843010604,
          -0.2635532772361538,
          -0.21414271511520802,
          0.7139910742148748,
          -0.8033790782677973,
          0.34908653589119587,
          2.092937025226005,
          -0.27156830913114494,
          1.278982152856434,
          0.03212293185118509,
          0.032199289165888774,
          -0.6376893960814524,
          0.9533306530613369,
          1.7524769462077232,
          -1.1023081106066404,
          1.249201250592397,
          1.216220027822527,
          0.07973797657419972,
          0.5681735121792242,
          -0.9027943972756199,
          0.1948166653498565,
          -0.04497796781852511,
          0.35745036207342634,
          -1.7122693913265719,
          0.8696186131524236,
          0.37247176422267636,
          -1.0070686607190036,
          0.6472418575957608,
          -0.8801214715960499,
          0.8811787925892396,
          1.153030478742426,
          0.09120108761904984,
          -1.377553751673728,
          0.30887327296779304,
          1.490857984784296,
          0.4179453440267466,
          0.44405221801437456,
          -0.8403927578127272,
          -0.15426805996920614,
          -0.8204281060226977,
          0.03268017332568117,
          0.9630125035145306,
          -0.9130953040796658,
          -0.9085662487791775,
          1.195269761705436,
          0.4161310509843156,
          0.8153342008245268,
          -0.6487733233924821,
          -1.0907861563845118,
          0.5197384517832024,
          1.1789165623413587,
          1.7219520141869629,
          0.7549338839899621,
          0.2869016485675767,
          0.2592029263132396,
          0.7583566967276182,
          0.705595053820896,
          0.9220444078811396,
          1.0473044220862493,
          -0.22852565607430325,
          1.4262185670441727,
          1.3492535245563764,
          -1.146951429611907,
          1.6080698085483616,
          -1.517184974776277,
          -1.7149233920002773,
          1.1754726665124724
         ],
         "xaxis": "x4",
         "y": [
          0.7365676730741115,
          -0.7858723473162033,
          -0.7612014338282168,
          -0.33828969119184393,
          2.119963389888639,
          -0.21033529370795123,
          0.6767739565306867,
          0.5069782758452451,
          0.774016534624883,
          0.645969599888223,
          1.320915012722791,
          0.44625820307936953,
          1.3497982780888076,
          -0.054312851369403614,
          0.4086759252360387,
          0.7670248516378464,
          -0.34164747625266406,
          -1.7258492298186636,
          -0.606458487839304,
          -0.38509253069137594,
          1.4779673151544093,
          -1.5316814798425253,
          0.9217068353068714,
          -0.3871133629664417,
          -1.288295495500347,
          0.34657449460134787,
          -1.5122310913921442,
          -2.382550658507943,
          -0.38864645623694927,
          0.28966630577443714,
          0.3194368360872796,
          -0.298154648157231,
          0.04412351469237872,
          0.5820788298374068,
          0.6404347136769989,
          -0.5406726034486085,
          2.5069957332916686,
          0.601324464091323,
          -2.5973464357475677,
          -1.0898746058693036,
          -0.3674931138183991,
          -0.6956665949403,
          0.6067824786484017,
          -0.014631944251588846,
          1.5496933437294362,
          0.49670459037018383,
          0.008656386426374951,
          -1.1879079254428846,
          0.1133646617244053,
          -1.209457437051342,
          0.53738323876218,
          -0.6799498612216169,
          -0.2485611813921982,
          1.259647945013635,
          0.26831411554353923,
          1.0703105180570807,
          0.6120298241543476,
          -0.7922552770571334,
          2.7198069168792665,
          0.30130325020606896,
          -0.5917405760881879,
          0.5680047551310305,
          0.18989307616818785,
          0.11827140230978321,
          -0.7112741838759915,
          -0.29454452098868006,
          1.4192744302811733,
          0.20178726147006076,
          0.16737330097876532,
          -0.9455492012524679,
          -1.5807529424508262,
          -0.3217548006777736,
          -0.16441643952635626,
          0.7605565832475502,
          1.0550615529269523,
          -0.26281305127051263,
          0.023700138695366336,
          0.0623905688170181,
          -1.6334667527317086,
          0.05877352101880432,
          0.8779585966847681,
          -0.22021733716874808,
          -0.5087245522034368,
          -0.4513545021497254,
          0.26610125050362843,
          0.14691010739790702,
          -0.10712846369094996,
          -0.5380999650652848,
          1.1751937445166347,
          0.7347422409605809,
          0.46494295601226526,
          -0.41693050383705343,
          0.0890698769086676,
          1.2171732953811045,
          -0.07683110145682837,
          1.1787552497082416,
          1.0022080658556163,
          2.708142526407743,
          1.0322122478237143,
          -1.2757074009052138
         ],
         "yaxis": "y4"
        },
        {
         "line": {
          "color": "rgba(128, 128, 128, 1.0)",
          "dash": "solid",
          "shape": "linear",
          "width": 1.3
         },
         "marker": {
          "size": 2,
          "symbol": "circle"
         },
         "mode": "markers",
         "name": "B",
         "text": "",
         "type": "scatter",
         "x": [
          0.7365676730741115,
          -0.7858723473162033,
          -0.7612014338282168,
          -0.33828969119184393,
          2.119963389888639,
          -0.21033529370795123,
          0.6767739565306867,
          0.5069782758452451,
          0.774016534624883,
          0.645969599888223,
          1.320915012722791,
          0.44625820307936953,
          1.3497982780888076,
          -0.054312851369403614,
          0.4086759252360387,
          0.7670248516378464,
          -0.34164747625266406,
          -1.7258492298186636,
          -0.606458487839304,
          -0.38509253069137594,
          1.4779673151544093,
          -1.5316814798425253,
          0.9217068353068714,
          -0.3871133629664417,
          -1.288295495500347,
          0.34657449460134787,
          -1.5122310913921442,
          -2.382550658507943,
          -0.38864645623694927,
          0.28966630577443714,
          0.3194368360872796,
          -0.298154648157231,
          0.04412351469237872,
          0.5820788298374068,
          0.6404347136769989,
          -0.5406726034486085,
          2.5069957332916686,
          0.601324464091323,
          -2.5973464357475677,
          -1.0898746058693036,
          -0.3674931138183991,
          -0.6956665949403,
          0.6067824786484017,
          -0.014631944251588846,
          1.5496933437294362,
          0.49670459037018383,
          0.008656386426374951,
          -1.1879079254428846,
          0.1133646617244053,
          -1.209457437051342,
          0.53738323876218,
          -0.6799498612216169,
          -0.2485611813921982,
          1.259647945013635,
          0.26831411554353923,
          1.0703105180570807,
          0.6120298241543476,
          -0.7922552770571334,
          2.7198069168792665,
          0.30130325020606896,
          -0.5917405760881879,
          0.5680047551310305,
          0.18989307616818785,
          0.11827140230978321,
          -0.7112741838759915,
          -0.29454452098868006,
          1.4192744302811733,
          0.20178726147006076,
          0.16737330097876532,
          -0.9455492012524679,
          -1.5807529424508262,
          -0.3217548006777736,
          -0.16441643952635626,
          0.7605565832475502,
          1.0550615529269523,
          -0.26281305127051263,
          0.023700138695366336,
          0.0623905688170181,
          -1.6334667527317086,
          0.05877352101880432,
          0.8779585966847681,
          -0.22021733716874808,
          -0.5087245522034368,
          -0.4513545021497254,
          0.26610125050362843,
          0.14691010739790702,
          -0.10712846369094996,
          -0.5380999650652848,
          1.1751937445166347,
          0.7347422409605809,
          0.46494295601226526,
          -0.41693050383705343,
          0.0890698769086676,
          1.2171732953811045,
          -0.07683110145682837,
          1.1787552497082416,
          1.0022080658556163,
          2.708142526407743,
          1.0322122478237143,
          -1.2757074009052138
         ],
         "xaxis": "x5",
         "y": [
          -1.17960096095747,
          -1.3775555599416172,
          0.13792944280704006,
          0.48371504791298947,
          1.330402450096832,
          0.6008571556967333,
          -0.48801970995218547,
          0.8961245543966675,
          0.2961431824584401,
          -1.4649552300510922,
          -0.7080659462597593,
          -1.2955118557528216,
          -0.38026898461962383,
          -0.4533352454607744,
          -0.3539169985811786,
          -1.2025477368662538,
          0.00892006917367232,
          0.16966744435944756,
          0.8223657469907609,
          1.1951243289151658,
          0.30365969879879123,
          -0.3028597261401649,
          -0.019062927160904068,
          -1.1187078160968458,
          0.9936865559435638,
          1.149927312754949,
          -0.6117767973140005,
          -0.44387643888953543,
          -0.03439784317436975,
          0.015399420236178523,
          1.1123127177074992,
          0.2649658061453154,
          0.6806251765292582,
          0.14785949702601267,
          -2.4605460959827004,
          -0.16205752753046915,
          -1.2254109809660831,
          -0.12225449695743638,
          0.5635173461831468,
          -0.2599285316945004,
          -0.27611765191417736,
          -1.4690531379716825,
          -1.954153503410868,
          -0.5866390468375826,
          0.1018189830619359,
          -0.07048593057982283,
          -1.212665780136159,
          -0.3451925694516716,
          0.9702962511148727,
          0.3423474752420889,
          1.9493684121162587,
          1.4406008187314832,
          -0.9759644286967494,
          -2.2506220014240275,
          -0.1950416048205692,
          0.3899551845378141,
          0.9796444130032764,
          -1.1593956186919911,
          0.9883877171167217,
          0.18632777987730414,
          -0.32652211390169983,
          0.5235349712369627,
          -0.14554797924655524,
          -0.6632566049388412,
          1.450516587911176,
          -1.8242348077687922,
          -0.7986611676784975,
          1.2865759967254213,
          0.03311206362784604,
          0.826111885566775,
          -1.8404480684092652,
          -0.17647317946813473,
          0.7076473944942543,
          0.6433397834820548,
          -0.05019150477402584,
          0.6938641710145623,
          -1.0856055786365582,
          -1.4164083407235537,
          -1.3642812235548454,
          1.846182244755937,
          -0.21921761442914586,
          -0.08980549285517242,
          -0.1207473523157025,
          -0.41706054413176086,
          0.6611570044122105,
          1.3289032537940533,
          -0.07510227699547183,
          -0.06500699130762963,
          0.47215000010575603,
          1.6071041868429516,
          2.0246550229557956,
          0.08805236871800126,
          0.9792317235927371,
          1.2488287261048898,
          -0.9105759352090856,
          -1.4063251858608385,
          1.3450088447347763,
          0.22540725929083774,
          -1.3483110021192624,
          0.47968437914212037
         ],
         "yaxis": "y5"
        },
        {
         "histfunc": "count",
         "histnorm": "",
         "marker": {
          "color": "rgba(55, 128, 191, 1.0)",
          "line": {
           "color": "#4D5663",
           "width": 1.3
          }
         },
         "name": "B",
         "nbinsx": 10,
         "opacity": 0.8,
         "orientation": "v",
         "type": "histogram",
         "x": [
          -1.17960096095747,
          -1.3775555599416172,
          0.13792944280704006,
          0.48371504791298947,
          1.330402450096832,
          0.6008571556967333,
          -0.48801970995218547,
          0.8961245543966675,
          0.2961431824584401,
          -1.4649552300510922,
          -0.7080659462597593,
          -1.2955118557528216,
          -0.38026898461962383,
          -0.4533352454607744,
          -0.3539169985811786,
          -1.2025477368662538,
          0.00892006917367232,
          0.16966744435944756,
          0.8223657469907609,
          1.1951243289151658,
          0.30365969879879123,
          -0.3028597261401649,
          -0.019062927160904068,
          -1.1187078160968458,
          0.9936865559435638,
          1.149927312754949,
          -0.6117767973140005,
          -0.44387643888953543,
          -0.03439784317436975,
          0.015399420236178523,
          1.1123127177074992,
          0.2649658061453154,
          0.6806251765292582,
          0.14785949702601267,
          -2.4605460959827004,
          -0.16205752753046915,
          -1.2254109809660831,
          -0.12225449695743638,
          0.5635173461831468,
          -0.2599285316945004,
          -0.27611765191417736,
          -1.4690531379716825,
          -1.954153503410868,
          -0.5866390468375826,
          0.1018189830619359,
          -0.07048593057982283,
          -1.212665780136159,
          -0.3451925694516716,
          0.9702962511148727,
          0.3423474752420889,
          1.9493684121162587,
          1.4406008187314832,
          -0.9759644286967494,
          -2.2506220014240275,
          -0.1950416048205692,
          0.3899551845378141,
          0.9796444130032764,
          -1.1593956186919911,
          0.9883877171167217,
          0.18632777987730414,
          -0.32652211390169983,
          0.5235349712369627,
          -0.14554797924655524,
          -0.6632566049388412,
          1.450516587911176,
          -1.8242348077687922,
          -0.7986611676784975,
          1.2865759967254213,
          0.03311206362784604,
          0.826111885566775,
          -1.8404480684092652,
          -0.17647317946813473,
          0.7076473944942543,
          0.6433397834820548,
          -0.05019150477402584,
          0.6938641710145623,
          -1.0856055786365582,
          -1.4164083407235537,
          -1.3642812235548454,
          1.846182244755937,
          -0.21921761442914586,
          -0.08980549285517242,
          -0.1207473523157025,
          -0.41706054413176086,
          0.6611570044122105,
          1.3289032537940533,
          -0.07510227699547183,
          -0.06500699130762963,
          0.47215000010575603,
          1.6071041868429516,
          2.0246550229557956,
          0.08805236871800126,
          0.9792317235927371,
          1.2488287261048898,
          -0.9105759352090856,
          -1.4063251858608385,
          1.3450088447347763,
          0.22540725929083774,
          -1.3483110021192624,
          0.47968437914212037
         ],
         "xaxis": "x6",
         "yaxis": "y6"
        },
        {
         "line": {
          "color": "rgba(128, 128, 128, 1.0)",
          "dash": "solid",
          "shape": "linear",
          "width": 1.3
         },
         "marker": {
          "size": 2,
          "symbol": "circle"
         },
         "mode": "markers",
         "name": "B",
         "text": "",
         "type": "scatter",
         "x": [
          0.2111802423317103,
          1.2513023812484676,
          -2.420262985173286,
          -0.01810690595321826,
          1.4369134657374685,
          0.6684809269544413,
          -0.8896657798628989,
          -0.04402398316027114,
          -1.8819037762203268,
          -0.8579940284335679,
          0.6630136483601791,
          -1.0130057914209418,
          0.5300948967919401,
          -0.6116875874922295,
          -1.0405317896111674,
          0.1066065630603391,
          -0.6623367018999061,
          -0.9141072267587206,
          -0.07651540637898738,
          0.8794740655476391,
          0.4954605506779982,
          0.24483452004683712,
          2.4264980700103336,
          -1.06138734364795,
          -0.557073652047221,
          -0.7695481294396544,
          0.03309694318780089,
          -1.157823416209676,
          -1.596494399797544,
          2.532456364986618,
          -0.8066088623148706,
          1.770470147368262,
          -0.06773218184250519,
          -2.1305263195387103,
          -1.822274695929015,
          0.030785638543068785,
          -0.008084167370602255,
          1.331337333505016,
          0.588186934226218,
          -1.5822140559039608,
          -0.5220156480516457,
          0.4661917968374661,
          0.48596504401991136,
          -0.4361624207486163,
          1.1427545134985497,
          -0.6824526850497654,
          -0.8440833820207647,
          0.3212876600368777,
          0.22382288539688838,
          -0.806383858896275,
          -0.5924041008070848,
          -1.0256936022595546,
          0.06451598536290552,
          -0.7166862762894189,
          -0.27515566734864444,
          -0.6014718779964504,
          -1.6753997147232118,
          0.16251273237698743,
          -0.2070889064583417,
          -0.44947347795404113,
          -0.08202653889245286,
          -0.9567459794601099,
          0.9074827992251838,
          -1.5375664107929354,
          0.16657684305640597,
          -0.6223030798991293,
          -0.8314366989766482,
          0.8923639467852169,
          -1.1816901669139268,
          -0.3355203332327252,
          0.19962944480521727,
          -2.2011482810267275,
          0.6445319929985893,
          -1.706926985518179,
          -0.5566538836996962,
          1.0543517373154683,
          -0.6622767931616665,
          0.7297025635382117,
          -0.7273033013667342,
          0.9158551674787964,
          2.013294011662559,
          0.603240529727419,
          -2.0588839296058454,
          0.4761047810469739,
          -1.0189856560944028,
          -0.055398045677197784,
          -0.3988064750448735,
          0.35640182671142695,
          -1.199030727369626,
          -1.4390659260992618,
          -0.7072400789104146,
          -0.656693883698443,
          0.8925601323061709,
          -1.0716342069766727,
          0.7635432042931674,
          -0.7218963008683043,
          -0.07248744015927425,
          0.6818670638384986,
          -0.669188717471183,
          -1.0594740245380794
         ],
         "xaxis": "x7",
         "y": [
          -1.17960096095747,
          -1.3775555599416172,
          0.13792944280704006,
          0.48371504791298947,
          1.330402450096832,
          0.6008571556967333,
          -0.48801970995218547,
          0.8961245543966675,
          0.2961431824584401,
          -1.4649552300510922,
          -0.7080659462597593,
          -1.2955118557528216,
          -0.38026898461962383,
          -0.4533352454607744,
          -0.3539169985811786,
          -1.2025477368662538,
          0.00892006917367232,
          0.16966744435944756,
          0.8223657469907609,
          1.1951243289151658,
          0.30365969879879123,
          -0.3028597261401649,
          -0.019062927160904068,
          -1.1187078160968458,
          0.9936865559435638,
          1.149927312754949,
          -0.6117767973140005,
          -0.44387643888953543,
          -0.03439784317436975,
          0.015399420236178523,
          1.1123127177074992,
          0.2649658061453154,
          0.6806251765292582,
          0.14785949702601267,
          -2.4605460959827004,
          -0.16205752753046915,
          -1.2254109809660831,
          -0.12225449695743638,
          0.5635173461831468,
          -0.2599285316945004,
          -0.27611765191417736,
          -1.4690531379716825,
          -1.954153503410868,
          -0.5866390468375826,
          0.1018189830619359,
          -0.07048593057982283,
          -1.212665780136159,
          -0.3451925694516716,
          0.9702962511148727,
          0.3423474752420889,
          1.9493684121162587,
          1.4406008187314832,
          -0.9759644286967494,
          -2.2506220014240275,
          -0.1950416048205692,
          0.3899551845378141,
          0.9796444130032764,
          -1.1593956186919911,
          0.9883877171167217,
          0.18632777987730414,
          -0.32652211390169983,
          0.5235349712369627,
          -0.14554797924655524,
          -0.6632566049388412,
          1.450516587911176,
          -1.8242348077687922,
          -0.7986611676784975,
          1.2865759967254213,
          0.03311206362784604,
          0.826111885566775,
          -1.8404480684092652,
          -0.17647317946813473,
          0.7076473944942543,
          0.6433397834820548,
          -0.05019150477402584,
          0.6938641710145623,
          -1.0856055786365582,
          -1.4164083407235537,
          -1.3642812235548454,
          1.846182244755937,
          -0.21921761442914586,
          -0.08980549285517242,
          -0.1207473523157025,
          -0.41706054413176086,
          0.6611570044122105,
          1.3289032537940533,
          -0.07510227699547183,
          -0.06500699130762963,
          0.47215000010575603,
          1.6071041868429516,
          2.0246550229557956,
          0.08805236871800126,
          0.9792317235927371,
          1.2488287261048898,
          -0.9105759352090856,
          -1.4063251858608385,
          1.3450088447347763,
          0.22540725929083774,
          -1.3483110021192624,
          0.47968437914212037
         ],
         "yaxis": "y7"
        },
        {
         "line": {
          "color": "rgba(128, 128, 128, 1.0)",
          "dash": "solid",
          "shape": "linear",
          "width": 1.3
         },
         "marker": {
          "size": 2,
          "symbol": "circle"
         },
         "mode": "markers",
         "name": "B",
         "text": "",
         "type": "scatter",
         "x": [
          0.028709117222660435,
          -0.8749211890322138,
          0.6750792939143624,
          -1.0262801428193047,
          0.3234398648599455,
          -0.3876739810699715,
          -0.11827322456217186,
          1.9885355457805702,
          0.03933541205734301,
          0.530069542647012,
          0.24686228319134487,
          0.20294901642620966,
          1.2252283809729214,
          -0.08125354468935345,
          -0.3175747171280276,
          0.021724154012419825,
          0.23291709506853644,
          0.7636567288123901,
          -0.5902298796389542,
          0.7819572200644456,
          1.2267628528169439,
          0.2352724133666129,
          -0.10589542879898398,
          1.2259432051006791,
          1.4494715484848886,
          -1.3923181404410845,
          0.508369611846267,
          -1.1143065653090483,
          -2.971993922889421,
          0.8642498062409729,
          -0.12910114376377066,
          -1.3372127108836547,
          -0.5069592925761005,
          0.18798294843010604,
          -0.2635532772361538,
          -0.21414271511520802,
          0.7139910742148748,
          -0.8033790782677973,
          0.34908653589119587,
          2.092937025226005,
          -0.27156830913114494,
          1.278982152856434,
          0.03212293185118509,
          0.032199289165888774,
          -0.6376893960814524,
          0.9533306530613369,
          1.7524769462077232,
          -1.1023081106066404,
          1.249201250592397,
          1.216220027822527,
          0.07973797657419972,
          0.5681735121792242,
          -0.9027943972756199,
          0.1948166653498565,
          -0.04497796781852511,
          0.35745036207342634,
          -1.7122693913265719,
          0.8696186131524236,
          0.37247176422267636,
          -1.0070686607190036,
          0.6472418575957608,
          -0.8801214715960499,
          0.8811787925892396,
          1.153030478742426,
          0.09120108761904984,
          -1.377553751673728,
          0.30887327296779304,
          1.490857984784296,
          0.4179453440267466,
          0.44405221801437456,
          -0.8403927578127272,
          -0.15426805996920614,
          -0.8204281060226977,
          0.03268017332568117,
          0.9630125035145306,
          -0.9130953040796658,
          -0.9085662487791775,
          1.195269761705436,
          0.4161310509843156,
          0.8153342008245268,
          -0.6487733233924821,
          -1.0907861563845118,
          0.5197384517832024,
          1.1789165623413587,
          1.7219520141869629,
          0.7549338839899621,
          0.2869016485675767,
          0.2592029263132396,
          0.7583566967276182,
          0.705595053820896,
          0.9220444078811396,
          1.0473044220862493,
          -0.22852565607430325,
          1.4262185670441727,
          1.3492535245563764,
          -1.146951429611907,
          1.6080698085483616,
          -1.517184974776277,
          -1.7149233920002773,
          1.1754726665124724
         ],
         "xaxis": "x8",
         "y": [
          -1.17960096095747,
          -1.3775555599416172,
          0.13792944280704006,
          0.48371504791298947,
          1.330402450096832,
          0.6008571556967333,
          -0.48801970995218547,
          0.8961245543966675,
          0.2961431824584401,
          -1.4649552300510922,
          -0.7080659462597593,
          -1.2955118557528216,
          -0.38026898461962383,
          -0.4533352454607744,
          -0.3539169985811786,
          -1.2025477368662538,
          0.00892006917367232,
          0.16966744435944756,
          0.8223657469907609,
          1.1951243289151658,
          0.30365969879879123,
          -0.3028597261401649,
          -0.019062927160904068,
          -1.1187078160968458,
          0.9936865559435638,
          1.149927312754949,
          -0.6117767973140005,
          -0.44387643888953543,
          -0.03439784317436975,
          0.015399420236178523,
          1.1123127177074992,
          0.2649658061453154,
          0.6806251765292582,
          0.14785949702601267,
          -2.4605460959827004,
          -0.16205752753046915,
          -1.2254109809660831,
          -0.12225449695743638,
          0.5635173461831468,
          -0.2599285316945004,
          -0.27611765191417736,
          -1.4690531379716825,
          -1.954153503410868,
          -0.5866390468375826,
          0.1018189830619359,
          -0.07048593057982283,
          -1.212665780136159,
          -0.3451925694516716,
          0.9702962511148727,
          0.3423474752420889,
          1.9493684121162587,
          1.4406008187314832,
          -0.9759644286967494,
          -2.2506220014240275,
          -0.1950416048205692,
          0.3899551845378141,
          0.9796444130032764,
          -1.1593956186919911,
          0.9883877171167217,
          0.18632777987730414,
          -0.32652211390169983,
          0.5235349712369627,
          -0.14554797924655524,
          -0.6632566049388412,
          1.450516587911176,
          -1.8242348077687922,
          -0.7986611676784975,
          1.2865759967254213,
          0.03311206362784604,
          0.826111885566775,
          -1.8404480684092652,
          -0.17647317946813473,
          0.7076473944942543,
          0.6433397834820548,
          -0.05019150477402584,
          0.6938641710145623,
          -1.0856055786365582,
          -1.4164083407235537,
          -1.3642812235548454,
          1.846182244755937,
          -0.21921761442914586,
          -0.08980549285517242,
          -0.1207473523157025,
          -0.41706054413176086,
          0.6611570044122105,
          1.3289032537940533,
          -0.07510227699547183,
          -0.06500699130762963,
          0.47215000010575603,
          1.6071041868429516,
          2.0246550229557956,
          0.08805236871800126,
          0.9792317235927371,
          1.2488287261048898,
          -0.9105759352090856,
          -1.4063251858608385,
          1.3450088447347763,
          0.22540725929083774,
          -1.3483110021192624,
          0.47968437914212037
         ],
         "yaxis": "y8"
        },
        {
         "line": {
          "color": "rgba(128, 128, 128, 1.0)",
          "dash": "solid",
          "shape": "linear",
          "width": 1.3
         },
         "marker": {
          "size": 2,
          "symbol": "circle"
         },
         "mode": "markers",
         "name": "C",
         "text": "",
         "type": "scatter",
         "x": [
          0.7365676730741115,
          -0.7858723473162033,
          -0.7612014338282168,
          -0.33828969119184393,
          2.119963389888639,
          -0.21033529370795123,
          0.6767739565306867,
          0.5069782758452451,
          0.774016534624883,
          0.645969599888223,
          1.320915012722791,
          0.44625820307936953,
          1.3497982780888076,
          -0.054312851369403614,
          0.4086759252360387,
          0.7670248516378464,
          -0.34164747625266406,
          -1.7258492298186636,
          -0.606458487839304,
          -0.38509253069137594,
          1.4779673151544093,
          -1.5316814798425253,
          0.9217068353068714,
          -0.3871133629664417,
          -1.288295495500347,
          0.34657449460134787,
          -1.5122310913921442,
          -2.382550658507943,
          -0.38864645623694927,
          0.28966630577443714,
          0.3194368360872796,
          -0.298154648157231,
          0.04412351469237872,
          0.5820788298374068,
          0.6404347136769989,
          -0.5406726034486085,
          2.5069957332916686,
          0.601324464091323,
          -2.5973464357475677,
          -1.0898746058693036,
          -0.3674931138183991,
          -0.6956665949403,
          0.6067824786484017,
          -0.014631944251588846,
          1.5496933437294362,
          0.49670459037018383,
          0.008656386426374951,
          -1.1879079254428846,
          0.1133646617244053,
          -1.209457437051342,
          0.53738323876218,
          -0.6799498612216169,
          -0.2485611813921982,
          1.259647945013635,
          0.26831411554353923,
          1.0703105180570807,
          0.6120298241543476,
          -0.7922552770571334,
          2.7198069168792665,
          0.30130325020606896,
          -0.5917405760881879,
          0.5680047551310305,
          0.18989307616818785,
          0.11827140230978321,
          -0.7112741838759915,
          -0.29454452098868006,
          1.4192744302811733,
          0.20178726147006076,
          0.16737330097876532,
          -0.9455492012524679,
          -1.5807529424508262,
          -0.3217548006777736,
          -0.16441643952635626,
          0.7605565832475502,
          1.0550615529269523,
          -0.26281305127051263,
          0.023700138695366336,
          0.0623905688170181,
          -1.6334667527317086,
          0.05877352101880432,
          0.8779585966847681,
          -0.22021733716874808,
          -0.5087245522034368,
          -0.4513545021497254,
          0.26610125050362843,
          0.14691010739790702,
          -0.10712846369094996,
          -0.5380999650652848,
          1.1751937445166347,
          0.7347422409605809,
          0.46494295601226526,
          -0.41693050383705343,
          0.0890698769086676,
          1.2171732953811045,
          -0.07683110145682837,
          1.1787552497082416,
          1.0022080658556163,
          2.708142526407743,
          1.0322122478237143,
          -1.2757074009052138
         ],
         "xaxis": "x9",
         "y": [
          0.2111802423317103,
          1.2513023812484676,
          -2.420262985173286,
          -0.01810690595321826,
          1.4369134657374685,
          0.6684809269544413,
          -0.8896657798628989,
          -0.04402398316027114,
          -1.8819037762203268,
          -0.8579940284335679,
          0.6630136483601791,
          -1.0130057914209418,
          0.5300948967919401,
          -0.6116875874922295,
          -1.0405317896111674,
          0.1066065630603391,
          -0.6623367018999061,
          -0.9141072267587206,
          -0.07651540637898738,
          0.8794740655476391,
          0.4954605506779982,
          0.24483452004683712,
          2.4264980700103336,
          -1.06138734364795,
          -0.557073652047221,
          -0.7695481294396544,
          0.03309694318780089,
          -1.157823416209676,
          -1.596494399797544,
          2.532456364986618,
          -0.8066088623148706,
          1.770470147368262,
          -0.06773218184250519,
          -2.1305263195387103,
          -1.822274695929015,
          0.030785638543068785,
          -0.008084167370602255,
          1.331337333505016,
          0.588186934226218,
          -1.5822140559039608,
          -0.5220156480516457,
          0.4661917968374661,
          0.48596504401991136,
          -0.4361624207486163,
          1.1427545134985497,
          -0.6824526850497654,
          -0.8440833820207647,
          0.3212876600368777,
          0.22382288539688838,
          -0.806383858896275,
          -0.5924041008070848,
          -1.0256936022595546,
          0.06451598536290552,
          -0.7166862762894189,
          -0.27515566734864444,
          -0.6014718779964504,
          -1.6753997147232118,
          0.16251273237698743,
          -0.2070889064583417,
          -0.44947347795404113,
          -0.08202653889245286,
          -0.9567459794601099,
          0.9074827992251838,
          -1.5375664107929354,
          0.16657684305640597,
          -0.6223030798991293,
          -0.8314366989766482,
          0.8923639467852169,
          -1.1816901669139268,
          -0.3355203332327252,
          0.19962944480521727,
          -2.2011482810267275,
          0.6445319929985893,
          -1.706926985518179,
          -0.5566538836996962,
          1.0543517373154683,
          -0.6622767931616665,
          0.7297025635382117,
          -0.7273033013667342,
          0.9158551674787964,
          2.013294011662559,
          0.603240529727419,
          -2.0588839296058454,
          0.4761047810469739,
          -1.0189856560944028,
          -0.055398045677197784,
          -0.3988064750448735,
          0.35640182671142695,
          -1.199030727369626,
          -1.4390659260992618,
          -0.7072400789104146,
          -0.656693883698443,
          0.8925601323061709,
          -1.0716342069766727,
          0.7635432042931674,
          -0.7218963008683043,
          -0.07248744015927425,
          0.6818670638384986,
          -0.669188717471183,
          -1.0594740245380794
         ],
         "yaxis": "y9"
        },
        {
         "line": {
          "color": "rgba(128, 128, 128, 1.0)",
          "dash": "solid",
          "shape": "linear",
          "width": 1.3
         },
         "marker": {
          "size": 2,
          "symbol": "circle"
         },
         "mode": "markers",
         "name": "C",
         "text": "",
         "type": "scatter",
         "x": [
          -1.17960096095747,
          -1.3775555599416172,
          0.13792944280704006,
          0.48371504791298947,
          1.330402450096832,
          0.6008571556967333,
          -0.48801970995218547,
          0.8961245543966675,
          0.2961431824584401,
          -1.4649552300510922,
          -0.7080659462597593,
          -1.2955118557528216,
          -0.38026898461962383,
          -0.4533352454607744,
          -0.3539169985811786,
          -1.2025477368662538,
          0.00892006917367232,
          0.16966744435944756,
          0.8223657469907609,
          1.1951243289151658,
          0.30365969879879123,
          -0.3028597261401649,
          -0.019062927160904068,
          -1.1187078160968458,
          0.9936865559435638,
          1.149927312754949,
          -0.6117767973140005,
          -0.44387643888953543,
          -0.03439784317436975,
          0.015399420236178523,
          1.1123127177074992,
          0.2649658061453154,
          0.6806251765292582,
          0.14785949702601267,
          -2.4605460959827004,
          -0.16205752753046915,
          -1.2254109809660831,
          -0.12225449695743638,
          0.5635173461831468,
          -0.2599285316945004,
          -0.27611765191417736,
          -1.4690531379716825,
          -1.954153503410868,
          -0.5866390468375826,
          0.1018189830619359,
          -0.07048593057982283,
          -1.212665780136159,
          -0.3451925694516716,
          0.9702962511148727,
          0.3423474752420889,
          1.9493684121162587,
          1.4406008187314832,
          -0.9759644286967494,
          -2.2506220014240275,
          -0.1950416048205692,
          0.3899551845378141,
          0.9796444130032764,
          -1.1593956186919911,
          0.9883877171167217,
          0.18632777987730414,
          -0.32652211390169983,
          0.5235349712369627,
          -0.14554797924655524,
          -0.6632566049388412,
          1.450516587911176,
          -1.8242348077687922,
          -0.7986611676784975,
          1.2865759967254213,
          0.03311206362784604,
          0.826111885566775,
          -1.8404480684092652,
          -0.17647317946813473,
          0.7076473944942543,
          0.6433397834820548,
          -0.05019150477402584,
          0.6938641710145623,
          -1.0856055786365582,
          -1.4164083407235537,
          -1.3642812235548454,
          1.846182244755937,
          -0.21921761442914586,
          -0.08980549285517242,
          -0.1207473523157025,
          -0.41706054413176086,
          0.6611570044122105,
          1.3289032537940533,
          -0.07510227699547183,
          -0.06500699130762963,
          0.47215000010575603,
          1.6071041868429516,
          2.0246550229557956,
          0.08805236871800126,
          0.9792317235927371,
          1.2488287261048898,
          -0.9105759352090856,
          -1.4063251858608385,
          1.3450088447347763,
          0.22540725929083774,
          -1.3483110021192624,
          0.47968437914212037
         ],
         "xaxis": "x10",
         "y": [
          0.2111802423317103,
          1.2513023812484676,
          -2.420262985173286,
          -0.01810690595321826,
          1.4369134657374685,
          0.6684809269544413,
          -0.8896657798628989,
          -0.04402398316027114,
          -1.8819037762203268,
          -0.8579940284335679,
          0.6630136483601791,
          -1.0130057914209418,
          0.5300948967919401,
          -0.6116875874922295,
          -1.0405317896111674,
          0.1066065630603391,
          -0.6623367018999061,
          -0.9141072267587206,
          -0.07651540637898738,
          0.8794740655476391,
          0.4954605506779982,
          0.24483452004683712,
          2.4264980700103336,
          -1.06138734364795,
          -0.557073652047221,
          -0.7695481294396544,
          0.03309694318780089,
          -1.157823416209676,
          -1.596494399797544,
          2.532456364986618,
          -0.8066088623148706,
          1.770470147368262,
          -0.06773218184250519,
          -2.1305263195387103,
          -1.822274695929015,
          0.030785638543068785,
          -0.008084167370602255,
          1.331337333505016,
          0.588186934226218,
          -1.5822140559039608,
          -0.5220156480516457,
          0.4661917968374661,
          0.48596504401991136,
          -0.4361624207486163,
          1.1427545134985497,
          -0.6824526850497654,
          -0.8440833820207647,
          0.3212876600368777,
          0.22382288539688838,
          -0.806383858896275,
          -0.5924041008070848,
          -1.0256936022595546,
          0.06451598536290552,
          -0.7166862762894189,
          -0.27515566734864444,
          -0.6014718779964504,
          -1.6753997147232118,
          0.16251273237698743,
          -0.2070889064583417,
          -0.44947347795404113,
          -0.08202653889245286,
          -0.9567459794601099,
          0.9074827992251838,
          -1.5375664107929354,
          0.16657684305640597,
          -0.6223030798991293,
          -0.8314366989766482,
          0.8923639467852169,
          -1.1816901669139268,
          -0.3355203332327252,
          0.19962944480521727,
          -2.2011482810267275,
          0.6445319929985893,
          -1.706926985518179,
          -0.5566538836996962,
          1.0543517373154683,
          -0.6622767931616665,
          0.7297025635382117,
          -0.7273033013667342,
          0.9158551674787964,
          2.013294011662559,
          0.603240529727419,
          -2.0588839296058454,
          0.4761047810469739,
          -1.0189856560944028,
          -0.055398045677197784,
          -0.3988064750448735,
          0.35640182671142695,
          -1.199030727369626,
          -1.4390659260992618,
          -0.7072400789104146,
          -0.656693883698443,
          0.8925601323061709,
          -1.0716342069766727,
          0.7635432042931674,
          -0.7218963008683043,
          -0.07248744015927425,
          0.6818670638384986,
          -0.669188717471183,
          -1.0594740245380794
         ],
         "yaxis": "y10"
        },
        {
         "histfunc": "count",
         "histnorm": "",
         "marker": {
          "color": "rgba(50, 171, 96, 1.0)",
          "line": {
           "color": "#4D5663",
           "width": 1.3
          }
         },
         "name": "C",
         "nbinsx": 10,
         "opacity": 0.8,
         "orientation": "v",
         "type": "histogram",
         "x": [
          0.2111802423317103,
          1.2513023812484676,
          -2.420262985173286,
          -0.01810690595321826,
          1.4369134657374685,
          0.6684809269544413,
          -0.8896657798628989,
          -0.04402398316027114,
          -1.8819037762203268,
          -0.8579940284335679,
          0.6630136483601791,
          -1.0130057914209418,
          0.5300948967919401,
          -0.6116875874922295,
          -1.0405317896111674,
          0.1066065630603391,
          -0.6623367018999061,
          -0.9141072267587206,
          -0.07651540637898738,
          0.8794740655476391,
          0.4954605506779982,
          0.24483452004683712,
          2.4264980700103336,
          -1.06138734364795,
          -0.557073652047221,
          -0.7695481294396544,
          0.03309694318780089,
          -1.157823416209676,
          -1.596494399797544,
          2.532456364986618,
          -0.8066088623148706,
          1.770470147368262,
          -0.06773218184250519,
          -2.1305263195387103,
          -1.822274695929015,
          0.030785638543068785,
          -0.008084167370602255,
          1.331337333505016,
          0.588186934226218,
          -1.5822140559039608,
          -0.5220156480516457,
          0.4661917968374661,
          0.48596504401991136,
          -0.4361624207486163,
          1.1427545134985497,
          -0.6824526850497654,
          -0.8440833820207647,
          0.3212876600368777,
          0.22382288539688838,
          -0.806383858896275,
          -0.5924041008070848,
          -1.0256936022595546,
          0.06451598536290552,
          -0.7166862762894189,
          -0.27515566734864444,
          -0.6014718779964504,
          -1.6753997147232118,
          0.16251273237698743,
          -0.2070889064583417,
          -0.44947347795404113,
          -0.08202653889245286,
          -0.9567459794601099,
          0.9074827992251838,
          -1.5375664107929354,
          0.16657684305640597,
          -0.6223030798991293,
          -0.8314366989766482,
          0.8923639467852169,
          -1.1816901669139268,
          -0.3355203332327252,
          0.19962944480521727,
          -2.2011482810267275,
          0.6445319929985893,
          -1.706926985518179,
          -0.5566538836996962,
          1.0543517373154683,
          -0.6622767931616665,
          0.7297025635382117,
          -0.7273033013667342,
          0.9158551674787964,
          2.013294011662559,
          0.603240529727419,
          -2.0588839296058454,
          0.4761047810469739,
          -1.0189856560944028,
          -0.055398045677197784,
          -0.3988064750448735,
          0.35640182671142695,
          -1.199030727369626,
          -1.4390659260992618,
          -0.7072400789104146,
          -0.656693883698443,
          0.8925601323061709,
          -1.0716342069766727,
          0.7635432042931674,
          -0.7218963008683043,
          -0.07248744015927425,
          0.6818670638384986,
          -0.669188717471183,
          -1.0594740245380794
         ],
         "xaxis": "x11",
         "yaxis": "y11"
        },
        {
         "line": {
          "color": "rgba(128, 128, 128, 1.0)",
          "dash": "solid",
          "shape": "linear",
          "width": 1.3
         },
         "marker": {
          "size": 2,
          "symbol": "circle"
         },
         "mode": "markers",
         "name": "C",
         "text": "",
         "type": "scatter",
         "x": [
          0.028709117222660435,
          -0.8749211890322138,
          0.6750792939143624,
          -1.0262801428193047,
          0.3234398648599455,
          -0.3876739810699715,
          -0.11827322456217186,
          1.9885355457805702,
          0.03933541205734301,
          0.530069542647012,
          0.24686228319134487,
          0.20294901642620966,
          1.2252283809729214,
          -0.08125354468935345,
          -0.3175747171280276,
          0.021724154012419825,
          0.23291709506853644,
          0.7636567288123901,
          -0.5902298796389542,
          0.7819572200644456,
          1.2267628528169439,
          0.2352724133666129,
          -0.10589542879898398,
          1.2259432051006791,
          1.4494715484848886,
          -1.3923181404410845,
          0.508369611846267,
          -1.1143065653090483,
          -2.971993922889421,
          0.8642498062409729,
          -0.12910114376377066,
          -1.3372127108836547,
          -0.5069592925761005,
          0.18798294843010604,
          -0.2635532772361538,
          -0.21414271511520802,
          0.7139910742148748,
          -0.8033790782677973,
          0.34908653589119587,
          2.092937025226005,
          -0.27156830913114494,
          1.278982152856434,
          0.03212293185118509,
          0.032199289165888774,
          -0.6376893960814524,
          0.9533306530613369,
          1.7524769462077232,
          -1.1023081106066404,
          1.249201250592397,
          1.216220027822527,
          0.07973797657419972,
          0.5681735121792242,
          -0.9027943972756199,
          0.1948166653498565,
          -0.04497796781852511,
          0.35745036207342634,
          -1.7122693913265719,
          0.8696186131524236,
          0.37247176422267636,
          -1.0070686607190036,
          0.6472418575957608,
          -0.8801214715960499,
          0.8811787925892396,
          1.153030478742426,
          0.09120108761904984,
          -1.377553751673728,
          0.30887327296779304,
          1.490857984784296,
          0.4179453440267466,
          0.44405221801437456,
          -0.8403927578127272,
          -0.15426805996920614,
          -0.8204281060226977,
          0.03268017332568117,
          0.9630125035145306,
          -0.9130953040796658,
          -0.9085662487791775,
          1.195269761705436,
          0.4161310509843156,
          0.8153342008245268,
          -0.6487733233924821,
          -1.0907861563845118,
          0.5197384517832024,
          1.1789165623413587,
          1.7219520141869629,
          0.7549338839899621,
          0.2869016485675767,
          0.2592029263132396,
          0.7583566967276182,
          0.705595053820896,
          0.9220444078811396,
          1.0473044220862493,
          -0.22852565607430325,
          1.4262185670441727,
          1.3492535245563764,
          -1.146951429611907,
          1.6080698085483616,
          -1.517184974776277,
          -1.7149233920002773,
          1.1754726665124724
         ],
         "xaxis": "x12",
         "y": [
          0.2111802423317103,
          1.2513023812484676,
          -2.420262985173286,
          -0.01810690595321826,
          1.4369134657374685,
          0.6684809269544413,
          -0.8896657798628989,
          -0.04402398316027114,
          -1.8819037762203268,
          -0.8579940284335679,
          0.6630136483601791,
          -1.0130057914209418,
          0.5300948967919401,
          -0.6116875874922295,
          -1.0405317896111674,
          0.1066065630603391,
          -0.6623367018999061,
          -0.9141072267587206,
          -0.07651540637898738,
          0.8794740655476391,
          0.4954605506779982,
          0.24483452004683712,
          2.4264980700103336,
          -1.06138734364795,
          -0.557073652047221,
          -0.7695481294396544,
          0.03309694318780089,
          -1.157823416209676,
          -1.596494399797544,
          2.532456364986618,
          -0.8066088623148706,
          1.770470147368262,
          -0.06773218184250519,
          -2.1305263195387103,
          -1.822274695929015,
          0.030785638543068785,
          -0.008084167370602255,
          1.331337333505016,
          0.588186934226218,
          -1.5822140559039608,
          -0.5220156480516457,
          0.4661917968374661,
          0.48596504401991136,
          -0.4361624207486163,
          1.1427545134985497,
          -0.6824526850497654,
          -0.8440833820207647,
          0.3212876600368777,
          0.22382288539688838,
          -0.806383858896275,
          -0.5924041008070848,
          -1.0256936022595546,
          0.06451598536290552,
          -0.7166862762894189,
          -0.27515566734864444,
          -0.6014718779964504,
          -1.6753997147232118,
          0.16251273237698743,
          -0.2070889064583417,
          -0.44947347795404113,
          -0.08202653889245286,
          -0.9567459794601099,
          0.9074827992251838,
          -1.5375664107929354,
          0.16657684305640597,
          -0.6223030798991293,
          -0.8314366989766482,
          0.8923639467852169,
          -1.1816901669139268,
          -0.3355203332327252,
          0.19962944480521727,
          -2.2011482810267275,
          0.6445319929985893,
          -1.706926985518179,
          -0.5566538836996962,
          1.0543517373154683,
          -0.6622767931616665,
          0.7297025635382117,
          -0.7273033013667342,
          0.9158551674787964,
          2.013294011662559,
          0.603240529727419,
          -2.0588839296058454,
          0.4761047810469739,
          -1.0189856560944028,
          -0.055398045677197784,
          -0.3988064750448735,
          0.35640182671142695,
          -1.199030727369626,
          -1.4390659260992618,
          -0.7072400789104146,
          -0.656693883698443,
          0.8925601323061709,
          -1.0716342069766727,
          0.7635432042931674,
          -0.7218963008683043,
          -0.07248744015927425,
          0.6818670638384986,
          -0.669188717471183,
          -1.0594740245380794
         ],
         "yaxis": "y12"
        },
        {
         "line": {
          "color": "rgba(128, 128, 128, 1.0)",
          "dash": "solid",
          "shape": "linear",
          "width": 1.3
         },
         "marker": {
          "size": 2,
          "symbol": "circle"
         },
         "mode": "markers",
         "name": "D",
         "text": "",
         "type": "scatter",
         "x": [
          0.7365676730741115,
          -0.7858723473162033,
          -0.7612014338282168,
          -0.33828969119184393,
          2.119963389888639,
          -0.21033529370795123,
          0.6767739565306867,
          0.5069782758452451,
          0.774016534624883,
          0.645969599888223,
          1.320915012722791,
          0.44625820307936953,
          1.3497982780888076,
          -0.054312851369403614,
          0.4086759252360387,
          0.7670248516378464,
          -0.34164747625266406,
          -1.7258492298186636,
          -0.606458487839304,
          -0.38509253069137594,
          1.4779673151544093,
          -1.5316814798425253,
          0.9217068353068714,
          -0.3871133629664417,
          -1.288295495500347,
          0.34657449460134787,
          -1.5122310913921442,
          -2.382550658507943,
          -0.38864645623694927,
          0.28966630577443714,
          0.3194368360872796,
          -0.298154648157231,
          0.04412351469237872,
          0.5820788298374068,
          0.6404347136769989,
          -0.5406726034486085,
          2.5069957332916686,
          0.601324464091323,
          -2.5973464357475677,
          -1.0898746058693036,
          -0.3674931138183991,
          -0.6956665949403,
          0.6067824786484017,
          -0.014631944251588846,
          1.5496933437294362,
          0.49670459037018383,
          0.008656386426374951,
          -1.1879079254428846,
          0.1133646617244053,
          -1.209457437051342,
          0.53738323876218,
          -0.6799498612216169,
          -0.2485611813921982,
          1.259647945013635,
          0.26831411554353923,
          1.0703105180570807,
          0.6120298241543476,
          -0.7922552770571334,
          2.7198069168792665,
          0.30130325020606896,
          -0.5917405760881879,
          0.5680047551310305,
          0.18989307616818785,
          0.11827140230978321,
          -0.7112741838759915,
          -0.29454452098868006,
          1.4192744302811733,
          0.20178726147006076,
          0.16737330097876532,
          -0.9455492012524679,
          -1.5807529424508262,
          -0.3217548006777736,
          -0.16441643952635626,
          0.7605565832475502,
          1.0550615529269523,
          -0.26281305127051263,
          0.023700138695366336,
          0.0623905688170181,
          -1.6334667527317086,
          0.05877352101880432,
          0.8779585966847681,
          -0.22021733716874808,
          -0.5087245522034368,
          -0.4513545021497254,
          0.26610125050362843,
          0.14691010739790702,
          -0.10712846369094996,
          -0.5380999650652848,
          1.1751937445166347,
          0.7347422409605809,
          0.46494295601226526,
          -0.41693050383705343,
          0.0890698769086676,
          1.2171732953811045,
          -0.07683110145682837,
          1.1787552497082416,
          1.0022080658556163,
          2.708142526407743,
          1.0322122478237143,
          -1.2757074009052138
         ],
         "xaxis": "x13",
         "y": [
          0.028709117222660435,
          -0.8749211890322138,
          0.6750792939143624,
          -1.0262801428193047,
          0.3234398648599455,
          -0.3876739810699715,
          -0.11827322456217186,
          1.9885355457805702,
          0.03933541205734301,
          0.530069542647012,
          0.24686228319134487,
          0.20294901642620966,
          1.2252283809729214,
          -0.08125354468935345,
          -0.3175747171280276,
          0.021724154012419825,
          0.23291709506853644,
          0.7636567288123901,
          -0.5902298796389542,
          0.7819572200644456,
          1.2267628528169439,
          0.2352724133666129,
          -0.10589542879898398,
          1.2259432051006791,
          1.4494715484848886,
          -1.3923181404410845,
          0.508369611846267,
          -1.1143065653090483,
          -2.971993922889421,
          0.8642498062409729,
          -0.12910114376377066,
          -1.3372127108836547,
          -0.5069592925761005,
          0.18798294843010604,
          -0.2635532772361538,
          -0.21414271511520802,
          0.7139910742148748,
          -0.8033790782677973,
          0.34908653589119587,
          2.092937025226005,
          -0.27156830913114494,
          1.278982152856434,
          0.03212293185118509,
          0.032199289165888774,
          -0.6376893960814524,
          0.9533306530613369,
          1.7524769462077232,
          -1.1023081106066404,
          1.249201250592397,
          1.216220027822527,
          0.07973797657419972,
          0.5681735121792242,
          -0.9027943972756199,
          0.1948166653498565,
          -0.04497796781852511,
          0.35745036207342634,
          -1.7122693913265719,
          0.8696186131524236,
          0.37247176422267636,
          -1.0070686607190036,
          0.6472418575957608,
          -0.8801214715960499,
          0.8811787925892396,
          1.153030478742426,
          0.09120108761904984,
          -1.377553751673728,
          0.30887327296779304,
          1.490857984784296,
          0.4179453440267466,
          0.44405221801437456,
          -0.8403927578127272,
          -0.15426805996920614,
          -0.8204281060226977,
          0.03268017332568117,
          0.9630125035145306,
          -0.9130953040796658,
          -0.9085662487791775,
          1.195269761705436,
          0.4161310509843156,
          0.8153342008245268,
          -0.6487733233924821,
          -1.0907861563845118,
          0.5197384517832024,
          1.1789165623413587,
          1.7219520141869629,
          0.7549338839899621,
          0.2869016485675767,
          0.2592029263132396,
          0.7583566967276182,
          0.705595053820896,
          0.9220444078811396,
          1.0473044220862493,
          -0.22852565607430325,
          1.4262185670441727,
          1.3492535245563764,
          -1.146951429611907,
          1.6080698085483616,
          -1.517184974776277,
          -1.7149233920002773,
          1.1754726665124724
         ],
         "yaxis": "y13"
        },
        {
         "line": {
          "color": "rgba(128, 128, 128, 1.0)",
          "dash": "solid",
          "shape": "linear",
          "width": 1.3
         },
         "marker": {
          "size": 2,
          "symbol": "circle"
         },
         "mode": "markers",
         "name": "D",
         "text": "",
         "type": "scatter",
         "x": [
          -1.17960096095747,
          -1.3775555599416172,
          0.13792944280704006,
          0.48371504791298947,
          1.330402450096832,
          0.6008571556967333,
          -0.48801970995218547,
          0.8961245543966675,
          0.2961431824584401,
          -1.4649552300510922,
          -0.7080659462597593,
          -1.2955118557528216,
          -0.38026898461962383,
          -0.4533352454607744,
          -0.3539169985811786,
          -1.2025477368662538,
          0.00892006917367232,
          0.16966744435944756,
          0.8223657469907609,
          1.1951243289151658,
          0.30365969879879123,
          -0.3028597261401649,
          -0.019062927160904068,
          -1.1187078160968458,
          0.9936865559435638,
          1.149927312754949,
          -0.6117767973140005,
          -0.44387643888953543,
          -0.03439784317436975,
          0.015399420236178523,
          1.1123127177074992,
          0.2649658061453154,
          0.6806251765292582,
          0.14785949702601267,
          -2.4605460959827004,
          -0.16205752753046915,
          -1.2254109809660831,
          -0.12225449695743638,
          0.5635173461831468,
          -0.2599285316945004,
          -0.27611765191417736,
          -1.4690531379716825,
          -1.954153503410868,
          -0.5866390468375826,
          0.1018189830619359,
          -0.07048593057982283,
          -1.212665780136159,
          -0.3451925694516716,
          0.9702962511148727,
          0.3423474752420889,
          1.9493684121162587,
          1.4406008187314832,
          -0.9759644286967494,
          -2.2506220014240275,
          -0.1950416048205692,
          0.3899551845378141,
          0.9796444130032764,
          -1.1593956186919911,
          0.9883877171167217,
          0.18632777987730414,
          -0.32652211390169983,
          0.5235349712369627,
          -0.14554797924655524,
          -0.6632566049388412,
          1.450516587911176,
          -1.8242348077687922,
          -0.7986611676784975,
          1.2865759967254213,
          0.03311206362784604,
          0.826111885566775,
          -1.8404480684092652,
          -0.17647317946813473,
          0.7076473944942543,
          0.6433397834820548,
          -0.05019150477402584,
          0.6938641710145623,
          -1.0856055786365582,
          -1.4164083407235537,
          -1.3642812235548454,
          1.846182244755937,
          -0.21921761442914586,
          -0.08980549285517242,
          -0.1207473523157025,
          -0.41706054413176086,
          0.6611570044122105,
          1.3289032537940533,
          -0.07510227699547183,
          -0.06500699130762963,
          0.47215000010575603,
          1.6071041868429516,
          2.0246550229557956,
          0.08805236871800126,
          0.9792317235927371,
          1.2488287261048898,
          -0.9105759352090856,
          -1.4063251858608385,
          1.3450088447347763,
          0.22540725929083774,
          -1.3483110021192624,
          0.47968437914212037
         ],
         "xaxis": "x14",
         "y": [
          0.028709117222660435,
          -0.8749211890322138,
          0.6750792939143624,
          -1.0262801428193047,
          0.3234398648599455,
          -0.3876739810699715,
          -0.11827322456217186,
          1.9885355457805702,
          0.03933541205734301,
          0.530069542647012,
          0.24686228319134487,
          0.20294901642620966,
          1.2252283809729214,
          -0.08125354468935345,
          -0.3175747171280276,
          0.021724154012419825,
          0.23291709506853644,
          0.7636567288123901,
          -0.5902298796389542,
          0.7819572200644456,
          1.2267628528169439,
          0.2352724133666129,
          -0.10589542879898398,
          1.2259432051006791,
          1.4494715484848886,
          -1.3923181404410845,
          0.508369611846267,
          -1.1143065653090483,
          -2.971993922889421,
          0.8642498062409729,
          -0.12910114376377066,
          -1.3372127108836547,
          -0.5069592925761005,
          0.18798294843010604,
          -0.2635532772361538,
          -0.21414271511520802,
          0.7139910742148748,
          -0.8033790782677973,
          0.34908653589119587,
          2.092937025226005,
          -0.27156830913114494,
          1.278982152856434,
          0.03212293185118509,
          0.032199289165888774,
          -0.6376893960814524,
          0.9533306530613369,
          1.7524769462077232,
          -1.1023081106066404,
          1.249201250592397,
          1.216220027822527,
          0.07973797657419972,
          0.5681735121792242,
          -0.9027943972756199,
          0.1948166653498565,
          -0.04497796781852511,
          0.35745036207342634,
          -1.7122693913265719,
          0.8696186131524236,
          0.37247176422267636,
          -1.0070686607190036,
          0.6472418575957608,
          -0.8801214715960499,
          0.8811787925892396,
          1.153030478742426,
          0.09120108761904984,
          -1.377553751673728,
          0.30887327296779304,
          1.490857984784296,
          0.4179453440267466,
          0.44405221801437456,
          -0.8403927578127272,
          -0.15426805996920614,
          -0.8204281060226977,
          0.03268017332568117,
          0.9630125035145306,
          -0.9130953040796658,
          -0.9085662487791775,
          1.195269761705436,
          0.4161310509843156,
          0.8153342008245268,
          -0.6487733233924821,
          -1.0907861563845118,
          0.5197384517832024,
          1.1789165623413587,
          1.7219520141869629,
          0.7549338839899621,
          0.2869016485675767,
          0.2592029263132396,
          0.7583566967276182,
          0.705595053820896,
          0.9220444078811396,
          1.0473044220862493,
          -0.22852565607430325,
          1.4262185670441727,
          1.3492535245563764,
          -1.146951429611907,
          1.6080698085483616,
          -1.517184974776277,
          -1.7149233920002773,
          1.1754726665124724
         ],
         "yaxis": "y14"
        },
        {
         "line": {
          "color": "rgba(128, 128, 128, 1.0)",
          "dash": "solid",
          "shape": "linear",
          "width": 1.3
         },
         "marker": {
          "size": 2,
          "symbol": "circle"
         },
         "mode": "markers",
         "name": "D",
         "text": "",
         "type": "scatter",
         "x": [
          0.2111802423317103,
          1.2513023812484676,
          -2.420262985173286,
          -0.01810690595321826,
          1.4369134657374685,
          0.6684809269544413,
          -0.8896657798628989,
          -0.04402398316027114,
          -1.8819037762203268,
          -0.8579940284335679,
          0.6630136483601791,
          -1.0130057914209418,
          0.5300948967919401,
          -0.6116875874922295,
          -1.0405317896111674,
          0.1066065630603391,
          -0.6623367018999061,
          -0.9141072267587206,
          -0.07651540637898738,
          0.8794740655476391,
          0.4954605506779982,
          0.24483452004683712,
          2.4264980700103336,
          -1.06138734364795,
          -0.557073652047221,
          -0.7695481294396544,
          0.03309694318780089,
          -1.157823416209676,
          -1.596494399797544,
          2.532456364986618,
          -0.8066088623148706,
          1.770470147368262,
          -0.06773218184250519,
          -2.1305263195387103,
          -1.822274695929015,
          0.030785638543068785,
          -0.008084167370602255,
          1.331337333505016,
          0.588186934226218,
          -1.5822140559039608,
          -0.5220156480516457,
          0.4661917968374661,
          0.48596504401991136,
          -0.4361624207486163,
          1.1427545134985497,
          -0.6824526850497654,
          -0.8440833820207647,
          0.3212876600368777,
          0.22382288539688838,
          -0.806383858896275,
          -0.5924041008070848,
          -1.0256936022595546,
          0.06451598536290552,
          -0.7166862762894189,
          -0.27515566734864444,
          -0.6014718779964504,
          -1.6753997147232118,
          0.16251273237698743,
          -0.2070889064583417,
          -0.44947347795404113,
          -0.08202653889245286,
          -0.9567459794601099,
          0.9074827992251838,
          -1.5375664107929354,
          0.16657684305640597,
          -0.6223030798991293,
          -0.8314366989766482,
          0.8923639467852169,
          -1.1816901669139268,
          -0.3355203332327252,
          0.19962944480521727,
          -2.2011482810267275,
          0.6445319929985893,
          -1.706926985518179,
          -0.5566538836996962,
          1.0543517373154683,
          -0.6622767931616665,
          0.7297025635382117,
          -0.7273033013667342,
          0.9158551674787964,
          2.013294011662559,
          0.603240529727419,
          -2.0588839296058454,
          0.4761047810469739,
          -1.0189856560944028,
          -0.055398045677197784,
          -0.3988064750448735,
          0.35640182671142695,
          -1.199030727369626,
          -1.4390659260992618,
          -0.7072400789104146,
          -0.656693883698443,
          0.8925601323061709,
          -1.0716342069766727,
          0.7635432042931674,
          -0.7218963008683043,
          -0.07248744015927425,
          0.6818670638384986,
          -0.669188717471183,
          -1.0594740245380794
         ],
         "xaxis": "x15",
         "y": [
          0.028709117222660435,
          -0.8749211890322138,
          0.6750792939143624,
          -1.0262801428193047,
          0.3234398648599455,
          -0.3876739810699715,
          -0.11827322456217186,
          1.9885355457805702,
          0.03933541205734301,
          0.530069542647012,
          0.24686228319134487,
          0.20294901642620966,
          1.2252283809729214,
          -0.08125354468935345,
          -0.3175747171280276,
          0.021724154012419825,
          0.23291709506853644,
          0.7636567288123901,
          -0.5902298796389542,
          0.7819572200644456,
          1.2267628528169439,
          0.2352724133666129,
          -0.10589542879898398,
          1.2259432051006791,
          1.4494715484848886,
          -1.3923181404410845,
          0.508369611846267,
          -1.1143065653090483,
          -2.971993922889421,
          0.8642498062409729,
          -0.12910114376377066,
          -1.3372127108836547,
          -0.5069592925761005,
          0.18798294843010604,
          -0.2635532772361538,
          -0.21414271511520802,
          0.7139910742148748,
          -0.8033790782677973,
          0.34908653589119587,
          2.092937025226005,
          -0.27156830913114494,
          1.278982152856434,
          0.03212293185118509,
          0.032199289165888774,
          -0.6376893960814524,
          0.9533306530613369,
          1.7524769462077232,
          -1.1023081106066404,
          1.249201250592397,
          1.216220027822527,
          0.07973797657419972,
          0.5681735121792242,
          -0.9027943972756199,
          0.1948166653498565,
          -0.04497796781852511,
          0.35745036207342634,
          -1.7122693913265719,
          0.8696186131524236,
          0.37247176422267636,
          -1.0070686607190036,
          0.6472418575957608,
          -0.8801214715960499,
          0.8811787925892396,
          1.153030478742426,
          0.09120108761904984,
          -1.377553751673728,
          0.30887327296779304,
          1.490857984784296,
          0.4179453440267466,
          0.44405221801437456,
          -0.8403927578127272,
          -0.15426805996920614,
          -0.8204281060226977,
          0.03268017332568117,
          0.9630125035145306,
          -0.9130953040796658,
          -0.9085662487791775,
          1.195269761705436,
          0.4161310509843156,
          0.8153342008245268,
          -0.6487733233924821,
          -1.0907861563845118,
          0.5197384517832024,
          1.1789165623413587,
          1.7219520141869629,
          0.7549338839899621,
          0.2869016485675767,
          0.2592029263132396,
          0.7583566967276182,
          0.705595053820896,
          0.9220444078811396,
          1.0473044220862493,
          -0.22852565607430325,
          1.4262185670441727,
          1.3492535245563764,
          -1.146951429611907,
          1.6080698085483616,
          -1.517184974776277,
          -1.7149233920002773,
          1.1754726665124724
         ],
         "yaxis": "y15"
        },
        {
         "histfunc": "count",
         "histnorm": "",
         "marker": {
          "color": "rgba(128, 0, 128, 1.0)",
          "line": {
           "color": "#4D5663",
           "width": 1.3
          }
         },
         "name": "D",
         "nbinsx": 10,
         "opacity": 0.8,
         "orientation": "v",
         "type": "histogram",
         "x": [
          0.028709117222660435,
          -0.8749211890322138,
          0.6750792939143624,
          -1.0262801428193047,
          0.3234398648599455,
          -0.3876739810699715,
          -0.11827322456217186,
          1.9885355457805702,
          0.03933541205734301,
          0.530069542647012,
          0.24686228319134487,
          0.20294901642620966,
          1.2252283809729214,
          -0.08125354468935345,
          -0.3175747171280276,
          0.021724154012419825,
          0.23291709506853644,
          0.7636567288123901,
          -0.5902298796389542,
          0.7819572200644456,
          1.2267628528169439,
          0.2352724133666129,
          -0.10589542879898398,
          1.2259432051006791,
          1.4494715484848886,
          -1.3923181404410845,
          0.508369611846267,
          -1.1143065653090483,
          -2.971993922889421,
          0.8642498062409729,
          -0.12910114376377066,
          -1.3372127108836547,
          -0.5069592925761005,
          0.18798294843010604,
          -0.2635532772361538,
          -0.21414271511520802,
          0.7139910742148748,
          -0.8033790782677973,
          0.34908653589119587,
          2.092937025226005,
          -0.27156830913114494,
          1.278982152856434,
          0.03212293185118509,
          0.032199289165888774,
          -0.6376893960814524,
          0.9533306530613369,
          1.7524769462077232,
          -1.1023081106066404,
          1.249201250592397,
          1.216220027822527,
          0.07973797657419972,
          0.5681735121792242,
          -0.9027943972756199,
          0.1948166653498565,
          -0.04497796781852511,
          0.35745036207342634,
          -1.7122693913265719,
          0.8696186131524236,
          0.37247176422267636,
          -1.0070686607190036,
          0.6472418575957608,
          -0.8801214715960499,
          0.8811787925892396,
          1.153030478742426,
          0.09120108761904984,
          -1.377553751673728,
          0.30887327296779304,
          1.490857984784296,
          0.4179453440267466,
          0.44405221801437456,
          -0.8403927578127272,
          -0.15426805996920614,
          -0.8204281060226977,
          0.03268017332568117,
          0.9630125035145306,
          -0.9130953040796658,
          -0.9085662487791775,
          1.195269761705436,
          0.4161310509843156,
          0.8153342008245268,
          -0.6487733233924821,
          -1.0907861563845118,
          0.5197384517832024,
          1.1789165623413587,
          1.7219520141869629,
          0.7549338839899621,
          0.2869016485675767,
          0.2592029263132396,
          0.7583566967276182,
          0.705595053820896,
          0.9220444078811396,
          1.0473044220862493,
          -0.22852565607430325,
          1.4262185670441727,
          1.3492535245563764,
          -1.146951429611907,
          1.6080698085483616,
          -1.517184974776277,
          -1.7149233920002773,
          1.1754726665124724
         ],
         "xaxis": "x16",
         "yaxis": "y16"
        }
       ],
       "layout": {
        "bargap": 0.02,
        "legend": {
         "bgcolor": "#F5F6F9",
         "font": {
          "color": "#4D5663"
         }
        },
        "paper_bgcolor": "#F5F6F9",
        "plot_bgcolor": "#F5F6F9",
        "showlegend": false,
        "template": {
         "data": {
          "bar": [
           {
            "error_x": {
             "color": "#2a3f5f"
            },
            "error_y": {
             "color": "#2a3f5f"
            },
            "marker": {
             "line": {
              "color": "#E5ECF6",
              "width": 0.5
             },
             "pattern": {
              "fillmode": "overlay",
              "size": 10,
              "solidity": 0.2
             }
            },
            "type": "bar"
           }
          ],
          "barpolar": [
           {
            "marker": {
             "line": {
              "color": "#E5ECF6",
              "width": 0.5
             },
             "pattern": {
              "fillmode": "overlay",
              "size": 10,
              "solidity": 0.2
             }
            },
            "type": "barpolar"
           }
          ],
          "carpet": [
           {
            "aaxis": {
             "endlinecolor": "#2a3f5f",
             "gridcolor": "white",
             "linecolor": "white",
             "minorgridcolor": "white",
             "startlinecolor": "#2a3f5f"
            },
            "baxis": {
             "endlinecolor": "#2a3f5f",
             "gridcolor": "white",
             "linecolor": "white",
             "minorgridcolor": "white",
             "startlinecolor": "#2a3f5f"
            },
            "type": "carpet"
           }
          ],
          "choropleth": [
           {
            "colorbar": {
             "outlinewidth": 0,
             "ticks": ""
            },
            "type": "choropleth"
           }
          ],
          "contour": [
           {
            "colorbar": {
             "outlinewidth": 0,
             "ticks": ""
            },
            "colorscale": [
             [
              0,
              "#0d0887"
             ],
             [
              0.1111111111111111,
              "#46039f"
             ],
             [
              0.2222222222222222,
              "#7201a8"
             ],
             [
              0.3333333333333333,
              "#9c179e"
             ],
             [
              0.4444444444444444,
              "#bd3786"
             ],
             [
              0.5555555555555556,
              "#d8576b"
             ],
             [
              0.6666666666666666,
              "#ed7953"
             ],
             [
              0.7777777777777778,
              "#fb9f3a"
             ],
             [
              0.8888888888888888,
              "#fdca26"
             ],
             [
              1,
              "#f0f921"
             ]
            ],
            "type": "contour"
           }
          ],
          "contourcarpet": [
           {
            "colorbar": {
             "outlinewidth": 0,
             "ticks": ""
            },
            "type": "contourcarpet"
           }
          ],
          "heatmap": [
           {
            "colorbar": {
             "outlinewidth": 0,
             "ticks": ""
            },
            "colorscale": [
             [
              0,
              "#0d0887"
             ],
             [
              0.1111111111111111,
              "#46039f"
             ],
             [
              0.2222222222222222,
              "#7201a8"
             ],
             [
              0.3333333333333333,
              "#9c179e"
             ],
             [
              0.4444444444444444,
              "#bd3786"
             ],
             [
              0.5555555555555556,
              "#d8576b"
             ],
             [
              0.6666666666666666,
              "#ed7953"
             ],
             [
              0.7777777777777778,
              "#fb9f3a"
             ],
             [
              0.8888888888888888,
              "#fdca26"
             ],
             [
              1,
              "#f0f921"
             ]
            ],
            "type": "heatmap"
           }
          ],
          "heatmapgl": [
           {
            "colorbar": {
             "outlinewidth": 0,
             "ticks": ""
            },
            "colorscale": [
             [
              0,
              "#0d0887"
             ],
             [
              0.1111111111111111,
              "#46039f"
             ],
             [
              0.2222222222222222,
              "#7201a8"
             ],
             [
              0.3333333333333333,
              "#9c179e"
             ],
             [
              0.4444444444444444,
              "#bd3786"
             ],
             [
              0.5555555555555556,
              "#d8576b"
             ],
             [
              0.6666666666666666,
              "#ed7953"
             ],
             [
              0.7777777777777778,
              "#fb9f3a"
             ],
             [
              0.8888888888888888,
              "#fdca26"
             ],
             [
              1,
              "#f0f921"
             ]
            ],
            "type": "heatmapgl"
           }
          ],
          "histogram": [
           {
            "marker": {
             "pattern": {
              "fillmode": "overlay",
              "size": 10,
              "solidity": 0.2
             }
            },
            "type": "histogram"
           }
          ],
          "histogram2d": [
           {
            "colorbar": {
             "outlinewidth": 0,
             "ticks": ""
            },
            "colorscale": [
             [
              0,
              "#0d0887"
             ],
             [
              0.1111111111111111,
              "#46039f"
             ],
             [
              0.2222222222222222,
              "#7201a8"
             ],
             [
              0.3333333333333333,
              "#9c179e"
             ],
             [
              0.4444444444444444,
              "#bd3786"
             ],
             [
              0.5555555555555556,
              "#d8576b"
             ],
             [
              0.6666666666666666,
              "#ed7953"
             ],
             [
              0.7777777777777778,
              "#fb9f3a"
             ],
             [
              0.8888888888888888,
              "#fdca26"
             ],
             [
              1,
              "#f0f921"
             ]
            ],
            "type": "histogram2d"
           }
          ],
          "histogram2dcontour": [
           {
            "colorbar": {
             "outlinewidth": 0,
             "ticks": ""
            },
            "colorscale": [
             [
              0,
              "#0d0887"
             ],
             [
              0.1111111111111111,
              "#46039f"
             ],
             [
              0.2222222222222222,
              "#7201a8"
             ],
             [
              0.3333333333333333,
              "#9c179e"
             ],
             [
              0.4444444444444444,
              "#bd3786"
             ],
             [
              0.5555555555555556,
              "#d8576b"
             ],
             [
              0.6666666666666666,
              "#ed7953"
             ],
             [
              0.7777777777777778,
              "#fb9f3a"
             ],
             [
              0.8888888888888888,
              "#fdca26"
             ],
             [
              1,
              "#f0f921"
             ]
            ],
            "type": "histogram2dcontour"
           }
          ],
          "mesh3d": [
           {
            "colorbar": {
             "outlinewidth": 0,
             "ticks": ""
            },
            "type": "mesh3d"
           }
          ],
          "parcoords": [
           {
            "line": {
             "colorbar": {
              "outlinewidth": 0,
              "ticks": ""
             }
            },
            "type": "parcoords"
           }
          ],
          "pie": [
           {
            "automargin": true,
            "type": "pie"
           }
          ],
          "scatter": [
           {
            "fillpattern": {
             "fillmode": "overlay",
             "size": 10,
             "solidity": 0.2
            },
            "type": "scatter"
           }
          ],
          "scatter3d": [
           {
            "line": {
             "colorbar": {
              "outlinewidth": 0,
              "ticks": ""
             }
            },
            "marker": {
             "colorbar": {
              "outlinewidth": 0,
              "ticks": ""
             }
            },
            "type": "scatter3d"
           }
          ],
          "scattercarpet": [
           {
            "marker": {
             "colorbar": {
              "outlinewidth": 0,
              "ticks": ""
             }
            },
            "type": "scattercarpet"
           }
          ],
          "scattergeo": [
           {
            "marker": {
             "colorbar": {
              "outlinewidth": 0,
              "ticks": ""
             }
            },
            "type": "scattergeo"
           }
          ],
          "scattergl": [
           {
            "marker": {
             "colorbar": {
              "outlinewidth": 0,
              "ticks": ""
             }
            },
            "type": "scattergl"
           }
          ],
          "scattermapbox": [
           {
            "marker": {
             "colorbar": {
              "outlinewidth": 0,
              "ticks": ""
             }
            },
            "type": "scattermapbox"
           }
          ],
          "scatterpolar": [
           {
            "marker": {
             "colorbar": {
              "outlinewidth": 0,
              "ticks": ""
             }
            },
            "type": "scatterpolar"
           }
          ],
          "scatterpolargl": [
           {
            "marker": {
             "colorbar": {
              "outlinewidth": 0,
              "ticks": ""
             }
            },
            "type": "scatterpolargl"
           }
          ],
          "scatterternary": [
           {
            "marker": {
             "colorbar": {
              "outlinewidth": 0,
              "ticks": ""
             }
            },
            "type": "scatterternary"
           }
          ],
          "surface": [
           {
            "colorbar": {
             "outlinewidth": 0,
             "ticks": ""
            },
            "colorscale": [
             [
              0,
              "#0d0887"
             ],
             [
              0.1111111111111111,
              "#46039f"
             ],
             [
              0.2222222222222222,
              "#7201a8"
             ],
             [
              0.3333333333333333,
              "#9c179e"
             ],
             [
              0.4444444444444444,
              "#bd3786"
             ],
             [
              0.5555555555555556,
              "#d8576b"
             ],
             [
              0.6666666666666666,
              "#ed7953"
             ],
             [
              0.7777777777777778,
              "#fb9f3a"
             ],
             [
              0.8888888888888888,
              "#fdca26"
             ],
             [
              1,
              "#f0f921"
             ]
            ],
            "type": "surface"
           }
          ],
          "table": [
           {
            "cells": {
             "fill": {
              "color": "#EBF0F8"
             },
             "line": {
              "color": "white"
             }
            },
            "header": {
             "fill": {
              "color": "#C8D4E3"
             },
             "line": {
              "color": "white"
             }
            },
            "type": "table"
           }
          ]
         },
         "layout": {
          "annotationdefaults": {
           "arrowcolor": "#2a3f5f",
           "arrowhead": 0,
           "arrowwidth": 1
          },
          "autotypenumbers": "strict",
          "coloraxis": {
           "colorbar": {
            "outlinewidth": 0,
            "ticks": ""
           }
          },
          "colorscale": {
           "diverging": [
            [
             0,
             "#8e0152"
            ],
            [
             0.1,
             "#c51b7d"
            ],
            [
             0.2,
             "#de77ae"
            ],
            [
             0.3,
             "#f1b6da"
            ],
            [
             0.4,
             "#fde0ef"
            ],
            [
             0.5,
             "#f7f7f7"
            ],
            [
             0.6,
             "#e6f5d0"
            ],
            [
             0.7,
             "#b8e186"
            ],
            [
             0.8,
             "#7fbc41"
            ],
            [
             0.9,
             "#4d9221"
            ],
            [
             1,
             "#276419"
            ]
           ],
           "sequential": [
            [
             0,
             "#0d0887"
            ],
            [
             0.1111111111111111,
             "#46039f"
            ],
            [
             0.2222222222222222,
             "#7201a8"
            ],
            [
             0.3333333333333333,
             "#9c179e"
            ],
            [
             0.4444444444444444,
             "#bd3786"
            ],
            [
             0.5555555555555556,
             "#d8576b"
            ],
            [
             0.6666666666666666,
             "#ed7953"
            ],
            [
             0.7777777777777778,
             "#fb9f3a"
            ],
            [
             0.8888888888888888,
             "#fdca26"
            ],
            [
             1,
             "#f0f921"
            ]
           ],
           "sequentialminus": [
            [
             0,
             "#0d0887"
            ],
            [
             0.1111111111111111,
             "#46039f"
            ],
            [
             0.2222222222222222,
             "#7201a8"
            ],
            [
             0.3333333333333333,
             "#9c179e"
            ],
            [
             0.4444444444444444,
             "#bd3786"
            ],
            [
             0.5555555555555556,
             "#d8576b"
            ],
            [
             0.6666666666666666,
             "#ed7953"
            ],
            [
             0.7777777777777778,
             "#fb9f3a"
            ],
            [
             0.8888888888888888,
             "#fdca26"
            ],
            [
             1,
             "#f0f921"
            ]
           ]
          },
          "colorway": [
           "#636efa",
           "#EF553B",
           "#00cc96",
           "#ab63fa",
           "#FFA15A",
           "#19d3f3",
           "#FF6692",
           "#B6E880",
           "#FF97FF",
           "#FECB52"
          ],
          "font": {
           "color": "#2a3f5f"
          },
          "geo": {
           "bgcolor": "white",
           "lakecolor": "white",
           "landcolor": "#E5ECF6",
           "showlakes": true,
           "showland": true,
           "subunitcolor": "white"
          },
          "hoverlabel": {
           "align": "left"
          },
          "hovermode": "closest",
          "mapbox": {
           "style": "light"
          },
          "paper_bgcolor": "white",
          "plot_bgcolor": "#E5ECF6",
          "polar": {
           "angularaxis": {
            "gridcolor": "white",
            "linecolor": "white",
            "ticks": ""
           },
           "bgcolor": "#E5ECF6",
           "radialaxis": {
            "gridcolor": "white",
            "linecolor": "white",
            "ticks": ""
           }
          },
          "scene": {
           "xaxis": {
            "backgroundcolor": "#E5ECF6",
            "gridcolor": "white",
            "gridwidth": 2,
            "linecolor": "white",
            "showbackground": true,
            "ticks": "",
            "zerolinecolor": "white"
           },
           "yaxis": {
            "backgroundcolor": "#E5ECF6",
            "gridcolor": "white",
            "gridwidth": 2,
            "linecolor": "white",
            "showbackground": true,
            "ticks": "",
            "zerolinecolor": "white"
           },
           "zaxis": {
            "backgroundcolor": "#E5ECF6",
            "gridcolor": "white",
            "gridwidth": 2,
            "linecolor": "white",
            "showbackground": true,
            "ticks": "",
            "zerolinecolor": "white"
           }
          },
          "shapedefaults": {
           "line": {
            "color": "#2a3f5f"
           }
          },
          "ternary": {
           "aaxis": {
            "gridcolor": "white",
            "linecolor": "white",
            "ticks": ""
           },
           "baxis": {
            "gridcolor": "white",
            "linecolor": "white",
            "ticks": ""
           },
           "bgcolor": "#E5ECF6",
           "caxis": {
            "gridcolor": "white",
            "linecolor": "white",
            "ticks": ""
           }
          },
          "title": {
           "x": 0.05
          },
          "xaxis": {
           "automargin": true,
           "gridcolor": "white",
           "linecolor": "white",
           "ticks": "",
           "title": {
            "standoff": 15
           },
           "zerolinecolor": "white",
           "zerolinewidth": 2
          },
          "yaxis": {
           "automargin": true,
           "gridcolor": "white",
           "linecolor": "white",
           "ticks": "",
           "title": {
            "standoff": 15
           },
           "zerolinecolor": "white",
           "zerolinewidth": 2
          }
         }
        },
        "title": {
         "font": {
          "color": "#4D5663"
         }
        },
        "xaxis": {
         "anchor": "y",
         "domain": [
          0,
          0.2125
         ],
         "gridcolor": "#E1E5ED",
         "showgrid": false,
         "tickfont": {
          "color": "#4D5663"
         },
         "title": {
          "font": {
           "color": "#4D5663"
          },
          "text": ""
         },
         "zerolinecolor": "#E1E5ED"
        },
        "xaxis10": {
         "anchor": "y10",
         "domain": [
          0.2625,
          0.475
         ],
         "gridcolor": "#E1E5ED",
         "showgrid": false,
         "tickfont": {
          "color": "#4D5663"
         },
         "title": {
          "font": {
           "color": "#4D5663"
          },
          "text": ""
         },
         "zerolinecolor": "#E1E5ED"
        },
        "xaxis11": {
         "anchor": "y11",
         "domain": [
          0.525,
          0.7375
         ],
         "gridcolor": "#E1E5ED",
         "showgrid": false,
         "tickfont": {
          "color": "#4D5663"
         },
         "title": {
          "font": {
           "color": "#4D5663"
          },
          "text": ""
         },
         "zerolinecolor": "#E1E5ED"
        },
        "xaxis12": {
         "anchor": "y12",
         "domain": [
          0.7875,
          1
         ],
         "gridcolor": "#E1E5ED",
         "showgrid": false,
         "tickfont": {
          "color": "#4D5663"
         },
         "title": {
          "font": {
           "color": "#4D5663"
          },
          "text": ""
         },
         "zerolinecolor": "#E1E5ED"
        },
        "xaxis13": {
         "anchor": "y13",
         "domain": [
          0,
          0.2125
         ],
         "gridcolor": "#E1E5ED",
         "showgrid": false,
         "tickfont": {
          "color": "#4D5663"
         },
         "title": {
          "font": {
           "color": "#4D5663"
          },
          "text": ""
         },
         "zerolinecolor": "#E1E5ED"
        },
        "xaxis14": {
         "anchor": "y14",
         "domain": [
          0.2625,
          0.475
         ],
         "gridcolor": "#E1E5ED",
         "showgrid": false,
         "tickfont": {
          "color": "#4D5663"
         },
         "title": {
          "font": {
           "color": "#4D5663"
          },
          "text": ""
         },
         "zerolinecolor": "#E1E5ED"
        },
        "xaxis15": {
         "anchor": "y15",
         "domain": [
          0.525,
          0.7375
         ],
         "gridcolor": "#E1E5ED",
         "showgrid": false,
         "tickfont": {
          "color": "#4D5663"
         },
         "title": {
          "font": {
           "color": "#4D5663"
          },
          "text": ""
         },
         "zerolinecolor": "#E1E5ED"
        },
        "xaxis16": {
         "anchor": "y16",
         "domain": [
          0.7875,
          1
         ],
         "gridcolor": "#E1E5ED",
         "showgrid": false,
         "tickfont": {
          "color": "#4D5663"
         },
         "title": {
          "font": {
           "color": "#4D5663"
          },
          "text": ""
         },
         "zerolinecolor": "#E1E5ED"
        },
        "xaxis2": {
         "anchor": "y2",
         "domain": [
          0.2625,
          0.475
         ],
         "gridcolor": "#E1E5ED",
         "showgrid": false,
         "tickfont": {
          "color": "#4D5663"
         },
         "title": {
          "font": {
           "color": "#4D5663"
          },
          "text": ""
         },
         "zerolinecolor": "#E1E5ED"
        },
        "xaxis3": {
         "anchor": "y3",
         "domain": [
          0.525,
          0.7375
         ],
         "gridcolor": "#E1E5ED",
         "showgrid": false,
         "tickfont": {
          "color": "#4D5663"
         },
         "title": {
          "font": {
           "color": "#4D5663"
          },
          "text": ""
         },
         "zerolinecolor": "#E1E5ED"
        },
        "xaxis4": {
         "anchor": "y4",
         "domain": [
          0.7875,
          1
         ],
         "gridcolor": "#E1E5ED",
         "showgrid": false,
         "tickfont": {
          "color": "#4D5663"
         },
         "title": {
          "font": {
           "color": "#4D5663"
          },
          "text": ""
         },
         "zerolinecolor": "#E1E5ED"
        },
        "xaxis5": {
         "anchor": "y5",
         "domain": [
          0,
          0.2125
         ],
         "gridcolor": "#E1E5ED",
         "showgrid": false,
         "tickfont": {
          "color": "#4D5663"
         },
         "title": {
          "font": {
           "color": "#4D5663"
          },
          "text": ""
         },
         "zerolinecolor": "#E1E5ED"
        },
        "xaxis6": {
         "anchor": "y6",
         "domain": [
          0.2625,
          0.475
         ],
         "gridcolor": "#E1E5ED",
         "showgrid": false,
         "tickfont": {
          "color": "#4D5663"
         },
         "title": {
          "font": {
           "color": "#4D5663"
          },
          "text": ""
         },
         "zerolinecolor": "#E1E5ED"
        },
        "xaxis7": {
         "anchor": "y7",
         "domain": [
          0.525,
          0.7375
         ],
         "gridcolor": "#E1E5ED",
         "showgrid": false,
         "tickfont": {
          "color": "#4D5663"
         },
         "title": {
          "font": {
           "color": "#4D5663"
          },
          "text": ""
         },
         "zerolinecolor": "#E1E5ED"
        },
        "xaxis8": {
         "anchor": "y8",
         "domain": [
          0.7875,
          1
         ],
         "gridcolor": "#E1E5ED",
         "showgrid": false,
         "tickfont": {
          "color": "#4D5663"
         },
         "title": {
          "font": {
           "color": "#4D5663"
          },
          "text": ""
         },
         "zerolinecolor": "#E1E5ED"
        },
        "xaxis9": {
         "anchor": "y9",
         "domain": [
          0,
          0.2125
         ],
         "gridcolor": "#E1E5ED",
         "showgrid": false,
         "tickfont": {
          "color": "#4D5663"
         },
         "title": {
          "font": {
           "color": "#4D5663"
          },
          "text": ""
         },
         "zerolinecolor": "#E1E5ED"
        },
        "yaxis": {
         "anchor": "x",
         "domain": [
          0.8025,
          1
         ],
         "gridcolor": "#E1E5ED",
         "showgrid": false,
         "tickfont": {
          "color": "#4D5663"
         },
         "title": {
          "font": {
           "color": "#4D5663"
          },
          "text": ""
         },
         "zerolinecolor": "#E1E5ED"
        },
        "yaxis10": {
         "anchor": "x10",
         "domain": [
          0.2675,
          0.465
         ],
         "gridcolor": "#E1E5ED",
         "showgrid": false,
         "tickfont": {
          "color": "#4D5663"
         },
         "title": {
          "font": {
           "color": "#4D5663"
          },
          "text": ""
         },
         "zerolinecolor": "#E1E5ED"
        },
        "yaxis11": {
         "anchor": "x11",
         "domain": [
          0.2675,
          0.465
         ],
         "gridcolor": "#E1E5ED",
         "showgrid": false,
         "tickfont": {
          "color": "#4D5663"
         },
         "title": {
          "font": {
           "color": "#4D5663"
          },
          "text": ""
         },
         "zerolinecolor": "#E1E5ED"
        },
        "yaxis12": {
         "anchor": "x12",
         "domain": [
          0.2675,
          0.465
         ],
         "gridcolor": "#E1E5ED",
         "showgrid": false,
         "tickfont": {
          "color": "#4D5663"
         },
         "title": {
          "font": {
           "color": "#4D5663"
          },
          "text": ""
         },
         "zerolinecolor": "#E1E5ED"
        },
        "yaxis13": {
         "anchor": "x13",
         "domain": [
          0,
          0.1975
         ],
         "gridcolor": "#E1E5ED",
         "showgrid": false,
         "tickfont": {
          "color": "#4D5663"
         },
         "title": {
          "font": {
           "color": "#4D5663"
          },
          "text": ""
         },
         "zerolinecolor": "#E1E5ED"
        },
        "yaxis14": {
         "anchor": "x14",
         "domain": [
          0,
          0.1975
         ],
         "gridcolor": "#E1E5ED",
         "showgrid": false,
         "tickfont": {
          "color": "#4D5663"
         },
         "title": {
          "font": {
           "color": "#4D5663"
          },
          "text": ""
         },
         "zerolinecolor": "#E1E5ED"
        },
        "yaxis15": {
         "anchor": "x15",
         "domain": [
          0,
          0.1975
         ],
         "gridcolor": "#E1E5ED",
         "showgrid": false,
         "tickfont": {
          "color": "#4D5663"
         },
         "title": {
          "font": {
           "color": "#4D5663"
          },
          "text": ""
         },
         "zerolinecolor": "#E1E5ED"
        },
        "yaxis16": {
         "anchor": "x16",
         "domain": [
          0,
          0.1975
         ],
         "gridcolor": "#E1E5ED",
         "showgrid": false,
         "tickfont": {
          "color": "#4D5663"
         },
         "title": {
          "font": {
           "color": "#4D5663"
          },
          "text": ""
         },
         "zerolinecolor": "#E1E5ED"
        },
        "yaxis2": {
         "anchor": "x2",
         "domain": [
          0.8025,
          1
         ],
         "gridcolor": "#E1E5ED",
         "showgrid": false,
         "tickfont": {
          "color": "#4D5663"
         },
         "title": {
          "font": {
           "color": "#4D5663"
          },
          "text": ""
         },
         "zerolinecolor": "#E1E5ED"
        },
        "yaxis3": {
         "anchor": "x3",
         "domain": [
          0.8025,
          1
         ],
         "gridcolor": "#E1E5ED",
         "showgrid": false,
         "tickfont": {
          "color": "#4D5663"
         },
         "title": {
          "font": {
           "color": "#4D5663"
          },
          "text": ""
         },
         "zerolinecolor": "#E1E5ED"
        },
        "yaxis4": {
         "anchor": "x4",
         "domain": [
          0.8025,
          1
         ],
         "gridcolor": "#E1E5ED",
         "showgrid": false,
         "tickfont": {
          "color": "#4D5663"
         },
         "title": {
          "font": {
           "color": "#4D5663"
          },
          "text": ""
         },
         "zerolinecolor": "#E1E5ED"
        },
        "yaxis5": {
         "anchor": "x5",
         "domain": [
          0.535,
          0.7325
         ],
         "gridcolor": "#E1E5ED",
         "showgrid": false,
         "tickfont": {
          "color": "#4D5663"
         },
         "title": {
          "font": {
           "color": "#4D5663"
          },
          "text": ""
         },
         "zerolinecolor": "#E1E5ED"
        },
        "yaxis6": {
         "anchor": "x6",
         "domain": [
          0.535,
          0.7325
         ],
         "gridcolor": "#E1E5ED",
         "showgrid": false,
         "tickfont": {
          "color": "#4D5663"
         },
         "title": {
          "font": {
           "color": "#4D5663"
          },
          "text": ""
         },
         "zerolinecolor": "#E1E5ED"
        },
        "yaxis7": {
         "anchor": "x7",
         "domain": [
          0.535,
          0.7325
         ],
         "gridcolor": "#E1E5ED",
         "showgrid": false,
         "tickfont": {
          "color": "#4D5663"
         },
         "title": {
          "font": {
           "color": "#4D5663"
          },
          "text": ""
         },
         "zerolinecolor": "#E1E5ED"
        },
        "yaxis8": {
         "anchor": "x8",
         "domain": [
          0.535,
          0.7325
         ],
         "gridcolor": "#E1E5ED",
         "showgrid": false,
         "tickfont": {
          "color": "#4D5663"
         },
         "title": {
          "font": {
           "color": "#4D5663"
          },
          "text": ""
         },
         "zerolinecolor": "#E1E5ED"
        },
        "yaxis9": {
         "anchor": "x9",
         "domain": [
          0.2675,
          0.465
         ],
         "gridcolor": "#E1E5ED",
         "showgrid": false,
         "tickfont": {
          "color": "#4D5663"
         },
         "title": {
          "font": {
           "color": "#4D5663"
          },
          "text": ""
         },
         "zerolinecolor": "#E1E5ED"
        }
       }
      },
      "text/html": [
       "<div>                            <div id=\"9238a47b-d790-4519-bc1f-f2d49b437861\" class=\"plotly-graph-div\" style=\"height:525px; width:100%;\"></div>            <script type=\"text/javascript\">                require([\"plotly\"], function(Plotly) {                    window.PLOTLYENV=window.PLOTLYENV || {};\n",
       "                    window.PLOTLYENV.BASE_URL='https://plot.ly';                                    if (document.getElementById(\"9238a47b-d790-4519-bc1f-f2d49b437861\")) {                    Plotly.newPlot(                        \"9238a47b-d790-4519-bc1f-f2d49b437861\",                        [{\"histfunc\":\"count\",\"histnorm\":\"\",\"marker\":{\"color\":\"rgba(255, 153, 51, 1.0)\",\"line\":{\"color\":\"#4D5663\",\"width\":1.3}},\"name\":\"A\",\"nbinsx\":10,\"opacity\":0.8,\"orientation\":\"v\",\"x\":[0.7365676730741115,-0.7858723473162033,-0.7612014338282168,-0.33828969119184393,2.119963389888639,-0.21033529370795123,0.6767739565306867,0.5069782758452451,0.774016534624883,0.645969599888223,1.320915012722791,0.44625820307936953,1.3497982780888076,-0.054312851369403614,0.4086759252360387,0.7670248516378464,-0.34164747625266406,-1.7258492298186636,-0.606458487839304,-0.38509253069137594,1.4779673151544093,-1.5316814798425253,0.9217068353068714,-0.3871133629664417,-1.288295495500347,0.34657449460134787,-1.5122310913921442,-2.382550658507943,-0.38864645623694927,0.28966630577443714,0.3194368360872796,-0.298154648157231,0.04412351469237872,0.5820788298374068,0.6404347136769989,-0.5406726034486085,2.5069957332916686,0.601324464091323,-2.5973464357475677,-1.0898746058693036,-0.3674931138183991,-0.6956665949403,0.6067824786484017,-0.014631944251588846,1.5496933437294362,0.49670459037018383,0.008656386426374951,-1.1879079254428846,0.1133646617244053,-1.209457437051342,0.53738323876218,-0.6799498612216169,-0.2485611813921982,1.259647945013635,0.26831411554353923,1.0703105180570807,0.6120298241543476,-0.7922552770571334,2.7198069168792665,0.30130325020606896,-0.5917405760881879,0.5680047551310305,0.18989307616818785,0.11827140230978321,-0.7112741838759915,-0.29454452098868006,1.4192744302811733,0.20178726147006076,0.16737330097876532,-0.9455492012524679,-1.5807529424508262,-0.3217548006777736,-0.16441643952635626,0.7605565832475502,1.0550615529269523,-0.26281305127051263,0.023700138695366336,0.0623905688170181,-1.6334667527317086,0.05877352101880432,0.8779585966847681,-0.22021733716874808,-0.5087245522034368,-0.4513545021497254,0.26610125050362843,0.14691010739790702,-0.10712846369094996,-0.5380999650652848,1.1751937445166347,0.7347422409605809,0.46494295601226526,-0.41693050383705343,0.0890698769086676,1.2171732953811045,-0.07683110145682837,1.1787552497082416,1.0022080658556163,2.708142526407743,1.0322122478237143,-1.2757074009052138],\"xaxis\":\"x\",\"yaxis\":\"y\",\"type\":\"histogram\"},{\"line\":{\"color\":\"rgba(128, 128, 128, 1.0)\",\"dash\":\"solid\",\"shape\":\"linear\",\"width\":1.3},\"marker\":{\"size\":2,\"symbol\":\"circle\"},\"mode\":\"markers\",\"name\":\"A\",\"text\":\"\",\"x\":[-1.17960096095747,-1.3775555599416172,0.13792944280704006,0.48371504791298947,1.330402450096832,0.6008571556967333,-0.48801970995218547,0.8961245543966675,0.2961431824584401,-1.4649552300510922,-0.7080659462597593,-1.2955118557528216,-0.38026898461962383,-0.4533352454607744,-0.3539169985811786,-1.2025477368662538,0.00892006917367232,0.16966744435944756,0.8223657469907609,1.1951243289151658,0.30365969879879123,-0.3028597261401649,-0.019062927160904068,-1.1187078160968458,0.9936865559435638,1.149927312754949,-0.6117767973140005,-0.44387643888953543,-0.03439784317436975,0.015399420236178523,1.1123127177074992,0.2649658061453154,0.6806251765292582,0.14785949702601267,-2.4605460959827004,-0.16205752753046915,-1.2254109809660831,-0.12225449695743638,0.5635173461831468,-0.2599285316945004,-0.27611765191417736,-1.4690531379716825,-1.954153503410868,-0.5866390468375826,0.1018189830619359,-0.07048593057982283,-1.212665780136159,-0.3451925694516716,0.9702962511148727,0.3423474752420889,1.9493684121162587,1.4406008187314832,-0.9759644286967494,-2.2506220014240275,-0.1950416048205692,0.3899551845378141,0.9796444130032764,-1.1593956186919911,0.9883877171167217,0.18632777987730414,-0.32652211390169983,0.5235349712369627,-0.14554797924655524,-0.6632566049388412,1.450516587911176,-1.8242348077687922,-0.7986611676784975,1.2865759967254213,0.03311206362784604,0.826111885566775,-1.8404480684092652,-0.17647317946813473,0.7076473944942543,0.6433397834820548,-0.05019150477402584,0.6938641710145623,-1.0856055786365582,-1.4164083407235537,-1.3642812235548454,1.846182244755937,-0.21921761442914586,-0.08980549285517242,-0.1207473523157025,-0.41706054413176086,0.6611570044122105,1.3289032537940533,-0.07510227699547183,-0.06500699130762963,0.47215000010575603,1.6071041868429516,2.0246550229557956,0.08805236871800126,0.9792317235927371,1.2488287261048898,-0.9105759352090856,-1.4063251858608385,1.3450088447347763,0.22540725929083774,-1.3483110021192624,0.47968437914212037],\"xaxis\":\"x2\",\"y\":[0.7365676730741115,-0.7858723473162033,-0.7612014338282168,-0.33828969119184393,2.119963389888639,-0.21033529370795123,0.6767739565306867,0.5069782758452451,0.774016534624883,0.645969599888223,1.320915012722791,0.44625820307936953,1.3497982780888076,-0.054312851369403614,0.4086759252360387,0.7670248516378464,-0.34164747625266406,-1.7258492298186636,-0.606458487839304,-0.38509253069137594,1.4779673151544093,-1.5316814798425253,0.9217068353068714,-0.3871133629664417,-1.288295495500347,0.34657449460134787,-1.5122310913921442,-2.382550658507943,-0.38864645623694927,0.28966630577443714,0.3194368360872796,-0.298154648157231,0.04412351469237872,0.5820788298374068,0.6404347136769989,-0.5406726034486085,2.5069957332916686,0.601324464091323,-2.5973464357475677,-1.0898746058693036,-0.3674931138183991,-0.6956665949403,0.6067824786484017,-0.014631944251588846,1.5496933437294362,0.49670459037018383,0.008656386426374951,-1.1879079254428846,0.1133646617244053,-1.209457437051342,0.53738323876218,-0.6799498612216169,-0.2485611813921982,1.259647945013635,0.26831411554353923,1.0703105180570807,0.6120298241543476,-0.7922552770571334,2.7198069168792665,0.30130325020606896,-0.5917405760881879,0.5680047551310305,0.18989307616818785,0.11827140230978321,-0.7112741838759915,-0.29454452098868006,1.4192744302811733,0.20178726147006076,0.16737330097876532,-0.9455492012524679,-1.5807529424508262,-0.3217548006777736,-0.16441643952635626,0.7605565832475502,1.0550615529269523,-0.26281305127051263,0.023700138695366336,0.0623905688170181,-1.6334667527317086,0.05877352101880432,0.8779585966847681,-0.22021733716874808,-0.5087245522034368,-0.4513545021497254,0.26610125050362843,0.14691010739790702,-0.10712846369094996,-0.5380999650652848,1.1751937445166347,0.7347422409605809,0.46494295601226526,-0.41693050383705343,0.0890698769086676,1.2171732953811045,-0.07683110145682837,1.1787552497082416,1.0022080658556163,2.708142526407743,1.0322122478237143,-1.2757074009052138],\"yaxis\":\"y2\",\"type\":\"scatter\"},{\"line\":{\"color\":\"rgba(128, 128, 128, 1.0)\",\"dash\":\"solid\",\"shape\":\"linear\",\"width\":1.3},\"marker\":{\"size\":2,\"symbol\":\"circle\"},\"mode\":\"markers\",\"name\":\"A\",\"text\":\"\",\"x\":[0.2111802423317103,1.2513023812484676,-2.420262985173286,-0.01810690595321826,1.4369134657374685,0.6684809269544413,-0.8896657798628989,-0.04402398316027114,-1.8819037762203268,-0.8579940284335679,0.6630136483601791,-1.0130057914209418,0.5300948967919401,-0.6116875874922295,-1.0405317896111674,0.1066065630603391,-0.6623367018999061,-0.9141072267587206,-0.07651540637898738,0.8794740655476391,0.4954605506779982,0.24483452004683712,2.4264980700103336,-1.06138734364795,-0.557073652047221,-0.7695481294396544,0.03309694318780089,-1.157823416209676,-1.596494399797544,2.532456364986618,-0.8066088623148706,1.770470147368262,-0.06773218184250519,-2.1305263195387103,-1.822274695929015,0.030785638543068785,-0.008084167370602255,1.331337333505016,0.588186934226218,-1.5822140559039608,-0.5220156480516457,0.4661917968374661,0.48596504401991136,-0.4361624207486163,1.1427545134985497,-0.6824526850497654,-0.8440833820207647,0.3212876600368777,0.22382288539688838,-0.806383858896275,-0.5924041008070848,-1.0256936022595546,0.06451598536290552,-0.7166862762894189,-0.27515566734864444,-0.6014718779964504,-1.6753997147232118,0.16251273237698743,-0.2070889064583417,-0.44947347795404113,-0.08202653889245286,-0.9567459794601099,0.9074827992251838,-1.5375664107929354,0.16657684305640597,-0.6223030798991293,-0.8314366989766482,0.8923639467852169,-1.1816901669139268,-0.3355203332327252,0.19962944480521727,-2.2011482810267275,0.6445319929985893,-1.706926985518179,-0.5566538836996962,1.0543517373154683,-0.6622767931616665,0.7297025635382117,-0.7273033013667342,0.9158551674787964,2.013294011662559,0.603240529727419,-2.0588839296058454,0.4761047810469739,-1.0189856560944028,-0.055398045677197784,-0.3988064750448735,0.35640182671142695,-1.199030727369626,-1.4390659260992618,-0.7072400789104146,-0.656693883698443,0.8925601323061709,-1.0716342069766727,0.7635432042931674,-0.7218963008683043,-0.07248744015927425,0.6818670638384986,-0.669188717471183,-1.0594740245380794],\"xaxis\":\"x3\",\"y\":[0.7365676730741115,-0.7858723473162033,-0.7612014338282168,-0.33828969119184393,2.119963389888639,-0.21033529370795123,0.6767739565306867,0.5069782758452451,0.774016534624883,0.645969599888223,1.320915012722791,0.44625820307936953,1.3497982780888076,-0.054312851369403614,0.4086759252360387,0.7670248516378464,-0.34164747625266406,-1.7258492298186636,-0.606458487839304,-0.38509253069137594,1.4779673151544093,-1.5316814798425253,0.9217068353068714,-0.3871133629664417,-1.288295495500347,0.34657449460134787,-1.5122310913921442,-2.382550658507943,-0.38864645623694927,0.28966630577443714,0.3194368360872796,-0.298154648157231,0.04412351469237872,0.5820788298374068,0.6404347136769989,-0.5406726034486085,2.5069957332916686,0.601324464091323,-2.5973464357475677,-1.0898746058693036,-0.3674931138183991,-0.6956665949403,0.6067824786484017,-0.014631944251588846,1.5496933437294362,0.49670459037018383,0.008656386426374951,-1.1879079254428846,0.1133646617244053,-1.209457437051342,0.53738323876218,-0.6799498612216169,-0.2485611813921982,1.259647945013635,0.26831411554353923,1.0703105180570807,0.6120298241543476,-0.7922552770571334,2.7198069168792665,0.30130325020606896,-0.5917405760881879,0.5680047551310305,0.18989307616818785,0.11827140230978321,-0.7112741838759915,-0.29454452098868006,1.4192744302811733,0.20178726147006076,0.16737330097876532,-0.9455492012524679,-1.5807529424508262,-0.3217548006777736,-0.16441643952635626,0.7605565832475502,1.0550615529269523,-0.26281305127051263,0.023700138695366336,0.0623905688170181,-1.6334667527317086,0.05877352101880432,0.8779585966847681,-0.22021733716874808,-0.5087245522034368,-0.4513545021497254,0.26610125050362843,0.14691010739790702,-0.10712846369094996,-0.5380999650652848,1.1751937445166347,0.7347422409605809,0.46494295601226526,-0.41693050383705343,0.0890698769086676,1.2171732953811045,-0.07683110145682837,1.1787552497082416,1.0022080658556163,2.708142526407743,1.0322122478237143,-1.2757074009052138],\"yaxis\":\"y3\",\"type\":\"scatter\"},{\"line\":{\"color\":\"rgba(128, 128, 128, 1.0)\",\"dash\":\"solid\",\"shape\":\"linear\",\"width\":1.3},\"marker\":{\"size\":2,\"symbol\":\"circle\"},\"mode\":\"markers\",\"name\":\"A\",\"text\":\"\",\"x\":[0.028709117222660435,-0.8749211890322138,0.6750792939143624,-1.0262801428193047,0.3234398648599455,-0.3876739810699715,-0.11827322456217186,1.9885355457805702,0.03933541205734301,0.530069542647012,0.24686228319134487,0.20294901642620966,1.2252283809729214,-0.08125354468935345,-0.3175747171280276,0.021724154012419825,0.23291709506853644,0.7636567288123901,-0.5902298796389542,0.7819572200644456,1.2267628528169439,0.2352724133666129,-0.10589542879898398,1.2259432051006791,1.4494715484848886,-1.3923181404410845,0.508369611846267,-1.1143065653090483,-2.971993922889421,0.8642498062409729,-0.12910114376377066,-1.3372127108836547,-0.5069592925761005,0.18798294843010604,-0.2635532772361538,-0.21414271511520802,0.7139910742148748,-0.8033790782677973,0.34908653589119587,2.092937025226005,-0.27156830913114494,1.278982152856434,0.03212293185118509,0.032199289165888774,-0.6376893960814524,0.9533306530613369,1.7524769462077232,-1.1023081106066404,1.249201250592397,1.216220027822527,0.07973797657419972,0.5681735121792242,-0.9027943972756199,0.1948166653498565,-0.04497796781852511,0.35745036207342634,-1.7122693913265719,0.8696186131524236,0.37247176422267636,-1.0070686607190036,0.6472418575957608,-0.8801214715960499,0.8811787925892396,1.153030478742426,0.09120108761904984,-1.377553751673728,0.30887327296779304,1.490857984784296,0.4179453440267466,0.44405221801437456,-0.8403927578127272,-0.15426805996920614,-0.8204281060226977,0.03268017332568117,0.9630125035145306,-0.9130953040796658,-0.9085662487791775,1.195269761705436,0.4161310509843156,0.8153342008245268,-0.6487733233924821,-1.0907861563845118,0.5197384517832024,1.1789165623413587,1.7219520141869629,0.7549338839899621,0.2869016485675767,0.2592029263132396,0.7583566967276182,0.705595053820896,0.9220444078811396,1.0473044220862493,-0.22852565607430325,1.4262185670441727,1.3492535245563764,-1.146951429611907,1.6080698085483616,-1.517184974776277,-1.7149233920002773,1.1754726665124724],\"xaxis\":\"x4\",\"y\":[0.7365676730741115,-0.7858723473162033,-0.7612014338282168,-0.33828969119184393,2.119963389888639,-0.21033529370795123,0.6767739565306867,0.5069782758452451,0.774016534624883,0.645969599888223,1.320915012722791,0.44625820307936953,1.3497982780888076,-0.054312851369403614,0.4086759252360387,0.7670248516378464,-0.34164747625266406,-1.7258492298186636,-0.606458487839304,-0.38509253069137594,1.4779673151544093,-1.5316814798425253,0.9217068353068714,-0.3871133629664417,-1.288295495500347,0.34657449460134787,-1.5122310913921442,-2.382550658507943,-0.38864645623694927,0.28966630577443714,0.3194368360872796,-0.298154648157231,0.04412351469237872,0.5820788298374068,0.6404347136769989,-0.5406726034486085,2.5069957332916686,0.601324464091323,-2.5973464357475677,-1.0898746058693036,-0.3674931138183991,-0.6956665949403,0.6067824786484017,-0.014631944251588846,1.5496933437294362,0.49670459037018383,0.008656386426374951,-1.1879079254428846,0.1133646617244053,-1.209457437051342,0.53738323876218,-0.6799498612216169,-0.2485611813921982,1.259647945013635,0.26831411554353923,1.0703105180570807,0.6120298241543476,-0.7922552770571334,2.7198069168792665,0.30130325020606896,-0.5917405760881879,0.5680047551310305,0.18989307616818785,0.11827140230978321,-0.7112741838759915,-0.29454452098868006,1.4192744302811733,0.20178726147006076,0.16737330097876532,-0.9455492012524679,-1.5807529424508262,-0.3217548006777736,-0.16441643952635626,0.7605565832475502,1.0550615529269523,-0.26281305127051263,0.023700138695366336,0.0623905688170181,-1.6334667527317086,0.05877352101880432,0.8779585966847681,-0.22021733716874808,-0.5087245522034368,-0.4513545021497254,0.26610125050362843,0.14691010739790702,-0.10712846369094996,-0.5380999650652848,1.1751937445166347,0.7347422409605809,0.46494295601226526,-0.41693050383705343,0.0890698769086676,1.2171732953811045,-0.07683110145682837,1.1787552497082416,1.0022080658556163,2.708142526407743,1.0322122478237143,-1.2757074009052138],\"yaxis\":\"y4\",\"type\":\"scatter\"},{\"line\":{\"color\":\"rgba(128, 128, 128, 1.0)\",\"dash\":\"solid\",\"shape\":\"linear\",\"width\":1.3},\"marker\":{\"size\":2,\"symbol\":\"circle\"},\"mode\":\"markers\",\"name\":\"B\",\"text\":\"\",\"x\":[0.7365676730741115,-0.7858723473162033,-0.7612014338282168,-0.33828969119184393,2.119963389888639,-0.21033529370795123,0.6767739565306867,0.5069782758452451,0.774016534624883,0.645969599888223,1.320915012722791,0.44625820307936953,1.3497982780888076,-0.054312851369403614,0.4086759252360387,0.7670248516378464,-0.34164747625266406,-1.7258492298186636,-0.606458487839304,-0.38509253069137594,1.4779673151544093,-1.5316814798425253,0.9217068353068714,-0.3871133629664417,-1.288295495500347,0.34657449460134787,-1.5122310913921442,-2.382550658507943,-0.38864645623694927,0.28966630577443714,0.3194368360872796,-0.298154648157231,0.04412351469237872,0.5820788298374068,0.6404347136769989,-0.5406726034486085,2.5069957332916686,0.601324464091323,-2.5973464357475677,-1.0898746058693036,-0.3674931138183991,-0.6956665949403,0.6067824786484017,-0.014631944251588846,1.5496933437294362,0.49670459037018383,0.008656386426374951,-1.1879079254428846,0.1133646617244053,-1.209457437051342,0.53738323876218,-0.6799498612216169,-0.2485611813921982,1.259647945013635,0.26831411554353923,1.0703105180570807,0.6120298241543476,-0.7922552770571334,2.7198069168792665,0.30130325020606896,-0.5917405760881879,0.5680047551310305,0.18989307616818785,0.11827140230978321,-0.7112741838759915,-0.29454452098868006,1.4192744302811733,0.20178726147006076,0.16737330097876532,-0.9455492012524679,-1.5807529424508262,-0.3217548006777736,-0.16441643952635626,0.7605565832475502,1.0550615529269523,-0.26281305127051263,0.023700138695366336,0.0623905688170181,-1.6334667527317086,0.05877352101880432,0.8779585966847681,-0.22021733716874808,-0.5087245522034368,-0.4513545021497254,0.26610125050362843,0.14691010739790702,-0.10712846369094996,-0.5380999650652848,1.1751937445166347,0.7347422409605809,0.46494295601226526,-0.41693050383705343,0.0890698769086676,1.2171732953811045,-0.07683110145682837,1.1787552497082416,1.0022080658556163,2.708142526407743,1.0322122478237143,-1.2757074009052138],\"xaxis\":\"x5\",\"y\":[-1.17960096095747,-1.3775555599416172,0.13792944280704006,0.48371504791298947,1.330402450096832,0.6008571556967333,-0.48801970995218547,0.8961245543966675,0.2961431824584401,-1.4649552300510922,-0.7080659462597593,-1.2955118557528216,-0.38026898461962383,-0.4533352454607744,-0.3539169985811786,-1.2025477368662538,0.00892006917367232,0.16966744435944756,0.8223657469907609,1.1951243289151658,0.30365969879879123,-0.3028597261401649,-0.019062927160904068,-1.1187078160968458,0.9936865559435638,1.149927312754949,-0.6117767973140005,-0.44387643888953543,-0.03439784317436975,0.015399420236178523,1.1123127177074992,0.2649658061453154,0.6806251765292582,0.14785949702601267,-2.4605460959827004,-0.16205752753046915,-1.2254109809660831,-0.12225449695743638,0.5635173461831468,-0.2599285316945004,-0.27611765191417736,-1.4690531379716825,-1.954153503410868,-0.5866390468375826,0.1018189830619359,-0.07048593057982283,-1.212665780136159,-0.3451925694516716,0.9702962511148727,0.3423474752420889,1.9493684121162587,1.4406008187314832,-0.9759644286967494,-2.2506220014240275,-0.1950416048205692,0.3899551845378141,0.9796444130032764,-1.1593956186919911,0.9883877171167217,0.18632777987730414,-0.32652211390169983,0.5235349712369627,-0.14554797924655524,-0.6632566049388412,1.450516587911176,-1.8242348077687922,-0.7986611676784975,1.2865759967254213,0.03311206362784604,0.826111885566775,-1.8404480684092652,-0.17647317946813473,0.7076473944942543,0.6433397834820548,-0.05019150477402584,0.6938641710145623,-1.0856055786365582,-1.4164083407235537,-1.3642812235548454,1.846182244755937,-0.21921761442914586,-0.08980549285517242,-0.1207473523157025,-0.41706054413176086,0.6611570044122105,1.3289032537940533,-0.07510227699547183,-0.06500699130762963,0.47215000010575603,1.6071041868429516,2.0246550229557956,0.08805236871800126,0.9792317235927371,1.2488287261048898,-0.9105759352090856,-1.4063251858608385,1.3450088447347763,0.22540725929083774,-1.3483110021192624,0.47968437914212037],\"yaxis\":\"y5\",\"type\":\"scatter\"},{\"histfunc\":\"count\",\"histnorm\":\"\",\"marker\":{\"color\":\"rgba(55, 128, 191, 1.0)\",\"line\":{\"color\":\"#4D5663\",\"width\":1.3}},\"name\":\"B\",\"nbinsx\":10,\"opacity\":0.8,\"orientation\":\"v\",\"x\":[-1.17960096095747,-1.3775555599416172,0.13792944280704006,0.48371504791298947,1.330402450096832,0.6008571556967333,-0.48801970995218547,0.8961245543966675,0.2961431824584401,-1.4649552300510922,-0.7080659462597593,-1.2955118557528216,-0.38026898461962383,-0.4533352454607744,-0.3539169985811786,-1.2025477368662538,0.00892006917367232,0.16966744435944756,0.8223657469907609,1.1951243289151658,0.30365969879879123,-0.3028597261401649,-0.019062927160904068,-1.1187078160968458,0.9936865559435638,1.149927312754949,-0.6117767973140005,-0.44387643888953543,-0.03439784317436975,0.015399420236178523,1.1123127177074992,0.2649658061453154,0.6806251765292582,0.14785949702601267,-2.4605460959827004,-0.16205752753046915,-1.2254109809660831,-0.12225449695743638,0.5635173461831468,-0.2599285316945004,-0.27611765191417736,-1.4690531379716825,-1.954153503410868,-0.5866390468375826,0.1018189830619359,-0.07048593057982283,-1.212665780136159,-0.3451925694516716,0.9702962511148727,0.3423474752420889,1.9493684121162587,1.4406008187314832,-0.9759644286967494,-2.2506220014240275,-0.1950416048205692,0.3899551845378141,0.9796444130032764,-1.1593956186919911,0.9883877171167217,0.18632777987730414,-0.32652211390169983,0.5235349712369627,-0.14554797924655524,-0.6632566049388412,1.450516587911176,-1.8242348077687922,-0.7986611676784975,1.2865759967254213,0.03311206362784604,0.826111885566775,-1.8404480684092652,-0.17647317946813473,0.7076473944942543,0.6433397834820548,-0.05019150477402584,0.6938641710145623,-1.0856055786365582,-1.4164083407235537,-1.3642812235548454,1.846182244755937,-0.21921761442914586,-0.08980549285517242,-0.1207473523157025,-0.41706054413176086,0.6611570044122105,1.3289032537940533,-0.07510227699547183,-0.06500699130762963,0.47215000010575603,1.6071041868429516,2.0246550229557956,0.08805236871800126,0.9792317235927371,1.2488287261048898,-0.9105759352090856,-1.4063251858608385,1.3450088447347763,0.22540725929083774,-1.3483110021192624,0.47968437914212037],\"xaxis\":\"x6\",\"yaxis\":\"y6\",\"type\":\"histogram\"},{\"line\":{\"color\":\"rgba(128, 128, 128, 1.0)\",\"dash\":\"solid\",\"shape\":\"linear\",\"width\":1.3},\"marker\":{\"size\":2,\"symbol\":\"circle\"},\"mode\":\"markers\",\"name\":\"B\",\"text\":\"\",\"x\":[0.2111802423317103,1.2513023812484676,-2.420262985173286,-0.01810690595321826,1.4369134657374685,0.6684809269544413,-0.8896657798628989,-0.04402398316027114,-1.8819037762203268,-0.8579940284335679,0.6630136483601791,-1.0130057914209418,0.5300948967919401,-0.6116875874922295,-1.0405317896111674,0.1066065630603391,-0.6623367018999061,-0.9141072267587206,-0.07651540637898738,0.8794740655476391,0.4954605506779982,0.24483452004683712,2.4264980700103336,-1.06138734364795,-0.557073652047221,-0.7695481294396544,0.03309694318780089,-1.157823416209676,-1.596494399797544,2.532456364986618,-0.8066088623148706,1.770470147368262,-0.06773218184250519,-2.1305263195387103,-1.822274695929015,0.030785638543068785,-0.008084167370602255,1.331337333505016,0.588186934226218,-1.5822140559039608,-0.5220156480516457,0.4661917968374661,0.48596504401991136,-0.4361624207486163,1.1427545134985497,-0.6824526850497654,-0.8440833820207647,0.3212876600368777,0.22382288539688838,-0.806383858896275,-0.5924041008070848,-1.0256936022595546,0.06451598536290552,-0.7166862762894189,-0.27515566734864444,-0.6014718779964504,-1.6753997147232118,0.16251273237698743,-0.2070889064583417,-0.44947347795404113,-0.08202653889245286,-0.9567459794601099,0.9074827992251838,-1.5375664107929354,0.16657684305640597,-0.6223030798991293,-0.8314366989766482,0.8923639467852169,-1.1816901669139268,-0.3355203332327252,0.19962944480521727,-2.2011482810267275,0.6445319929985893,-1.706926985518179,-0.5566538836996962,1.0543517373154683,-0.6622767931616665,0.7297025635382117,-0.7273033013667342,0.9158551674787964,2.013294011662559,0.603240529727419,-2.0588839296058454,0.4761047810469739,-1.0189856560944028,-0.055398045677197784,-0.3988064750448735,0.35640182671142695,-1.199030727369626,-1.4390659260992618,-0.7072400789104146,-0.656693883698443,0.8925601323061709,-1.0716342069766727,0.7635432042931674,-0.7218963008683043,-0.07248744015927425,0.6818670638384986,-0.669188717471183,-1.0594740245380794],\"xaxis\":\"x7\",\"y\":[-1.17960096095747,-1.3775555599416172,0.13792944280704006,0.48371504791298947,1.330402450096832,0.6008571556967333,-0.48801970995218547,0.8961245543966675,0.2961431824584401,-1.4649552300510922,-0.7080659462597593,-1.2955118557528216,-0.38026898461962383,-0.4533352454607744,-0.3539169985811786,-1.2025477368662538,0.00892006917367232,0.16966744435944756,0.8223657469907609,1.1951243289151658,0.30365969879879123,-0.3028597261401649,-0.019062927160904068,-1.1187078160968458,0.9936865559435638,1.149927312754949,-0.6117767973140005,-0.44387643888953543,-0.03439784317436975,0.015399420236178523,1.1123127177074992,0.2649658061453154,0.6806251765292582,0.14785949702601267,-2.4605460959827004,-0.16205752753046915,-1.2254109809660831,-0.12225449695743638,0.5635173461831468,-0.2599285316945004,-0.27611765191417736,-1.4690531379716825,-1.954153503410868,-0.5866390468375826,0.1018189830619359,-0.07048593057982283,-1.212665780136159,-0.3451925694516716,0.9702962511148727,0.3423474752420889,1.9493684121162587,1.4406008187314832,-0.9759644286967494,-2.2506220014240275,-0.1950416048205692,0.3899551845378141,0.9796444130032764,-1.1593956186919911,0.9883877171167217,0.18632777987730414,-0.32652211390169983,0.5235349712369627,-0.14554797924655524,-0.6632566049388412,1.450516587911176,-1.8242348077687922,-0.7986611676784975,1.2865759967254213,0.03311206362784604,0.826111885566775,-1.8404480684092652,-0.17647317946813473,0.7076473944942543,0.6433397834820548,-0.05019150477402584,0.6938641710145623,-1.0856055786365582,-1.4164083407235537,-1.3642812235548454,1.846182244755937,-0.21921761442914586,-0.08980549285517242,-0.1207473523157025,-0.41706054413176086,0.6611570044122105,1.3289032537940533,-0.07510227699547183,-0.06500699130762963,0.47215000010575603,1.6071041868429516,2.0246550229557956,0.08805236871800126,0.9792317235927371,1.2488287261048898,-0.9105759352090856,-1.4063251858608385,1.3450088447347763,0.22540725929083774,-1.3483110021192624,0.47968437914212037],\"yaxis\":\"y7\",\"type\":\"scatter\"},{\"line\":{\"color\":\"rgba(128, 128, 128, 1.0)\",\"dash\":\"solid\",\"shape\":\"linear\",\"width\":1.3},\"marker\":{\"size\":2,\"symbol\":\"circle\"},\"mode\":\"markers\",\"name\":\"B\",\"text\":\"\",\"x\":[0.028709117222660435,-0.8749211890322138,0.6750792939143624,-1.0262801428193047,0.3234398648599455,-0.3876739810699715,-0.11827322456217186,1.9885355457805702,0.03933541205734301,0.530069542647012,0.24686228319134487,0.20294901642620966,1.2252283809729214,-0.08125354468935345,-0.3175747171280276,0.021724154012419825,0.23291709506853644,0.7636567288123901,-0.5902298796389542,0.7819572200644456,1.2267628528169439,0.2352724133666129,-0.10589542879898398,1.2259432051006791,1.4494715484848886,-1.3923181404410845,0.508369611846267,-1.1143065653090483,-2.971993922889421,0.8642498062409729,-0.12910114376377066,-1.3372127108836547,-0.5069592925761005,0.18798294843010604,-0.2635532772361538,-0.21414271511520802,0.7139910742148748,-0.8033790782677973,0.34908653589119587,2.092937025226005,-0.27156830913114494,1.278982152856434,0.03212293185118509,0.032199289165888774,-0.6376893960814524,0.9533306530613369,1.7524769462077232,-1.1023081106066404,1.249201250592397,1.216220027822527,0.07973797657419972,0.5681735121792242,-0.9027943972756199,0.1948166653498565,-0.04497796781852511,0.35745036207342634,-1.7122693913265719,0.8696186131524236,0.37247176422267636,-1.0070686607190036,0.6472418575957608,-0.8801214715960499,0.8811787925892396,1.153030478742426,0.09120108761904984,-1.377553751673728,0.30887327296779304,1.490857984784296,0.4179453440267466,0.44405221801437456,-0.8403927578127272,-0.15426805996920614,-0.8204281060226977,0.03268017332568117,0.9630125035145306,-0.9130953040796658,-0.9085662487791775,1.195269761705436,0.4161310509843156,0.8153342008245268,-0.6487733233924821,-1.0907861563845118,0.5197384517832024,1.1789165623413587,1.7219520141869629,0.7549338839899621,0.2869016485675767,0.2592029263132396,0.7583566967276182,0.705595053820896,0.9220444078811396,1.0473044220862493,-0.22852565607430325,1.4262185670441727,1.3492535245563764,-1.146951429611907,1.6080698085483616,-1.517184974776277,-1.7149233920002773,1.1754726665124724],\"xaxis\":\"x8\",\"y\":[-1.17960096095747,-1.3775555599416172,0.13792944280704006,0.48371504791298947,1.330402450096832,0.6008571556967333,-0.48801970995218547,0.8961245543966675,0.2961431824584401,-1.4649552300510922,-0.7080659462597593,-1.2955118557528216,-0.38026898461962383,-0.4533352454607744,-0.3539169985811786,-1.2025477368662538,0.00892006917367232,0.16966744435944756,0.8223657469907609,1.1951243289151658,0.30365969879879123,-0.3028597261401649,-0.019062927160904068,-1.1187078160968458,0.9936865559435638,1.149927312754949,-0.6117767973140005,-0.44387643888953543,-0.03439784317436975,0.015399420236178523,1.1123127177074992,0.2649658061453154,0.6806251765292582,0.14785949702601267,-2.4605460959827004,-0.16205752753046915,-1.2254109809660831,-0.12225449695743638,0.5635173461831468,-0.2599285316945004,-0.27611765191417736,-1.4690531379716825,-1.954153503410868,-0.5866390468375826,0.1018189830619359,-0.07048593057982283,-1.212665780136159,-0.3451925694516716,0.9702962511148727,0.3423474752420889,1.9493684121162587,1.4406008187314832,-0.9759644286967494,-2.2506220014240275,-0.1950416048205692,0.3899551845378141,0.9796444130032764,-1.1593956186919911,0.9883877171167217,0.18632777987730414,-0.32652211390169983,0.5235349712369627,-0.14554797924655524,-0.6632566049388412,1.450516587911176,-1.8242348077687922,-0.7986611676784975,1.2865759967254213,0.03311206362784604,0.826111885566775,-1.8404480684092652,-0.17647317946813473,0.7076473944942543,0.6433397834820548,-0.05019150477402584,0.6938641710145623,-1.0856055786365582,-1.4164083407235537,-1.3642812235548454,1.846182244755937,-0.21921761442914586,-0.08980549285517242,-0.1207473523157025,-0.41706054413176086,0.6611570044122105,1.3289032537940533,-0.07510227699547183,-0.06500699130762963,0.47215000010575603,1.6071041868429516,2.0246550229557956,0.08805236871800126,0.9792317235927371,1.2488287261048898,-0.9105759352090856,-1.4063251858608385,1.3450088447347763,0.22540725929083774,-1.3483110021192624,0.47968437914212037],\"yaxis\":\"y8\",\"type\":\"scatter\"},{\"line\":{\"color\":\"rgba(128, 128, 128, 1.0)\",\"dash\":\"solid\",\"shape\":\"linear\",\"width\":1.3},\"marker\":{\"size\":2,\"symbol\":\"circle\"},\"mode\":\"markers\",\"name\":\"C\",\"text\":\"\",\"x\":[0.7365676730741115,-0.7858723473162033,-0.7612014338282168,-0.33828969119184393,2.119963389888639,-0.21033529370795123,0.6767739565306867,0.5069782758452451,0.774016534624883,0.645969599888223,1.320915012722791,0.44625820307936953,1.3497982780888076,-0.054312851369403614,0.4086759252360387,0.7670248516378464,-0.34164747625266406,-1.7258492298186636,-0.606458487839304,-0.38509253069137594,1.4779673151544093,-1.5316814798425253,0.9217068353068714,-0.3871133629664417,-1.288295495500347,0.34657449460134787,-1.5122310913921442,-2.382550658507943,-0.38864645623694927,0.28966630577443714,0.3194368360872796,-0.298154648157231,0.04412351469237872,0.5820788298374068,0.6404347136769989,-0.5406726034486085,2.5069957332916686,0.601324464091323,-2.5973464357475677,-1.0898746058693036,-0.3674931138183991,-0.6956665949403,0.6067824786484017,-0.014631944251588846,1.5496933437294362,0.49670459037018383,0.008656386426374951,-1.1879079254428846,0.1133646617244053,-1.209457437051342,0.53738323876218,-0.6799498612216169,-0.2485611813921982,1.259647945013635,0.26831411554353923,1.0703105180570807,0.6120298241543476,-0.7922552770571334,2.7198069168792665,0.30130325020606896,-0.5917405760881879,0.5680047551310305,0.18989307616818785,0.11827140230978321,-0.7112741838759915,-0.29454452098868006,1.4192744302811733,0.20178726147006076,0.16737330097876532,-0.9455492012524679,-1.5807529424508262,-0.3217548006777736,-0.16441643952635626,0.7605565832475502,1.0550615529269523,-0.26281305127051263,0.023700138695366336,0.0623905688170181,-1.6334667527317086,0.05877352101880432,0.8779585966847681,-0.22021733716874808,-0.5087245522034368,-0.4513545021497254,0.26610125050362843,0.14691010739790702,-0.10712846369094996,-0.5380999650652848,1.1751937445166347,0.7347422409605809,0.46494295601226526,-0.41693050383705343,0.0890698769086676,1.2171732953811045,-0.07683110145682837,1.1787552497082416,1.0022080658556163,2.708142526407743,1.0322122478237143,-1.2757074009052138],\"xaxis\":\"x9\",\"y\":[0.2111802423317103,1.2513023812484676,-2.420262985173286,-0.01810690595321826,1.4369134657374685,0.6684809269544413,-0.8896657798628989,-0.04402398316027114,-1.8819037762203268,-0.8579940284335679,0.6630136483601791,-1.0130057914209418,0.5300948967919401,-0.6116875874922295,-1.0405317896111674,0.1066065630603391,-0.6623367018999061,-0.9141072267587206,-0.07651540637898738,0.8794740655476391,0.4954605506779982,0.24483452004683712,2.4264980700103336,-1.06138734364795,-0.557073652047221,-0.7695481294396544,0.03309694318780089,-1.157823416209676,-1.596494399797544,2.532456364986618,-0.8066088623148706,1.770470147368262,-0.06773218184250519,-2.1305263195387103,-1.822274695929015,0.030785638543068785,-0.008084167370602255,1.331337333505016,0.588186934226218,-1.5822140559039608,-0.5220156480516457,0.4661917968374661,0.48596504401991136,-0.4361624207486163,1.1427545134985497,-0.6824526850497654,-0.8440833820207647,0.3212876600368777,0.22382288539688838,-0.806383858896275,-0.5924041008070848,-1.0256936022595546,0.06451598536290552,-0.7166862762894189,-0.27515566734864444,-0.6014718779964504,-1.6753997147232118,0.16251273237698743,-0.2070889064583417,-0.44947347795404113,-0.08202653889245286,-0.9567459794601099,0.9074827992251838,-1.5375664107929354,0.16657684305640597,-0.6223030798991293,-0.8314366989766482,0.8923639467852169,-1.1816901669139268,-0.3355203332327252,0.19962944480521727,-2.2011482810267275,0.6445319929985893,-1.706926985518179,-0.5566538836996962,1.0543517373154683,-0.6622767931616665,0.7297025635382117,-0.7273033013667342,0.9158551674787964,2.013294011662559,0.603240529727419,-2.0588839296058454,0.4761047810469739,-1.0189856560944028,-0.055398045677197784,-0.3988064750448735,0.35640182671142695,-1.199030727369626,-1.4390659260992618,-0.7072400789104146,-0.656693883698443,0.8925601323061709,-1.0716342069766727,0.7635432042931674,-0.7218963008683043,-0.07248744015927425,0.6818670638384986,-0.669188717471183,-1.0594740245380794],\"yaxis\":\"y9\",\"type\":\"scatter\"},{\"line\":{\"color\":\"rgba(128, 128, 128, 1.0)\",\"dash\":\"solid\",\"shape\":\"linear\",\"width\":1.3},\"marker\":{\"size\":2,\"symbol\":\"circle\"},\"mode\":\"markers\",\"name\":\"C\",\"text\":\"\",\"x\":[-1.17960096095747,-1.3775555599416172,0.13792944280704006,0.48371504791298947,1.330402450096832,0.6008571556967333,-0.48801970995218547,0.8961245543966675,0.2961431824584401,-1.4649552300510922,-0.7080659462597593,-1.2955118557528216,-0.38026898461962383,-0.4533352454607744,-0.3539169985811786,-1.2025477368662538,0.00892006917367232,0.16966744435944756,0.8223657469907609,1.1951243289151658,0.30365969879879123,-0.3028597261401649,-0.019062927160904068,-1.1187078160968458,0.9936865559435638,1.149927312754949,-0.6117767973140005,-0.44387643888953543,-0.03439784317436975,0.015399420236178523,1.1123127177074992,0.2649658061453154,0.6806251765292582,0.14785949702601267,-2.4605460959827004,-0.16205752753046915,-1.2254109809660831,-0.12225449695743638,0.5635173461831468,-0.2599285316945004,-0.27611765191417736,-1.4690531379716825,-1.954153503410868,-0.5866390468375826,0.1018189830619359,-0.07048593057982283,-1.212665780136159,-0.3451925694516716,0.9702962511148727,0.3423474752420889,1.9493684121162587,1.4406008187314832,-0.9759644286967494,-2.2506220014240275,-0.1950416048205692,0.3899551845378141,0.9796444130032764,-1.1593956186919911,0.9883877171167217,0.18632777987730414,-0.32652211390169983,0.5235349712369627,-0.14554797924655524,-0.6632566049388412,1.450516587911176,-1.8242348077687922,-0.7986611676784975,1.2865759967254213,0.03311206362784604,0.826111885566775,-1.8404480684092652,-0.17647317946813473,0.7076473944942543,0.6433397834820548,-0.05019150477402584,0.6938641710145623,-1.0856055786365582,-1.4164083407235537,-1.3642812235548454,1.846182244755937,-0.21921761442914586,-0.08980549285517242,-0.1207473523157025,-0.41706054413176086,0.6611570044122105,1.3289032537940533,-0.07510227699547183,-0.06500699130762963,0.47215000010575603,1.6071041868429516,2.0246550229557956,0.08805236871800126,0.9792317235927371,1.2488287261048898,-0.9105759352090856,-1.4063251858608385,1.3450088447347763,0.22540725929083774,-1.3483110021192624,0.47968437914212037],\"xaxis\":\"x10\",\"y\":[0.2111802423317103,1.2513023812484676,-2.420262985173286,-0.01810690595321826,1.4369134657374685,0.6684809269544413,-0.8896657798628989,-0.04402398316027114,-1.8819037762203268,-0.8579940284335679,0.6630136483601791,-1.0130057914209418,0.5300948967919401,-0.6116875874922295,-1.0405317896111674,0.1066065630603391,-0.6623367018999061,-0.9141072267587206,-0.07651540637898738,0.8794740655476391,0.4954605506779982,0.24483452004683712,2.4264980700103336,-1.06138734364795,-0.557073652047221,-0.7695481294396544,0.03309694318780089,-1.157823416209676,-1.596494399797544,2.532456364986618,-0.8066088623148706,1.770470147368262,-0.06773218184250519,-2.1305263195387103,-1.822274695929015,0.030785638543068785,-0.008084167370602255,1.331337333505016,0.588186934226218,-1.5822140559039608,-0.5220156480516457,0.4661917968374661,0.48596504401991136,-0.4361624207486163,1.1427545134985497,-0.6824526850497654,-0.8440833820207647,0.3212876600368777,0.22382288539688838,-0.806383858896275,-0.5924041008070848,-1.0256936022595546,0.06451598536290552,-0.7166862762894189,-0.27515566734864444,-0.6014718779964504,-1.6753997147232118,0.16251273237698743,-0.2070889064583417,-0.44947347795404113,-0.08202653889245286,-0.9567459794601099,0.9074827992251838,-1.5375664107929354,0.16657684305640597,-0.6223030798991293,-0.8314366989766482,0.8923639467852169,-1.1816901669139268,-0.3355203332327252,0.19962944480521727,-2.2011482810267275,0.6445319929985893,-1.706926985518179,-0.5566538836996962,1.0543517373154683,-0.6622767931616665,0.7297025635382117,-0.7273033013667342,0.9158551674787964,2.013294011662559,0.603240529727419,-2.0588839296058454,0.4761047810469739,-1.0189856560944028,-0.055398045677197784,-0.3988064750448735,0.35640182671142695,-1.199030727369626,-1.4390659260992618,-0.7072400789104146,-0.656693883698443,0.8925601323061709,-1.0716342069766727,0.7635432042931674,-0.7218963008683043,-0.07248744015927425,0.6818670638384986,-0.669188717471183,-1.0594740245380794],\"yaxis\":\"y10\",\"type\":\"scatter\"},{\"histfunc\":\"count\",\"histnorm\":\"\",\"marker\":{\"color\":\"rgba(50, 171, 96, 1.0)\",\"line\":{\"color\":\"#4D5663\",\"width\":1.3}},\"name\":\"C\",\"nbinsx\":10,\"opacity\":0.8,\"orientation\":\"v\",\"x\":[0.2111802423317103,1.2513023812484676,-2.420262985173286,-0.01810690595321826,1.4369134657374685,0.6684809269544413,-0.8896657798628989,-0.04402398316027114,-1.8819037762203268,-0.8579940284335679,0.6630136483601791,-1.0130057914209418,0.5300948967919401,-0.6116875874922295,-1.0405317896111674,0.1066065630603391,-0.6623367018999061,-0.9141072267587206,-0.07651540637898738,0.8794740655476391,0.4954605506779982,0.24483452004683712,2.4264980700103336,-1.06138734364795,-0.557073652047221,-0.7695481294396544,0.03309694318780089,-1.157823416209676,-1.596494399797544,2.532456364986618,-0.8066088623148706,1.770470147368262,-0.06773218184250519,-2.1305263195387103,-1.822274695929015,0.030785638543068785,-0.008084167370602255,1.331337333505016,0.588186934226218,-1.5822140559039608,-0.5220156480516457,0.4661917968374661,0.48596504401991136,-0.4361624207486163,1.1427545134985497,-0.6824526850497654,-0.8440833820207647,0.3212876600368777,0.22382288539688838,-0.806383858896275,-0.5924041008070848,-1.0256936022595546,0.06451598536290552,-0.7166862762894189,-0.27515566734864444,-0.6014718779964504,-1.6753997147232118,0.16251273237698743,-0.2070889064583417,-0.44947347795404113,-0.08202653889245286,-0.9567459794601099,0.9074827992251838,-1.5375664107929354,0.16657684305640597,-0.6223030798991293,-0.8314366989766482,0.8923639467852169,-1.1816901669139268,-0.3355203332327252,0.19962944480521727,-2.2011482810267275,0.6445319929985893,-1.706926985518179,-0.5566538836996962,1.0543517373154683,-0.6622767931616665,0.7297025635382117,-0.7273033013667342,0.9158551674787964,2.013294011662559,0.603240529727419,-2.0588839296058454,0.4761047810469739,-1.0189856560944028,-0.055398045677197784,-0.3988064750448735,0.35640182671142695,-1.199030727369626,-1.4390659260992618,-0.7072400789104146,-0.656693883698443,0.8925601323061709,-1.0716342069766727,0.7635432042931674,-0.7218963008683043,-0.07248744015927425,0.6818670638384986,-0.669188717471183,-1.0594740245380794],\"xaxis\":\"x11\",\"yaxis\":\"y11\",\"type\":\"histogram\"},{\"line\":{\"color\":\"rgba(128, 128, 128, 1.0)\",\"dash\":\"solid\",\"shape\":\"linear\",\"width\":1.3},\"marker\":{\"size\":2,\"symbol\":\"circle\"},\"mode\":\"markers\",\"name\":\"C\",\"text\":\"\",\"x\":[0.028709117222660435,-0.8749211890322138,0.6750792939143624,-1.0262801428193047,0.3234398648599455,-0.3876739810699715,-0.11827322456217186,1.9885355457805702,0.03933541205734301,0.530069542647012,0.24686228319134487,0.20294901642620966,1.2252283809729214,-0.08125354468935345,-0.3175747171280276,0.021724154012419825,0.23291709506853644,0.7636567288123901,-0.5902298796389542,0.7819572200644456,1.2267628528169439,0.2352724133666129,-0.10589542879898398,1.2259432051006791,1.4494715484848886,-1.3923181404410845,0.508369611846267,-1.1143065653090483,-2.971993922889421,0.8642498062409729,-0.12910114376377066,-1.3372127108836547,-0.5069592925761005,0.18798294843010604,-0.2635532772361538,-0.21414271511520802,0.7139910742148748,-0.8033790782677973,0.34908653589119587,2.092937025226005,-0.27156830913114494,1.278982152856434,0.03212293185118509,0.032199289165888774,-0.6376893960814524,0.9533306530613369,1.7524769462077232,-1.1023081106066404,1.249201250592397,1.216220027822527,0.07973797657419972,0.5681735121792242,-0.9027943972756199,0.1948166653498565,-0.04497796781852511,0.35745036207342634,-1.7122693913265719,0.8696186131524236,0.37247176422267636,-1.0070686607190036,0.6472418575957608,-0.8801214715960499,0.8811787925892396,1.153030478742426,0.09120108761904984,-1.377553751673728,0.30887327296779304,1.490857984784296,0.4179453440267466,0.44405221801437456,-0.8403927578127272,-0.15426805996920614,-0.8204281060226977,0.03268017332568117,0.9630125035145306,-0.9130953040796658,-0.9085662487791775,1.195269761705436,0.4161310509843156,0.8153342008245268,-0.6487733233924821,-1.0907861563845118,0.5197384517832024,1.1789165623413587,1.7219520141869629,0.7549338839899621,0.2869016485675767,0.2592029263132396,0.7583566967276182,0.705595053820896,0.9220444078811396,1.0473044220862493,-0.22852565607430325,1.4262185670441727,1.3492535245563764,-1.146951429611907,1.6080698085483616,-1.517184974776277,-1.7149233920002773,1.1754726665124724],\"xaxis\":\"x12\",\"y\":[0.2111802423317103,1.2513023812484676,-2.420262985173286,-0.01810690595321826,1.4369134657374685,0.6684809269544413,-0.8896657798628989,-0.04402398316027114,-1.8819037762203268,-0.8579940284335679,0.6630136483601791,-1.0130057914209418,0.5300948967919401,-0.6116875874922295,-1.0405317896111674,0.1066065630603391,-0.6623367018999061,-0.9141072267587206,-0.07651540637898738,0.8794740655476391,0.4954605506779982,0.24483452004683712,2.4264980700103336,-1.06138734364795,-0.557073652047221,-0.7695481294396544,0.03309694318780089,-1.157823416209676,-1.596494399797544,2.532456364986618,-0.8066088623148706,1.770470147368262,-0.06773218184250519,-2.1305263195387103,-1.822274695929015,0.030785638543068785,-0.008084167370602255,1.331337333505016,0.588186934226218,-1.5822140559039608,-0.5220156480516457,0.4661917968374661,0.48596504401991136,-0.4361624207486163,1.1427545134985497,-0.6824526850497654,-0.8440833820207647,0.3212876600368777,0.22382288539688838,-0.806383858896275,-0.5924041008070848,-1.0256936022595546,0.06451598536290552,-0.7166862762894189,-0.27515566734864444,-0.6014718779964504,-1.6753997147232118,0.16251273237698743,-0.2070889064583417,-0.44947347795404113,-0.08202653889245286,-0.9567459794601099,0.9074827992251838,-1.5375664107929354,0.16657684305640597,-0.6223030798991293,-0.8314366989766482,0.8923639467852169,-1.1816901669139268,-0.3355203332327252,0.19962944480521727,-2.2011482810267275,0.6445319929985893,-1.706926985518179,-0.5566538836996962,1.0543517373154683,-0.6622767931616665,0.7297025635382117,-0.7273033013667342,0.9158551674787964,2.013294011662559,0.603240529727419,-2.0588839296058454,0.4761047810469739,-1.0189856560944028,-0.055398045677197784,-0.3988064750448735,0.35640182671142695,-1.199030727369626,-1.4390659260992618,-0.7072400789104146,-0.656693883698443,0.8925601323061709,-1.0716342069766727,0.7635432042931674,-0.7218963008683043,-0.07248744015927425,0.6818670638384986,-0.669188717471183,-1.0594740245380794],\"yaxis\":\"y12\",\"type\":\"scatter\"},{\"line\":{\"color\":\"rgba(128, 128, 128, 1.0)\",\"dash\":\"solid\",\"shape\":\"linear\",\"width\":1.3},\"marker\":{\"size\":2,\"symbol\":\"circle\"},\"mode\":\"markers\",\"name\":\"D\",\"text\":\"\",\"x\":[0.7365676730741115,-0.7858723473162033,-0.7612014338282168,-0.33828969119184393,2.119963389888639,-0.21033529370795123,0.6767739565306867,0.5069782758452451,0.774016534624883,0.645969599888223,1.320915012722791,0.44625820307936953,1.3497982780888076,-0.054312851369403614,0.4086759252360387,0.7670248516378464,-0.34164747625266406,-1.7258492298186636,-0.606458487839304,-0.38509253069137594,1.4779673151544093,-1.5316814798425253,0.9217068353068714,-0.3871133629664417,-1.288295495500347,0.34657449460134787,-1.5122310913921442,-2.382550658507943,-0.38864645623694927,0.28966630577443714,0.3194368360872796,-0.298154648157231,0.04412351469237872,0.5820788298374068,0.6404347136769989,-0.5406726034486085,2.5069957332916686,0.601324464091323,-2.5973464357475677,-1.0898746058693036,-0.3674931138183991,-0.6956665949403,0.6067824786484017,-0.014631944251588846,1.5496933437294362,0.49670459037018383,0.008656386426374951,-1.1879079254428846,0.1133646617244053,-1.209457437051342,0.53738323876218,-0.6799498612216169,-0.2485611813921982,1.259647945013635,0.26831411554353923,1.0703105180570807,0.6120298241543476,-0.7922552770571334,2.7198069168792665,0.30130325020606896,-0.5917405760881879,0.5680047551310305,0.18989307616818785,0.11827140230978321,-0.7112741838759915,-0.29454452098868006,1.4192744302811733,0.20178726147006076,0.16737330097876532,-0.9455492012524679,-1.5807529424508262,-0.3217548006777736,-0.16441643952635626,0.7605565832475502,1.0550615529269523,-0.26281305127051263,0.023700138695366336,0.0623905688170181,-1.6334667527317086,0.05877352101880432,0.8779585966847681,-0.22021733716874808,-0.5087245522034368,-0.4513545021497254,0.26610125050362843,0.14691010739790702,-0.10712846369094996,-0.5380999650652848,1.1751937445166347,0.7347422409605809,0.46494295601226526,-0.41693050383705343,0.0890698769086676,1.2171732953811045,-0.07683110145682837,1.1787552497082416,1.0022080658556163,2.708142526407743,1.0322122478237143,-1.2757074009052138],\"xaxis\":\"x13\",\"y\":[0.028709117222660435,-0.8749211890322138,0.6750792939143624,-1.0262801428193047,0.3234398648599455,-0.3876739810699715,-0.11827322456217186,1.9885355457805702,0.03933541205734301,0.530069542647012,0.24686228319134487,0.20294901642620966,1.2252283809729214,-0.08125354468935345,-0.3175747171280276,0.021724154012419825,0.23291709506853644,0.7636567288123901,-0.5902298796389542,0.7819572200644456,1.2267628528169439,0.2352724133666129,-0.10589542879898398,1.2259432051006791,1.4494715484848886,-1.3923181404410845,0.508369611846267,-1.1143065653090483,-2.971993922889421,0.8642498062409729,-0.12910114376377066,-1.3372127108836547,-0.5069592925761005,0.18798294843010604,-0.2635532772361538,-0.21414271511520802,0.7139910742148748,-0.8033790782677973,0.34908653589119587,2.092937025226005,-0.27156830913114494,1.278982152856434,0.03212293185118509,0.032199289165888774,-0.6376893960814524,0.9533306530613369,1.7524769462077232,-1.1023081106066404,1.249201250592397,1.216220027822527,0.07973797657419972,0.5681735121792242,-0.9027943972756199,0.1948166653498565,-0.04497796781852511,0.35745036207342634,-1.7122693913265719,0.8696186131524236,0.37247176422267636,-1.0070686607190036,0.6472418575957608,-0.8801214715960499,0.8811787925892396,1.153030478742426,0.09120108761904984,-1.377553751673728,0.30887327296779304,1.490857984784296,0.4179453440267466,0.44405221801437456,-0.8403927578127272,-0.15426805996920614,-0.8204281060226977,0.03268017332568117,0.9630125035145306,-0.9130953040796658,-0.9085662487791775,1.195269761705436,0.4161310509843156,0.8153342008245268,-0.6487733233924821,-1.0907861563845118,0.5197384517832024,1.1789165623413587,1.7219520141869629,0.7549338839899621,0.2869016485675767,0.2592029263132396,0.7583566967276182,0.705595053820896,0.9220444078811396,1.0473044220862493,-0.22852565607430325,1.4262185670441727,1.3492535245563764,-1.146951429611907,1.6080698085483616,-1.517184974776277,-1.7149233920002773,1.1754726665124724],\"yaxis\":\"y13\",\"type\":\"scatter\"},{\"line\":{\"color\":\"rgba(128, 128, 128, 1.0)\",\"dash\":\"solid\",\"shape\":\"linear\",\"width\":1.3},\"marker\":{\"size\":2,\"symbol\":\"circle\"},\"mode\":\"markers\",\"name\":\"D\",\"text\":\"\",\"x\":[-1.17960096095747,-1.3775555599416172,0.13792944280704006,0.48371504791298947,1.330402450096832,0.6008571556967333,-0.48801970995218547,0.8961245543966675,0.2961431824584401,-1.4649552300510922,-0.7080659462597593,-1.2955118557528216,-0.38026898461962383,-0.4533352454607744,-0.3539169985811786,-1.2025477368662538,0.00892006917367232,0.16966744435944756,0.8223657469907609,1.1951243289151658,0.30365969879879123,-0.3028597261401649,-0.019062927160904068,-1.1187078160968458,0.9936865559435638,1.149927312754949,-0.6117767973140005,-0.44387643888953543,-0.03439784317436975,0.015399420236178523,1.1123127177074992,0.2649658061453154,0.6806251765292582,0.14785949702601267,-2.4605460959827004,-0.16205752753046915,-1.2254109809660831,-0.12225449695743638,0.5635173461831468,-0.2599285316945004,-0.27611765191417736,-1.4690531379716825,-1.954153503410868,-0.5866390468375826,0.1018189830619359,-0.07048593057982283,-1.212665780136159,-0.3451925694516716,0.9702962511148727,0.3423474752420889,1.9493684121162587,1.4406008187314832,-0.9759644286967494,-2.2506220014240275,-0.1950416048205692,0.3899551845378141,0.9796444130032764,-1.1593956186919911,0.9883877171167217,0.18632777987730414,-0.32652211390169983,0.5235349712369627,-0.14554797924655524,-0.6632566049388412,1.450516587911176,-1.8242348077687922,-0.7986611676784975,1.2865759967254213,0.03311206362784604,0.826111885566775,-1.8404480684092652,-0.17647317946813473,0.7076473944942543,0.6433397834820548,-0.05019150477402584,0.6938641710145623,-1.0856055786365582,-1.4164083407235537,-1.3642812235548454,1.846182244755937,-0.21921761442914586,-0.08980549285517242,-0.1207473523157025,-0.41706054413176086,0.6611570044122105,1.3289032537940533,-0.07510227699547183,-0.06500699130762963,0.47215000010575603,1.6071041868429516,2.0246550229557956,0.08805236871800126,0.9792317235927371,1.2488287261048898,-0.9105759352090856,-1.4063251858608385,1.3450088447347763,0.22540725929083774,-1.3483110021192624,0.47968437914212037],\"xaxis\":\"x14\",\"y\":[0.028709117222660435,-0.8749211890322138,0.6750792939143624,-1.0262801428193047,0.3234398648599455,-0.3876739810699715,-0.11827322456217186,1.9885355457805702,0.03933541205734301,0.530069542647012,0.24686228319134487,0.20294901642620966,1.2252283809729214,-0.08125354468935345,-0.3175747171280276,0.021724154012419825,0.23291709506853644,0.7636567288123901,-0.5902298796389542,0.7819572200644456,1.2267628528169439,0.2352724133666129,-0.10589542879898398,1.2259432051006791,1.4494715484848886,-1.3923181404410845,0.508369611846267,-1.1143065653090483,-2.971993922889421,0.8642498062409729,-0.12910114376377066,-1.3372127108836547,-0.5069592925761005,0.18798294843010604,-0.2635532772361538,-0.21414271511520802,0.7139910742148748,-0.8033790782677973,0.34908653589119587,2.092937025226005,-0.27156830913114494,1.278982152856434,0.03212293185118509,0.032199289165888774,-0.6376893960814524,0.9533306530613369,1.7524769462077232,-1.1023081106066404,1.249201250592397,1.216220027822527,0.07973797657419972,0.5681735121792242,-0.9027943972756199,0.1948166653498565,-0.04497796781852511,0.35745036207342634,-1.7122693913265719,0.8696186131524236,0.37247176422267636,-1.0070686607190036,0.6472418575957608,-0.8801214715960499,0.8811787925892396,1.153030478742426,0.09120108761904984,-1.377553751673728,0.30887327296779304,1.490857984784296,0.4179453440267466,0.44405221801437456,-0.8403927578127272,-0.15426805996920614,-0.8204281060226977,0.03268017332568117,0.9630125035145306,-0.9130953040796658,-0.9085662487791775,1.195269761705436,0.4161310509843156,0.8153342008245268,-0.6487733233924821,-1.0907861563845118,0.5197384517832024,1.1789165623413587,1.7219520141869629,0.7549338839899621,0.2869016485675767,0.2592029263132396,0.7583566967276182,0.705595053820896,0.9220444078811396,1.0473044220862493,-0.22852565607430325,1.4262185670441727,1.3492535245563764,-1.146951429611907,1.6080698085483616,-1.517184974776277,-1.7149233920002773,1.1754726665124724],\"yaxis\":\"y14\",\"type\":\"scatter\"},{\"line\":{\"color\":\"rgba(128, 128, 128, 1.0)\",\"dash\":\"solid\",\"shape\":\"linear\",\"width\":1.3},\"marker\":{\"size\":2,\"symbol\":\"circle\"},\"mode\":\"markers\",\"name\":\"D\",\"text\":\"\",\"x\":[0.2111802423317103,1.2513023812484676,-2.420262985173286,-0.01810690595321826,1.4369134657374685,0.6684809269544413,-0.8896657798628989,-0.04402398316027114,-1.8819037762203268,-0.8579940284335679,0.6630136483601791,-1.0130057914209418,0.5300948967919401,-0.6116875874922295,-1.0405317896111674,0.1066065630603391,-0.6623367018999061,-0.9141072267587206,-0.07651540637898738,0.8794740655476391,0.4954605506779982,0.24483452004683712,2.4264980700103336,-1.06138734364795,-0.557073652047221,-0.7695481294396544,0.03309694318780089,-1.157823416209676,-1.596494399797544,2.532456364986618,-0.8066088623148706,1.770470147368262,-0.06773218184250519,-2.1305263195387103,-1.822274695929015,0.030785638543068785,-0.008084167370602255,1.331337333505016,0.588186934226218,-1.5822140559039608,-0.5220156480516457,0.4661917968374661,0.48596504401991136,-0.4361624207486163,1.1427545134985497,-0.6824526850497654,-0.8440833820207647,0.3212876600368777,0.22382288539688838,-0.806383858896275,-0.5924041008070848,-1.0256936022595546,0.06451598536290552,-0.7166862762894189,-0.27515566734864444,-0.6014718779964504,-1.6753997147232118,0.16251273237698743,-0.2070889064583417,-0.44947347795404113,-0.08202653889245286,-0.9567459794601099,0.9074827992251838,-1.5375664107929354,0.16657684305640597,-0.6223030798991293,-0.8314366989766482,0.8923639467852169,-1.1816901669139268,-0.3355203332327252,0.19962944480521727,-2.2011482810267275,0.6445319929985893,-1.706926985518179,-0.5566538836996962,1.0543517373154683,-0.6622767931616665,0.7297025635382117,-0.7273033013667342,0.9158551674787964,2.013294011662559,0.603240529727419,-2.0588839296058454,0.4761047810469739,-1.0189856560944028,-0.055398045677197784,-0.3988064750448735,0.35640182671142695,-1.199030727369626,-1.4390659260992618,-0.7072400789104146,-0.656693883698443,0.8925601323061709,-1.0716342069766727,0.7635432042931674,-0.7218963008683043,-0.07248744015927425,0.6818670638384986,-0.669188717471183,-1.0594740245380794],\"xaxis\":\"x15\",\"y\":[0.028709117222660435,-0.8749211890322138,0.6750792939143624,-1.0262801428193047,0.3234398648599455,-0.3876739810699715,-0.11827322456217186,1.9885355457805702,0.03933541205734301,0.530069542647012,0.24686228319134487,0.20294901642620966,1.2252283809729214,-0.08125354468935345,-0.3175747171280276,0.021724154012419825,0.23291709506853644,0.7636567288123901,-0.5902298796389542,0.7819572200644456,1.2267628528169439,0.2352724133666129,-0.10589542879898398,1.2259432051006791,1.4494715484848886,-1.3923181404410845,0.508369611846267,-1.1143065653090483,-2.971993922889421,0.8642498062409729,-0.12910114376377066,-1.3372127108836547,-0.5069592925761005,0.18798294843010604,-0.2635532772361538,-0.21414271511520802,0.7139910742148748,-0.8033790782677973,0.34908653589119587,2.092937025226005,-0.27156830913114494,1.278982152856434,0.03212293185118509,0.032199289165888774,-0.6376893960814524,0.9533306530613369,1.7524769462077232,-1.1023081106066404,1.249201250592397,1.216220027822527,0.07973797657419972,0.5681735121792242,-0.9027943972756199,0.1948166653498565,-0.04497796781852511,0.35745036207342634,-1.7122693913265719,0.8696186131524236,0.37247176422267636,-1.0070686607190036,0.6472418575957608,-0.8801214715960499,0.8811787925892396,1.153030478742426,0.09120108761904984,-1.377553751673728,0.30887327296779304,1.490857984784296,0.4179453440267466,0.44405221801437456,-0.8403927578127272,-0.15426805996920614,-0.8204281060226977,0.03268017332568117,0.9630125035145306,-0.9130953040796658,-0.9085662487791775,1.195269761705436,0.4161310509843156,0.8153342008245268,-0.6487733233924821,-1.0907861563845118,0.5197384517832024,1.1789165623413587,1.7219520141869629,0.7549338839899621,0.2869016485675767,0.2592029263132396,0.7583566967276182,0.705595053820896,0.9220444078811396,1.0473044220862493,-0.22852565607430325,1.4262185670441727,1.3492535245563764,-1.146951429611907,1.6080698085483616,-1.517184974776277,-1.7149233920002773,1.1754726665124724],\"yaxis\":\"y15\",\"type\":\"scatter\"},{\"histfunc\":\"count\",\"histnorm\":\"\",\"marker\":{\"color\":\"rgba(128, 0, 128, 1.0)\",\"line\":{\"color\":\"#4D5663\",\"width\":1.3}},\"name\":\"D\",\"nbinsx\":10,\"opacity\":0.8,\"orientation\":\"v\",\"x\":[0.028709117222660435,-0.8749211890322138,0.6750792939143624,-1.0262801428193047,0.3234398648599455,-0.3876739810699715,-0.11827322456217186,1.9885355457805702,0.03933541205734301,0.530069542647012,0.24686228319134487,0.20294901642620966,1.2252283809729214,-0.08125354468935345,-0.3175747171280276,0.021724154012419825,0.23291709506853644,0.7636567288123901,-0.5902298796389542,0.7819572200644456,1.2267628528169439,0.2352724133666129,-0.10589542879898398,1.2259432051006791,1.4494715484848886,-1.3923181404410845,0.508369611846267,-1.1143065653090483,-2.971993922889421,0.8642498062409729,-0.12910114376377066,-1.3372127108836547,-0.5069592925761005,0.18798294843010604,-0.2635532772361538,-0.21414271511520802,0.7139910742148748,-0.8033790782677973,0.34908653589119587,2.092937025226005,-0.27156830913114494,1.278982152856434,0.03212293185118509,0.032199289165888774,-0.6376893960814524,0.9533306530613369,1.7524769462077232,-1.1023081106066404,1.249201250592397,1.216220027822527,0.07973797657419972,0.5681735121792242,-0.9027943972756199,0.1948166653498565,-0.04497796781852511,0.35745036207342634,-1.7122693913265719,0.8696186131524236,0.37247176422267636,-1.0070686607190036,0.6472418575957608,-0.8801214715960499,0.8811787925892396,1.153030478742426,0.09120108761904984,-1.377553751673728,0.30887327296779304,1.490857984784296,0.4179453440267466,0.44405221801437456,-0.8403927578127272,-0.15426805996920614,-0.8204281060226977,0.03268017332568117,0.9630125035145306,-0.9130953040796658,-0.9085662487791775,1.195269761705436,0.4161310509843156,0.8153342008245268,-0.6487733233924821,-1.0907861563845118,0.5197384517832024,1.1789165623413587,1.7219520141869629,0.7549338839899621,0.2869016485675767,0.2592029263132396,0.7583566967276182,0.705595053820896,0.9220444078811396,1.0473044220862493,-0.22852565607430325,1.4262185670441727,1.3492535245563764,-1.146951429611907,1.6080698085483616,-1.517184974776277,-1.7149233920002773,1.1754726665124724],\"xaxis\":\"x16\",\"yaxis\":\"y16\",\"type\":\"histogram\"}],                        {\"bargap\":0.02,\"legend\":{\"bgcolor\":\"#F5F6F9\",\"font\":{\"color\":\"#4D5663\"}},\"paper_bgcolor\":\"#F5F6F9\",\"plot_bgcolor\":\"#F5F6F9\",\"showlegend\":false,\"template\":{\"data\":{\"barpolar\":[{\"marker\":{\"line\":{\"color\":\"#E5ECF6\",\"width\":0.5},\"pattern\":{\"fillmode\":\"overlay\",\"size\":10,\"solidity\":0.2}},\"type\":\"barpolar\"}],\"bar\":[{\"error_x\":{\"color\":\"#2a3f5f\"},\"error_y\":{\"color\":\"#2a3f5f\"},\"marker\":{\"line\":{\"color\":\"#E5ECF6\",\"width\":0.5},\"pattern\":{\"fillmode\":\"overlay\",\"size\":10,\"solidity\":0.2}},\"type\":\"bar\"}],\"carpet\":[{\"aaxis\":{\"endlinecolor\":\"#2a3f5f\",\"gridcolor\":\"white\",\"linecolor\":\"white\",\"minorgridcolor\":\"white\",\"startlinecolor\":\"#2a3f5f\"},\"baxis\":{\"endlinecolor\":\"#2a3f5f\",\"gridcolor\":\"white\",\"linecolor\":\"white\",\"minorgridcolor\":\"white\",\"startlinecolor\":\"#2a3f5f\"},\"type\":\"carpet\"}],\"choropleth\":[{\"colorbar\":{\"outlinewidth\":0,\"ticks\":\"\"},\"type\":\"choropleth\"}],\"contourcarpet\":[{\"colorbar\":{\"outlinewidth\":0,\"ticks\":\"\"},\"type\":\"contourcarpet\"}],\"contour\":[{\"colorbar\":{\"outlinewidth\":0,\"ticks\":\"\"},\"colorscale\":[[0.0,\"#0d0887\"],[0.1111111111111111,\"#46039f\"],[0.2222222222222222,\"#7201a8\"],[0.3333333333333333,\"#9c179e\"],[0.4444444444444444,\"#bd3786\"],[0.5555555555555556,\"#d8576b\"],[0.6666666666666666,\"#ed7953\"],[0.7777777777777778,\"#fb9f3a\"],[0.8888888888888888,\"#fdca26\"],[1.0,\"#f0f921\"]],\"type\":\"contour\"}],\"heatmapgl\":[{\"colorbar\":{\"outlinewidth\":0,\"ticks\":\"\"},\"colorscale\":[[0.0,\"#0d0887\"],[0.1111111111111111,\"#46039f\"],[0.2222222222222222,\"#7201a8\"],[0.3333333333333333,\"#9c179e\"],[0.4444444444444444,\"#bd3786\"],[0.5555555555555556,\"#d8576b\"],[0.6666666666666666,\"#ed7953\"],[0.7777777777777778,\"#fb9f3a\"],[0.8888888888888888,\"#fdca26\"],[1.0,\"#f0f921\"]],\"type\":\"heatmapgl\"}],\"heatmap\":[{\"colorbar\":{\"outlinewidth\":0,\"ticks\":\"\"},\"colorscale\":[[0.0,\"#0d0887\"],[0.1111111111111111,\"#46039f\"],[0.2222222222222222,\"#7201a8\"],[0.3333333333333333,\"#9c179e\"],[0.4444444444444444,\"#bd3786\"],[0.5555555555555556,\"#d8576b\"],[0.6666666666666666,\"#ed7953\"],[0.7777777777777778,\"#fb9f3a\"],[0.8888888888888888,\"#fdca26\"],[1.0,\"#f0f921\"]],\"type\":\"heatmap\"}],\"histogram2dcontour\":[{\"colorbar\":{\"outlinewidth\":0,\"ticks\":\"\"},\"colorscale\":[[0.0,\"#0d0887\"],[0.1111111111111111,\"#46039f\"],[0.2222222222222222,\"#7201a8\"],[0.3333333333333333,\"#9c179e\"],[0.4444444444444444,\"#bd3786\"],[0.5555555555555556,\"#d8576b\"],[0.6666666666666666,\"#ed7953\"],[0.7777777777777778,\"#fb9f3a\"],[0.8888888888888888,\"#fdca26\"],[1.0,\"#f0f921\"]],\"type\":\"histogram2dcontour\"}],\"histogram2d\":[{\"colorbar\":{\"outlinewidth\":0,\"ticks\":\"\"},\"colorscale\":[[0.0,\"#0d0887\"],[0.1111111111111111,\"#46039f\"],[0.2222222222222222,\"#7201a8\"],[0.3333333333333333,\"#9c179e\"],[0.4444444444444444,\"#bd3786\"],[0.5555555555555556,\"#d8576b\"],[0.6666666666666666,\"#ed7953\"],[0.7777777777777778,\"#fb9f3a\"],[0.8888888888888888,\"#fdca26\"],[1.0,\"#f0f921\"]],\"type\":\"histogram2d\"}],\"histogram\":[{\"marker\":{\"pattern\":{\"fillmode\":\"overlay\",\"size\":10,\"solidity\":0.2}},\"type\":\"histogram\"}],\"mesh3d\":[{\"colorbar\":{\"outlinewidth\":0,\"ticks\":\"\"},\"type\":\"mesh3d\"}],\"parcoords\":[{\"line\":{\"colorbar\":{\"outlinewidth\":0,\"ticks\":\"\"}},\"type\":\"parcoords\"}],\"pie\":[{\"automargin\":true,\"type\":\"pie\"}],\"scatter3d\":[{\"line\":{\"colorbar\":{\"outlinewidth\":0,\"ticks\":\"\"}},\"marker\":{\"colorbar\":{\"outlinewidth\":0,\"ticks\":\"\"}},\"type\":\"scatter3d\"}],\"scattercarpet\":[{\"marker\":{\"colorbar\":{\"outlinewidth\":0,\"ticks\":\"\"}},\"type\":\"scattercarpet\"}],\"scattergeo\":[{\"marker\":{\"colorbar\":{\"outlinewidth\":0,\"ticks\":\"\"}},\"type\":\"scattergeo\"}],\"scattergl\":[{\"marker\":{\"colorbar\":{\"outlinewidth\":0,\"ticks\":\"\"}},\"type\":\"scattergl\"}],\"scattermapbox\":[{\"marker\":{\"colorbar\":{\"outlinewidth\":0,\"ticks\":\"\"}},\"type\":\"scattermapbox\"}],\"scatterpolargl\":[{\"marker\":{\"colorbar\":{\"outlinewidth\":0,\"ticks\":\"\"}},\"type\":\"scatterpolargl\"}],\"scatterpolar\":[{\"marker\":{\"colorbar\":{\"outlinewidth\":0,\"ticks\":\"\"}},\"type\":\"scatterpolar\"}],\"scatter\":[{\"fillpattern\":{\"fillmode\":\"overlay\",\"size\":10,\"solidity\":0.2},\"type\":\"scatter\"}],\"scatterternary\":[{\"marker\":{\"colorbar\":{\"outlinewidth\":0,\"ticks\":\"\"}},\"type\":\"scatterternary\"}],\"surface\":[{\"colorbar\":{\"outlinewidth\":0,\"ticks\":\"\"},\"colorscale\":[[0.0,\"#0d0887\"],[0.1111111111111111,\"#46039f\"],[0.2222222222222222,\"#7201a8\"],[0.3333333333333333,\"#9c179e\"],[0.4444444444444444,\"#bd3786\"],[0.5555555555555556,\"#d8576b\"],[0.6666666666666666,\"#ed7953\"],[0.7777777777777778,\"#fb9f3a\"],[0.8888888888888888,\"#fdca26\"],[1.0,\"#f0f921\"]],\"type\":\"surface\"}],\"table\":[{\"cells\":{\"fill\":{\"color\":\"#EBF0F8\"},\"line\":{\"color\":\"white\"}},\"header\":{\"fill\":{\"color\":\"#C8D4E3\"},\"line\":{\"color\":\"white\"}},\"type\":\"table\"}]},\"layout\":{\"annotationdefaults\":{\"arrowcolor\":\"#2a3f5f\",\"arrowhead\":0,\"arrowwidth\":1},\"autotypenumbers\":\"strict\",\"coloraxis\":{\"colorbar\":{\"outlinewidth\":0,\"ticks\":\"\"}},\"colorscale\":{\"diverging\":[[0,\"#8e0152\"],[0.1,\"#c51b7d\"],[0.2,\"#de77ae\"],[0.3,\"#f1b6da\"],[0.4,\"#fde0ef\"],[0.5,\"#f7f7f7\"],[0.6,\"#e6f5d0\"],[0.7,\"#b8e186\"],[0.8,\"#7fbc41\"],[0.9,\"#4d9221\"],[1,\"#276419\"]],\"sequential\":[[0.0,\"#0d0887\"],[0.1111111111111111,\"#46039f\"],[0.2222222222222222,\"#7201a8\"],[0.3333333333333333,\"#9c179e\"],[0.4444444444444444,\"#bd3786\"],[0.5555555555555556,\"#d8576b\"],[0.6666666666666666,\"#ed7953\"],[0.7777777777777778,\"#fb9f3a\"],[0.8888888888888888,\"#fdca26\"],[1.0,\"#f0f921\"]],\"sequentialminus\":[[0.0,\"#0d0887\"],[0.1111111111111111,\"#46039f\"],[0.2222222222222222,\"#7201a8\"],[0.3333333333333333,\"#9c179e\"],[0.4444444444444444,\"#bd3786\"],[0.5555555555555556,\"#d8576b\"],[0.6666666666666666,\"#ed7953\"],[0.7777777777777778,\"#fb9f3a\"],[0.8888888888888888,\"#fdca26\"],[1.0,\"#f0f921\"]]},\"colorway\":[\"#636efa\",\"#EF553B\",\"#00cc96\",\"#ab63fa\",\"#FFA15A\",\"#19d3f3\",\"#FF6692\",\"#B6E880\",\"#FF97FF\",\"#FECB52\"],\"font\":{\"color\":\"#2a3f5f\"},\"geo\":{\"bgcolor\":\"white\",\"lakecolor\":\"white\",\"landcolor\":\"#E5ECF6\",\"showlakes\":true,\"showland\":true,\"subunitcolor\":\"white\"},\"hoverlabel\":{\"align\":\"left\"},\"hovermode\":\"closest\",\"mapbox\":{\"style\":\"light\"},\"paper_bgcolor\":\"white\",\"plot_bgcolor\":\"#E5ECF6\",\"polar\":{\"angularaxis\":{\"gridcolor\":\"white\",\"linecolor\":\"white\",\"ticks\":\"\"},\"bgcolor\":\"#E5ECF6\",\"radialaxis\":{\"gridcolor\":\"white\",\"linecolor\":\"white\",\"ticks\":\"\"}},\"scene\":{\"xaxis\":{\"backgroundcolor\":\"#E5ECF6\",\"gridcolor\":\"white\",\"gridwidth\":2,\"linecolor\":\"white\",\"showbackground\":true,\"ticks\":\"\",\"zerolinecolor\":\"white\"},\"yaxis\":{\"backgroundcolor\":\"#E5ECF6\",\"gridcolor\":\"white\",\"gridwidth\":2,\"linecolor\":\"white\",\"showbackground\":true,\"ticks\":\"\",\"zerolinecolor\":\"white\"},\"zaxis\":{\"backgroundcolor\":\"#E5ECF6\",\"gridcolor\":\"white\",\"gridwidth\":2,\"linecolor\":\"white\",\"showbackground\":true,\"ticks\":\"\",\"zerolinecolor\":\"white\"}},\"shapedefaults\":{\"line\":{\"color\":\"#2a3f5f\"}},\"ternary\":{\"aaxis\":{\"gridcolor\":\"white\",\"linecolor\":\"white\",\"ticks\":\"\"},\"baxis\":{\"gridcolor\":\"white\",\"linecolor\":\"white\",\"ticks\":\"\"},\"bgcolor\":\"#E5ECF6\",\"caxis\":{\"gridcolor\":\"white\",\"linecolor\":\"white\",\"ticks\":\"\"}},\"title\":{\"x\":0.05},\"xaxis\":{\"automargin\":true,\"gridcolor\":\"white\",\"linecolor\":\"white\",\"ticks\":\"\",\"title\":{\"standoff\":15},\"zerolinecolor\":\"white\",\"zerolinewidth\":2},\"yaxis\":{\"automargin\":true,\"gridcolor\":\"white\",\"linecolor\":\"white\",\"ticks\":\"\",\"title\":{\"standoff\":15},\"zerolinecolor\":\"white\",\"zerolinewidth\":2}}},\"title\":{\"font\":{\"color\":\"#4D5663\"}},\"xaxis\":{\"anchor\":\"y\",\"domain\":[0.0,0.2125],\"gridcolor\":\"#E1E5ED\",\"showgrid\":false,\"tickfont\":{\"color\":\"#4D5663\"},\"title\":{\"font\":{\"color\":\"#4D5663\"},\"text\":\"\"},\"zerolinecolor\":\"#E1E5ED\"},\"yaxis\":{\"anchor\":\"x\",\"domain\":[0.8025,1.0],\"gridcolor\":\"#E1E5ED\",\"showgrid\":false,\"tickfont\":{\"color\":\"#4D5663\"},\"title\":{\"font\":{\"color\":\"#4D5663\"},\"text\":\"\"},\"zerolinecolor\":\"#E1E5ED\"},\"xaxis2\":{\"anchor\":\"y2\",\"domain\":[0.2625,0.475],\"gridcolor\":\"#E1E5ED\",\"showgrid\":false,\"tickfont\":{\"color\":\"#4D5663\"},\"title\":{\"font\":{\"color\":\"#4D5663\"},\"text\":\"\"},\"zerolinecolor\":\"#E1E5ED\"},\"yaxis2\":{\"anchor\":\"x2\",\"domain\":[0.8025,1.0],\"gridcolor\":\"#E1E5ED\",\"showgrid\":false,\"tickfont\":{\"color\":\"#4D5663\"},\"title\":{\"font\":{\"color\":\"#4D5663\"},\"text\":\"\"},\"zerolinecolor\":\"#E1E5ED\"},\"xaxis3\":{\"anchor\":\"y3\",\"domain\":[0.525,0.7375],\"gridcolor\":\"#E1E5ED\",\"showgrid\":false,\"tickfont\":{\"color\":\"#4D5663\"},\"title\":{\"font\":{\"color\":\"#4D5663\"},\"text\":\"\"},\"zerolinecolor\":\"#E1E5ED\"},\"yaxis3\":{\"anchor\":\"x3\",\"domain\":[0.8025,1.0],\"gridcolor\":\"#E1E5ED\",\"showgrid\":false,\"tickfont\":{\"color\":\"#4D5663\"},\"title\":{\"font\":{\"color\":\"#4D5663\"},\"text\":\"\"},\"zerolinecolor\":\"#E1E5ED\"},\"xaxis4\":{\"anchor\":\"y4\",\"domain\":[0.7875,1.0],\"gridcolor\":\"#E1E5ED\",\"showgrid\":false,\"tickfont\":{\"color\":\"#4D5663\"},\"title\":{\"font\":{\"color\":\"#4D5663\"},\"text\":\"\"},\"zerolinecolor\":\"#E1E5ED\"},\"yaxis4\":{\"anchor\":\"x4\",\"domain\":[0.8025,1.0],\"gridcolor\":\"#E1E5ED\",\"showgrid\":false,\"tickfont\":{\"color\":\"#4D5663\"},\"title\":{\"font\":{\"color\":\"#4D5663\"},\"text\":\"\"},\"zerolinecolor\":\"#E1E5ED\"},\"xaxis5\":{\"anchor\":\"y5\",\"domain\":[0.0,0.2125],\"gridcolor\":\"#E1E5ED\",\"showgrid\":false,\"tickfont\":{\"color\":\"#4D5663\"},\"title\":{\"font\":{\"color\":\"#4D5663\"},\"text\":\"\"},\"zerolinecolor\":\"#E1E5ED\"},\"yaxis5\":{\"anchor\":\"x5\",\"domain\":[0.535,0.7325],\"gridcolor\":\"#E1E5ED\",\"showgrid\":false,\"tickfont\":{\"color\":\"#4D5663\"},\"title\":{\"font\":{\"color\":\"#4D5663\"},\"text\":\"\"},\"zerolinecolor\":\"#E1E5ED\"},\"xaxis6\":{\"anchor\":\"y6\",\"domain\":[0.2625,0.475],\"gridcolor\":\"#E1E5ED\",\"showgrid\":false,\"tickfont\":{\"color\":\"#4D5663\"},\"title\":{\"font\":{\"color\":\"#4D5663\"},\"text\":\"\"},\"zerolinecolor\":\"#E1E5ED\"},\"yaxis6\":{\"anchor\":\"x6\",\"domain\":[0.535,0.7325],\"gridcolor\":\"#E1E5ED\",\"showgrid\":false,\"tickfont\":{\"color\":\"#4D5663\"},\"title\":{\"font\":{\"color\":\"#4D5663\"},\"text\":\"\"},\"zerolinecolor\":\"#E1E5ED\"},\"xaxis7\":{\"anchor\":\"y7\",\"domain\":[0.525,0.7375],\"gridcolor\":\"#E1E5ED\",\"showgrid\":false,\"tickfont\":{\"color\":\"#4D5663\"},\"title\":{\"font\":{\"color\":\"#4D5663\"},\"text\":\"\"},\"zerolinecolor\":\"#E1E5ED\"},\"yaxis7\":{\"anchor\":\"x7\",\"domain\":[0.535,0.7325],\"gridcolor\":\"#E1E5ED\",\"showgrid\":false,\"tickfont\":{\"color\":\"#4D5663\"},\"title\":{\"font\":{\"color\":\"#4D5663\"},\"text\":\"\"},\"zerolinecolor\":\"#E1E5ED\"},\"xaxis8\":{\"anchor\":\"y8\",\"domain\":[0.7875,1.0],\"gridcolor\":\"#E1E5ED\",\"showgrid\":false,\"tickfont\":{\"color\":\"#4D5663\"},\"title\":{\"font\":{\"color\":\"#4D5663\"},\"text\":\"\"},\"zerolinecolor\":\"#E1E5ED\"},\"yaxis8\":{\"anchor\":\"x8\",\"domain\":[0.535,0.7325],\"gridcolor\":\"#E1E5ED\",\"showgrid\":false,\"tickfont\":{\"color\":\"#4D5663\"},\"title\":{\"font\":{\"color\":\"#4D5663\"},\"text\":\"\"},\"zerolinecolor\":\"#E1E5ED\"},\"xaxis9\":{\"anchor\":\"y9\",\"domain\":[0.0,0.2125],\"gridcolor\":\"#E1E5ED\",\"showgrid\":false,\"tickfont\":{\"color\":\"#4D5663\"},\"title\":{\"font\":{\"color\":\"#4D5663\"},\"text\":\"\"},\"zerolinecolor\":\"#E1E5ED\"},\"yaxis9\":{\"anchor\":\"x9\",\"domain\":[0.2675,0.465],\"gridcolor\":\"#E1E5ED\",\"showgrid\":false,\"tickfont\":{\"color\":\"#4D5663\"},\"title\":{\"font\":{\"color\":\"#4D5663\"},\"text\":\"\"},\"zerolinecolor\":\"#E1E5ED\"},\"xaxis10\":{\"anchor\":\"y10\",\"domain\":[0.2625,0.475],\"gridcolor\":\"#E1E5ED\",\"showgrid\":false,\"tickfont\":{\"color\":\"#4D5663\"},\"title\":{\"font\":{\"color\":\"#4D5663\"},\"text\":\"\"},\"zerolinecolor\":\"#E1E5ED\"},\"yaxis10\":{\"anchor\":\"x10\",\"domain\":[0.2675,0.465],\"gridcolor\":\"#E1E5ED\",\"showgrid\":false,\"tickfont\":{\"color\":\"#4D5663\"},\"title\":{\"font\":{\"color\":\"#4D5663\"},\"text\":\"\"},\"zerolinecolor\":\"#E1E5ED\"},\"xaxis11\":{\"anchor\":\"y11\",\"domain\":[0.525,0.7375],\"gridcolor\":\"#E1E5ED\",\"showgrid\":false,\"tickfont\":{\"color\":\"#4D5663\"},\"title\":{\"font\":{\"color\":\"#4D5663\"},\"text\":\"\"},\"zerolinecolor\":\"#E1E5ED\"},\"yaxis11\":{\"anchor\":\"x11\",\"domain\":[0.2675,0.465],\"gridcolor\":\"#E1E5ED\",\"showgrid\":false,\"tickfont\":{\"color\":\"#4D5663\"},\"title\":{\"font\":{\"color\":\"#4D5663\"},\"text\":\"\"},\"zerolinecolor\":\"#E1E5ED\"},\"xaxis12\":{\"anchor\":\"y12\",\"domain\":[0.7875,1.0],\"gridcolor\":\"#E1E5ED\",\"showgrid\":false,\"tickfont\":{\"color\":\"#4D5663\"},\"title\":{\"font\":{\"color\":\"#4D5663\"},\"text\":\"\"},\"zerolinecolor\":\"#E1E5ED\"},\"yaxis12\":{\"anchor\":\"x12\",\"domain\":[0.2675,0.465],\"gridcolor\":\"#E1E5ED\",\"showgrid\":false,\"tickfont\":{\"color\":\"#4D5663\"},\"title\":{\"font\":{\"color\":\"#4D5663\"},\"text\":\"\"},\"zerolinecolor\":\"#E1E5ED\"},\"xaxis13\":{\"anchor\":\"y13\",\"domain\":[0.0,0.2125],\"gridcolor\":\"#E1E5ED\",\"showgrid\":false,\"tickfont\":{\"color\":\"#4D5663\"},\"title\":{\"font\":{\"color\":\"#4D5663\"},\"text\":\"\"},\"zerolinecolor\":\"#E1E5ED\"},\"yaxis13\":{\"anchor\":\"x13\",\"domain\":[0.0,0.1975],\"gridcolor\":\"#E1E5ED\",\"showgrid\":false,\"tickfont\":{\"color\":\"#4D5663\"},\"title\":{\"font\":{\"color\":\"#4D5663\"},\"text\":\"\"},\"zerolinecolor\":\"#E1E5ED\"},\"xaxis14\":{\"anchor\":\"y14\",\"domain\":[0.2625,0.475],\"gridcolor\":\"#E1E5ED\",\"showgrid\":false,\"tickfont\":{\"color\":\"#4D5663\"},\"title\":{\"font\":{\"color\":\"#4D5663\"},\"text\":\"\"},\"zerolinecolor\":\"#E1E5ED\"},\"yaxis14\":{\"anchor\":\"x14\",\"domain\":[0.0,0.1975],\"gridcolor\":\"#E1E5ED\",\"showgrid\":false,\"tickfont\":{\"color\":\"#4D5663\"},\"title\":{\"font\":{\"color\":\"#4D5663\"},\"text\":\"\"},\"zerolinecolor\":\"#E1E5ED\"},\"xaxis15\":{\"anchor\":\"y15\",\"domain\":[0.525,0.7375],\"gridcolor\":\"#E1E5ED\",\"showgrid\":false,\"tickfont\":{\"color\":\"#4D5663\"},\"title\":{\"font\":{\"color\":\"#4D5663\"},\"text\":\"\"},\"zerolinecolor\":\"#E1E5ED\"},\"yaxis15\":{\"anchor\":\"x15\",\"domain\":[0.0,0.1975],\"gridcolor\":\"#E1E5ED\",\"showgrid\":false,\"tickfont\":{\"color\":\"#4D5663\"},\"title\":{\"font\":{\"color\":\"#4D5663\"},\"text\":\"\"},\"zerolinecolor\":\"#E1E5ED\"},\"xaxis16\":{\"anchor\":\"y16\",\"domain\":[0.7875,1.0],\"gridcolor\":\"#E1E5ED\",\"showgrid\":false,\"tickfont\":{\"color\":\"#4D5663\"},\"title\":{\"font\":{\"color\":\"#4D5663\"},\"text\":\"\"},\"zerolinecolor\":\"#E1E5ED\"},\"yaxis16\":{\"anchor\":\"x16\",\"domain\":[0.0,0.1975],\"gridcolor\":\"#E1E5ED\",\"showgrid\":false,\"tickfont\":{\"color\":\"#4D5663\"},\"title\":{\"font\":{\"color\":\"#4D5663\"},\"text\":\"\"},\"zerolinecolor\":\"#E1E5ED\"}},                        {\"showLink\": true, \"linkText\": \"Export to plot.ly\", \"plotlyServerURL\": \"https://plot.ly\", \"responsive\": true}                    ).then(function(){\n",
       "                            \n",
       "var gd = document.getElementById('9238a47b-d790-4519-bc1f-f2d49b437861');\n",
       "var x = new MutationObserver(function (mutations, observer) {{\n",
       "        var display = window.getComputedStyle(gd).display;\n",
       "        if (!display || display === 'none') {{\n",
       "            console.log([gd, 'removed!']);\n",
       "            Plotly.purge(gd);\n",
       "            observer.disconnect();\n",
       "        }}\n",
       "}});\n",
       "\n",
       "// Listen for the removal of the full notebook cells\n",
       "var notebookContainer = gd.closest('#notebook-container');\n",
       "if (notebookContainer) {{\n",
       "    x.observe(notebookContainer, {childList: true});\n",
       "}}\n",
       "\n",
       "// Listen for the clearing of the current output cell\n",
       "var outputEl = gd.closest('.output');\n",
       "if (outputEl) {{\n",
       "    x.observe(outputEl, {childList: true});\n",
       "}}\n",
       "\n",
       "                        })                };                });            </script>        </div>"
      ]
     },
     "metadata": {},
     "output_type": "display_data"
    }
   ],
   "source": [
    "df.scatter_matrix()"
   ]
  }
 ],
 "metadata": {
  "kernelspec": {
   "display_name": "Python 3",
   "language": "python",
   "name": "python3"
  },
  "language_info": {
   "codemirror_mode": {
    "name": "ipython",
    "version": 3
   },
   "file_extension": ".py",
   "mimetype": "text/x-python",
   "name": "python",
   "nbconvert_exporter": "python",
   "pygments_lexer": "ipython3",
   "version": "3.8.8"
  }
 },
 "nbformat": 4,
 "nbformat_minor": 1
}
